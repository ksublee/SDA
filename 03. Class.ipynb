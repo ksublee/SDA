{
 "cells": [
  {
   "cell_type": "markdown",
   "id": "bf7a919e",
   "metadata": {},
   "source": [
    "# Class"
   ]
  },
  {
   "cell_type": "code",
   "execution_count": 1,
   "id": "217c7f41",
   "metadata": {},
   "outputs": [],
   "source": [
    "import numpy as np"
   ]
  },
  {
   "cell_type": "markdown",
   "id": "988a9ee8",
   "metadata": {},
   "source": [
    "클래스는 객체 지향 프로그래밍의 핵심 역할을 하기 때문에 파이썬의 가장 기본적인 부분이라 할 수 있다.  \n",
    "파이썬의 모든 것, 예를 들어, integers, lists, dictionaries, functions 등은 object(객체)라고 불리운다.  \n",
    "모든 object에는 type이 있으며, object type은 class를 사용하여 생성된다.  \n",
    "Instance는 클래스에 속하여 생성된 특정 object이다.  \n",
    "예를 들어 list는 Python의 class이며, list를 하나 생성하면 이는 instance가 된다."
   ]
  },
  {
   "cell_type": "markdown",
   "id": "495f7d05",
   "metadata": {},
   "source": [
    "### Class 정의하기\n",
    "\n",
    "클래스를 정의하는 기본 방법은 다음과 같다."
   ]
  },
  {
   "cell_type": "code",
   "execution_count": 2,
   "id": "9b4192b6",
   "metadata": {},
   "outputs": [],
   "source": [
    "class RationalNumber: \n",
    "      pass  # 실행할 코드가 없음을 의미"
   ]
  },
  {
   "cell_type": "markdown",
   "id": "66e1726e",
   "metadata": {},
   "source": [
    "이 클래스의 instance는 ```RationalNumber()```를 통해 생성된다."
   ]
  },
  {
   "cell_type": "code",
   "execution_count": 3,
   "id": "5ede1359",
   "metadata": {},
   "outputs": [],
   "source": [
    "r = RationalNumber()"
   ]
  },
  {
   "cell_type": "code",
   "execution_count": 4,
   "id": "34e3b70c",
   "metadata": {},
   "outputs": [
    {
     "data": {
      "text/plain": [
       "__main__.RationalNumber"
      ]
     },
     "execution_count": 4,
     "metadata": {},
     "output_type": "execute_result"
    }
   ],
   "source": [
    "type(r)"
   ]
  },
  {
   "cell_type": "code",
   "execution_count": 5,
   "id": "1ab58061",
   "metadata": {},
   "outputs": [
    {
     "data": {
      "text/plain": [
       "True"
      ]
     },
     "execution_count": 5,
     "metadata": {},
     "output_type": "execute_result"
    }
   ],
   "source": [
    "isinstance(r, RationalNumber)"
   ]
  },
  {
   "cell_type": "markdown",
   "id": "167f8e7f",
   "metadata": {},
   "source": [
    "### The ```__init__``` method\n",
    "\n",
    "```__init__``` 과 같이 이름 양쪽에 이중 밑줄이 있는 특수한 method들이 있다.\n",
    "\n",
    "이러한 method 들은 대부분은 백그라운드에서 작동하며 프로그램에서 필요할 때 자동으로 호출되며, 명시적으로 호출할 수 없다. \n",
    "\n",
    "예를 들어, 새 객체를 만들 때 Python은 자동으로 ```__new__``` method를 호출하고, \n",
    "이 method는 차례로 ```__init__``` method를 호출한다.\n",
    "\n",
    "```__init__``` method는 class가 object의 attribute을 초기화하도록 하고, 그 외에 다른 기능은 없다.\n",
    "\n",
    "```__str__``` method는 객체를 ```print()```할 때 호출된다.\n",
    "\n",
    "아래에서 ```self```는 생성되는 instance를 의미하고, 이 클래스에는 ```numerator```와 ```denominator```라는 attributes가 존재한다.\n",
    "\n",
    "각 attribute는 ```.```을 통해 접근할 수 있다."
   ]
  },
  {
   "cell_type": "code",
   "execution_count": 6,
   "id": "3c90c681",
   "metadata": {},
   "outputs": [],
   "source": [
    "class RationalNumber:\n",
    "    def __init__(self, numerator, denominator):\n",
    "        self.numerator = numerator\n",
    "        self.denominator = denominator"
   ]
  },
  {
   "cell_type": "code",
   "execution_count": 7,
   "id": "39d31022",
   "metadata": {},
   "outputs": [
    {
     "data": {
      "text/plain": [
       "<__main__.RationalNumber at 0x1c24221f7c0>"
      ]
     },
     "execution_count": 7,
     "metadata": {},
     "output_type": "execute_result"
    }
   ],
   "source": [
    "q = RationalNumber(10, 20)    \n",
    "q"
   ]
  },
  {
   "cell_type": "code",
   "execution_count": 8,
   "id": "da7251dd",
   "metadata": {},
   "outputs": [
    {
     "data": {
      "text/plain": [
       "10"
      ]
     },
     "execution_count": 8,
     "metadata": {},
     "output_type": "execute_result"
    }
   ],
   "source": [
    "q.numerator                  "
   ]
  },
  {
   "cell_type": "code",
   "execution_count": 9,
   "id": "1e9ffcbb",
   "metadata": {},
   "outputs": [
    {
     "data": {
      "text/plain": [
       "20"
      ]
     },
     "execution_count": 9,
     "metadata": {},
     "output_type": "execute_result"
    }
   ],
   "source": [
    "q.denominator  "
   ]
  },
  {
   "cell_type": "markdown",
   "id": "c7d6bb8f",
   "metadata": {},
   "source": [
    "필요한 method를 추가하기"
   ]
  },
  {
   "cell_type": "code",
   "execution_count": 10,
   "id": "ac9b47df",
   "metadata": {},
   "outputs": [],
   "source": [
    "class RationalNumber:\n",
    "    \n",
    "    def __init__(self, numerator, denominator):\n",
    "        self.numerator = numerator\n",
    "        self.denominator = denominator\n",
    "        \n",
    "    def convert2float(self):\n",
    "        return float(self.numerator) / float(self.denominator)   "
   ]
  },
  {
   "cell_type": "markdown",
   "id": "0b6f5b28",
   "metadata": {},
   "source": [
    "```convert2float(self)```가 정의될 때는 ```self```를 parameter로 가지지만, ```.```를 사용한 다음의 문법으로 호출될 때 ```self```에 해당하는 인자는 생략된다."
   ]
  },
  {
   "cell_type": "code",
   "execution_count": 11,
   "id": "a001d51e",
   "metadata": {},
   "outputs": [
    {
     "data": {
      "text/plain": [
       "0.5"
      ]
     },
     "execution_count": 11,
     "metadata": {},
     "output_type": "execute_result"
    }
   ],
   "source": [
    "q = RationalNumber(10, 20)    # Defines a new object\n",
    "q.convert2float() # returns 0.5  "
   ]
  },
  {
   "cell_type": "markdown",
   "id": "cd9295c8",
   "metadata": {},
   "source": [
    "다음과 동치이다."
   ]
  },
  {
   "cell_type": "code",
   "execution_count": 12,
   "id": "16cba3db",
   "metadata": {},
   "outputs": [
    {
     "data": {
      "text/plain": [
       "0.5"
      ]
     },
     "execution_count": 12,
     "metadata": {},
     "output_type": "execute_result"
    }
   ],
   "source": [
    "RationalNumber.convert2float(q)"
   ]
  },
  {
   "cell_type": "markdown",
   "id": "bd27d647",
   "metadata": {},
   "source": [
    "또다른 특수 method인 ```__repr__```를 살펴보자.\n",
    "이 method는 python 커널 출력에 표현되는 방식을 정의한다. "
   ]
  },
  {
   "cell_type": "code",
   "execution_count": 13,
   "id": "56cb125c",
   "metadata": {},
   "outputs": [],
   "source": [
    "class RationalNumber:\n",
    "    def __init__(self, numerator, denominator):\n",
    "        self.numerator = numerator\n",
    "        self.denominator = denominator\n",
    "        \n",
    "    def __repr__(self): \n",
    "        return f'{self.numerator} / {self.denominator}'\n",
    "    \n",
    "    def convert2float(self):\n",
    "        return float(self.numerator) / float(self.denominator)  "
   ]
  },
  {
   "cell_type": "code",
   "execution_count": 14,
   "id": "c6ceeae4",
   "metadata": {},
   "outputs": [
    {
     "data": {
      "text/plain": [
       "10 / 20"
      ]
     },
     "execution_count": 14,
     "metadata": {},
     "output_type": "execute_result"
    }
   ],
   "source": [
    "q = RationalNumber(10, 20) \n",
    "q"
   ]
  },
  {
   "cell_type": "code",
   "execution_count": 15,
   "id": "9ea4757a",
   "metadata": {},
   "outputs": [
    {
     "data": {
      "text/plain": [
       "'10 / 20'"
      ]
     },
     "execution_count": 15,
     "metadata": {},
     "output_type": "execute_result"
    }
   ],
   "source": [
    "q.__repr__()"
   ]
  },
  {
   "cell_type": "code",
   "execution_count": 16,
   "id": "871fb667",
   "metadata": {},
   "outputs": [
    {
     "data": {
      "text/plain": [
       "'10 / 20'"
      ]
     },
     "execution_count": 16,
     "metadata": {},
     "output_type": "execute_result"
    }
   ],
   "source": [
    "repr(q)"
   ]
  },
  {
   "cell_type": "markdown",
   "id": "1a2e05d5",
   "metadata": {},
   "source": [
    "```print```문을 위해서는 ```__str__```를 따로 정의할 수 있으나, 여기서는 정의하지 않았으므로, ```___repr___```의 방식을 공유한다."
   ]
  },
  {
   "cell_type": "code",
   "execution_count": 17,
   "id": "9e6bf877",
   "metadata": {},
   "outputs": [
    {
     "name": "stdout",
     "output_type": "stream",
     "text": [
      "10 / 20\n"
     ]
    }
   ],
   "source": [
    "print(q)"
   ]
  },
  {
   "cell_type": "code",
   "execution_count": 18,
   "id": "f7ae3178",
   "metadata": {},
   "outputs": [
    {
     "data": {
      "text/plain": [
       "'10 / 20'"
      ]
     },
     "execution_count": 18,
     "metadata": {},
     "output_type": "execute_result"
    }
   ],
   "source": [
    "str(q)"
   ]
  },
  {
   "cell_type": "markdown",
   "id": "553c37e7",
   "metadata": {},
   "source": [
    "```repr()```과 ```str()```은 비슷한 역할을 하지만, ```repr()```은 개발자에 보여줄 내용을 담고, ```str()```은 사용자에게 보여줄 내용을 담는다는 특징이 있다.  \n",
    "Class의 ```__repr__```와 ```__str__```을 구현하여, built-in 함수인 ```repr()```과 ```str()```가 연동되도록 한다."
   ]
  },
  {
   "cell_type": "markdown",
   "id": "8843f42d",
   "metadata": {},
   "source": [
    "```add``` method를 추가하여, class의 기능을 확장하여 보자.  \n",
    "이 method에서는 ```RationalNumber```와 ```int```, 혹은, ```RationalNumber```와 ```RationalNumber```의 합 연산을 수행한다."
   ]
  },
  {
   "cell_type": "code",
   "execution_count": 19,
   "id": "97ada557",
   "metadata": {},
   "outputs": [],
   "source": [
    "class RationalNumber:\n",
    "    \n",
    "    def __init__(self, numerator, denominator):\n",
    "        self.numerator = numerator\n",
    "        self.denominator = denominator\n",
    "        \n",
    "    def __repr__(self): \n",
    "        return f'{self.numerator} / {self.denominator}'\n",
    "    \n",
    "    def convert2float(self):\n",
    "        return float(self.numerator) / float(self.denominator)  \n",
    "    \n",
    "    def add(self, other): \n",
    "        p1, q1 = self.numerator, self.denominator \n",
    "        if isinstance(other, int):        \n",
    "            p2, q2 = other, 1 \n",
    "        else: \n",
    "            p2, q2 = other.numerator, other.denominator \n",
    "        return RationalNumber(p1 * q2 + p2 * q1, q1 * q2)"
   ]
  },
  {
   "cell_type": "code",
   "execution_count": 20,
   "id": "b3a91ff0",
   "metadata": {},
   "outputs": [
    {
     "data": {
      "text/plain": [
       "5 / 6"
      ]
     },
     "execution_count": 20,
     "metadata": {},
     "output_type": "execute_result"
    }
   ],
   "source": [
    "q = RationalNumber(1, 2)\n",
    "p = RationalNumber(1, 3)\n",
    "q.add(p)  "
   ]
  },
  {
   "cell_type": "markdown",
   "id": "dfe154d2",
   "metadata": {},
   "source": [
    "```add```를 ```__add__```로 이름을 바꾸면서 ```+``` operator에 overloading 할 수 있다."
   ]
  },
  {
   "cell_type": "code",
   "execution_count": 21,
   "id": "63e34034",
   "metadata": {},
   "outputs": [],
   "source": [
    "class RationalNumber:\n",
    "    def __init__(self, numerator, denominator):\n",
    "        self.numerator = numerator\n",
    "        self.denominator = denominator\n",
    "\n",
    "    def __repr__(self): \n",
    "        return f'{self.numerator} / {self.denominator}'\n",
    "    \n",
    "    def convert2float(self):\n",
    "        return float(self.numerator) / float(self.denominator)  \n",
    "    \n",
    "    def __add__(self, other): \n",
    "        p1, q1 = self.numerator, self.denominator \n",
    "        if isinstance(other, int):        \n",
    "            p2, q2 = other, 1 \n",
    "        else: \n",
    "            p2, q2 = other.numerator, other.denominator \n",
    "        return RationalNumber(p1 * q2 + p2 * q1, q1 * q2)"
   ]
  },
  {
   "cell_type": "code",
   "execution_count": 22,
   "id": "10aa70bf",
   "metadata": {},
   "outputs": [
    {
     "data": {
      "text/plain": [
       "5 / 6"
      ]
     },
     "execution_count": 22,
     "metadata": {},
     "output_type": "execute_result"
    }
   ],
   "source": [
    "q = RationalNumber(1, 2)\n",
    "p = RationalNumber(1, 3)\n",
    "q.__add__(p)  "
   ]
  },
  {
   "cell_type": "code",
   "execution_count": 23,
   "id": "ffa04278",
   "metadata": {},
   "outputs": [
    {
     "data": {
      "text/plain": [
       "5 / 6"
      ]
     },
     "execution_count": 23,
     "metadata": {},
     "output_type": "execute_result"
    }
   ],
   "source": [
    "q + p"
   ]
  },
  {
   "cell_type": "code",
   "execution_count": 24,
   "id": "50486eeb",
   "metadata": {},
   "outputs": [
    {
     "data": {
      "text/plain": [
       "9 / 2"
      ]
     },
     "execution_count": 24,
     "metadata": {},
     "output_type": "execute_result"
    }
   ],
   "source": [
    "q + 4"
   ]
  },
  {
   "cell_type": "markdown",
   "id": "5c171640",
   "metadata": {},
   "source": [
    "그 외에, ```=```를 overloading 하는 ```__eq__``` method, ```int + RationalNumber```가 가능하게 하는 ```__radd__```를 정의한다. "
   ]
  },
  {
   "cell_type": "code",
   "execution_count": 25,
   "id": "943b548b",
   "metadata": {},
   "outputs": [],
   "source": [
    "class RationalNumber:\n",
    "    def __init__(self, numerator, denominator):\n",
    "        self.numerator = numerator\n",
    "        self.denominator = denominator\n",
    "    def convert2float(self):\n",
    "        return float(self.numerator) / float(self.denominator)  \n",
    "    def __repr__(self): \n",
    "        return f'{self.numerator} / {self.denominator}'\n",
    "    def __add__(self, other): \n",
    "        p1, q1 = self.numerator, self.denominator \n",
    "        if isinstance(other, int):        \n",
    "            p2, q2 = other, 1 \n",
    "        else: \n",
    "            p2, q2 = other.numerator, other.denominator \n",
    "        return RationalNumber(p1 * q2 + p2 * q1, q1 * q2)\n",
    "    def __eq__(self, other):\n",
    "        return self.denominator * other.numerator == \\\n",
    "            self.numerator * other.denominator\n",
    "    def __radd__(self, other):\n",
    "        return self + other"
   ]
  },
  {
   "cell_type": "code",
   "execution_count": 26,
   "id": "b47e7063",
   "metadata": {},
   "outputs": [
    {
     "data": {
      "text/plain": [
       "True"
      ]
     },
     "execution_count": 26,
     "metadata": {},
     "output_type": "execute_result"
    }
   ],
   "source": [
    "p = RationalNumber(1, 2) \n",
    "q = RationalNumber(2, 4)\n",
    "p == q "
   ]
  },
  {
   "cell_type": "code",
   "execution_count": 27,
   "id": "24cb6c4f",
   "metadata": {},
   "outputs": [
    {
     "data": {
      "text/plain": [
       "11 / 2"
      ]
     },
     "execution_count": 27,
     "metadata": {},
     "output_type": "execute_result"
    }
   ],
   "source": [
    "5 + p"
   ]
  },
  {
   "cell_type": "markdown",
   "id": "03643c0c",
   "metadata": {},
   "source": [
    "다양한 연산자 overloading은 다음을 참고한다.  \n",
    "https://docs.python.org/3/library/operator.html"
   ]
  },
  {
   "cell_type": "markdown",
   "id": "664aa39c",
   "metadata": {},
   "source": [
    "```__call__``` 함수는 instance를 함수처럼 호출하여 사용할 수 있게 한다."
   ]
  },
  {
   "cell_type": "code",
   "execution_count": 28,
   "id": "de52c898",
   "metadata": {},
   "outputs": [],
   "source": [
    "class RationalNumber:\n",
    "    \n",
    "    def __init__(self, numerator, denominator):\n",
    "        self.numerator = numerator\n",
    "        self.denominator = denominator\n",
    "        \n",
    "    def __call__(self, numerator, denominator):\n",
    "        self.numerator = numerator\n",
    "        self.denominator = denominator\n",
    "        \n",
    "    def convert2float(self):\n",
    "        return float(self.numerator) / float(self.denominator)  \n",
    "    def __repr__(self): \n",
    "        return f'{self.numerator} / {self.denominator}'\n",
    "    def __add__(self, other): \n",
    "        p1, q1 = self.numerator, self.denominator \n",
    "        if isinstance(other, int):        \n",
    "            p2, q2 = other, 1 \n",
    "        else: \n",
    "            p2, q2 = other.numerator, other.denominator \n",
    "        return RationalNumber(p1 * q2 + p2 * q1, q1 * q2)\n",
    "    def __eq__(self, other):\n",
    "        return self.denominator * other.numerator == \\\n",
    "            self.numerator * other.denominator\n",
    "    def __radd__(self, other):\n",
    "        return self + other\n",
    "    "
   ]
  },
  {
   "cell_type": "code",
   "execution_count": 29,
   "id": "d16fea2f",
   "metadata": {},
   "outputs": [
    {
     "data": {
      "text/plain": [
       "4 / 5"
      ]
     },
     "execution_count": 29,
     "metadata": {},
     "output_type": "execute_result"
    }
   ],
   "source": [
    "p = RationalNumber(4,5)\n",
    "p"
   ]
  },
  {
   "cell_type": "code",
   "execution_count": 30,
   "id": "abbb01c0",
   "metadata": {},
   "outputs": [
    {
     "data": {
      "text/plain": [
       "2 / 5"
      ]
     },
     "execution_count": 30,
     "metadata": {},
     "output_type": "execute_result"
    }
   ],
   "source": [
    "p(2,5)\n",
    "p"
   ]
  },
  {
   "cell_type": "code",
   "execution_count": 31,
   "id": "b2ab8ff4",
   "metadata": {},
   "outputs": [
    {
     "data": {
      "text/plain": [
       "2 / 5"
      ]
     },
     "execution_count": 31,
     "metadata": {},
     "output_type": "execute_result"
    }
   ],
   "source": [
    "p.__call__(2, 5)\n",
    "p"
   ]
  },
  {
   "cell_type": "markdown",
   "id": "e5d4f2ad",
   "metadata": {},
   "source": [
    "```__getitem__``` 함수는 ```[]```을 사용한 indexing이 가능하게 한다.  \n",
    "Class가 iterator의 성질을 지닐 때 유용하다.  "
   ]
  },
  {
   "cell_type": "markdown",
   "id": "9506cf47",
   "metadata": {},
   "source": [
    "### Iterator\n",
    "\n",
    "Iterable object는 ```for```문 등에서 object를 순차적으로 생성할 수 있는 object들이다. 다음의 문법으로 사용된다.\n",
    "\n",
    "```for element in obj:```\n",
    "\n",
    "대표적으로 list나 ```range``` object 등이 있다.\n",
    "\n",
    "Iterable object인지의 여부를 확인하는 방법은 ```__iter__``` method가 존재하는지 살펴보는 것이다.\n",
    "\n",
    "이는 ```dir()``` 함수 등을 통해 확인할 수 있다."
   ]
  },
  {
   "cell_type": "code",
   "execution_count": 32,
   "id": "6efd8c8c",
   "metadata": {},
   "outputs": [
    {
     "data": {
      "text/plain": [
       "['__bool__',\n",
       " '__class__',\n",
       " '__contains__',\n",
       " '__delattr__',\n",
       " '__dir__',\n",
       " '__doc__',\n",
       " '__eq__',\n",
       " '__format__',\n",
       " '__ge__',\n",
       " '__getattribute__',\n",
       " '__getitem__',\n",
       " '__gt__',\n",
       " '__hash__',\n",
       " '__init__',\n",
       " '__init_subclass__',\n",
       " '__iter__',\n",
       " '__le__',\n",
       " '__len__',\n",
       " '__lt__',\n",
       " '__ne__',\n",
       " '__new__',\n",
       " '__reduce__',\n",
       " '__reduce_ex__',\n",
       " '__repr__',\n",
       " '__reversed__',\n",
       " '__setattr__',\n",
       " '__sizeof__',\n",
       " '__str__',\n",
       " '__subclasshook__',\n",
       " 'count',\n",
       " 'index',\n",
       " 'start',\n",
       " 'step',\n",
       " 'stop']"
      ]
     },
     "execution_count": 32,
     "metadata": {},
     "output_type": "execute_result"
    }
   ],
   "source": [
    "dir(range(10))"
   ]
  },
  {
   "cell_type": "markdown",
   "id": "e58daaa7",
   "metadata": {},
   "source": [
    "Iterable object의 ```__iter__``` method가 호출되면 iterator가 생성된다.  \n",
    "Iterator에는 ```__next___``` method가 존재하여, 다음 차례의 원소를 반환한다. "
   ]
  },
  {
   "cell_type": "code",
   "execution_count": 33,
   "id": "e47a8918",
   "metadata": {},
   "outputs": [
    {
     "data": {
      "text/plain": [
       "<list_iterator at 0x1c242261be0>"
      ]
     },
     "execution_count": 33,
     "metadata": {},
     "output_type": "execute_result"
    }
   ],
   "source": [
    "l = [1,2]  #iterable object\n",
    "li = l.__iter__()  # iterator\n",
    "li"
   ]
  },
  {
   "cell_type": "code",
   "execution_count": 34,
   "id": "45736182",
   "metadata": {},
   "outputs": [
    {
     "data": {
      "text/plain": [
       "1"
      ]
     },
     "execution_count": 34,
     "metadata": {},
     "output_type": "execute_result"
    }
   ],
   "source": [
    "li.__next__()"
   ]
  },
  {
   "cell_type": "code",
   "execution_count": 35,
   "id": "01e54444",
   "metadata": {},
   "outputs": [
    {
     "data": {
      "text/plain": [
       "2"
      ]
     },
     "execution_count": 35,
     "metadata": {},
     "output_type": "execute_result"
    }
   ],
   "source": [
    "li.__next__()"
   ]
  },
  {
   "cell_type": "markdown",
   "id": "d0a1fce3",
   "metadata": {},
   "source": [
    "Python은 generator라는 것을 제공하여, 누구나 iterator를 만들어 쓸수 있도록 한다.  \n",
    "Generator는 보통 ```yield``` 키워드를 통하여 생성되며, 차례차례 값을 생성하는 개념이다.  "
   ]
  },
  {
   "cell_type": "code",
   "execution_count": 36,
   "id": "0b881e61",
   "metadata": {},
   "outputs": [],
   "source": [
    "# generator for odd numbers less than n\n",
    "def odd_numbers(n): \n",
    "    for k in range(n): \n",
    "        if k % 2 == 1: \n",
    "            yield k"
   ]
  },
  {
   "cell_type": "code",
   "execution_count": 37,
   "id": "03e74104",
   "metadata": {},
   "outputs": [
    {
     "data": {
      "text/plain": [
       "<generator object odd_numbers at 0x000001C24227F4A0>"
      ]
     },
     "execution_count": 37,
     "metadata": {},
     "output_type": "execute_result"
    }
   ],
   "source": [
    "g = odd_numbers(10)\n",
    "g"
   ]
  },
  {
   "cell_type": "code",
   "execution_count": 38,
   "id": "b1cd2d62",
   "metadata": {},
   "outputs": [
    {
     "name": "stdout",
     "output_type": "stream",
     "text": [
      "1\n",
      "3\n",
      "5\n",
      "7\n",
      "9\n"
     ]
    }
   ],
   "source": [
    "for k in g: print(k)"
   ]
  },
  {
   "cell_type": "markdown",
   "id": "226ab3ff",
   "metadata": {},
   "source": [
    "다음의 ```Recursion3Term``` class는 iterable object이다."
   ]
  },
  {
   "cell_type": "code",
   "execution_count": 39,
   "id": "e72476cc",
   "metadata": {},
   "outputs": [],
   "source": [
    "class  Recursion3Term:\n",
    "    def __init__(self, a0, a1, u0, u1):\n",
    "        self.coeff = [a1, a0]\n",
    "        self.initial = [u1, u0]\n",
    "    def __iter__(self):\n",
    "        u1, u0 = self.initial\n",
    "        yield u0  \n",
    "        yield u1\n",
    "        a1, a0 = self.coeff\n",
    "        while True :\n",
    "            u1, u0 = a1 * u1 + a0 * u0, u1\n",
    "            yield u1"
   ]
  },
  {
   "cell_type": "code",
   "execution_count": 40,
   "id": "be57db3a",
   "metadata": {},
   "outputs": [],
   "source": [
    "r3 = Recursion3Term(-0.35, 1.2, 1, 1)"
   ]
  },
  {
   "cell_type": "code",
   "execution_count": 41,
   "id": "edb39058",
   "metadata": {},
   "outputs": [],
   "source": [
    "r3_i = r3.__iter__()"
   ]
  },
  {
   "cell_type": "code",
   "execution_count": 42,
   "id": "965f5649",
   "metadata": {},
   "outputs": [
    {
     "data": {
      "text/plain": [
       "1"
      ]
     },
     "execution_count": 42,
     "metadata": {},
     "output_type": "execute_result"
    }
   ],
   "source": [
    "r3_i.__next__()"
   ]
  },
  {
   "cell_type": "code",
   "execution_count": 43,
   "id": "e33c2c62",
   "metadata": {},
   "outputs": [
    {
     "data": {
      "text/plain": [
       "1"
      ]
     },
     "execution_count": 43,
     "metadata": {},
     "output_type": "execute_result"
    }
   ],
   "source": [
    "r3_i.__next__()"
   ]
  },
  {
   "cell_type": "code",
   "execution_count": 44,
   "id": "f8caf40d",
   "metadata": {},
   "outputs": [
    {
     "data": {
      "text/plain": [
       "0.85"
      ]
     },
     "execution_count": 44,
     "metadata": {},
     "output_type": "execute_result"
    }
   ],
   "source": [
    "r3_i.__next__()"
   ]
  },
  {
   "cell_type": "code",
   "execution_count": 45,
   "id": "5225ac86",
   "metadata": {},
   "outputs": [
    {
     "data": {
      "text/plain": [
       "0.67"
      ]
     },
     "execution_count": 45,
     "metadata": {},
     "output_type": "execute_result"
    }
   ],
   "source": [
    "r3_i.__next__()"
   ]
  },
  {
   "cell_type": "code",
   "execution_count": 46,
   "id": "0b95941a",
   "metadata": {},
   "outputs": [
    {
     "name": "stdout",
     "output_type": "stream",
     "text": [
      "0 1\n",
      "1 1\n",
      "2 0.85\n",
      "3 0.67\n",
      "4 0.5065000000000001\n",
      "5 0.3733\n"
     ]
    }
   ],
   "source": [
    "for i, r in enumerate(r3):\n",
    "    if i <= 5:\n",
    "        print(i, r)  \n",
    "    if i == 5: break"
   ]
  },
  {
   "cell_type": "markdown",
   "id": "07db68a6",
   "metadata": {},
   "source": [
    "```__get_item```을 추가하여, ```[]```을 사용할 수 있다.\n",
    "\n",
    "여기서 ```itertools.islice```가 사용되었는데, slicing 방법을 통하여 "
   ]
  },
  {
   "cell_type": "code",
   "execution_count": 47,
   "id": "ad3f59a1",
   "metadata": {},
   "outputs": [],
   "source": [
    "import itertools\n",
    "\n",
    "class  Recursion3Term:\n",
    "    def __init__(self, a0, a1, u0, u1):\n",
    "        self.coeff = [a1, a0]\n",
    "        self.initial = [u1, u0]\n",
    "    def __iter__(self):\n",
    "        u1, u0 = self.initial\n",
    "        yield u0  # (see also Iterators section in Chapter 9) \n",
    "        yield u1\n",
    "        a1, a0 = self.coeff\n",
    "        while True :\n",
    "            u1, u0 = a1 * u1 + a0 * u0, u1\n",
    "            yield u1\n",
    "            \n",
    "    def __getitem__(self, k):\n",
    "        return list(itertools.islice(self, k, k + 1))[0]"
   ]
  },
  {
   "cell_type": "code",
   "execution_count": 48,
   "id": "e49c9879",
   "metadata": {},
   "outputs": [],
   "source": [
    "r3 = Recursion3Term(-0.35, 1.2, 1, 1)"
   ]
  },
  {
   "cell_type": "code",
   "execution_count": 49,
   "id": "7ca57b8a",
   "metadata": {},
   "outputs": [
    {
     "data": {
      "text/plain": [
       "0.3733"
      ]
     },
     "execution_count": 49,
     "metadata": {},
     "output_type": "execute_result"
    }
   ],
   "source": [
    "r3[5]"
   ]
  },
  {
   "cell_type": "markdown",
   "id": "124193a8",
   "metadata": {},
   "source": [
    "### Attributes that depend on each other\n",
    "\n",
    "아래 ```Triangle``` class의 attribute ```A, B, C```는 n-차원 상에서 삼각형의 꼭지점 좌표를 말한다.  \n",
    "그리고 ```a, b, c```는 꼭지점 좌표에 의해 결정되는 변 벡터이다."
   ]
  },
  {
   "cell_type": "code",
   "execution_count": 50,
   "id": "2ed27529",
   "metadata": {},
   "outputs": [],
   "source": [
    "class Triangle:\n",
    "    def __init__(self,  A, B, C):\n",
    "        self.A = np.array(A)\n",
    "        self.B = np.array(B)\n",
    "        self.C = np.array(C)\n",
    "        self.a = self.C - self.B\n",
    "        self.b = self.C - self.A\n",
    "        self.c = self.B - self.A\n",
    "    def area(self):\n",
    "        return abs(np.cross(self.b, self.c)) / 2 "
   ]
  },
  {
   "cell_type": "code",
   "execution_count": 51,
   "id": "febb5e5a",
   "metadata": {},
   "outputs": [],
   "source": [
    "tr = Triangle([0., 0.], [1., 0.], [0., 1.])"
   ]
  },
  {
   "cell_type": "code",
   "execution_count": 52,
   "id": "05ef46a6",
   "metadata": {},
   "outputs": [
    {
     "data": {
      "text/plain": [
       "0.5"
      ]
     },
     "execution_count": 52,
     "metadata": {},
     "output_type": "execute_result"
    }
   ],
   "source": [
    "tr.area()"
   ]
  },
  {
   "cell_type": "markdown",
   "id": "ef431261",
   "metadata": {},
   "source": [
    "위 정의대로라면 꼭지점 중 하나의 좌표가 변경된다 하더라도, 변 벡터가 변경되지 않는 문제가 있다.  \n",
    "그에 따라 면적 계산도 잘못된다."
   ]
  },
  {
   "cell_type": "code",
   "execution_count": 53,
   "id": "93cb477d",
   "metadata": {},
   "outputs": [
    {
     "data": {
      "text/plain": [
       "0.5"
      ]
     },
     "execution_count": 53,
     "metadata": {},
     "output_type": "execute_result"
    }
   ],
   "source": [
    "tr.B = [12., 0.]\n",
    "tr.area()"
   ]
  },
  {
   "cell_type": "markdown",
   "id": "face9572",
   "metadata": {},
   "source": [
    "```property``` method는 특정 attribute를 getter, setter, deleter method와 연결해 준다.  \n",
    "\n",
    "getter, setter, deleter method들은 attribute를 액세스할 때, 정할 때, 지울 때 추가적으로 할 일들을 정의한다.  \n",
    "\n",
    "```property``` method는 다음의 문법을 가진다.  \n",
    "\n",
    "```attribute = property(fget = get_attr, fset = set_attr, fdel = del_attr, doc = string)```"
   ]
  },
  {
   "cell_type": "code",
   "execution_count": 54,
   "id": "356ea9e9",
   "metadata": {},
   "outputs": [],
   "source": [
    "class Triangle:\n",
    "\n",
    "    def __init__(self, A, B, C):\n",
    "        self._A = np.array(A)\n",
    "        self._B = np.array(B)\n",
    "        self._C = np.array(C)\n",
    "        self._a = self._C - self._B\n",
    "        self._b = self._C - self._A\n",
    "        self._c = self._B - self._A\n",
    "    def area(self):\n",
    "        return abs(np.cross(self._c, self._b)) / 2.\n",
    "    \n",
    "    def set_B(self, B):\n",
    "        print(\"Setting value...The sides are readjusted.\")\n",
    "        self._B = B\n",
    "        self._a = self._C - self._B\n",
    "        self._c = self._B - self._A\n",
    "    def get_B(self):\n",
    "        print(\"Getting value...\")\n",
    "        return self._B\n",
    "    \n",
    "    def del_Pt(self):\n",
    "        raise Exception('A triangle point cannot be deleted')\n",
    "    \n",
    "    B = property(fget = get_B, fset = set_B, fdel = del_Pt)"
   ]
  },
  {
   "cell_type": "code",
   "execution_count": 55,
   "id": "4c662692",
   "metadata": {},
   "outputs": [
    {
     "data": {
      "text/plain": [
       "array([-1.,  1.])"
      ]
     },
     "execution_count": 55,
     "metadata": {},
     "output_type": "execute_result"
    }
   ],
   "source": [
    "tr = Triangle([0., 0.], [1., 0.], [0., 1.])\n",
    "tr._a"
   ]
  },
  {
   "cell_type": "code",
   "execution_count": 56,
   "id": "2d027cf4",
   "metadata": {},
   "outputs": [
    {
     "data": {
      "text/plain": [
       "array([1., 0.])"
      ]
     },
     "execution_count": 56,
     "metadata": {},
     "output_type": "execute_result"
    }
   ],
   "source": [
    "tr._B"
   ]
  },
  {
   "cell_type": "code",
   "execution_count": 57,
   "id": "8c5e52f1",
   "metadata": {},
   "outputs": [
    {
     "name": "stdout",
     "output_type": "stream",
     "text": [
      "Getting value...\n"
     ]
    },
    {
     "data": {
      "text/plain": [
       "array([1., 0.])"
      ]
     },
     "execution_count": 57,
     "metadata": {},
     "output_type": "execute_result"
    }
   ],
   "source": [
    "# get_B를 통해 접근\n",
    "tr.B"
   ]
  },
  {
   "cell_type": "code",
   "execution_count": 58,
   "id": "9845f063",
   "metadata": {},
   "outputs": [
    {
     "name": "stdout",
     "output_type": "stream",
     "text": [
      "Setting value...The sides are readjusted.\n"
     ]
    },
    {
     "data": {
      "text/plain": [
       "6.0"
      ]
     },
     "execution_count": 58,
     "metadata": {},
     "output_type": "execute_result"
    }
   ],
   "source": [
    "# set_B를 통해 설정하기 때문에 변들의 정보 변경\n",
    "tr.B = [12., 0.]\n",
    "tr.area() "
   ]
  },
  {
   "cell_type": "code",
   "execution_count": 59,
   "id": "8374f314",
   "metadata": {},
   "outputs": [
    {
     "data": {
      "text/plain": [
       "array([-12.,   1.])"
      ]
     },
     "execution_count": 59,
     "metadata": {},
     "output_type": "execute_result"
    }
   ],
   "source": [
    "tr._a"
   ]
  },
  {
   "cell_type": "markdown",
   "id": "d61e4c20",
   "metadata": {},
   "source": [
    "아래처럼 설정하면 변의 정보가 바뀌지 않는다."
   ]
  },
  {
   "cell_type": "code",
   "execution_count": 60,
   "id": "668c6f94",
   "metadata": {},
   "outputs": [
    {
     "data": {
      "text/plain": [
       "6.0"
      ]
     },
     "execution_count": 60,
     "metadata": {},
     "output_type": "execute_result"
    }
   ],
   "source": [
    "tr._B = [10, 0]\n",
    "tr.area()"
   ]
  },
  {
   "cell_type": "markdown",
   "id": "b6307fc5",
   "metadata": {},
   "source": [
    "종종 클래스 내에 ```_```로 시작하는 attribute들이 있는데, 이 attribute들은 ```.```을 이용하여 직접 접근하기 보다는 setter와 getter를 이용하여 접근하도록 암묵적으로 합의되어 있다.  \n",
    "\n",
    "다른 언어에서는 private라는 키워드를 통해 지정되나 python에서는 private을 직접적으로 지정하지는 않는다."
   ]
  },
  {
   "cell_type": "markdown",
   "id": "da004273",
   "metadata": {},
   "source": [
    "```@property```라는 decorator를 사용하여, 비슷하게 구현할 수 있다.(데코레이터에 대해서는 추후 더 알아볼 예정)\n",
    "\n",
    "getter는 ```@property``` 데코레이터 바로 밑에 적도록 한다.  \n",
    "\n",
    "이 때 사용되는 getter의 이름 ```B```는 그 아래 구현된 setter와 deleter에서 계속 이용된다.\n",
    "* 여기서 ```B```는 property-name이라고도 한다.\n",
    "\n",
    "setter에는 ```@property-name.setter```의 형식으로 데코레이터를 작성한다.\n",
    "* 이 예제에서는 ```@B.setter````\n",
    "\n",
    "deleter에는 ```@property-name.deleter```의 형식을 데코레이터를 작성한다.\n",
    "* 이 예제에서는 ```@B.deleter````"
   ]
  },
  {
   "cell_type": "code",
   "execution_count": 61,
   "id": "45756046",
   "metadata": {},
   "outputs": [],
   "source": [
    "class Triangle:\n",
    "    def __init__(self, A, B, C):\n",
    "        self._A = np.array(A)\n",
    "        self._B = np.array(B)\n",
    "        self._C = np.array(C)\n",
    "        self._a = self._C - self._B\n",
    "        self._b = self._C - self._A\n",
    "        self._c = self._B - self._A\n",
    "    \n",
    "    def area(self):\n",
    "        return abs(np.cross(self._c, self._b)) / 2.\n",
    "    \n",
    "    @property\n",
    "    def B(self):\n",
    "        print(\"Getting value...\")\n",
    "        return self._B\n",
    "    \n",
    "    @B.setter\n",
    "    def B(self, B):\n",
    "        print(\"Setting value...The sides are readjusted.\")\n",
    "        self._B = B\n",
    "        self._a = self._C - self._B\n",
    "        self._c = self._B - self._A\n",
    "        \n",
    "    @B.deleter\n",
    "    def B(self):\n",
    "        # del tr.B 를 했을 때 주어질 에러\n",
    "        raise Exception('A triangle point cannot be deleted')"
   ]
  },
  {
   "cell_type": "code",
   "execution_count": 62,
   "id": "fe7998ec",
   "metadata": {},
   "outputs": [
    {
     "name": "stdout",
     "output_type": "stream",
     "text": [
      "Setting value...The sides are readjusted.\n"
     ]
    },
    {
     "data": {
      "text/plain": [
       "6.0"
      ]
     },
     "execution_count": 62,
     "metadata": {},
     "output_type": "execute_result"
    }
   ],
   "source": [
    "tr = Triangle([0., 0.], [1., 0.], [0., 1.])\n",
    "tr.B = [12., 0.]\n",
    "tr.area()"
   ]
  },
  {
   "cell_type": "markdown",
   "id": "4ee3d2b3",
   "metadata": {},
   "source": [
    "### Bounded and unbounded method\n",
    "\n",
    "Class에 정의된 method는 instance에 귀속되지 않았을 때는 unbounded method라고 불리우고, instance가 생성되어 귀속되면 bounded method라고 불리운다."
   ]
  },
  {
   "cell_type": "code",
   "execution_count": 63,
   "id": "2032a78f",
   "metadata": {},
   "outputs": [],
   "source": [
    "class A:\n",
    "    def func(self,arg):\n",
    "        pass"
   ]
  },
  {
   "cell_type": "code",
   "execution_count": 64,
   "id": "30da4b15",
   "metadata": {},
   "outputs": [
    {
     "data": {
      "text/plain": [
       "<function __main__.A.func(self, arg)>"
      ]
     },
     "execution_count": 64,
     "metadata": {},
     "output_type": "execute_result"
    }
   ],
   "source": [
    "# unbounded method\n",
    "A.func"
   ]
  },
  {
   "cell_type": "code",
   "execution_count": 65,
   "id": "81004ee1",
   "metadata": {},
   "outputs": [
    {
     "data": {
      "text/plain": [
       "<bound method A.func of <__main__.A object at 0x000001C24229D190>>"
      ]
     },
     "execution_count": 65,
     "metadata": {},
     "output_type": "execute_result"
    }
   ],
   "source": [
    "instA = A()  # we create an instance\n",
    "instA.func"
   ]
  },
  {
   "cell_type": "markdown",
   "id": "8b306639",
   "metadata": {},
   "source": [
    "### Class attribute and class method\n",
    "\n",
    "보통 attribute과 method는 instance에 귀속되어 활용되나, 때로는 class 자체에 귀속되어, 해당 클래스로 생성된 모든 instance가 공통으로 공유하는 경우가 있다. 이를 class attribute과 class method라고 한다.  \n",
    "아래 예제에서 ```tol```이 class attribute이다."
   ]
  },
  {
   "cell_type": "code",
   "execution_count": 66,
   "id": "4780d940",
   "metadata": {},
   "outputs": [],
   "source": [
    "class Newton:\n",
    "    tol = 1e-8 # this is a class attribute\n",
    "    def __init__(self, f):\n",
    "        self.f = f # this is not a class attribute"
   ]
  },
  {
   "cell_type": "code",
   "execution_count": 67,
   "id": "e678af68",
   "metadata": {},
   "outputs": [],
   "source": [
    "f = lambda x: x**2\n",
    "g = lambda x: 3*x\n",
    "N1 = Newton(f)\n",
    "N2 = Newton(g)"
   ]
  },
  {
   "cell_type": "code",
   "execution_count": 68,
   "id": "fb3bf72b",
   "metadata": {},
   "outputs": [
    {
     "data": {
      "text/plain": [
       "1e-08"
      ]
     },
     "execution_count": 68,
     "metadata": {},
     "output_type": "execute_result"
    }
   ],
   "source": [
    "N1.tol "
   ]
  },
  {
   "cell_type": "code",
   "execution_count": 69,
   "id": "4d2ea896",
   "metadata": {},
   "outputs": [
    {
     "data": {
      "text/plain": [
       "1e-08"
      ]
     },
     "execution_count": 69,
     "metadata": {},
     "output_type": "execute_result"
    }
   ],
   "source": [
    "N2.tol "
   ]
  },
  {
   "cell_type": "markdown",
   "id": "7ef92e32",
   "metadata": {},
   "source": [
    "Class를 통해 ```tol```의 값을 변경하면, 변경 사항은 모든 instance에 적용된다."
   ]
  },
  {
   "cell_type": "code",
   "execution_count": 70,
   "id": "97ed2cf8",
   "metadata": {},
   "outputs": [
    {
     "data": {
      "text/plain": [
       "1e-10"
      ]
     },
     "execution_count": 70,
     "metadata": {},
     "output_type": "execute_result"
    }
   ],
   "source": [
    "Newton.tol = 1e-10\n",
    "N1.tol"
   ]
  },
  {
   "cell_type": "code",
   "execution_count": 71,
   "id": "97fed344",
   "metadata": {},
   "outputs": [
    {
     "data": {
      "text/plain": [
       "1e-10"
      ]
     },
     "execution_count": 71,
     "metadata": {},
     "output_type": "execute_result"
    }
   ],
   "source": [
    "N2.tol"
   ]
  },
  {
   "cell_type": "markdown",
   "id": "aec57d32",
   "metadata": {},
   "source": [
    "하지만 개별 instance의 ```tol```을 변경하면 다른 instance에 영향을 미치지 않는다."
   ]
  },
  {
   "cell_type": "code",
   "execution_count": 72,
   "id": "933f33af",
   "metadata": {},
   "outputs": [
    {
     "data": {
      "text/plain": [
       "1e-10"
      ]
     },
     "execution_count": 72,
     "metadata": {},
     "output_type": "execute_result"
    }
   ],
   "source": [
    "N2.tol = 1e-4\n",
    "N1.tol"
   ]
  },
  {
   "cell_type": "markdown",
   "id": "b3a3f8d9",
   "metadata": {},
   "source": [
    "위의 코드 실행으로 이제 ```N2.tol```은 ```Newton.tol```과 분리되어 독립적이다. 즉, ```Newton.tol```의 변경이 ```N2.tol```에 영향을 미치지 않는다."
   ]
  },
  {
   "cell_type": "code",
   "execution_count": 73,
   "id": "979bef6a",
   "metadata": {},
   "outputs": [],
   "source": [
    "Newton.tol = 1e-5 "
   ]
  },
  {
   "cell_type": "code",
   "execution_count": 74,
   "id": "59ea8eab",
   "metadata": {},
   "outputs": [
    {
     "data": {
      "text/plain": [
       "1e-05"
      ]
     },
     "execution_count": 74,
     "metadata": {},
     "output_type": "execute_result"
    }
   ],
   "source": [
    "N1.tol"
   ]
  },
  {
   "cell_type": "code",
   "execution_count": 75,
   "id": "306133c7",
   "metadata": {},
   "outputs": [
    {
     "data": {
      "text/plain": [
       "0.0001"
      ]
     },
     "execution_count": 75,
     "metadata": {},
     "output_type": "execute_result"
    }
   ],
   "source": [
    "N2.tol"
   ]
  },
  {
   "cell_type": "markdown",
   "id": "682b03be",
   "metadata": {},
   "source": [
    "### Class method\n",
    "\n",
    "Class method는 instance가 아닌 class에 bound된 method를 말한다. \n",
    "\n",
    "실무에서 class method는 종종 클래스의 instance를 생성하려는 목적으로 사용된다.\n",
    "\n",
    "Class method를 정의하기 위해서는 decorator line이라 불리우는 추가적인 코드가 필요하다.  \n",
    "\n",
    "```@classmethod```\n",
    "\n",
    "아래 코드에서 by_points는 class method이며, 관습상 ```self```대신 ```cls```를 첫 번째 parameter로 활용한다.  \n",
    "Class method는 종종 instance가 생성되기 전에 전처리적인 단계로도 활용된다. \n",
    "\n",
    "아래의 ```Polynomial``` class는 ```coeff```를 통해 instance가 생성되나, 경우에 따라서는 ```by_points``` method와 numpy의 ```polyfit``` 함수를 이용한 ineterpolation 방법으로 정의되기도 한다."
   ]
  },
  {
   "cell_type": "code",
   "execution_count": 76,
   "id": "2c8bdc94",
   "metadata": {},
   "outputs": [],
   "source": [
    "class Polynomial:\n",
    "    def __init__(self, coeff):\n",
    "        self.coeff = np.array(coeff)\n",
    "        \n",
    "    @classmethod\n",
    "    def by_points(cls, x, y):\n",
    "        degree = x.shape[0] - 1\n",
    "        coeff = np.polyfit(x, y, degree)\n",
    "        return cls(coeff) \n",
    "    \n",
    "    def __eq__(self, other):\n",
    "        return np.allclose(self.coeff, other.coeff)"
   ]
  },
  {
   "cell_type": "markdown",
   "id": "8f5a2f1c",
   "metadata": {},
   "source": [
    "```Polynomial.by_points()```로 호출한다. 즉 ```Class.method()``` 형식이다."
   ]
  },
  {
   "cell_type": "code",
   "execution_count": 77,
   "id": "ba6d7b89",
   "metadata": {},
   "outputs": [
    {
     "data": {
      "text/plain": [
       "array([1.0000000e+00, 1.5818787e-17])"
      ]
     },
     "execution_count": 77,
     "metadata": {},
     "output_type": "execute_result"
    }
   ],
   "source": [
    "# interpolation으로 정의된 polynomial\n",
    "p1 = Polynomial.by_points(np.array([0., 1.]), np.array([0., 1.]))\n",
    "p1.coeff"
   ]
  },
  {
   "cell_type": "code",
   "execution_count": 78,
   "id": "177ebd50",
   "metadata": {},
   "outputs": [],
   "source": [
    "# coeff로 정의된 polynomial\n",
    "p2 = Polynomial([1., 0.])"
   ]
  },
  {
   "cell_type": "code",
   "execution_count": 79,
   "id": "587e013a",
   "metadata": {},
   "outputs": [
    {
     "data": {
      "text/plain": [
       "True"
      ]
     },
     "execution_count": 79,
     "metadata": {},
     "output_type": "execute_result"
    }
   ],
   "source": [
    "p1 == p2"
   ]
  },
  {
   "cell_type": "markdown",
   "id": "cb6bc39e",
   "metadata": {},
   "source": [
    "위 예제에서 보듯이 파이썬의 클래스에는 생성자가 ```__init__``` method뿐이기 때문에, 다른 생성자를 필요로 할 경우 클래스 method를 활용하는 것이 효과적이다."
   ]
  },
  {
   "cell_type": "markdown",
   "id": "e82f410c",
   "metadata": {},
   "source": [
    "### Subclass와 상속\n",
    "\n",
    "하위 클래스(subclass)와 상속은 객체지향 프로그래밍의 핵심 개념이라 볼 수 있다.  \n",
    "아래의 미분 방정식 해결 예제를 통해 이 개념들을 이해해 보자.  \n",
    "\n",
    "전형적인 미분 방정식의 형태은 다음과 같다.\n",
    "\n",
    "$$ x'(t) = f(x(t), t), \\quad x(0) = x_0, \\quad t \\in [t_0, t_e] $$\n",
    "\n",
    "이 방정식을 풀기 위한 수치적 방법 중 하나인 one-step method에서는, 어떤 step size $h$에 대해, 다음을 만족하는 $u$ 벡터를 순차적으로 계산한다.\n",
    "\n",
    "$$ u_{i+1} = u_{i} + h \\Phi(f, u_i, t_i, h), \\quad u_0 = x_0 $$\n",
    "\n",
    "여기서 $\\Phi$는 step function으로 여러 정의 방법이 있다. \n",
    "\n",
    "* Explicit Euler : $\\Phi(f, u_i, t_i, h) = f(u_i, t_i)$  \n",
    "* Midpoint rule : $\\Phi(f, u_i, t_i, h) = f(u_i + \\frac{h}{2}f(u_i), t_i + \\frac{h}{2})$  \n",
    "* Runge-Kutta 4 : $\\Phi(f, u_i, t_i, h) =  \\frac{1}{6}(s_1 + s_2 + s_3 + s_4)$ with \n",
    "  * $s_1 = f(u_i, t_i), \\enspace s_2 = f(u_i + \\frac{h}{2}s_i, u_i + \\frac{h}{2}),\\enspace  s_3 = f(u_i + \\frac{h}{2}s_2, t_i + \\frac{h}{2}),\\enspace  s_4 = f(u_i + s_3, t_i + h)$\n",
    "  \n",
    "이 방법들을 포괄하는 class를 생성하기 위해, 먼저 ```OneStepMethod```라는 base class를 생성한다."
   ]
  },
  {
   "cell_type": "markdown",
   "id": "de7da10a",
   "metadata": {},
   "source": [
    "$\\Phi$ 함수는 아래 코드에서 ```step()``` method에 해당하는데, 이는 아직 구현되지 않았다.  \n",
    "```OneStepMethod```를 상속한 자식 class에서 구체적으로 구현해야 한다.  \n",
    "\n",
    "```__init__``` method에서 함수 ```f```, 초기값 ```x0```, $t$의 범위인 ```interval```, discretization의 수 ```N```을 지정한다."
   ]
  },
  {
   "cell_type": "code",
   "execution_count": 80,
   "id": "7fe03f0a",
   "metadata": {},
   "outputs": [],
   "source": [
    "import matplotlib.pyplot as mp\n",
    "\n",
    "class OneStepMethod:\n",
    "    def __init__(self, f, x0, interval, N):\n",
    "        self.f = f\n",
    "        self.x0 = x0\n",
    "        self.interval = [t0, te] = interval\n",
    "        self.grid = np.linspace(t0, te, N)\n",
    "        self.h = (te - t0) / N\n",
    "\n",
    "    def generate(self):\n",
    "        ti, ui = self.grid[0], self.x0\n",
    "        yield ti, ui\n",
    "        for t in self.grid[1:]:\n",
    "            ui = ui + self.h * self.step(self.f, ui, ti)\n",
    "            ti = t\n",
    "            yield ti, ui\n",
    "\n",
    "    def solve(self):\n",
    "        self.solution = np.array(list(self.generate()))\n",
    "\n",
    "    def plot(self):\n",
    "        mp.plot(self.solution[:, 0], self.solution[:, 1])\n",
    "\n",
    "    # Phi에 해당하는 step function\n",
    "    def step(self, f, u, t):\n",
    "        raise NotImplementedError()"
   ]
  },
  {
   "cell_type": "code",
   "execution_count": 81,
   "id": "2770ea2b",
   "metadata": {},
   "outputs": [],
   "source": [
    "osm = OneStepMethod(lambda x, t : x + t, x0 = 0, interval = [0, 1], N = 100)"
   ]
  },
  {
   "cell_type": "markdown",
   "id": "292a1655",
   "metadata": {},
   "source": [
    "아직 ```step``` 함수가 구현되지 않았기 때문에, ```osm.solve()```를 실행하면 ```raise NotImplementedError()```에 의해 에러가 발생한다.\n",
    "\n",
    "즉, 이 부모 클래스는 이 부모 클래스의 성질을 상속받은 적절한 자식 클래스가 존재하여야 실제 문제를 해결할 수 있다.\n",
    "\n",
    "구체적인 구현이 포함된 자식 클래스를 정의한다.\n",
    "\n",
    "자식 클래스의 정의 방법은 간단하다.\n",
    "\n",
    "```class CHILD(PARENT):```\n",
    "\n",
    "아래에서 ```ExplicitEuler```와 ```MidPointRule```는 ```OneStepMethod```를 상속받은 자식 클래스이다.\n",
    "\n",
    "상속은 부모 클래스의 attribute과 method를 물려받는다."
   ]
  },
  {
   "cell_type": "code",
   "execution_count": 82,
   "id": "195e1dca",
   "metadata": {},
   "outputs": [],
   "source": [
    "class ExplicitEuler(OneStepMethod):\n",
    "    def step(self, f, u, t):\n",
    "        return f(u, t)"
   ]
  },
  {
   "cell_type": "code",
   "execution_count": 83,
   "id": "7b1ace9f",
   "metadata": {},
   "outputs": [],
   "source": [
    "class MidPointRule(OneStepMethod):\n",
    "    def step(self, f, u, t):\n",
    "        return f(u + self.h / 2 * f(u, t), t + self.h / 2)"
   ]
  },
  {
   "cell_type": "code",
   "execution_count": 84,
   "id": "9cc7aa12",
   "metadata": {},
   "outputs": [
    {
     "data": {
      "text/plain": [
       "['__class__',\n",
       " '__delattr__',\n",
       " '__dict__',\n",
       " '__dir__',\n",
       " '__doc__',\n",
       " '__eq__',\n",
       " '__format__',\n",
       " '__ge__',\n",
       " '__getattribute__',\n",
       " '__gt__',\n",
       " '__hash__',\n",
       " '__init__',\n",
       " '__init_subclass__',\n",
       " '__le__',\n",
       " '__lt__',\n",
       " '__module__',\n",
       " '__ne__',\n",
       " '__new__',\n",
       " '__reduce__',\n",
       " '__reduce_ex__',\n",
       " '__repr__',\n",
       " '__setattr__',\n",
       " '__sizeof__',\n",
       " '__str__',\n",
       " '__subclasshook__',\n",
       " '__weakref__',\n",
       " 'generate',\n",
       " 'plot',\n",
       " 'solve',\n",
       " 'step']"
      ]
     },
     "execution_count": 84,
     "metadata": {},
     "output_type": "execute_result"
    }
   ],
   "source": [
    "dir(ExplicitEuler)"
   ]
  },
  {
   "cell_type": "code",
   "execution_count": 85,
   "id": "10a21228",
   "metadata": {},
   "outputs": [],
   "source": [
    "def f(x, t): return -0.5 * x"
   ]
  },
  {
   "cell_type": "code",
   "execution_count": 86,
   "id": "d51a8bd6",
   "metadata": {},
   "outputs": [],
   "source": [
    "euler = ExplicitEuler(f, x0 = 15., interval = [0., 10.], N = 20)"
   ]
  },
  {
   "cell_type": "code",
   "execution_count": 87,
   "id": "062a8331",
   "metadata": {},
   "outputs": [
    {
     "data": {
      "text/plain": [
       "__main__.ExplicitEuler"
      ]
     },
     "execution_count": 87,
     "metadata": {},
     "output_type": "execute_result"
    }
   ],
   "source": [
    "type(euler)"
   ]
  },
  {
   "cell_type": "markdown",
   "id": "9db7e6d1",
   "metadata": {},
   "source": [
    "```euler```는 ```ExplicitEuler```이면서 ```OneStepMethod```이기도 하다."
   ]
  },
  {
   "cell_type": "code",
   "execution_count": 88,
   "id": "a8845104",
   "metadata": {},
   "outputs": [
    {
     "data": {
      "text/plain": [
       "True"
      ]
     },
     "execution_count": 88,
     "metadata": {},
     "output_type": "execute_result"
    }
   ],
   "source": [
    "isinstance(euler, ExplicitEuler)"
   ]
  },
  {
   "cell_type": "code",
   "execution_count": 89,
   "id": "c1e3ebb5",
   "metadata": {},
   "outputs": [
    {
     "data": {
      "text/plain": [
       "True"
      ]
     },
     "execution_count": 89,
     "metadata": {},
     "output_type": "execute_result"
    }
   ],
   "source": [
    "isinstance(euler, OneStepMethod)"
   ]
  },
  {
   "cell_type": "code",
   "execution_count": 90,
   "id": "fd21f609",
   "metadata": {},
   "outputs": [
    {
     "data": {
      "text/plain": [
       "array([[ 0.        , 15.        ],\n",
       "       [ 0.52631579, 11.25      ],\n",
       "       [ 1.05263158,  8.4375    ],\n",
       "       [ 1.57894737,  6.328125  ],\n",
       "       [ 2.10526316,  4.74609375],\n",
       "       [ 2.63157895,  3.55957031],\n",
       "       [ 3.15789474,  2.66967773],\n",
       "       [ 3.68421053,  2.0022583 ],\n",
       "       [ 4.21052632,  1.50169373],\n",
       "       [ 4.73684211,  1.12627029],\n",
       "       [ 5.26315789,  0.84470272],\n",
       "       [ 5.78947368,  0.63352704],\n",
       "       [ 6.31578947,  0.47514528],\n",
       "       [ 6.84210526,  0.35635896],\n",
       "       [ 7.36842105,  0.26726922],\n",
       "       [ 7.89473684,  0.20045192],\n",
       "       [ 8.42105263,  0.15033894],\n",
       "       [ 8.94736842,  0.1127542 ],\n",
       "       [ 9.47368421,  0.08456565],\n",
       "       [10.        ,  0.06342424]])"
      ]
     },
     "execution_count": 90,
     "metadata": {},
     "output_type": "execute_result"
    }
   ],
   "source": [
    "euler.solve()\n",
    "euler.solution"
   ]
  },
  {
   "cell_type": "code",
   "execution_count": 91,
   "id": "c99361e9",
   "metadata": {},
   "outputs": [],
   "source": [
    "midpoint = MidPointRule(f, 15., [0., 10.], 20)\n",
    "midpoint.solve()"
   ]
  },
  {
   "cell_type": "code",
   "execution_count": 92,
   "id": "7b309ff3",
   "metadata": {
    "scrolled": true
   },
   "outputs": [
    {
     "data": {
      "image/png": "[encoded data removed]",
      "text/plain": [
       "<Figure size 432x288 with 1 Axes>"
      ]
     },
     "metadata": {
      "needs_background": "light"
     },
     "output_type": "display_data"
    }
   ],
   "source": [
    "euler.plot()\n",
    "midpoint.plot()"
   ]
  },
  {
   "cell_type": "markdown",
   "id": "7ca8a1b0",
   "metadata": {},
   "source": [
    "인자를 일일이 입력하는 것이 번거롭다면, 다음과 같이 작성할 수 있다."
   ]
  },
  {
   "cell_type": "code",
   "execution_count": 93,
   "id": "5e1d8c1b",
   "metadata": {},
   "outputs": [],
   "source": [
    "argument_list = [f, 15., [0., 10.], 20]\n",
    "euler = ExplicitEuler(*argument_list)\n",
    "midpoint = MidPointRule(*argument_list)"
   ]
  },
  {
   "cell_type": "code",
   "execution_count": 94,
   "id": "eea536ea",
   "metadata": {},
   "outputs": [
    {
     "data": {
      "text/plain": [
       "__main__.ExplicitEuler"
      ]
     },
     "execution_count": 94,
     "metadata": {},
     "output_type": "execute_result"
    }
   ],
   "source": [
    "type(euler)"
   ]
  },
  {
   "cell_type": "code",
   "execution_count": 95,
   "id": "5163cf41",
   "metadata": {},
   "outputs": [
    {
     "data": {
      "text/plain": [
       "True"
      ]
     },
     "execution_count": 95,
     "metadata": {},
     "output_type": "execute_result"
    }
   ],
   "source": [
    "isinstance(euler, OneStepMethod)"
   ]
  },
  {
   "cell_type": "code",
   "execution_count": 96,
   "id": "22680dff",
   "metadata": {},
   "outputs": [
    {
     "data": {
      "text/plain": [
       "True"
      ]
     },
     "execution_count": 96,
     "metadata": {},
     "output_type": "execute_result"
    }
   ],
   "source": [
    "isinstance(euler, ExplicitEuler)"
   ]
  },
  {
   "cell_type": "markdown",
   "id": "6af74f4e",
   "metadata": {},
   "source": [
    "만약 부모 class의 method나 attribute에 접근하고 싶다면, ```super()``` 명령을 이용한다.  \n",
    "\n",
    "```super()```에는 subclass의 이름과 객체 두 개의 인자가 전달된다.  \n",
    "\n",
    "대표적인 예제로, 하위 class의 ```__init__```에서 부모 클래스의 ```__init__```을 확장하고 싶을 때 사용한다.   \n",
    "\n",
    "아래 코드에서 ```*args, **kwargs```는 가변 길이의 인자들이나, 키워드 인자들을 부모 클래스의 ```__init__```으로 그대로 전달하기 위해 사용되었다. \n",
    "\n",
    "즉, ```ExplicitEuler```는 ```OneStepMethod```의 생성자를 ```super().__init__()```을 통해 승계하면서, 추가적으로 ```name``` attribute을 생성하였다."
   ]
  },
  {
   "cell_type": "code",
   "execution_count": 97,
   "id": "e290ce1e",
   "metadata": {},
   "outputs": [],
   "source": [
    "class ExplicitEuler(OneStepMethod):\n",
    "    \n",
    "    def __init__(self, *args, **kwargs):\n",
    "        self.name='Explicit Euler Method'\n",
    "        super(ExplicitEuler, self).__init__(*args, **kwargs)\n",
    "        \n",
    "    def step(self, f, u, t):\n",
    "        return f(u, t)"
   ]
  },
  {
   "cell_type": "markdown",
   "id": "269c782e",
   "metadata": {},
   "source": [
    "### Abstract class (추상 클래스)\n",
    "\n",
    "위에서 살펴본 미분방정식 풀이 문제를 abstact class를 통해 해결할 수 있다.   \n",
    "\n",
    "Abstract class는 보통 하나 이상의 추상 method를 포함하며, abstact class 자체는 instance를 생성할 수 없다.  \n",
    "\n",
    "Abstract class는 다른 클래스들의 청사진 역할을 한다.\n",
    "\n",
    "Python 자체는 추상 클래스를 지원하지 않으나, ```abc``` 모듈을 통해 추상 클래스를 생성할 수 있다.\n",
    "\n",
    "기본 문법은 다음과 같다."
   ]
  },
  {
   "cell_type": "code",
   "execution_count": 98,
   "id": "4ec4568f",
   "metadata": {},
   "outputs": [],
   "source": [
    "from abc import ABC\n",
    "class MyAbstractClass(ABC):\n",
    "    pass"
   ]
  },
  {
   "cell_type": "markdown",
   "id": "8aa38f56",
   "metadata": {},
   "source": [
    "```step``` method를 abstract method로 만들겠다.\n",
    "\n",
    "이를 위해서 ```@abstractmethod``` 데코레이터가 필요하다."
   ]
  },
  {
   "cell_type": "code",
   "execution_count": 99,
   "id": "c24a2e70",
   "metadata": {},
   "outputs": [],
   "source": [
    "from abc import ABC, abstractmethod\n",
    "\n",
    "class AbcOneStepMethod(ABC):\n",
    "    def __init__(self, f, x0, interval, N):\n",
    "        self.f = f\n",
    "        self.x0 = x0\n",
    "        self.interval = [t0, te] = interval\n",
    "        self.grid = np.linspace(t0, te, N)\n",
    "        self.h = (te - t0) / N\n",
    "\n",
    "    def generate(self):\n",
    "        ti, ui = self.grid[0], self.x0\n",
    "        yield ti, ui\n",
    "        for t in self.grid[1:]:\n",
    "            ui = ui + self.h * self.step(self.f, ui, ti)\n",
    "            ti = t\n",
    "            yield ti, ui\n",
    "\n",
    "    def solve(self):\n",
    "        self.solution = np.array(list(self.generate()))\n",
    "\n",
    "    def plot(self):\n",
    "        mp.plot(self.solution[:, 0], self.solution[:, 1])\n",
    "\n",
    "    @abstractmethod\n",
    "    def step(self, f, u, t):\n",
    "        pass"
   ]
  },
  {
   "cell_type": "markdown",
   "id": "a568fea9",
   "metadata": {},
   "source": [
    "```AbcOneStepMethod(lambda x, t : x + t, 0, [0, 1], 100)```는 에러가 발생할 것이다."
   ]
  },
  {
   "cell_type": "markdown",
   "id": "4fb33c26",
   "metadata": {},
   "source": [
    "이전과 비슷하게 ```AbcOneStepMethod```를 상속받은 자식 클래스에서 ```step```을 구현하도록 한다."
   ]
  },
  {
   "cell_type": "code",
   "execution_count": 100,
   "id": "39fcc844",
   "metadata": {},
   "outputs": [],
   "source": [
    "class AExplicitEuler(AbcOneStepMethod):\n",
    "    def step(self, f, u, t):\n",
    "        return f(u, t)"
   ]
  },
  {
   "cell_type": "code",
   "execution_count": 101,
   "id": "3c6dea68",
   "metadata": {
    "scrolled": true
   },
   "outputs": [
    {
     "data": {
      "image/png": "[encoded data removed]",
      "text/plain": [
       "<Figure size 432x288 with 1 Axes>"
      ]
     },
     "metadata": {
      "needs_background": "light"
     },
     "output_type": "display_data"
    }
   ],
   "source": [
    "euler2 = AExplicitEuler(f, x0 = 15., interval = [0., 10.], N = 20)\n",
    "euler2.solve()\n",
    "euler2.plot()"
   ]
  },
  {
   "cell_type": "markdown",
   "id": "f084bdf2",
   "metadata": {},
   "source": [
    "### Encapsulation\n",
    "\n",
    "다음 예제에서는 python function을 확장하여, 더하기와 곱하기의 산술 연산이 가능한 ```Function``` class를 생성한다.  \n",
    "\n",
    "즉, 수치적 함수 $f$와 $g$에 대해, $f+g$를 자연스럽게 생성하고자 한다.  \n",
    "\n",
    "아래 코드의 구현 방식을 보면 ```__add__```와 ```__mul__```이 조금 다르게 구현되었지만, 전반적인 기능은 비슷하다.\n",
    "\n",
    "핵심은 두 함수를 합하거나 곱하는 기능을 가진 ```Function``` class를 생성하여 반환하는 것이다.  \n",
    "\n",
    "```__mul__```에서 ```type(self)```는 곧 ```Function```이고 ```Function(prod)```로 인스턴스를 생성하여 반환하도록 되어 있다."
   ]
  },
  {
   "cell_type": "code",
   "execution_count": 102,
   "id": "c66b4b9d",
   "metadata": {},
   "outputs": [],
   "source": [
    "class Function:\n",
    "    def __init__(self, f):\n",
    "        self.f = f\n",
    "        \n",
    "    def __call__(self, x):\n",
    "        return self.f(x)\n",
    "    \n",
    "    def __add__(self, g):\n",
    "        new_Function = Function(lambda x: self(x) + g(x))\n",
    "        return new_Function\n",
    "        \n",
    "    def __mul__(self, g): \n",
    "        def prod(x):\n",
    "            return self.f(x) * g(x)\n",
    "        return type(self)(prod)  \n",
    "    \n",
    "    def __radd__(self, g):\n",
    "        return self + g\n",
    "    \n",
    "    def __rmul__(self, g):\n",
    "        return self * g"
   ]
  },
  {
   "cell_type": "code",
   "execution_count": 103,
   "id": "7121c13b",
   "metadata": {},
   "outputs": [],
   "source": [
    "f1 = Function(lambda x: x**2)\n",
    "f2 = Function(lambda x: 2*x)\n",
    "f3 = f1 + f2"
   ]
  },
  {
   "cell_type": "code",
   "execution_count": 104,
   "id": "1f42d3a8",
   "metadata": {},
   "outputs": [
    {
     "data": {
      "text/plain": [
       "__main__.Function"
      ]
     },
     "execution_count": 104,
     "metadata": {},
     "output_type": "execute_result"
    }
   ],
   "source": [
    "type(f3)"
   ]
  },
  {
   "cell_type": "code",
   "execution_count": 105,
   "id": "49c02ae0",
   "metadata": {},
   "outputs": [
    {
     "data": {
      "text/plain": [
       "True"
      ]
     },
     "execution_count": 105,
     "metadata": {},
     "output_type": "execute_result"
    }
   ],
   "source": [
    "f3(10) == f1(10) + f2(10)"
   ]
  },
  {
   "cell_type": "markdown",
   "id": "8d2f0917",
   "metadata": {},
   "source": [
    "만약,   \n",
    "```f1 = lambda x: x**2```  \n",
    "```f2 = lambda x: 2*x```  \n",
    "로 정의하였다면 다음 코드는 에러가 발생한다.  \n",
    "```f3 = f1 + f2```"
   ]
  },
  {
   "cell_type": "markdown",
   "id": "62f4b46d",
   "metadata": {},
   "source": [
    "다음은 Chevysehv 다항식과 관련된 예제이다.  \n",
    "\n",
    "먼저 Chevysehv 다항식인 $T_i$는 $[-1, 1]$에서 다음으로 정의된다.   \n",
    "\n",
    "$$ T_i(x) = \\cos (i \\arccos(x)) $$\n",
    "\n",
    "위의 ```Function``` 클래스를 통해 구현할 수 있다.  "
   ]
  },
  {
   "cell_type": "code",
   "execution_count": 106,
   "id": "24bb920f",
   "metadata": {},
   "outputs": [],
   "source": [
    "T5 = Function(lambda x: np.cos(5 * np.arccos(x)))\n",
    "T6 = Function(lambda x: np.cos(6 * np.arccos(x)))"
   ]
  },
  {
   "cell_type": "markdown",
   "id": "fa85c228",
   "metadata": {},
   "source": [
    "그리고  Chevysehv 다항식에 대한 다음의 성질을 계산하여 확인하고 싶다.\n",
    "\n",
    "$$ \\int_{-1}^{1} \\frac{1}{\\sqrt{1 - x^2}} T_i(x) T_j(x) dx = 0, \\text{ for } i \\neq j $$\n",
    "\n",
    "적분은 ```scipy.integrate.quad```를 이용하여 수치적으로 계산한다."
   ]
  },
  {
   "cell_type": "code",
   "execution_count": 107,
   "id": "f96b1a0e",
   "metadata": {},
   "outputs": [
    {
     "data": {
      "text/plain": [
       "-6.372803857338115e-17"
      ]
     },
     "execution_count": 107,
     "metadata": {},
     "output_type": "execute_result"
    }
   ],
   "source": [
    "import scipy.integrate as sci\n",
    "\n",
    "weight = Function(lambda x: 1 / np.sqrt((1 - x ** 2)))\n",
    "\n",
    "[integral, errorestimate] = sci.quad(weight * T5 * T6, -1, 1) \n",
    "\n",
    "integral"
   ]
  },
  {
   "cell_type": "markdown",
   "id": "1e6a06c3",
   "metadata": {},
   "source": [
    "마찬가지로, \n",
    "\n",
    "```T5 = lambda x: cos(5 * arccos(x))```   \n",
    "```T6 = lambda x: cos(6 * arccos(x))```\n",
    "\n",
    "로 정의하였다면 ```T5 * T6```는 에러가 발생한다."
   ]
  },
  {
   "cell_type": "markdown",
   "id": "bcd72e5a",
   "metadata": {},
   "source": [
    "### Decorator\n",
    "\n",
    "데코레이터는 기존의 함수 등 원래의 코드를 수정하지 않고, 새로운 기능을 추가할 수 있도록 하는 Python의 디자인 패턴이다.  \n",
    "\n",
    "Decorator는 함수나 class로 구현된다.  \n",
    "\n",
    "함수가 수행되기 전, decorator가 먼저 실행되는 개념이며, python에서는 함수가 하나의 객체이기 때문에, 변수에 저장될 수 있다는 점을 이용한다.\n",
    "\n",
    "다음의 ```how_sparse```는 numpy array에 0이 아닌 원소의 개수를 측정한다."
   ]
  },
  {
   "cell_type": "code",
   "execution_count": 108,
   "id": "9fca5001",
   "metadata": {},
   "outputs": [],
   "source": [
    "def how_sparse(A):\n",
    "    return len(A.reshape(-1).nonzero()[0])"
   ]
  },
  {
   "cell_type": "code",
   "execution_count": 109,
   "id": "ad489064",
   "metadata": {},
   "outputs": [
    {
     "data": {
      "text/plain": [
       "3"
      ]
     },
     "execution_count": 109,
     "metadata": {},
     "output_type": "execute_result"
    }
   ],
   "source": [
    "how_sparse(np.array([0, 1, 2, 0, 0, 5]))"
   ]
  },
  {
   "cell_type": "code",
   "execution_count": 110,
   "id": "894eb198",
   "metadata": {},
   "outputs": [
    {
     "data": {
      "text/plain": [
       "function"
      ]
     },
     "execution_count": 110,
     "metadata": {},
     "output_type": "execute_result"
    }
   ],
   "source": [
    "type(how_sparse)"
   ]
  },
  {
   "cell_type": "markdown",
   "id": "8addef29",
   "metadata": {},
   "source": [
    "하지만 python list는 ```.reshape``` method가 없기 때문에, 인자로 리스트를 전달한 다음의 코드는 에러가 발생한다.  \n",
    "\n",
    "```how_sparse([0, 1, 2, 0, 0, 5])```"
   ]
  },
  {
   "cell_type": "markdown",
   "id": "b38a8db4",
   "metadata": {},
   "source": [
    "리스트를 인자로 받았을 때도  ```how_sparse``` 함수가 작동하게 하려면,\n",
    "```how_sparse```를 수정해야 할 것으로 보인다. \n",
    "\n",
    "하지만, 여기서는 decorator 방법을 이용하여, 원래 코드를 수정하지 않고 해결한다.\n",
    "\n",
    "다음의 ```cast2array``` 함수는 주어진 함수 ```f```의 인자 ```obj```를 ```np.array(obj)```로 바꾸어 ```f```의 인자로 전달할 수 있게 한다."
   ]
  },
  {
   "cell_type": "code",
   "execution_count": 111,
   "id": "b9746a11",
   "metadata": {},
   "outputs": [],
   "source": [
    "def cast2array(f):\n",
    "    return lambda obj: f(np.array(obj))"
   ]
  },
  {
   "cell_type": "markdown",
   "id": "bf0c40f0",
   "metadata": {},
   "source": [
    "혹은 더 자세히 풀어쓰면,"
   ]
  },
  {
   "cell_type": "code",
   "execution_count": 112,
   "id": "f575d7d9",
   "metadata": {},
   "outputs": [],
   "source": [
    "def cast2array(f):\n",
    "    def wrapper(obj):\n",
    "        return f(np.array(obj))\n",
    "    return wrapper"
   ]
  },
  {
   "cell_type": "code",
   "execution_count": 113,
   "id": "1ad0841e",
   "metadata": {},
   "outputs": [
    {
     "data": {
      "text/plain": [
       "3"
      ]
     },
     "execution_count": 113,
     "metadata": {},
     "output_type": "execute_result"
    }
   ],
   "source": [
    "cast2array(how_sparse)([0, 1, 2, 0, 0, 5])"
   ]
  },
  {
   "cell_type": "markdown",
   "id": "854fa50b",
   "metadata": {},
   "source": [
    "```cast2array```가 다른 함수 ```f```를 감싸는 구조라 wrapper라고 불리우기도 한다."
   ]
  },
  {
   "cell_type": "markdown",
   "id": "c437cc4e",
   "metadata": {},
   "source": [
    "```@cast2array``` 명령을 이용하면, 더 깔끔하게 표현할 수 있다.  \n",
    "이를 데코레이터라고 하며, ```how_sparse```가 호출되면 이를 ```cast2array(how_sparse)```로 바꾸어 실행시키는 개념이라 볼 수 있다.  "
   ]
  },
  {
   "cell_type": "code",
   "execution_count": 114,
   "id": "a9e60086",
   "metadata": {},
   "outputs": [],
   "source": [
    "@cast2array\n",
    "def how_sparse(A):\n",
    "    return len(A.reshape(-1).nonzero()[0])"
   ]
  },
  {
   "cell_type": "code",
   "execution_count": 115,
   "id": "4ff45a36",
   "metadata": {},
   "outputs": [
    {
     "data": {
      "text/plain": [
       "3"
      ]
     },
     "execution_count": 115,
     "metadata": {},
     "output_type": "execute_result"
    }
   ],
   "source": [
    "how_sparse([0,1,2,0,100])"
   ]
  },
  {
   "cell_type": "markdown",
   "id": "862ccec6",
   "metadata": {},
   "source": [
    "클래스 또한 데코레이터로 활용될 수 있다.  \n",
    "\n",
    "다음의 예제에서 ```echo``` class는 주어진 함수 ```f```의 인자들을 화면에 출력하는 역할을 한다.  \n",
    "\n",
    "그리고 ```__call__```의 ```return``` 에서 ```self.f(*args, **kwargs)```를 통해 함수를 그대로 실행한 결과를 반환한다."
   ]
  },
  {
   "cell_type": "code",
   "execution_count": 116,
   "id": "c1410585",
   "metadata": {},
   "outputs": [],
   "source": [
    "class echo:\n",
    "    \n",
    "    text = 'Input parameters of {name}\\n'+\\\n",
    "        'Positional parameters {args}\\n'+\\\n",
    "        'Keyword parameters {kwargs}\\n'\n",
    "    \n",
    "    def __init__(self, f):\n",
    "        print(\"## Echo instance created...\")\n",
    "        self.f = f\n",
    "        \n",
    "    def __call__(self, *args, **kwargs):\n",
    "        print(\"## Echo instance called...\")\n",
    "        print(\"\\n\")\n",
    "        print(self.text.format(name = self.f.__name__, args = args, kwargs = kwargs))\n",
    "        return self.f(*args, **kwargs)"
   ]
  },
  {
   "cell_type": "markdown",
   "id": "11938c99",
   "metadata": {},
   "source": [
    "아래 코드에서는 ```echo(how_sparse)```로 인스턴스가 생성되고, 이 인스턴스에 ```([0,1,2,0,100])```의 인자를 입력하면, ```__call__``` method가 호출되어 print 문이 출력된다."
   ]
  },
  {
   "cell_type": "code",
   "execution_count": 117,
   "id": "aafd654f",
   "metadata": {},
   "outputs": [
    {
     "name": "stdout",
     "output_type": "stream",
     "text": [
      "## Echo instance created...\n",
      "## Echo instance called...\n",
      "\n",
      "\n",
      "Input parameters of wrapper\n",
      "Positional parameters ([0, 1, 2, 0, 100],)\n",
      "Keyword parameters {}\n",
      "\n"
     ]
    },
    {
     "data": {
      "text/plain": [
       "3"
      ]
     },
     "execution_count": 117,
     "metadata": {},
     "output_type": "execute_result"
    }
   ],
   "source": [
    "echo(how_sparse)([0,1,2,0,100])"
   ]
  },
  {
   "cell_type": "code",
   "execution_count": 118,
   "id": "d1d10475",
   "metadata": {},
   "outputs": [
    {
     "name": "stdout",
     "output_type": "stream",
     "text": [
      "## Echo instance created...\n",
      "## Echo instance called...\n",
      "\n",
      "\n",
      "Input parameters of linspace\n",
      "Positional parameters (0, 1)\n",
      "Keyword parameters {'num': 3}\n",
      "\n"
     ]
    },
    {
     "data": {
      "text/plain": [
       "array([0. , 0.5, 1. ])"
      ]
     },
     "execution_count": 118,
     "metadata": {},
     "output_type": "execute_result"
    }
   ],
   "source": [
    "echo(np.linspace)(0, 1, num = 3)"
   ]
  },
  {
   "cell_type": "markdown",
   "id": "2d94eddd",
   "metadata": {},
   "source": [
    "위에서처럼 데코레이터를 통해 더 간단히 표현할 수 있다."
   ]
  },
  {
   "cell_type": "code",
   "execution_count": 119,
   "id": "836e7719",
   "metadata": {},
   "outputs": [
    {
     "name": "stdout",
     "output_type": "stream",
     "text": [
      "## Echo instance created...\n"
     ]
    }
   ],
   "source": [
    "@echo\n",
    "def how_sparse(A):\n",
    "    return len(A.reshape(-1).nonzero()[0])"
   ]
  },
  {
   "cell_type": "code",
   "execution_count": 120,
   "id": "37960052",
   "metadata": {},
   "outputs": [
    {
     "name": "stdout",
     "output_type": "stream",
     "text": [
      "## Echo instance called...\n",
      "\n",
      "\n",
      "Input parameters of how_sparse\n",
      "Positional parameters (array([0, 1, 2]),)\n",
      "Keyword parameters {}\n",
      "\n"
     ]
    },
    {
     "data": {
      "text/plain": [
       "2"
      ]
     },
     "execution_count": 120,
     "metadata": {},
     "output_type": "execute_result"
    }
   ],
   "source": [
    "how_sparse(np.array([0,1,2]))"
   ]
  },
  {
   "cell_type": "markdown",
   "id": "756fa054",
   "metadata": {},
   "source": [
    "```how_sparse```는 ```echo``` type을 지닌다."
   ]
  },
  {
   "cell_type": "code",
   "execution_count": 121,
   "id": "26080971",
   "metadata": {},
   "outputs": [
    {
     "data": {
      "text/plain": [
       "<__main__.echo at 0x1c273b7c760>"
      ]
     },
     "execution_count": 121,
     "metadata": {},
     "output_type": "execute_result"
    }
   ],
   "source": [
    "how_sparse"
   ]
  },
  {
   "cell_type": "code",
   "execution_count": 122,
   "id": "36e90730",
   "metadata": {},
   "outputs": [
    {
     "data": {
      "text/plain": [
       "__main__.echo"
      ]
     },
     "execution_count": 122,
     "metadata": {},
     "output_type": "execute_result"
    }
   ],
   "source": [
    "type(how_sparse)"
   ]
  },
  {
   "cell_type": "code",
   "execution_count": 123,
   "id": "4a11c40d",
   "metadata": {},
   "outputs": [
    {
     "data": {
      "text/plain": [
       "True"
      ]
     },
     "execution_count": 123,
     "metadata": {},
     "output_type": "execute_result"
    }
   ],
   "source": [
    "isinstance(how_sparse, echo)"
   ]
  },
  {
   "cell_type": "code",
   "execution_count": 124,
   "id": "ecb7ca9f",
   "metadata": {},
   "outputs": [
    {
     "data": {
      "text/plain": [
       "<function __main__.how_sparse(A)>"
      ]
     },
     "execution_count": 124,
     "metadata": {},
     "output_type": "execute_result"
    }
   ],
   "source": [
    "how_sparse.f"
   ]
  },
  {
   "cell_type": "markdown",
   "id": "abcedfb6",
   "metadata": {},
   "source": [
    "다른 예제를 보자."
   ]
  },
  {
   "cell_type": "code",
   "execution_count": 125,
   "id": "f221d413",
   "metadata": {},
   "outputs": [
    {
     "name": "stdout",
     "output_type": "stream",
     "text": [
      "## Echo instance created...\n"
     ]
    }
   ],
   "source": [
    "@echo\n",
    "def line(m, b, x):\n",
    "    return m * x + b"
   ]
  },
  {
   "cell_type": "markdown",
   "id": "593351f4",
   "metadata": {},
   "source": [
    "그러면 ```line``` 함수는 호출될 때마다, decorator에 의해 ```__call__``` method가 호출되면서 정보가 출력된다."
   ]
  },
  {
   "cell_type": "code",
   "execution_count": 126,
   "id": "5f375fd5",
   "metadata": {},
   "outputs": [
    {
     "name": "stdout",
     "output_type": "stream",
     "text": [
      "## Echo instance called...\n",
      "\n",
      "\n",
      "Input parameters of line\n",
      "Positional parameters (2.0, 5.0, 3.0)\n",
      "Keyword parameters {}\n",
      "\n"
     ]
    },
    {
     "data": {
      "text/plain": [
       "11.0"
      ]
     },
     "execution_count": 126,
     "metadata": {},
     "output_type": "execute_result"
    }
   ],
   "source": [
    "line(2., 5., 3.)"
   ]
  },
  {
   "cell_type": "code",
   "execution_count": 127,
   "id": "32d3b8e5",
   "metadata": {},
   "outputs": [
    {
     "name": "stdout",
     "output_type": "stream",
     "text": [
      "## Echo instance called...\n",
      "\n",
      "\n",
      "Input parameters of line\n",
      "Positional parameters (2.0, 5.0)\n",
      "Keyword parameters {'x': 3.0}\n",
      "\n"
     ]
    },
    {
     "data": {
      "text/plain": [
       "11.0"
      ]
     },
     "execution_count": 127,
     "metadata": {},
     "output_type": "execute_result"
    }
   ],
   "source": [
    "line(2., 5., x=3.)"
   ]
  },
  {
   "cell_type": "code",
   "execution_count": 128,
   "id": "116ac926",
   "metadata": {},
   "outputs": [
    {
     "data": {
      "text/plain": [
       "__main__.echo"
      ]
     },
     "execution_count": 128,
     "metadata": {},
     "output_type": "execute_result"
    }
   ],
   "source": [
    "type(line)"
   ]
  },
  {
   "cell_type": "markdown",
   "id": "536482a2",
   "metadata": {},
   "source": [
    "다음의 예제에서는 함수들이 몇 번 호출되는지 세는 decorator를 만든다."
   ]
  },
  {
   "cell_type": "code",
   "execution_count": 129,
   "id": "ac028f65",
   "metadata": {},
   "outputs": [],
   "source": [
    "class CountCalls:\n",
    "    \"\"\"\n",
    "    Decorator that keeps track of the number of times \n",
    "    a function is called.\n",
    "    \"\"\"\n",
    "    instances = []\n",
    "    \n",
    "    def __init__(self, f):\n",
    "        #print(\"## Echo instance created...\", repr(self))\n",
    "        self.f = f\n",
    "        self.num = 0\n",
    "        self.instances.append(self)\n",
    "        \n",
    "    def __call__(self, *args, **kwargs):\n",
    "        #print(\"## Echo instance called...\", repr(self))\n",
    "        self.num += 1\n",
    "        return self.f(*args, **kwargs)\n",
    "    \n",
    "    @classmethod\n",
    "    def counts(cls):\n",
    "        \"\"\"\n",
    "        Return a dict of {function: # of calls} for all \n",
    "        registered functions.\n",
    "        \"\"\"\n",
    "        return dict([(count_inst.f.__name__, count_inst.num) for count_inst in cls.instances ])"
   ]
  },
  {
   "cell_type": "code",
   "execution_count": 130,
   "id": "3d6d98ea",
   "metadata": {},
   "outputs": [],
   "source": [
    "@CountCalls\n",
    "def line(m, b, x):\n",
    "    return m * x + b\n",
    "\n",
    "@CountCalls \n",
    "def parabola(a, b, c, x):\n",
    "    return a * x ** 2 + b * x + c"
   ]
  },
  {
   "cell_type": "code",
   "execution_count": 131,
   "id": "022e031e",
   "metadata": {},
   "outputs": [
    {
     "data": {
      "text/plain": [
       "0"
      ]
     },
     "execution_count": 131,
     "metadata": {},
     "output_type": "execute_result"
    }
   ],
   "source": [
    "line.num"
   ]
  },
  {
   "cell_type": "code",
   "execution_count": 132,
   "id": "c38b2210",
   "metadata": {},
   "outputs": [
    {
     "data": {
      "text/plain": [
       "0"
      ]
     },
     "execution_count": 132,
     "metadata": {},
     "output_type": "execute_result"
    }
   ],
   "source": [
    "parabola.num"
   ]
  },
  {
   "cell_type": "code",
   "execution_count": 133,
   "id": "5cc8ae53",
   "metadata": {},
   "outputs": [
    {
     "data": {
      "text/plain": [
       "25.0"
      ]
     },
     "execution_count": 133,
     "metadata": {},
     "output_type": "execute_result"
    }
   ],
   "source": [
    "line(3., -1., 1.)\n",
    "line(1., 1., 2.)\n",
    "parabola(4., 5., -1., 2.)"
   ]
  },
  {
   "cell_type": "code",
   "execution_count": 134,
   "id": "65f450ad",
   "metadata": {},
   "outputs": [
    {
     "data": {
      "text/plain": [
       "{'line': 2, 'parabola': 1}"
      ]
     },
     "execution_count": 134,
     "metadata": {},
     "output_type": "execute_result"
    }
   ],
   "source": [
    "CountCalls.counts() "
   ]
  },
  {
   "cell_type": "code",
   "execution_count": 135,
   "id": "ed4f790f",
   "metadata": {},
   "outputs": [
    {
     "data": {
      "text/plain": [
       "2"
      ]
     },
     "execution_count": 135,
     "metadata": {},
     "output_type": "execute_result"
    }
   ],
   "source": [
    "line.num"
   ]
  },
  {
   "cell_type": "code",
   "execution_count": 136,
   "id": "87b5892c",
   "metadata": {},
   "outputs": [
    {
     "data": {
      "text/plain": [
       "1"
      ]
     },
     "execution_count": 136,
     "metadata": {},
     "output_type": "execute_result"
    }
   ],
   "source": [
    "parabola.num"
   ]
  },
  {
   "cell_type": "markdown",
   "id": "5a809537",
   "metadata": {},
   "source": [
    "### 클래스 활용 예제\n",
    "\n",
    "파이썬 내장 dictionary 타입을 사용하면 동적인 내부 상태를 잘 유지할 수 있다.  \n",
    "즉, 어떤 값이 들어올지 미리 알 수 없는 상황에 유용하게 활용된다.  \n",
    "예를 들어, 학생들의 점수를 기록해야 하는데, 학생의 이름을 미리 알 수 없다고 하자.  \n",
    "이럴 때, 학생 이름으로 미리 정의된 attribute를 사용하는 대신, dictionary를 이용할 수 있다."
   ]
  },
  {
   "cell_type": "code",
   "execution_count": 137,
   "id": "9787ceab",
   "metadata": {},
   "outputs": [],
   "source": [
    "class SimpleGradebook:\n",
    "    def __init__(self):\n",
    "        self._grades = {}\n",
    "\n",
    "    def add_student(self, name):\n",
    "        self._grades[name] = []\n",
    "\n",
    "    def report_grade(self, name, score):\n",
    "        self._grades[name].append(score)\n",
    "\n",
    "    def average_grade(self, name):\n",
    "        grades = self._grades[name]\n",
    "        return sum(grades) / len(grades)"
   ]
  },
  {
   "cell_type": "markdown",
   "id": "28368dfc",
   "metadata": {},
   "source": [
    "이 클래스는 다음과 같이 이용할 수 있다."
   ]
  },
  {
   "cell_type": "code",
   "execution_count": 138,
   "id": "2ef2ef99",
   "metadata": {},
   "outputs": [],
   "source": [
    "book = SimpleGradebook()\n",
    "book.add_student('Isaac Newton')\n",
    "book.report_grade('Isaac Newton', 90)\n",
    "book.report_grade('Isaac Newton', 95)\n",
    "book.report_grade('Isaac Newton', 85)"
   ]
  },
  {
   "cell_type": "code",
   "execution_count": 139,
   "id": "549e5db3",
   "metadata": {},
   "outputs": [
    {
     "name": "stdout",
     "output_type": "stream",
     "text": [
      "90.0\n"
     ]
    }
   ],
   "source": [
    "print(book.average_grade('Isaac Newton'))"
   ]
  },
  {
   "cell_type": "markdown",
   "id": "6615ee3e",
   "metadata": {},
   "source": [
    "이 클래스를 확장하여, 과목별 성적을 저장하고 싶다.\n",
    "\n",
    "이를 위해 학생 이름을 key로 하는 dictionary를 만들고, 이 dictionary의 value는 다시 과목 이름을 key로 하는 dictionary이다.\n",
    "\n",
    "아래에서 사용하는 ```defaultdict```는 ```dict```의 서브클래스로서 값을 지정하지 않을 경우 default값이 배정된다."
   ]
  },
  {
   "cell_type": "code",
   "execution_count": 140,
   "id": "cd80e778",
   "metadata": {},
   "outputs": [],
   "source": [
    "from collections import defaultdict"
   ]
  },
  {
   "cell_type": "code",
   "execution_count": 141,
   "id": "c53be2f4",
   "metadata": {},
   "outputs": [
    {
     "data": {
      "text/plain": [
       "0"
      ]
     },
     "execution_count": 141,
     "metadata": {},
     "output_type": "execute_result"
    }
   ],
   "source": [
    "int_dict = defaultdict(int)\n",
    "int_dict[\"a\"]"
   ]
  },
  {
   "cell_type": "code",
   "execution_count": 142,
   "id": "d9073a84",
   "metadata": {},
   "outputs": [
    {
     "data": {
      "text/plain": [
       "[]"
      ]
     },
     "execution_count": 142,
     "metadata": {},
     "output_type": "execute_result"
    }
   ],
   "source": [
    "list_dict = defaultdict(list)\n",
    "list_dict[1]"
   ]
  },
  {
   "cell_type": "code",
   "execution_count": 143,
   "id": "2e7d796c",
   "metadata": {},
   "outputs": [],
   "source": [
    "class BySubjectGradebook:\n",
    "    def __init__(self):\n",
    "        self._grades = {}                       # Outer dict\n",
    "\n",
    "    def add_student(self, name):\n",
    "        self._grades[name] = defaultdict(list)  # Inner dict\n",
    "        \n",
    "    def report_grade(self, name, subject, grade):\n",
    "        by_subject = self._grades[name]\n",
    "        grade_list = by_subject[subject]\n",
    "        grade_list.append(grade)\n",
    "\n",
    "    def average_grade(self, name):\n",
    "        by_subject = self._grades[name]\n",
    "        total, count = 0, 0\n",
    "        for grades in by_subject.values():\n",
    "            total += sum(grades)\n",
    "            count += len(grades)\n",
    "        return total / count"
   ]
  },
  {
   "cell_type": "code",
   "execution_count": 144,
   "id": "1371c52a",
   "metadata": {},
   "outputs": [
    {
     "data": {
      "text/plain": [
       "{'Albert Einstein': defaultdict(list, {})}"
      ]
     },
     "execution_count": 144,
     "metadata": {},
     "output_type": "execute_result"
    }
   ],
   "source": [
    "book = BySubjectGradebook()\n",
    "book.add_student('Albert Einstein')\n",
    "book._grades"
   ]
  },
  {
   "cell_type": "code",
   "execution_count": 145,
   "id": "0e0be06e",
   "metadata": {},
   "outputs": [
    {
     "data": {
      "text/plain": [
       "{'Albert Einstein': defaultdict(list, {'Math': [75, 65], 'Gym': [90, 95]})}"
      ]
     },
     "execution_count": 145,
     "metadata": {},
     "output_type": "execute_result"
    }
   ],
   "source": [
    "book.report_grade('Albert Einstein', 'Math', 75)\n",
    "book.report_grade('Albert Einstein', 'Math', 65)\n",
    "book.report_grade('Albert Einstein', 'Gym', 90)\n",
    "book.report_grade('Albert Einstein', 'Gym', 95)\n",
    "book._grades"
   ]
  },
  {
   "cell_type": "code",
   "execution_count": 146,
   "id": "0b9c4eb4",
   "metadata": {},
   "outputs": [
    {
     "name": "stdout",
     "output_type": "stream",
     "text": [
      "81.25\n"
     ]
    }
   ],
   "source": [
    "print(book.average_grade('Albert Einstein'))"
   ]
  },
  {
   "cell_type": "markdown",
   "id": "eb9aaf06",
   "metadata": {},
   "source": [
    "평균을 낼 때, 중간고사와 기말고사가 다른 시험보다 더 큰 가중치를 갖게 하고 싶다.  \n",
    "현재 가장 안쪽의 dictionary의 값이 성적의 리스트이지만, 이를 (성적, 가중치) 튜플의 리스트로 변경하고자 한다.  "
   ]
  },
  {
   "cell_type": "code",
   "execution_count": 147,
   "id": "a534a90b",
   "metadata": {},
   "outputs": [
    {
     "data": {
      "text/plain": [
       "[75, 65]"
      ]
     },
     "execution_count": 147,
     "metadata": {},
     "output_type": "execute_result"
    }
   ],
   "source": [
    "book._grades[\"Albert Einstein\"][\"Math\"]"
   ]
  },
  {
   "cell_type": "code",
   "execution_count": 148,
   "id": "11644858",
   "metadata": {},
   "outputs": [],
   "source": [
    "class WeightedGradebook:\n",
    "    def __init__(self):\n",
    "        self._grades = {}\n",
    "\n",
    "    def add_student(self, name):\n",
    "        self._grades[name] = defaultdict(list)\n",
    "\n",
    "    def report_grade(self, name, subject, score, weight):\n",
    "        by_subject = self._grades[name]\n",
    "        grade_list = by_subject[subject]\n",
    "        grade_list.append((score, weight))\n",
    "\n",
    "\n",
    "    def average_grade(self, name):\n",
    "        by_subject = self._grades[name]\n",
    "\n",
    "        score_sum, score_count = 0, 0\n",
    "        for subject, scores in by_subject.items():\n",
    "            subject_avg, total_weight = 0, 0\n",
    "            for score, weight in scores:\n",
    "                subject_avg += score * weight\n",
    "                total_weight += weight\n",
    "\n",
    "            score_sum += subject_avg / total_weight\n",
    "            score_count += 1\n",
    "\n",
    "        return score_sum / score_count"
   ]
  },
  {
   "cell_type": "markdown",
   "id": "27efdf5b",
   "metadata": {},
   "source": [
    "점점 코드가 복잡해지고 있다."
   ]
  },
  {
   "cell_type": "code",
   "execution_count": 149,
   "id": "05419233",
   "metadata": {},
   "outputs": [
    {
     "data": {
      "text/plain": [
       "{'Albert Einstein': defaultdict(list,\n",
       "             {'Math': [(75, 0.05), (65, 0.15), (70, 0.8)],\n",
       "              'Gym': [(100, 0.4), (85, 0.6)]})}"
      ]
     },
     "execution_count": 149,
     "metadata": {},
     "output_type": "execute_result"
    }
   ],
   "source": [
    "book = WeightedGradebook()\n",
    "book.add_student('Albert Einstein')\n",
    "book.report_grade('Albert Einstein', 'Math', 75, 0.05)\n",
    "book.report_grade('Albert Einstein', 'Math', 65, 0.15)\n",
    "book.report_grade('Albert Einstein', 'Math', 70, 0.80)\n",
    "book.report_grade('Albert Einstein', 'Gym', 100, 0.40)\n",
    "book.report_grade('Albert Einstein', 'Gym', 85, 0.60)\n",
    "book._grades"
   ]
  },
  {
   "cell_type": "code",
   "execution_count": 150,
   "id": "e35cc344",
   "metadata": {},
   "outputs": [
    {
     "name": "stdout",
     "output_type": "stream",
     "text": [
      "80.25\n"
     ]
    }
   ],
   "source": [
    "print(book.average_grade('Albert Einstein'))"
   ]
  },
  {
   "cell_type": "markdown",
   "id": "2b6285e0",
   "metadata": {},
   "source": [
    "이와 같이 코드가 복잡해지면 더 이상 딕셔너리, 투플, 집합, 리스트 등의 내장 타입을 하용하지 말고 클래스의 계층 구조를 사용해야 한다.  \n",
    "\n",
    "코드에서 값을 관리하는 부분이 점점 복잡해지고 있음을 깨달은 즉시 해당 기능을 클래스로 분리해야 한다.\n",
    "\n",
    "클래스를 활용해 리팩터링하는 방법을 살펴보자.\n",
    "\n",
    "먼저, 단순히 튜플들의 리스트로부터 출발해 보자."
   ]
  },
  {
   "cell_type": "code",
   "execution_count": 151,
   "id": "eee37493",
   "metadata": {},
   "outputs": [
    {
     "data": {
      "text/plain": [
       "[(95, 0.45), (85, 0.55)]"
      ]
     },
     "execution_count": 151,
     "metadata": {},
     "output_type": "execute_result"
    }
   ],
   "source": [
    "grades = []\n",
    "grades.append((95, 0.45))\n",
    "grades.append((85, 0.55))\n",
    "grades"
   ]
  },
  {
   "cell_type": "code",
   "execution_count": 152,
   "id": "83993d32",
   "metadata": {},
   "outputs": [
    {
     "name": "stdout",
     "output_type": "stream",
     "text": [
      "89.5\n"
     ]
    }
   ],
   "source": [
    "total = sum(score * weight for score, weight in grades)\n",
    "total_weight = sum(weight for _, weight in grades)\n",
    "average_grade = total / total_weight\n",
    "print(average_grade)"
   ]
  },
  {
   "cell_type": "markdown",
   "id": "ef22f1e3",
   "metadata": {},
   "source": [
    "이 코드의 문제점은 튜플에 저장된 원소의 위치를 사용해 접근한다는 것이다.  \n",
    "예를 들어, 상황이 다음과 같이 바뀌어 추가적인 정보를 튜플에 저장한다고 하자."
   ]
  },
  {
   "cell_type": "code",
   "execution_count": 153,
   "id": "4fd008ce",
   "metadata": {},
   "outputs": [
    {
     "data": {
      "text/plain": [
       "[(95, 0.45, '참 잘했어요'), (85, 0.55, '조금만 더 열심히')]"
      ]
     },
     "execution_count": 153,
     "metadata": {},
     "output_type": "execute_result"
    }
   ],
   "source": [
    "grades = []\n",
    "grades.append((95, 0.45, '참 잘했어요'))\n",
    "grades.append((85, 0.55, '조금만 더 열심히'))\n",
    "grades"
   ]
  },
  {
   "cell_type": "markdown",
   "id": "229a2c09",
   "metadata": {},
   "source": [
    "튜플의 원소 개수가 늘어나면 ```for``` 구문도 그에 맞춰 변경해야 한다."
   ]
  },
  {
   "cell_type": "code",
   "execution_count": 154,
   "id": "5564bd1d",
   "metadata": {},
   "outputs": [
    {
     "name": "stdout",
     "output_type": "stream",
     "text": [
      "89.5\n"
     ]
    }
   ],
   "source": [
    "total = sum(score * weight for score, weight, _ in grades)\n",
    "total_weight = sum(weight for _, weight, _ in grades)\n",
    "average_grade = total / total_weight\n",
    "print(average_grade)"
   ]
  },
  {
   "cell_type": "markdown",
   "id": "bd08f43e",
   "metadata": {},
   "source": [
    "```namedtuple```을 사용하여 보자.  \n",
    "이 클래스의 인스턴스를 만들 때는 위치 기반 인자를 사용해도 되고, 키워드 기반 인자를 사용해도 된다."
   ]
  },
  {
   "cell_type": "code",
   "execution_count": 155,
   "id": "af17ca01",
   "metadata": {},
   "outputs": [],
   "source": [
    "from collections import namedtuple\n",
    "\n",
    "Grade = namedtuple('Grade', ('score', 'weight'))"
   ]
  },
  {
   "cell_type": "markdown",
   "id": "01080d8b",
   "metadata": {},
   "source": [
    "아래와 같이 instance를 만들어 사용할 수 있다."
   ]
  },
  {
   "cell_type": "code",
   "execution_count": 156,
   "id": "1a9bf34e",
   "metadata": {},
   "outputs": [
    {
     "data": {
      "text/plain": [
       "Grade(score=100, weight=0.2)"
      ]
     },
     "execution_count": 156,
     "metadata": {},
     "output_type": "execute_result"
    }
   ],
   "source": [
    "g = Grade(100, 0.2)\n",
    "g"
   ]
  },
  {
   "cell_type": "code",
   "execution_count": 157,
   "id": "0d1b54a7",
   "metadata": {},
   "outputs": [
    {
     "data": {
      "text/plain": [
       "100"
      ]
     },
     "execution_count": 157,
     "metadata": {},
     "output_type": "execute_result"
    }
   ],
   "source": [
    "g.score"
   ]
  },
  {
   "cell_type": "code",
   "execution_count": 158,
   "id": "c5ffa55d",
   "metadata": {},
   "outputs": [
    {
     "data": {
      "text/plain": [
       "100"
      ]
     },
     "execution_count": 158,
     "metadata": {},
     "output_type": "execute_result"
    }
   ],
   "source": [
    "g[0]"
   ]
  },
  {
   "cell_type": "markdown",
   "id": "9ec26a39",
   "metadata": {},
   "source": [
    "이제 여러 필요한 클래스를 정의한다.\n",
    "\n",
    "먼저 ```Subject``` 클래스는 ```Grade```들의 리스트를 attribute로 가진다.  \n",
    "\n",
    "각 학생의 과목별 가중 평균 점수 계산이 가능하도록 구현하였다."
   ]
  },
  {
   "cell_type": "code",
   "execution_count": 159,
   "id": "c186c4ea",
   "metadata": {},
   "outputs": [],
   "source": [
    "class Subject:\n",
    "    def __init__(self):\n",
    "        self._grades = []\n",
    "\n",
    "    def report_grade(self, score, weight):\n",
    "        self._grades.append(Grade(score, weight))\n",
    "\n",
    "    def average_grade(self):\n",
    "        total, total_weight = 0, 0\n",
    "        for grade in self._grades:\n",
    "            total += grade.score * grade.weight\n",
    "            total_weight += grade.weight\n",
    "        return total / total_weight "
   ]
  },
  {
   "cell_type": "markdown",
   "id": "124c4bd8",
   "metadata": {},
   "source": [
    "```Student``` 클래스는 ```Subject```들을 value로 가지는 ```defaultdict```를 attribute로 가진다.   \n",
    "마찬가지로 학생의 전체 평균 점수 계산이 가능하다. "
   ]
  },
  {
   "cell_type": "code",
   "execution_count": 160,
   "id": "4c6a34e3",
   "metadata": {},
   "outputs": [],
   "source": [
    "class Student:\n",
    "    def __init__(self):\n",
    "        self._subjects = defaultdict(Subject)\n",
    "\n",
    "    def get_subject(self, name):\n",
    "        return self._subjects[name]\n",
    "\n",
    "    def average_grade(self):\n",
    "        total, count = 0, 0\n",
    "        for subject in self._subjects.values():\n",
    "            total += subject.average_grade()\n",
    "            count += 1\n",
    "        return total / count"
   ]
  },
  {
   "cell_type": "markdown",
   "id": "6db1eb65",
   "metadata": {},
   "source": [
    "마지막으로 ```Gradebook``` 클래스는 ```Student```를 값으로 가지는 ```defaultdict```이다.  \n",
    "이름을 사용해 동적으로 학생들의 정보를 저장한다."
   ]
  },
  {
   "cell_type": "code",
   "execution_count": 161,
   "id": "827960ed",
   "metadata": {},
   "outputs": [],
   "source": [
    "class Gradebook:\n",
    "    def __init__(self):\n",
    "        self._students = defaultdict(Student)\n",
    "\n",
    "    def get_student(self, name):\n",
    "        return self._students[name]"
   ]
  },
  {
   "cell_type": "markdown",
   "id": "da4cd7b2",
   "metadata": {},
   "source": [
    "클래스를 잘 설정해 놓으면, 코드도 읽기 쉽고 확장성도 좋다."
   ]
  },
  {
   "cell_type": "code",
   "execution_count": 162,
   "id": "b39f4036",
   "metadata": {},
   "outputs": [
    {
     "data": {
      "text/plain": [
       "<__main__.Gradebook at 0x1c273bb68b0>"
      ]
     },
     "execution_count": 162,
     "metadata": {},
     "output_type": "execute_result"
    }
   ],
   "source": [
    "book = Gradebook()\n",
    "book"
   ]
  },
  {
   "cell_type": "code",
   "execution_count": 163,
   "id": "5927a2d3",
   "metadata": {},
   "outputs": [
    {
     "data": {
      "text/plain": [
       "defaultdict(__main__.Student, {})"
      ]
     },
     "execution_count": 163,
     "metadata": {},
     "output_type": "execute_result"
    }
   ],
   "source": [
    "book._students"
   ]
  },
  {
   "cell_type": "code",
   "execution_count": 164,
   "id": "8ca71e27",
   "metadata": {},
   "outputs": [
    {
     "data": {
      "text/plain": [
       "<__main__.Student at 0x1c273bb6610>"
      ]
     },
     "execution_count": 164,
     "metadata": {},
     "output_type": "execute_result"
    }
   ],
   "source": [
    "albert = book.get_student('Albert Einstein')\n",
    "albert"
   ]
  },
  {
   "cell_type": "code",
   "execution_count": 165,
   "id": "ffb91646",
   "metadata": {},
   "outputs": [
    {
     "data": {
      "text/plain": [
       "defaultdict(__main__.Subject, {})"
      ]
     },
     "execution_count": 165,
     "metadata": {},
     "output_type": "execute_result"
    }
   ],
   "source": [
    "albert._subjects"
   ]
  },
  {
   "cell_type": "code",
   "execution_count": 166,
   "id": "2d377e5d",
   "metadata": {},
   "outputs": [
    {
     "data": {
      "text/plain": [
       "<__main__.Subject at 0x1c273bb61f0>"
      ]
     },
     "execution_count": 166,
     "metadata": {},
     "output_type": "execute_result"
    }
   ],
   "source": [
    "math = albert.get_subject('Math')\n",
    "math"
   ]
  },
  {
   "cell_type": "code",
   "execution_count": 167,
   "id": "2bd206aa",
   "metadata": {},
   "outputs": [
    {
     "data": {
      "text/plain": [
       "[]"
      ]
     },
     "execution_count": 167,
     "metadata": {},
     "output_type": "execute_result"
    }
   ],
   "source": [
    "math._grades"
   ]
  },
  {
   "cell_type": "code",
   "execution_count": 168,
   "id": "019af302",
   "metadata": {},
   "outputs": [],
   "source": [
    "math.report_grade(75, 0.05)\n",
    "math.report_grade(65, 0.15)\n",
    "math.report_grade(70, 0.80)"
   ]
  },
  {
   "cell_type": "code",
   "execution_count": 169,
   "id": "1c11d635",
   "metadata": {},
   "outputs": [
    {
     "data": {
      "text/plain": [
       "[Grade(score=75, weight=0.05),\n",
       " Grade(score=65, weight=0.15),\n",
       " Grade(score=70, weight=0.8)]"
      ]
     },
     "execution_count": 169,
     "metadata": {},
     "output_type": "execute_result"
    }
   ],
   "source": [
    "math._grades"
   ]
  },
  {
   "cell_type": "code",
   "execution_count": 170,
   "id": "9fad5166",
   "metadata": {},
   "outputs": [
    {
     "data": {
      "text/plain": [
       "[Grade(score=75, weight=0.05),\n",
       " Grade(score=65, weight=0.15),\n",
       " Grade(score=70, weight=0.8)]"
      ]
     },
     "execution_count": 170,
     "metadata": {},
     "output_type": "execute_result"
    }
   ],
   "source": [
    "albert._subjects['Math']._grades"
   ]
  },
  {
   "cell_type": "code",
   "execution_count": 171,
   "id": "8784739e",
   "metadata": {},
   "outputs": [
    {
     "data": {
      "text/plain": [
       "[Grade(score=75, weight=0.05),\n",
       " Grade(score=65, weight=0.15),\n",
       " Grade(score=70, weight=0.8)]"
      ]
     },
     "execution_count": 171,
     "metadata": {},
     "output_type": "execute_result"
    }
   ],
   "source": [
    "albert.get_subject('Math')._grades"
   ]
  },
  {
   "cell_type": "code",
   "execution_count": 172,
   "id": "9e734be0",
   "metadata": {},
   "outputs": [],
   "source": [
    "gym = albert.get_subject('Gym')\n",
    "gym.report_grade(100, 0.40)\n",
    "gym.report_grade(85, 0.60)"
   ]
  },
  {
   "cell_type": "code",
   "execution_count": 173,
   "id": "ab93f2f0",
   "metadata": {},
   "outputs": [
    {
     "data": {
      "text/plain": [
       "[Grade(score=100, weight=0.4), Grade(score=85, weight=0.6)]"
      ]
     },
     "execution_count": 173,
     "metadata": {},
     "output_type": "execute_result"
    }
   ],
   "source": [
    "albert.get_subject('Gym')._grades"
   ]
  },
  {
   "cell_type": "code",
   "execution_count": 174,
   "id": "26ccc9dc",
   "metadata": {},
   "outputs": [
    {
     "name": "stdout",
     "output_type": "stream",
     "text": [
      "80.25\n"
     ]
    }
   ],
   "source": [
    "print(albert.average_grade())"
   ]
  }
 ],
 "metadata": {
  "kernelspec": {
   "display_name": "Python 3 (ipykernel)",
   "language": "python",
   "name": "python3"
  },
  "language_info": {
   "codemirror_mode": {
    "name": "ipython",
    "version": 3
   },
   "file_extension": ".py",
   "mimetype": "text/x-python",
   "name": "python",
   "nbconvert_exporter": "python",
   "pygments_lexer": "ipython3",
   "version": "3.9.13"
  }
 },
 "nbformat": 4,
 "nbformat_minor": 5
}
