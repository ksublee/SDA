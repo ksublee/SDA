{
 "cells": [
  {
   "cell_type": "code",
   "execution_count": 1,
   "id": "062830af",
   "metadata": {},
   "outputs": [],
   "source": [
    "import numpy as np"
   ]
  },
  {
   "cell_type": "markdown",
   "id": "2254d6c7",
   "metadata": {},
   "source": [
    "# Exception\n",
    "\n",
    "프로그래밍 중 잘못된 문법을 입력하면 에러 메시지를 만나게 된다. \n",
    "\n",
    "이를 exception이 발생했다고도 한다.  \n",
    "\n",
    "Python의 대부분의 exception들은 ```Exception```이라는 class를 상속하여 만들어진다.\n",
    "\n",
    "```IndexError```, ```NameError```, ```KeyError```, ```ValueError```, ```SyntaxError```, ```IOError``` 등이 있다."
   ]
  },
  {
   "cell_type": "markdown",
   "id": "6a04ea4d",
   "metadata": {},
   "source": [
    "Exception을 발생하기 위해서는 ```raise``` 키워드를 사용한다.\n",
    "\n",
    "예를 들어, 다음과 같이 사용한다.\n",
    "\n",
    "```if badcondtion: raise Exception(\"Someting wrong\")  ```"
   ]
  },
  {
   "cell_type": "code",
   "execution_count": 2,
   "id": "023e5ae5",
   "metadata": {},
   "outputs": [],
   "source": [
    "def factorial(n):\n",
    "    if not (isinstance(n, (int))):\n",
    "        raise TypeError(\"An integer is expected\")\n",
    "    if not (n >=0): \n",
    "        raise ValueError(\"A positive number is expected\")\n",
    "    \n",
    "    if n == 0: return 1\n",
    "    else: return n*factorial(n-1)"
   ]
  },
  {
   "cell_type": "markdown",
   "id": "d7dbe58c",
   "metadata": {},
   "source": [
    "위 함수는 ```factorial(1.1)``` 혹은 ```factorial(-12)```와 같이 활용하면 에러가 발생할 것이다."
   ]
  },
  {
   "cell_type": "code",
   "execution_count": 3,
   "id": "3c63a053",
   "metadata": {},
   "outputs": [
    {
     "data": {
      "text/plain": [
       "120"
      ]
     },
     "execution_count": 3,
     "metadata": {},
     "output_type": "execute_result"
    }
   ],
   "source": [
    "factorial(5)"
   ]
  },
  {
   "cell_type": "markdown",
   "id": "8f248bb1",
   "metadata": {},
   "source": [
    "만약 에러가 발생했을 때, 프로그램을 멈추지 않고, 모종의 방법으로 에러를 처리하고 넘어가고 싶다면, ```try``` 구문이 이용된다.  \n",
    "\n",
    "아래 코드에서 ```try``` 블록의 ```factorial(n)```는 원래는 에러가 발생하는 구문이지만, ```try``` 블록 안에 있을 경우, 에러 메시지가 발생하지 않는다.  \n",
    "\n",
    "만약 ```try``` 블록 내의 코드를 실행하다가 Exception이 발생하면 ```except```로 넘어가 그 블록의 코드를 실행한다."
   ]
  },
  {
   "cell_type": "code",
   "execution_count": 4,
   "id": "ebbf0104",
   "metadata": {},
   "outputs": [
    {
     "name": "stdout",
     "output_type": "stream",
     "text": [
      "6\n"
     ]
    }
   ],
   "source": [
    "n = -3\n",
    "try:\n",
    "    print(factorial(n))\n",
    "except ValueError:\n",
    "    print(factorial(-n))"
   ]
  },
  {
   "cell_type": "code",
   "execution_count": 5,
   "id": "2bb0211c",
   "metadata": {},
   "outputs": [
    {
     "name": "stdout",
     "output_type": "stream",
     "text": [
      "24\n"
     ]
    }
   ],
   "source": [
    "n = 4.1\n",
    "try:\n",
    "    print(factorial(n))\n",
    "except TypeError:\n",
    "    print(factorial(int(n)))\n",
    "except ValueError:\n",
    "    print(factorial(-n))"
   ]
  },
  {
   "cell_type": "markdown",
   "id": "384546db",
   "metadata": {},
   "source": [
    "여러 exception들을 동일한 방법으로 처리하고 싶을 때, 다음과 같은 문법이 사용될 수 있다.   \n",
    "```except (RuntimeError, ValueEroor, IOError)```\n",
    "\n",
    "각 exception들을 다르게 처리하고자 하면, 여러 ```except```를 사용한다.  "
   ]
  },
  {
   "cell_type": "code",
   "execution_count": 6,
   "id": "858b4dcc",
   "metadata": {},
   "outputs": [
    {
     "name": "stdout",
     "output_type": "stream",
     "text": [
      " No such file or directory: data.txt\n"
     ]
    }
   ],
   "source": [
    "try: \n",
    "    f = open('data.txt', 'r') \n",
    "    data = f.readline() \n",
    "    value = float(data) \n",
    "except FileNotFoundError as FnF: \n",
    "    print(f' {FnF.strerror}: {FnF.filename}') \n",
    "except ValueError: \n",
    "    print(\"Could not convert data to float.\")"
   ]
  },
  {
   "cell_type": "markdown",
   "id": "1c0bdd8a",
   "metadata": {},
   "source": [
    "```try``` 구문은 ```else```와 ```finally``` 구문과 같이 사용할 수 있다.\n",
    "\n",
    "```else``` 절은 exception이 발생하지 않아 ```except``` 절을 실행하지 않았을 때 실행된다.\n",
    "\n",
    "```finally``` 블록은 ```try``` 블록에서 오류가 발생하는지 여부에 관계없이 항상 실행된다."
   ]
  },
  {
   "cell_type": "markdown",
   "id": "a1f852a1",
   "metadata": {},
   "source": [
    "### user defined exception\n",
    "\n",
    "Python의 built-in exception을 이용할 수도 있지만, 경우에 따라 직접 작성한 exception을 이용할 수도 있다.\n",
    "\n",
    "```Exception``` 클래스를 상속하도록 한다.\n",
    "\n",
    "User defined exception의 이름은 ```Error```로 끝나도록 하는 것을 추천한다."
   ]
  },
  {
   "cell_type": "code",
   "execution_count": 7,
   "id": "d424d9e1",
   "metadata": {},
   "outputs": [],
   "source": [
    "class MyError(Exception):    #Exception`클래스를 상속\n",
    "    def __init__(self, expr):\n",
    "        self.expr = expr\n",
    "    def __str__(self):\n",
    "        return str(self.expr)"
   ]
  },
  {
   "cell_type": "code",
   "execution_count": 8,
   "id": "de8c0eb2",
   "metadata": {},
   "outputs": [
    {
     "name": "stdout",
     "output_type": "stream",
     "text": [
      "Random number too small 0.4354613307868179\n"
     ]
    }
   ],
   "source": [
    "try:\n",
    "    x = np.random.rand()\n",
    "    if x < 0.5: \n",
    "        raise MyError(x)\n",
    "except MyError as e:\n",
    "    print(\"Random number too small\", e.expr)\n",
    "else:\n",
    "    print(x)"
   ]
  },
  {
   "cell_type": "markdown",
   "id": "5385ea7e",
   "metadata": {},
   "source": [
    "```with``` 구문은 excecptin을 함축하고 있다.  \n",
    "Python에서 file을 열어 작업할 때 종종 다음의 구문을 이용한다. \n",
    "\n",
    "```\n",
    "with open('data.txt', 'w') as f:\n",
    "    process_file_data(f)\n",
    "```\n",
    "\n",
    "이 구문은 다음의 exception 구문과 동일하다.\n",
    "\n",
    "```\n",
    "f = open('data.txt', 'w')\n",
    "try:\n",
    "    process_file_data(f)\n",
    "execpt:\n",
    "    ...\n",
    "finally:\n",
    "    f.close()\n",
    "```\n",
    "\n",
    "```with```를 이용한 코드에서 ```f```는 context manager의 역할을 담당한다.  \n",
    "Python에서 context manager는 ```__enter__```와 ```__exit__``` method가 구현된 클래스로 정의된다.  \n",
    "```__enter__```는 preprocessing을 담당하고, ```__exit__```은 postprocessing을 담당한다.  "
   ]
  },
  {
   "cell_type": "markdown",
   "id": "16d8c8b2",
   "metadata": {},
   "source": [
    "Context manager의 또다른 예로서 ```numpy.errstate```가 있다.  \n",
    "이것은 부동 소수점 오류 처리를위한 컨텍스트 관리자이다.  "
   ]
  },
  {
   "cell_type": "code",
   "execution_count": 9,
   "id": "c5e474e4",
   "metadata": {},
   "outputs": [
    {
     "data": {
      "text/plain": [
       "<function numpy.core._ufunc_config.errstate.__enter__(self)>"
      ]
     },
     "execution_count": 9,
     "metadata": {},
     "output_type": "execute_result"
    }
   ],
   "source": [
    "import numpy as np  \n",
    "np.errstate.__enter__"
   ]
  },
  {
   "cell_type": "code",
   "execution_count": 10,
   "id": "146afcd8",
   "metadata": {},
   "outputs": [
    {
     "data": {
      "text/plain": [
       "<function numpy.core._ufunc_config.errstate.__exit__(self, *exc_info)>"
      ]
     },
     "execution_count": 10,
     "metadata": {},
     "output_type": "execute_result"
    }
   ],
   "source": [
    "np.errstate.__exit__"
   ]
  },
  {
   "cell_type": "markdown",
   "id": "a3946a0d",
   "metadata": {},
   "source": [
    "```with``` 구문과 같이 사용함으로써 부동 소수점 오류가 발생했을 때, 할 일을 다르게 명시할 수 있다."
   ]
  },
  {
   "cell_type": "code",
   "execution_count": 11,
   "id": "0861cf8c",
   "metadata": {},
   "outputs": [
    {
     "name": "stdout",
     "output_type": "stream",
     "text": [
      "nan\n"
     ]
    }
   ],
   "source": [
    "# 오류를 무시하기\n",
    "with np.errstate(invalid='ignore'):\n",
    "    print(np.sqrt(-1)) # prints 'nan'"
   ]
  },
  {
   "cell_type": "code",
   "execution_count": 12,
   "id": "f161ad20",
   "metadata": {},
   "outputs": [
    {
     "name": "stdout",
     "output_type": "stream",
     "text": [
      "nan\n"
     ]
    },
    {
     "name": "stderr",
     "output_type": "stream",
     "text": [
      "C:\\Users\\Owner\\AppData\\Local\\Temp\\ipykernel_43152\\4056108474.py:3: RuntimeWarning: invalid value encountered in sqrt\n",
      "  print(np.sqrt(-1)) # prints 'nan' and # 'RuntimeWarning: invalid value encountered in sqrt'\n"
     ]
    }
   ],
   "source": [
    "# 오류를 발생시키지는 않으나, 경고 메시지 띄우기\n",
    "with np.errstate(invalid='warn'):\n",
    "    print(np.sqrt(-1)) # prints 'nan' and # 'RuntimeWarning: invalid value encountered in sqrt'"
   ]
  },
  {
   "cell_type": "markdown",
   "id": "467b6da6",
   "metadata": {},
   "source": [
    "다음의 코드를 실행하면 에러가 발생한다.\n",
    "\n",
    "```\n",
    "with errstate(invalid='raise'):\n",
    "    print(np.sqrt(-1)) # prints nothing and raises FloatingPointError\n",
    "```"
   ]
  },
  {
   "cell_type": "markdown",
   "id": "9b06b6ba",
   "metadata": {},
   "source": [
    "### Finding errors\n",
    "\n",
    "Exception이 발생했을 때, 해석하는 방법을 좀 더 자세히 살펴본다. \n",
    "\n",
    "Exception이 발생하면, 에러 메시지에서 call stack을 보게될 것이다.  \n",
    "Call stack은 exception이 발생한 코드를 호출하는 함수들을 추적하여 보여준다."
   ]
  },
  {
   "cell_type": "markdown",
   "id": "6476e729",
   "metadata": {},
   "source": [
    "```\n",
    "def f():\n",
    "    g()\n",
    "def g():\n",
    "    h()\n",
    "def h():\n",
    "    1//0\n",
    "\n",
    "f()\n",
    "\n",
    "\n",
    "---------------------------------------------------------------------------\n",
    "ZeroDivisionError                         Traceback (most recent call last)\n",
    "Input In [53], in <cell line: 8>()\n",
    "      5 def h():\n",
    "      6     1//0\n",
    "----> 8 f()\n",
    "\n",
    "Input In [53], in f()\n",
    "      1 def f():\n",
    "----> 2     g()\n",
    "\n",
    "Input In [53], in g()\n",
    "      3 def g():\n",
    "----> 4     h()\n",
    "\n",
    "Input In [53], in h()\n",
    "      5 def h():\n",
    "----> 6     1//0\n",
    "\n",
    "ZeroDivisionError: integer division or modulo by zero\n",
    "```"
   ]
  },
  {
   "cell_type": "markdown",
   "id": "5015c9e2",
   "metadata": {},
   "source": [
    "다른 예제를 보자."
   ]
  },
  {
   "cell_type": "markdown",
   "id": "35e533ca",
   "metadata": {},
   "source": [
    "```\n",
    "def f(a):\n",
    "    g(a)\n",
    "def g(a):\n",
    "    h(a)\n",
    "def h(a):\n",
    "    raise Exception(f'An exception just to provoke a strack trace and a value a={a}')\n",
    "\n",
    "f(23)\n",
    "\n",
    "\n",
    "---------------------------------------------------------------------------\n",
    "Exception                                 Traceback (most recent call last)\n",
    "Input In [51], in <cell line: 8>()\n",
    "      5 def h(a):\n",
    "      6     raise Exception(f'An exception just to provoke a strack trace and a value a={a}')\n",
    "----> 8 f(23)\n",
    "\n",
    "Input In [51], in f(a)\n",
    "      1 def f(a):\n",
    "----> 2     g(a)\n",
    "\n",
    "Input In [51], in g(a)\n",
    "      3 def g(a):\n",
    "----> 4     h(a)\n",
    "\n",
    "Input In [51], in h(a)\n",
    "      5 def h(a):\n",
    "----> 6     raise Exception(f'An exception just to provoke a strack trace and a value a={a}')\n",
    "\n",
    "Exception: An exception just to provoke a strack trace and a value a=23\n",
    "```"
   ]
  },
  {
   "cell_type": "markdown",
   "id": "5de2f095",
   "metadata": {},
   "source": [
    "Python에는 built-in debugger인 ```pdb```가 있다.   \n",
    "\n",
    "코드 실행 중 중단하여 디버거 세션을 열고 싶은 곳에 ```pdb.set_trace()``` 코드를 넣는다.\n",
    "\n",
    "디버깅 모드로 진입하면, (Pdb) 프롬프트가 나오게 되고, 여기서 여러 PDB 명령을 사용할 수 있다. \n",
    "\n",
    "아래는 디버깅 모드에서 사용할 수 있는 간단한 command list이다.\n",
    "\n",
    "\n",
    "| Command | Action |\n",
    "|:----|:----|\n",
    "| h | Help |\n",
    "| l | 현재 위치의 소스 코드 출력 |\n",
    "| q | 끝내기 |\n",
    "| c | 계속 실행 |\n",
    "| r | 현재 함수의 return 직적까지 수행 |\n",
    "| n | 다음 라인으로 이동 |\n",
    "| p expression | expression을 계산하여 현재 값을 출력 |"
   ]
  },
  {
   "cell_type": "code",
   "execution_count": 15,
   "id": "90940a8e",
   "metadata": {},
   "outputs": [
    {
     "name": "stdout",
     "output_type": "stream",
     "text": [
      "> \u001b[1;32mc:\\users\\owner\\appdata\\local\\temp\\ipykernel_43152\\1011003366.py\u001b[0m(5)\u001b[0;36mcomplex_to_polar\u001b[1;34m()\u001b[0m\n",
      "\n",
      "ipdb> c\n"
     ]
    }
   ],
   "source": [
    "import pdb\n",
    "\n",
    "def complex_to_polar(z):\n",
    "    pdb.set_trace() \n",
    "    r = np.sqrt(z.real ** 2 + z.imag **2)\n",
    "    phi = np.arctan2(z.imag, z.real)\n",
    "    return (r, phi)\n",
    "\n",
    "z = 3 + 5j\n",
    "r, phi = complex_to_polar(z)"
   ]
  }
 ],
 "metadata": {
  "kernelspec": {
   "display_name": "Python 3 (ipykernel)",
   "language": "python",
   "name": "python3"
  },
  "language_info": {
   "codemirror_mode": {
    "name": "ipython",
    "version": 3
   },
   "file_extension": ".py",
   "mimetype": "text/x-python",
   "name": "python",
   "nbconvert_exporter": "python",
   "pygments_lexer": "ipython3",
   "version": "3.9.13"
  }
 },
 "nbformat": 4,
 "nbformat_minor": 5
}
