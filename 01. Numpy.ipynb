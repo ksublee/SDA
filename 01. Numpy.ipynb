{
 "cells": [
  {
   "cell_type": "markdown",
   "id": "c3db78d5",
   "metadata": {},
   "source": [
    "# Numpy\n",
    "\n",
    "파이썬의 패키지 ```NumPy```는 선형 대수에 필요한 모든 기능들을 갖추고 있다."
   ]
  },
  {
   "cell_type": "markdown",
   "id": "edf115a5",
   "metadata": {},
   "source": [
    "## ```array```\n",
    "\n",
    "```Numpy``` 패키지를 import 함으로써, ```ndarray```라 불리우는 데이터타입을 이용할 수 있다. "
   ]
  },
  {
   "cell_type": "markdown",
   "id": "ff39fcc3",
   "metadata": {},
   "source": [
    "보통 ```import numpy as np```로 ```Numpy``` 패키지를 import를 하여 사용한다.  \n",
    "이 경우에는 Numpy 패키지에서 정의된 함수나 상수들을 사용할 때, ```np.```을 붙여야 한다.  "
   ]
  },
  {
   "cell_type": "code",
   "execution_count": 1,
   "id": "c15abc11",
   "metadata": {},
   "outputs": [],
   "source": [
    "import numpy as np"
   ]
  },
  {
   "cell_type": "markdown",
   "id": "c66c02d2",
   "metadata": {},
   "source": [
    "### Vector와 matrix\n",
    "\n",
    "수학적 대상인 vector는 ```array```로 쉽게 표현된다.  \n",
    "만약 ```import numpy as np```로 import 하였으면 ```np.array```로 표현한다."
   ]
  },
  {
   "cell_type": "code",
   "execution_count": 2,
   "id": "bf2826d9",
   "metadata": {},
   "outputs": [
    {
     "data": {
      "text/plain": [
       "array([1., 2., 3.])"
      ]
     },
     "execution_count": 2,
     "metadata": {},
     "output_type": "execute_result"
    }
   ],
   "source": [
    "v = np.array([1.,2.,3.])\n",
    "v"
   ]
  },
  {
   "cell_type": "markdown",
   "id": "27a2117b",
   "metadata": {},
   "source": [
    "각종 vector 관련 수학적 연산을 수행할 수 있다."
   ]
  },
  {
   "cell_type": "code",
   "execution_count": 3,
   "id": "54538dd2",
   "metadata": {},
   "outputs": [],
   "source": [
    "# two vectors with three components\n",
    "v1 = np.array([1., 2., 3.])\n",
    "v2 = np.array([2, 0, 1.])"
   ]
  },
  {
   "cell_type": "code",
   "execution_count": 4,
   "id": "51111e08",
   "metadata": {},
   "outputs": [
    {
     "data": {
      "text/plain": [
       "array([2., 4., 6.])"
      ]
     },
     "execution_count": 4,
     "metadata": {},
     "output_type": "execute_result"
    }
   ],
   "source": [
    "# scalar multiplication\n",
    "2 * v1 "
   ]
  },
  {
   "cell_type": "code",
   "execution_count": 5,
   "id": "05e65db3",
   "metadata": {},
   "outputs": [
    {
     "data": {
      "text/plain": [
       "array([0.5, 1. , 1.5])"
      ]
     },
     "execution_count": 5,
     "metadata": {},
     "output_type": "execute_result"
    }
   ],
   "source": [
    "# scalar division\n",
    "v1 / 2 "
   ]
  },
  {
   "cell_type": "code",
   "execution_count": 6,
   "id": "d6437954",
   "metadata": {},
   "outputs": [
    {
     "data": {
      "text/plain": [
       "array([ 7.,  6., 11.])"
      ]
     },
     "execution_count": 6,
     "metadata": {},
     "output_type": "execute_result"
    }
   ],
   "source": [
    "# 선형 조합\n",
    "3*v1 + 2*v2"
   ]
  },
  {
   "cell_type": "markdown",
   "id": "60321c4b",
   "metadata": {},
   "source": [
    "추가적으로 ```numpy.linalg``` module을 import 함으로써, Euclidean norm (L2 norm) - 원점으로부터의 거리를 계산할 수 있다.\n",
    "\n",
    "```numpy.linalg```는 numpy의 submodule로 선형 대수와 관련된 각종 함수들이 구현되어 있다."
   ]
  },
  {
   "cell_type": "code",
   "execution_count": 7,
   "id": "4e70d765",
   "metadata": {},
   "outputs": [
    {
     "data": {
      "text/plain": [
       "3.7416573867739413"
      ]
     },
     "execution_count": 7,
     "metadata": {},
     "output_type": "execute_result"
    }
   ],
   "source": [
    "# norm\n",
    "from numpy.linalg import norm\n",
    "norm(v1) "
   ]
  },
  {
   "cell_type": "markdown",
   "id": "f760b9a4",
   "metadata": {},
   "source": [
    "다음으로 정의되는 dot product의 연산 또한 가능하다.\n",
    "\n",
    "$$ a \\cdot b = \\sum_{i=1}^{n} a_i b_i $$"
   ]
  },
  {
   "cell_type": "code",
   "execution_count": 8,
   "id": "93b17a0a",
   "metadata": {},
   "outputs": [
    {
     "data": {
      "text/plain": [
       "5.0"
      ]
     },
     "execution_count": 8,
     "metadata": {},
     "output_type": "execute_result"
    }
   ],
   "source": [
    "np.dot(v1, v2)"
   ]
  },
  {
   "cell_type": "code",
   "execution_count": 9,
   "id": "a3dc2189",
   "metadata": {},
   "outputs": [
    {
     "data": {
      "text/plain": [
       "5.0"
      ]
     },
     "execution_count": 9,
     "metadata": {},
     "output_type": "execute_result"
    }
   ],
   "source": [
    "# 또다른 방법\n",
    "v1 @ v2"
   ]
  },
  {
   "cell_type": "markdown",
   "id": "e321c479",
   "metadata": {},
   "source": [
    "산술 연산은 모두 elementwise 방식으로 이루어진다."
   ]
  },
  {
   "cell_type": "code",
   "execution_count": 10,
   "id": "296b1c85",
   "metadata": {},
   "outputs": [
    {
     "data": {
      "text/plain": [
       "array([2., 0., 3.])"
      ]
     },
     "execution_count": 10,
     "metadata": {},
     "output_type": "execute_result"
    }
   ],
   "source": [
    "v1 * v2"
   ]
  },
  {
   "cell_type": "code",
   "execution_count": 11,
   "id": "e1632a24",
   "metadata": {},
   "outputs": [
    {
     "data": {
      "text/plain": [
       "array([2.        , 0.        , 0.33333333])"
      ]
     },
     "execution_count": 11,
     "metadata": {},
     "output_type": "execute_result"
    }
   ],
   "source": [
    "v2 / v1"
   ]
  },
  {
   "cell_type": "code",
   "execution_count": 12,
   "id": "f58259c7",
   "metadata": {},
   "outputs": [
    {
     "data": {
      "text/plain": [
       "array([-1.,  2.,  2.])"
      ]
     },
     "execution_count": 12,
     "metadata": {},
     "output_type": "execute_result"
    }
   ],
   "source": [
    "v1 - v2"
   ]
  },
  {
   "cell_type": "code",
   "execution_count": 13,
   "id": "c3a205a7",
   "metadata": {},
   "outputs": [
    {
     "data": {
      "text/plain": [
       "array([3., 2., 4.])"
      ]
     },
     "execution_count": 13,
     "metadata": {},
     "output_type": "execute_result"
    }
   ],
   "source": [
    "v1 + v2"
   ]
  },
  {
   "cell_type": "markdown",
   "id": "3352b972",
   "metadata": {},
   "source": [
    "```Numpy```에서 정의된 일부 함수들 또한 elementwise 방식으로 계산된다."
   ]
  },
  {
   "cell_type": "code",
   "execution_count": 14,
   "id": "c2946635",
   "metadata": {},
   "outputs": [
    {
     "data": {
      "text/plain": [
       "array([ 0.54030231, -0.41614684, -0.9899925 ])"
      ]
     },
     "execution_count": 14,
     "metadata": {},
     "output_type": "execute_result"
    }
   ],
   "source": [
    "np.cos(v1)"
   ]
  },
  {
   "cell_type": "markdown",
   "id": "56903f31",
   "metadata": {},
   "source": [
    "Matrix는 vector와 비슷하게 ```array```를 이용하여 정의할 수 있다."
   ]
  },
  {
   "cell_type": "code",
   "execution_count": 15,
   "id": "10e5586c",
   "metadata": {},
   "outputs": [
    {
     "data": {
      "text/plain": [
       "array([[1., 2.],\n",
       "       [0., 1.]])"
      ]
     },
     "execution_count": 15,
     "metadata": {},
     "output_type": "execute_result"
    }
   ],
   "source": [
    "M = np.array([[1., 2.], [0., 1.]])\n",
    "M"
   ]
  },
  {
   "cell_type": "markdown",
   "id": "01ad5501",
   "metadata": {},
   "source": [
    "수학적으로 vector는 column matrix나 row matrix로 간주될 수 있지만, ```Numpy```에서는 길이 $n$의 벡터와 $n\\times1$ 혹은 $1\\times n$의 행렬은 구분된다."
   ]
  },
  {
   "cell_type": "markdown",
   "id": "351e3246",
   "metadata": {},
   "source": [
    "```reshape```을 이용하여, vector를 행렬로 바꿀 수 있다. ```reshape```은 데이터의 차원을 바꿀 때 종종 활용된다."
   ]
  },
  {
   "cell_type": "code",
   "execution_count": 16,
   "id": "bd47e29b",
   "metadata": {},
   "outputs": [
    {
     "data": {
      "text/plain": [
       "array([1., 2., 1.])"
      ]
     },
     "execution_count": 16,
     "metadata": {},
     "output_type": "execute_result"
    }
   ],
   "source": [
    "v = np.array([1., 2., 1.])\n",
    "v"
   ]
  },
  {
   "cell_type": "markdown",
   "id": "58f6e496",
   "metadata": {},
   "source": [
    "$1 \\times 3$의 행렬"
   ]
  },
  {
   "cell_type": "code",
   "execution_count": 17,
   "id": "e0eaed26",
   "metadata": {},
   "outputs": [
    {
     "data": {
      "text/plain": [
       "array([[1., 2., 1.]])"
      ]
     },
     "execution_count": 17,
     "metadata": {},
     "output_type": "execute_result"
    }
   ],
   "source": [
    "R = v.reshape((1,3))\n",
    "R"
   ]
  },
  {
   "cell_type": "code",
   "execution_count": 18,
   "id": "efae1e8e",
   "metadata": {},
   "outputs": [
    {
     "data": {
      "text/plain": [
       "(3,)"
      ]
     },
     "execution_count": 18,
     "metadata": {},
     "output_type": "execute_result"
    }
   ],
   "source": [
    "np.shape(v)"
   ]
  },
  {
   "cell_type": "code",
   "execution_count": 19,
   "id": "3c32623b",
   "metadata": {},
   "outputs": [
    {
     "data": {
      "text/plain": [
       "(1, 3)"
      ]
     },
     "execution_count": 19,
     "metadata": {},
     "output_type": "execute_result"
    }
   ],
   "source": [
    "np.shape(R)"
   ]
  },
  {
   "cell_type": "code",
   "execution_count": 20,
   "id": "85b50dd2",
   "metadata": {},
   "outputs": [
    {
     "data": {
      "text/plain": [
       "(3,)"
      ]
     },
     "execution_count": 20,
     "metadata": {},
     "output_type": "execute_result"
    }
   ],
   "source": [
    "v.shape"
   ]
  },
  {
   "cell_type": "code",
   "execution_count": 21,
   "id": "1c193b7b",
   "metadata": {},
   "outputs": [
    {
     "data": {
      "text/plain": [
       "(1, 3)"
      ]
     },
     "execution_count": 21,
     "metadata": {},
     "output_type": "execute_result"
    }
   ],
   "source": [
    "R.shape"
   ]
  },
  {
   "cell_type": "markdown",
   "id": "1dfa5542",
   "metadata": {},
   "source": [
    "$3\\times 1$의 행렬"
   ]
  },
  {
   "cell_type": "code",
   "execution_count": 22,
   "id": "01e96354",
   "metadata": {},
   "outputs": [
    {
     "data": {
      "text/plain": [
       "array([[1.],\n",
       "       [2.],\n",
       "       [1.]])"
      ]
     },
     "execution_count": 22,
     "metadata": {},
     "output_type": "execute_result"
    }
   ],
   "source": [
    "C = v.reshape((3, 1))\n",
    "C"
   ]
  },
  {
   "cell_type": "code",
   "execution_count": 23,
   "id": "91f21bbc",
   "metadata": {},
   "outputs": [
    {
     "data": {
      "text/plain": [
       "(3, 1)"
      ]
     },
     "execution_count": 23,
     "metadata": {},
     "output_type": "execute_result"
    }
   ],
   "source": [
    "np.shape(C)"
   ]
  },
  {
   "cell_type": "markdown",
   "id": "f32e0848",
   "metadata": {},
   "source": [
    "###  Indexing and slices\n",
    "\n",
    "Indexing과 slice는 ```array```의 일부 원소를 선택할 때 활용한다."
   ]
  },
  {
   "cell_type": "code",
   "execution_count": 24,
   "id": "c478b203",
   "metadata": {},
   "outputs": [],
   "source": [
    "v = np.array([1., 2., 3])\n",
    "M = np.array([[1., 2],[3., 4]])"
   ]
  },
  {
   "cell_type": "code",
   "execution_count": 25,
   "id": "b99c42bc",
   "metadata": {},
   "outputs": [
    {
     "data": {
      "text/plain": [
       "1.0"
      ]
     },
     "execution_count": 25,
     "metadata": {},
     "output_type": "execute_result"
    }
   ],
   "source": [
    "v[0]"
   ]
  },
  {
   "cell_type": "code",
   "execution_count": 26,
   "id": "2060e12c",
   "metadata": {},
   "outputs": [
    {
     "data": {
      "text/plain": [
       "array([2., 3.])"
      ]
     },
     "execution_count": 26,
     "metadata": {},
     "output_type": "execute_result"
    }
   ],
   "source": [
    "v[1:]"
   ]
  },
  {
   "cell_type": "code",
   "execution_count": 27,
   "id": "dcace51a",
   "metadata": {},
   "outputs": [
    {
     "data": {
      "text/plain": [
       "1.0"
      ]
     },
     "execution_count": 27,
     "metadata": {},
     "output_type": "execute_result"
    }
   ],
   "source": [
    "M[0, 0]"
   ]
  },
  {
   "cell_type": "markdown",
   "id": "6e6aefd1",
   "metadata": {},
   "source": [
    "다음의 결과는 여전히 행렬이다."
   ]
  },
  {
   "cell_type": "code",
   "execution_count": 28,
   "id": "067775ea",
   "metadata": {},
   "outputs": [
    {
     "data": {
      "text/plain": [
       "array([[3., 4.]])"
      ]
     },
     "execution_count": 28,
     "metadata": {},
     "output_type": "execute_result"
    }
   ],
   "source": [
    "M[1:]"
   ]
  },
  {
   "cell_type": "markdown",
   "id": "ff157b95",
   "metadata": {},
   "source": [
    "다음의 결과는 vector이다."
   ]
  },
  {
   "cell_type": "code",
   "execution_count": 29,
   "id": "e057b0dd",
   "metadata": {},
   "outputs": [
    {
     "data": {
      "text/plain": [
       "array([3., 4.])"
      ]
     },
     "execution_count": 29,
     "metadata": {},
     "output_type": "execute_result"
    }
   ],
   "source": [
    "M[1]"
   ]
  },
  {
   "cell_type": "code",
   "execution_count": 30,
   "id": "4671a466",
   "metadata": {},
   "outputs": [
    {
     "data": {
      "text/plain": [
       "array([10.,  2.,  3.])"
      ]
     },
     "execution_count": 30,
     "metadata": {},
     "output_type": "execute_result"
    }
   ],
   "source": [
    "v[0] = 10\n",
    "v"
   ]
  },
  {
   "cell_type": "code",
   "execution_count": 31,
   "id": "94154f87",
   "metadata": {},
   "outputs": [
    {
     "data": {
      "text/plain": [
       "array([0., 1., 3.])"
      ]
     },
     "execution_count": 31,
     "metadata": {},
     "output_type": "execute_result"
    }
   ],
   "source": [
    "v[:2] = [0, 1]\n",
    "v"
   ]
  },
  {
   "cell_type": "markdown",
   "id": "e6485792",
   "metadata": {},
   "source": [
    "### 선형 대수 연산\n",
    "\n",
    "기본적으로 ```dot``` 함수와 이항 연산자 ```@```를 이용한 연산을 살펴본다."
   ]
  },
  {
   "cell_type": "code",
   "execution_count": 32,
   "id": "1cdca0b8",
   "metadata": {},
   "outputs": [],
   "source": [
    "v = np.array([1., 2.])\n",
    "M = np.array([[1., 2],[3., 4]])"
   ]
  },
  {
   "cell_type": "markdown",
   "id": "967f3dfe",
   "metadata": {},
   "source": [
    "행렬과 벡터 간에 ```dot``` 혹은 ```@```를 이용하면 행렬과 벡터의 곱이다."
   ]
  },
  {
   "cell_type": "code",
   "execution_count": 33,
   "id": "c560682e",
   "metadata": {},
   "outputs": [
    {
     "data": {
      "text/plain": [
       "array([ 5., 11.])"
      ]
     },
     "execution_count": 33,
     "metadata": {},
     "output_type": "execute_result"
    }
   ],
   "source": [
    "np.dot(M, v)"
   ]
  },
  {
   "cell_type": "code",
   "execution_count": 34,
   "id": "703349d5",
   "metadata": {},
   "outputs": [
    {
     "data": {
      "text/plain": [
       "array([ 5., 11.])"
      ]
     },
     "execution_count": 34,
     "metadata": {},
     "output_type": "execute_result"
    }
   ],
   "source": [
    "M @ v"
   ]
  },
  {
   "cell_type": "markdown",
   "id": "7429fb24",
   "metadata": {},
   "source": [
    "벡터 간에 ```dot``` 혹은 ```@```를 이용하면 dot product이다."
   ]
  },
  {
   "cell_type": "code",
   "execution_count": 35,
   "id": "b3728891",
   "metadata": {},
   "outputs": [
    {
     "data": {
      "text/plain": [
       "14.0"
      ]
     },
     "execution_count": 35,
     "metadata": {},
     "output_type": "execute_result"
    }
   ],
   "source": [
    "w = np.array([4., 5.])\n",
    "np.dot(v, w) "
   ]
  },
  {
   "cell_type": "code",
   "execution_count": 36,
   "id": "f9273bbf",
   "metadata": {},
   "outputs": [
    {
     "data": {
      "text/plain": [
       "14.0"
      ]
     },
     "execution_count": 36,
     "metadata": {},
     "output_type": "execute_result"
    }
   ],
   "source": [
    "v @ w"
   ]
  },
  {
   "cell_type": "markdown",
   "id": "214f9f07",
   "metadata": {},
   "source": [
    "행렬 간에 ```dot``` 혹은 ```@```를 이용하면 행렬과 행렬의 곱이다."
   ]
  },
  {
   "cell_type": "code",
   "execution_count": 37,
   "id": "e24c708d",
   "metadata": {},
   "outputs": [
    {
     "data": {
      "text/plain": [
       "array([[10.,  7.],\n",
       "       [22., 15.]])"
      ]
     },
     "execution_count": 37,
     "metadata": {},
     "output_type": "execute_result"
    }
   ],
   "source": [
    "N = np.array([[2., 1],[4., 3]])\n",
    "np.dot(M, N)"
   ]
  },
  {
   "cell_type": "code",
   "execution_count": 38,
   "id": "a26e065f",
   "metadata": {},
   "outputs": [
    {
     "data": {
      "text/plain": [
       "array([[10.,  7.],\n",
       "       [22., 15.]])"
      ]
     },
     "execution_count": 38,
     "metadata": {},
     "output_type": "execute_result"
    }
   ],
   "source": [
    "M @ N"
   ]
  },
  {
   "cell_type": "markdown",
   "id": "66b79971",
   "metadata": {},
   "source": [
    "선형 연립 방정식 풀이는 ```numpy.linalg```의 ```solve```함수를 이용한다.\n",
    "\n",
    "즉, 행렬 $A$와 벡터 $b$로 이루어진 다음의 선형 시스템에서 $x$를 구한다.\n",
    "$$ Ax = b $$\n",
    "예를 들어,\n",
    "$$ \n",
    " \\left\\{\\begin{array}{lr}\n",
    "        x_1 + 2 x_2  & = 1\\\\\n",
    "        3x_1 + 4 x_2 & = 4\\\\\n",
    "        \\end{array}\\right.\n",
    "$$\n",
    "를 풀어 보자."
   ]
  },
  {
   "cell_type": "code",
   "execution_count": 39,
   "id": "031652bf",
   "metadata": {},
   "outputs": [
    {
     "data": {
      "text/plain": [
       "array([ 2. , -0.5])"
      ]
     },
     "execution_count": 39,
     "metadata": {},
     "output_type": "execute_result"
    }
   ],
   "source": [
    "from numpy.linalg import solve\n",
    "A = np.array([[1., 2.], [3., 4.]])\n",
    "b = np.array([1., 4.])\n",
    "x = solve(A, b)\n",
    "x"
   ]
  },
  {
   "cell_type": "markdown",
   "id": "33b4d319",
   "metadata": {},
   "source": [
    "```allclose```를 이용하여 정답인지 확인해 보자.\n",
    "```allclose```는 두 값이 서로 (거의) 같다면 ```True```를 반환한다."
   ]
  },
  {
   "cell_type": "code",
   "execution_count": 40,
   "id": "68d3d14f",
   "metadata": {},
   "outputs": [
    {
     "data": {
      "text/plain": [
       "True"
      ]
     },
     "execution_count": 40,
     "metadata": {},
     "output_type": "execute_result"
    }
   ],
   "source": [
    "np.allclose(np.dot(A, x), b)"
   ]
  },
  {
   "cell_type": "code",
   "execution_count": 41,
   "id": "66a7abc1",
   "metadata": {},
   "outputs": [
    {
     "data": {
      "text/plain": [
       "True"
      ]
     },
     "execution_count": 41,
     "metadata": {},
     "output_type": "execute_result"
    }
   ],
   "source": [
    "np.allclose(A @ x, b)"
   ]
  },
  {
   "cell_type": "markdown",
   "id": "7025b81a",
   "metadata": {},
   "source": [
    "### Array type\n",
    "\n",
    "```array```의 세가지 주요 attributes는 다음과 같다.\n",
    "\n",
    "\n",
    "| 이름 | 설명 |  \n",
    "|:------|:---|\n",
    "| shape | dimension을 설명하는 속성 |  \n",
    "| dtype | data의 type을 설명 (float, complex, integer 등) |  \n",
    "| strides | 메모리 상에서 다음 행이나 열로 이동할 때, 건너 뛰어야 하는 byte의 수 |"
   ]
  },
  {
   "cell_type": "code",
   "execution_count": 42,
   "id": "2245c47b",
   "metadata": {},
   "outputs": [
    {
     "data": {
      "text/plain": [
       "(2, 3)"
      ]
     },
     "execution_count": 42,
     "metadata": {},
     "output_type": "execute_result"
    }
   ],
   "source": [
    "A = np.array([[1, 2, 3], [3, 4, 6]])\n",
    "A.shape   # (2, 3)"
   ]
  },
  {
   "cell_type": "code",
   "execution_count": 43,
   "id": "63ec5c0f",
   "metadata": {},
   "outputs": [
    {
     "data": {
      "text/plain": [
       "dtype('int32')"
      ]
     },
     "execution_count": 43,
     "metadata": {},
     "output_type": "execute_result"
    }
   ],
   "source": [
    "A.dtype"
   ]
  },
  {
   "cell_type": "code",
   "execution_count": 44,
   "id": "dd24033b",
   "metadata": {},
   "outputs": [
    {
     "data": {
      "text/plain": [
       "(12, 4)"
      ]
     },
     "execution_count": 44,
     "metadata": {},
     "output_type": "execute_result"
    }
   ],
   "source": [
    "A.strides "
   ]
  },
  {
   "cell_type": "code",
   "execution_count": 45,
   "id": "a67353e8",
   "metadata": {},
   "outputs": [
    {
     "data": {
      "text/plain": [
       "(12, 8)"
      ]
     },
     "execution_count": 45,
     "metadata": {},
     "output_type": "execute_result"
    }
   ],
   "source": [
    "A[:,::2].strides"
   ]
  },
  {
   "cell_type": "markdown",
   "id": "55f2cdfa",
   "metadata": {},
   "source": [
    "### list로부터 array생성\n",
    "\n",
    "```array```를 생성하는 가장 간단한 방법은 python list를 이용하는 것이다."
   ]
  },
  {
   "cell_type": "code",
   "execution_count": 46,
   "id": "80792498",
   "metadata": {},
   "outputs": [
    {
     "data": {
      "text/plain": [
       "array([1., 2., 1.])"
      ]
     },
     "execution_count": 46,
     "metadata": {},
     "output_type": "execute_result"
    }
   ],
   "source": [
    "V = np.array([1., 2., 1.], dtype=float)\n",
    "V"
   ]
  },
  {
   "cell_type": "code",
   "execution_count": 47,
   "id": "4ebe9e72",
   "metadata": {},
   "outputs": [
    {
     "data": {
      "text/plain": [
       "array([1.+0.j, 2.+0.j, 1.+0.j])"
      ]
     },
     "execution_count": 47,
     "metadata": {},
     "output_type": "execute_result"
    }
   ],
   "source": [
    "V = np.array([1., 2., 1.], dtype=complex)\n",
    "V"
   ]
  },
  {
   "cell_type": "code",
   "execution_count": 48,
   "id": "6ba4cc17",
   "metadata": {},
   "outputs": [
    {
     "data": {
      "text/plain": [
       "dtype('int32')"
      ]
     },
     "execution_count": 48,
     "metadata": {},
     "output_type": "execute_result"
    }
   ],
   "source": [
    "V = np.array([1, 2]) # [1, 2] is a list of integers\n",
    "V.dtype "
   ]
  },
  {
   "cell_type": "code",
   "execution_count": 49,
   "id": "ca456c91",
   "metadata": {},
   "outputs": [
    {
     "data": {
      "text/plain": [
       "dtype('float64')"
      ]
     },
     "execution_count": 49,
     "metadata": {},
     "output_type": "execute_result"
    }
   ],
   "source": [
    "V = np.array([1., 2]) # [1., 2] mix float/integer\n",
    "V.dtype"
   ]
  },
  {
   "cell_type": "code",
   "execution_count": 50,
   "id": "d690a358",
   "metadata": {},
   "outputs": [
    {
     "data": {
      "text/plain": [
       "dtype('complex128')"
      ]
     },
     "execution_count": 50,
     "metadata": {},
     "output_type": "execute_result"
    }
   ],
   "source": [
    "V = np.array([1. + 0j, 2.]) # mix float/complex\n",
    "V.dtype"
   ]
  },
  {
   "cell_type": "code",
   "execution_count": 51,
   "id": "46685461",
   "metadata": {},
   "outputs": [
    {
     "data": {
      "text/plain": [
       "array([[1., 0.],\n",
       "       [0., 1.]])"
      ]
     },
     "execution_count": 51,
     "metadata": {},
     "output_type": "execute_result"
    }
   ],
   "source": [
    "Id = np.array([[1., 0.],\n",
    "            [0., 1.]])\n",
    "\n",
    "Id"
   ]
  },
  {
   "cell_type": "markdown",
   "id": "48fc0ac8",
   "metadata": {},
   "source": [
    "### 행렬 원소 접근\n",
    "\n",
    "가장 기본적인 방법은 행과 열의 index 번호를 순차적으로 이용하는 것이다."
   ]
  },
  {
   "cell_type": "code",
   "execution_count": 52,
   "id": "9488eafe",
   "metadata": {},
   "outputs": [
    {
     "data": {
      "text/plain": [
       "1.0"
      ]
     },
     "execution_count": 52,
     "metadata": {},
     "output_type": "execute_result"
    }
   ],
   "source": [
    "M = np.array([[1., 2.],[3., 4.]])\n",
    "M[0, 0] # first row, first column: 1.0"
   ]
  },
  {
   "cell_type": "code",
   "execution_count": 53,
   "id": "00e84a61",
   "metadata": {},
   "outputs": [
    {
     "data": {
      "text/plain": [
       "3.0"
      ]
     },
     "execution_count": 53,
     "metadata": {},
     "output_type": "execute_result"
    }
   ],
   "source": [
    "M[-1, 0] # last row, first column: 3.0"
   ]
  },
  {
   "cell_type": "markdown",
   "id": "60b1e75a",
   "metadata": {},
   "source": [
    "slicing(```:```)을 이용하면 여러 개의 원소를 선택할 수 있다.\n",
    "\n",
    "* ```M[i, :]``` : i번째 행 벡터  \n",
    "* ```M[:, j]``` : j번째 열 벡터\n",
    "* ```M[a:b, :]``` : 행을 ```a:b```로 slicing한 행렬\n",
    "* ```M[a:b, c:d]``` : 행을 ```a:b```로, 열을 ```c:d```로 slicing한 행렬\n",
    "\n",
    "정리하면 다음과 같다.\n",
    "\n",
    "| Access | ndim | 종류 |\n",
    "|:--:|:--:|:--:|\n",
    "index,index | 0 | 스칼라 |\n",
    "slice,index | 1 | 벡터 |\n",
    "index,slice | 1 | 벡터 |\n",
    "slice,slice | 2 | 행렬 |"
   ]
  },
  {
   "cell_type": "markdown",
   "id": "06dd4cb0",
   "metadata": {},
   "source": [
    "slicing된 array의 원소를 변경하면 원래의 array도 변경된다."
   ]
  },
  {
   "cell_type": "code",
   "execution_count": 54,
   "id": "907c54d4",
   "metadata": {},
   "outputs": [
    {
     "data": {
      "text/plain": [
       "array([0., 2., 3.])"
      ]
     },
     "execution_count": 54,
     "metadata": {},
     "output_type": "execute_result"
    }
   ],
   "source": [
    "v = np.array([1., 2., 3.])\n",
    "v1 = v[:2] # v1 is array([1., 2.])\n",
    "v1[0] = 0. # if v1 is changed ...\n",
    "v # ... v is changed too: array([0., 2., 3.])"
   ]
  },
  {
   "cell_type": "markdown",
   "id": "78868a73",
   "metadata": {},
   "source": [
    "### Indexing과 slicing을 이용한 변경"
   ]
  },
  {
   "cell_type": "code",
   "execution_count": 55,
   "id": "5aad8c23",
   "metadata": {},
   "outputs": [
    {
     "data": {
      "text/plain": [
       "array([[0., 0., 0.],\n",
       "       [0., 0., 2.],\n",
       "       [0., 0., 0.],\n",
       "       [0., 0., 0.],\n",
       "       [0., 0., 0.]])"
      ]
     },
     "execution_count": 55,
     "metadata": {},
     "output_type": "execute_result"
    }
   ],
   "source": [
    "M = np.zeros((5,3))\n",
    "M[1, 2] = 2.0 # scalar\n",
    "M"
   ]
  },
  {
   "cell_type": "code",
   "execution_count": 56,
   "id": "ffdf6687",
   "metadata": {},
   "outputs": [
    {
     "data": {
      "text/plain": [
       "array([[0., 0., 0.],\n",
       "       [0., 0., 2.],\n",
       "       [1., 2., 3.],\n",
       "       [0., 0., 0.],\n",
       "       [0., 0., 0.]])"
      ]
     },
     "execution_count": 56,
     "metadata": {},
     "output_type": "execute_result"
    }
   ],
   "source": [
    "M[2, :] = [1., 2., 3.] # vector\n",
    "M"
   ]
  },
  {
   "cell_type": "code",
   "execution_count": 57,
   "id": "f3baf60c",
   "metadata": {},
   "outputs": [
    {
     "data": {
      "text/plain": [
       "array([[ 0.,  0.,  0.],\n",
       "       [ 1.,  2.,  3.],\n",
       "       [-1., -2., -3.],\n",
       "       [ 0.,  0.,  0.],\n",
       "       [ 0.,  0.,  0.]])"
      ]
     },
     "execution_count": 57,
     "metadata": {},
     "output_type": "execute_result"
    }
   ],
   "source": [
    "M[1:3, :] = np.array([[1., 2., 3.],[-1.,-2., -3.]])\n",
    "M"
   ]
  },
  {
   "cell_type": "code",
   "execution_count": 58,
   "id": "af7a1d29",
   "metadata": {},
   "outputs": [
    {
     "data": {
      "text/plain": [
       "array([[ 0.,  0.,  0.],\n",
       "       [ 1.,  1.,  3.],\n",
       "       [-1.,  0., -3.],\n",
       "       [ 0., -1.,  0.],\n",
       "       [ 0.,  0.,  0.]])"
      ]
     },
     "execution_count": 58,
     "metadata": {},
     "output_type": "execute_result"
    }
   ],
   "source": [
    "M[1:4, 1:2] = np.array([[1.],[0.],[-1.0]]) \n",
    "M"
   ]
  },
  {
   "cell_type": "markdown",
   "id": "ddb588ca",
   "metadata": {},
   "source": [
    "### Array를 생성하는 다양한 함수\n",
    "\n",
    "| 함수 | shape | 반환 |\n",
    "|:--|:--|:--|\n",
    "|```identity(n)``` | (n,n) | 단위 행렬 |\n",
    "|```zeros((n,m))``` | (n,m) |  0으로 채워진 행렬 |\n",
    "|```ones((n,m))``` | (n,m) | 1로 채워진 행렬 |\n",
    "|```full((n,m), q)``` | (n,m) | ```q```로 채워진 행렬 |\n",
    "|```diag(v, k)``` | (n,n) | ```v```로 이루어진 대각행렬, ```k```(정수)를 이용하여 대각의 위치 조정 |\n",
    "|```random.random(n,m)``` | (n,m) | (0,1) 사이에서 균등 분포를 따르는 랜덤 숫자로 이루어진 행렬 |\n",
    "|```arange(n)``` | (n,) | 0부터 n-1까지의 정수로 이루어진 벡터 |\n",
    "|```linspace(a,b,n)``` | (n,) | a와 b사이의 n개의 등거리로 나누어진 값들로 이루어진 벡터 |"
   ]
  },
  {
   "cell_type": "code",
   "execution_count": 59,
   "id": "91fec697",
   "metadata": {},
   "outputs": [
    {
     "data": {
      "text/plain": [
       "array([[0, 0, 1, 0, 0],\n",
       "       [0, 0, 0, 2, 0],\n",
       "       [0, 0, 0, 0, 3],\n",
       "       [0, 0, 0, 0, 0],\n",
       "       [0, 0, 0, 0, 0]])"
      ]
     },
     "execution_count": 59,
     "metadata": {},
     "output_type": "execute_result"
    }
   ],
   "source": [
    "np.diag([1,2,3], k = 2)"
   ]
  },
  {
   "cell_type": "markdown",
   "id": "3392bddb",
   "metadata": {},
   "source": [
    "### ```shape``` as a function"
   ]
  },
  {
   "cell_type": "code",
   "execution_count": 60,
   "id": "0226f6a0",
   "metadata": {},
   "outputs": [
    {
     "data": {
      "text/plain": [
       "(3, 3)"
      ]
     },
     "execution_count": 60,
     "metadata": {},
     "output_type": "execute_result"
    }
   ],
   "source": [
    "M = np.identity(3)\n",
    "np.shape(M) "
   ]
  },
  {
   "cell_type": "code",
   "execution_count": 61,
   "id": "a4e2a34f",
   "metadata": {},
   "outputs": [
    {
     "data": {
      "text/plain": [
       "(3, 3)"
      ]
     },
     "execution_count": 61,
     "metadata": {},
     "output_type": "execute_result"
    }
   ],
   "source": [
    "M.shape"
   ]
  },
  {
   "cell_type": "code",
   "execution_count": 62,
   "id": "3fecff88",
   "metadata": {},
   "outputs": [
    {
     "data": {
      "text/plain": [
       "()"
      ]
     },
     "execution_count": 62,
     "metadata": {},
     "output_type": "execute_result"
    }
   ],
   "source": [
    "np.shape(1.) "
   ]
  },
  {
   "cell_type": "code",
   "execution_count": 63,
   "id": "d0ecf5ae",
   "metadata": {},
   "outputs": [
    {
     "data": {
      "text/plain": [
       "(2,)"
      ]
     },
     "execution_count": 63,
     "metadata": {},
     "output_type": "execute_result"
    }
   ],
   "source": [
    "np.shape([1,2]) "
   ]
  },
  {
   "cell_type": "code",
   "execution_count": 64,
   "id": "ba5dff15",
   "metadata": {},
   "outputs": [
    {
     "data": {
      "text/plain": [
       "(1, 2)"
      ]
     },
     "execution_count": 64,
     "metadata": {},
     "output_type": "execute_result"
    }
   ],
   "source": [
    "np.shape([[1,2]])"
   ]
  },
  {
   "cell_type": "markdown",
   "id": "d1524a05",
   "metadata": {},
   "source": [
    "### ```ndim```: attribute and function"
   ]
  },
  {
   "cell_type": "code",
   "execution_count": 65,
   "id": "233d7bd1",
   "metadata": {},
   "outputs": [
    {
     "data": {
      "text/plain": [
       "array([0., 2., 3.])"
      ]
     },
     "execution_count": 65,
     "metadata": {},
     "output_type": "execute_result"
    }
   ],
   "source": [
    "v"
   ]
  },
  {
   "cell_type": "code",
   "execution_count": 66,
   "id": "6894c4de",
   "metadata": {},
   "outputs": [
    {
     "data": {
      "text/plain": [
       "1"
      ]
     },
     "execution_count": 66,
     "metadata": {},
     "output_type": "execute_result"
    }
   ],
   "source": [
    "np.ndim(v)"
   ]
  },
  {
   "cell_type": "code",
   "execution_count": 67,
   "id": "09b2e47e",
   "metadata": {},
   "outputs": [
    {
     "data": {
      "text/plain": [
       "1"
      ]
     },
     "execution_count": 67,
     "metadata": {},
     "output_type": "execute_result"
    }
   ],
   "source": [
    "v.ndim"
   ]
  },
  {
   "cell_type": "code",
   "execution_count": 68,
   "id": "ecd6d082",
   "metadata": {},
   "outputs": [
    {
     "data": {
      "text/plain": [
       "array([[1, 2, 3],\n",
       "       [3, 4, 6]])"
      ]
     },
     "execution_count": 68,
     "metadata": {},
     "output_type": "execute_result"
    }
   ],
   "source": [
    "A"
   ]
  },
  {
   "cell_type": "code",
   "execution_count": 69,
   "id": "09dfc996",
   "metadata": {},
   "outputs": [
    {
     "data": {
      "text/plain": [
       "2"
      ]
     },
     "execution_count": 69,
     "metadata": {},
     "output_type": "execute_result"
    }
   ],
   "source": [
    "np.ndim(A) # 2"
   ]
  },
  {
   "cell_type": "code",
   "execution_count": 70,
   "id": "b5f8f532",
   "metadata": {},
   "outputs": [
    {
     "data": {
      "text/plain": [
       "2"
      ]
     },
     "execution_count": 70,
     "metadata": {},
     "output_type": "execute_result"
    }
   ],
   "source": [
    "A.ndim # 2"
   ]
  },
  {
   "cell_type": "code",
   "execution_count": 71,
   "id": "719a540c",
   "metadata": {},
   "outputs": [
    {
     "data": {
      "text/plain": [
       "3"
      ]
     },
     "execution_count": 71,
     "metadata": {},
     "output_type": "execute_result"
    }
   ],
   "source": [
    "T = np.zeros((2,2,3)) # tensor of shape (2,2,3); three dimensions\n",
    "np.ndim(T) # 3"
   ]
  },
  {
   "cell_type": "code",
   "execution_count": 72,
   "id": "cc0f8271",
   "metadata": {},
   "outputs": [
    {
     "data": {
      "text/plain": [
       "3"
      ]
     },
     "execution_count": 72,
     "metadata": {},
     "output_type": "execute_result"
    }
   ],
   "source": [
    "len(np.shape(T)) # 3"
   ]
  },
  {
   "cell_type": "markdown",
   "id": "b3c2eaf1",
   "metadata": {},
   "source": [
    "### Reshape\n",
    "\n",
    "Array의 형태를 변경하기 위해 ```reshape``` method가 종종 활용된다."
   ]
  },
  {
   "cell_type": "code",
   "execution_count": 73,
   "id": "d5e84eed",
   "metadata": {},
   "outputs": [
    {
     "data": {
      "text/plain": [
       "array([[0, 1, 2],\n",
       "       [3, 4, 5]])"
      ]
     },
     "execution_count": 73,
     "metadata": {},
     "output_type": "execute_result"
    }
   ],
   "source": [
    "v = np.array([0,1,2,3,4,5])\n",
    "M = v.reshape(2,3)\n",
    "M"
   ]
  },
  {
   "cell_type": "code",
   "execution_count": 74,
   "id": "f85dfdc0",
   "metadata": {},
   "outputs": [
    {
     "data": {
      "text/plain": [
       "(2, 3)"
      ]
     },
     "execution_count": 74,
     "metadata": {},
     "output_type": "execute_result"
    }
   ],
   "source": [
    "np.shape(M) # returns (2,3)"
   ]
  },
  {
   "cell_type": "markdown",
   "id": "12679417",
   "metadata": {},
   "source": [
    "slicing처럼 reshape은 새로운 array를 생성하는 것이 아니다.\n",
    "\n",
    "기존의 array에 view를 제공하는 것이다.\n",
    "\n",
    "따라서, reshape된 object를 변경하면 원래의 array도 변경된다."
   ]
  },
  {
   "cell_type": "code",
   "execution_count": 75,
   "id": "868b437a",
   "metadata": {},
   "outputs": [
    {
     "data": {
      "text/plain": [
       "array([10,  1,  2,  3,  4,  5])"
      ]
     },
     "execution_count": 75,
     "metadata": {},
     "output_type": "execute_result"
    }
   ],
   "source": [
    "M[0,0] = 10 # now v[0] is 10\n",
    "v"
   ]
  },
  {
   "cell_type": "markdown",
   "id": "d4a16b1d",
   "metadata": {},
   "source": [
    "reshape을 할 때, 새로운 행과 열의 수를 모두 계산할 필요없이, 열과 행 중 어느 하나의 shape parameter를 정해주고, 남은 parameter는 python에서 자동으로 결정하게 하는 것도 좋은 방법이다.\n",
    "\n",
    "Python에서 자동으로 정하게 할 때 ```-1```을 인자로 사용한다."
   ]
  },
  {
   "cell_type": "code",
   "execution_count": 76,
   "id": "d1cc78db",
   "metadata": {},
   "outputs": [
    {
     "data": {
      "text/plain": [
       "array([[1, 2, 3, 4],\n",
       "       [5, 6, 7, 8]])"
      ]
     },
     "execution_count": 76,
     "metadata": {},
     "output_type": "execute_result"
    }
   ],
   "source": [
    "v = np.array([1, 2, 3, 4, 5, 6, 7, 8])\n",
    "M = v.reshape(2, -1)\n",
    "M"
   ]
  },
  {
   "cell_type": "markdown",
   "id": "3ebf10c2",
   "metadata": {},
   "source": [
    "행렬의 transpose는 ```.T```를 이용한다.\n",
    "\n",
    "Reshape과 마찬가지로, transpose 또한 새로운 행렬을 생성하는 것이 아니다."
   ]
  },
  {
   "cell_type": "code",
   "execution_count": 77,
   "id": "1007b9e7",
   "metadata": {},
   "outputs": [
    {
     "data": {
      "text/plain": [
       "array([[1., 1., 1.],\n",
       "       [1., 1., 1.],\n",
       "       [1., 1., 1.],\n",
       "       [1., 1., 1.]])"
      ]
     },
     "execution_count": 77,
     "metadata": {},
     "output_type": "execute_result"
    }
   ],
   "source": [
    "A = np.ones((3,4))\n",
    "B = A.T\n",
    "B"
   ]
  },
  {
   "cell_type": "code",
   "execution_count": 78,
   "id": "84ace0fb",
   "metadata": {},
   "outputs": [
    {
     "data": {
      "text/plain": [
       "array([[1., 3.],\n",
       "       [2., 5.]])"
      ]
     },
     "execution_count": 78,
     "metadata": {},
     "output_type": "execute_result"
    }
   ],
   "source": [
    "A= np.array([[ 1., 2.],[ 3., 4.]]) \n",
    "B = A.T \n",
    "A[1,1]=5. \n",
    "B"
   ]
  },
  {
   "cell_type": "markdown",
   "id": "e8d1f86d",
   "metadata": {},
   "source": [
    "벡터의 transpose는 원래의 값과 동일하다."
   ]
  },
  {
   "cell_type": "code",
   "execution_count": 79,
   "id": "b2f39d88",
   "metadata": {},
   "outputs": [
    {
     "data": {
      "text/plain": [
       "array([1., 2., 3.])"
      ]
     },
     "execution_count": 79,
     "metadata": {},
     "output_type": "execute_result"
    }
   ],
   "source": [
    "v = np.array([1., 2., 3.])\n",
    "v.T"
   ]
  },
  {
   "cell_type": "markdown",
   "id": "d0b3aca8",
   "metadata": {},
   "source": [
    "vector를 $n \\times 1$ 행렬이나, $1 \\times n$ 행렬로 바꿀 때에도, reshape이 이용된다."
   ]
  },
  {
   "cell_type": "code",
   "execution_count": 80,
   "id": "45fd3639",
   "metadata": {},
   "outputs": [
    {
     "data": {
      "text/plain": [
       "array([[1.],\n",
       "       [2.],\n",
       "       [3.]])"
      ]
     },
     "execution_count": 80,
     "metadata": {},
     "output_type": "execute_result"
    }
   ],
   "source": [
    "v.reshape(-1, 1) # column matrix containing v"
   ]
  },
  {
   "cell_type": "code",
   "execution_count": 81,
   "id": "610d8429",
   "metadata": {},
   "outputs": [
    {
     "data": {
      "text/plain": [
       "array([[1., 2., 3.]])"
      ]
     },
     "execution_count": 81,
     "metadata": {},
     "output_type": "execute_result"
    }
   ],
   "source": [
    "v.reshape(1, -1) # row matrix containing v"
   ]
  },
  {
   "cell_type": "markdown",
   "id": "94902e64",
   "metadata": {},
   "source": [
    "Numpy의 ```ravel``` 함수는 혹은 array 메소드는 해당 array의 모든 차원을 없애 일차원 array로 바꾼 view를 제공한다.  \n",
    "비슷하게 ```flatten```도 사용할 수 있으며, 이 때는 copy를 제공한다. "
   ]
  },
  {
   "cell_type": "code",
   "execution_count": 82,
   "id": "a65d4ccf",
   "metadata": {},
   "outputs": [
    {
     "data": {
      "text/plain": [
       "array([1., 2., 3., 5.])"
      ]
     },
     "execution_count": 82,
     "metadata": {},
     "output_type": "execute_result"
    }
   ],
   "source": [
    "A.ravel()"
   ]
  },
  {
   "cell_type": "code",
   "execution_count": 83,
   "id": "938bbf9c",
   "metadata": {},
   "outputs": [
    {
     "data": {
      "text/plain": [
       "array([1., 2., 3., 5.])"
      ]
     },
     "execution_count": 83,
     "metadata": {},
     "output_type": "execute_result"
    }
   ],
   "source": [
    "A.flatten()"
   ]
  },
  {
   "cell_type": "markdown",
   "id": "0ed90c9e",
   "metadata": {},
   "source": [
    "### Stacking\n",
    "\n",
    "여러 행렬을 겹쳐 쌓아 새로운 행렬을 만들 때 ```concatenate```함수가 이용된다. ```axis```를 조정하여 어떤 방향으로 쌓을지 정한다."
   ]
  },
  {
   "cell_type": "code",
   "execution_count": 84,
   "id": "2b08b36b",
   "metadata": {},
   "outputs": [
    {
     "data": {
      "text/plain": [
       "array([[1, 2],\n",
       "       [3, 4],\n",
       "       [5, 6]])"
      ]
     },
     "execution_count": 84,
     "metadata": {},
     "output_type": "execute_result"
    }
   ],
   "source": [
    "a = np.array([[1, 2], [3, 4]])\n",
    "b = np.array([[5, 6]])\n",
    "np.concatenate((a, b), axis=0)"
   ]
  },
  {
   "cell_type": "code",
   "execution_count": 85,
   "id": "550a05d6",
   "metadata": {},
   "outputs": [
    {
     "data": {
      "text/plain": [
       "array([[1, 2, 5],\n",
       "       [3, 4, 6]])"
      ]
     },
     "execution_count": 85,
     "metadata": {},
     "output_type": "execute_result"
    }
   ],
   "source": [
    "np.concatenate((a, b.T), axis=1)"
   ]
  },
  {
   "cell_type": "code",
   "execution_count": 86,
   "id": "045f893e",
   "metadata": {},
   "outputs": [
    {
     "data": {
      "text/plain": [
       "array([1, 2, 3, 4, 5, 6])"
      ]
     },
     "execution_count": 86,
     "metadata": {},
     "output_type": "execute_result"
    }
   ],
   "source": [
    "np.concatenate((a, b), axis=None)"
   ]
  },
  {
   "cell_type": "markdown",
   "id": "60f7a0f2",
   "metadata": {},
   "source": [
    "다음의 변형된 함수들 또한 자주 이용된다.\n",
    "\n",
    "* ```hstack``` :  수평 방향   \n",
    "* ```vstack``` :  수직 방형   \n",
    "* ```column_stack``` :  컬럼들로 "
   ]
  },
  {
   "cell_type": "code",
   "execution_count": 87,
   "id": "ccad7963",
   "metadata": {},
   "outputs": [
    {
     "data": {
      "text/plain": [
       "array([1, 2, 3, 4, 5, 6])"
      ]
     },
     "execution_count": 87,
     "metadata": {},
     "output_type": "execute_result"
    }
   ],
   "source": [
    "a = np.array((1,2,3))\n",
    "b = np.array((4,5,6))\n",
    "np.hstack((a,b))"
   ]
  },
  {
   "cell_type": "code",
   "execution_count": 88,
   "id": "f0dda1fb",
   "metadata": {},
   "outputs": [
    {
     "data": {
      "text/plain": [
       "array([[1, 4],\n",
       "       [2, 5],\n",
       "       [3, 6]])"
      ]
     },
     "execution_count": 88,
     "metadata": {},
     "output_type": "execute_result"
    }
   ],
   "source": [
    "a = np.array([[1],[2],[3]])\n",
    "b = np.array([[4],[5],[6]])\n",
    "np.hstack((a,b))"
   ]
  },
  {
   "cell_type": "code",
   "execution_count": 89,
   "id": "34a45274",
   "metadata": {},
   "outputs": [
    {
     "data": {
      "text/plain": [
       "array([[1, 2, 3],\n",
       "       [4, 5, 6]])"
      ]
     },
     "execution_count": 89,
     "metadata": {},
     "output_type": "execute_result"
    }
   ],
   "source": [
    "a = np.array([1, 2, 3])\n",
    "b = np.array([4, 5, 6])\n",
    "np.vstack((a,b))"
   ]
  },
  {
   "cell_type": "code",
   "execution_count": 90,
   "id": "fb48e57e",
   "metadata": {},
   "outputs": [
    {
     "data": {
      "text/plain": [
       "array([[1, 2],\n",
       "       [2, 3],\n",
       "       [3, 4]])"
      ]
     },
     "execution_count": 90,
     "metadata": {},
     "output_type": "execute_result"
    }
   ],
   "source": [
    "a = np.array((1,2,3))\n",
    "b = np.array((2,3,4))\n",
    "np.column_stack((a,b))"
   ]
  },
  {
   "cell_type": "markdown",
   "id": "1fff8e4d",
   "metadata": {},
   "source": [
    "### Universal function\n",
    "\n",
    "Array의 원소별로 적용되는 함수를 universal function이라 한다."
   ]
  },
  {
   "cell_type": "code",
   "execution_count": 91,
   "id": "fc922610",
   "metadata": {},
   "outputs": [
    {
     "data": {
      "text/plain": [
       "-1.0"
      ]
     },
     "execution_count": 91,
     "metadata": {},
     "output_type": "execute_result"
    }
   ],
   "source": [
    "np.cos(np.pi)"
   ]
  },
  {
   "cell_type": "code",
   "execution_count": 92,
   "id": "e9ee1137",
   "metadata": {},
   "outputs": [
    {
     "data": {
      "text/plain": [
       "array([[ 1.000000e+00,  6.123234e-17, -1.000000e+00]])"
      ]
     },
     "execution_count": 92,
     "metadata": {},
     "output_type": "execute_result"
    }
   ],
   "source": [
    "np.cos(np.array([[0, np.pi/2, np.pi]]))"
   ]
  },
  {
   "cell_type": "markdown",
   "id": "b74d4074",
   "metadata": {},
   "source": [
    "numpy universal functions :\n",
    "\n",
    "```numpy.cos, numpy.sin, numpy.tan```  \n",
    "```numpy.arcos, numpy.arcsin, numpy.arctan```  \n",
    "```numpy.cosh, numpy.sinh, numpy.tanh```  \n",
    "```numpy.arccosh, numpy.arcsinh, numpy.arctanh```   \n",
    "```numpy.sqrt```  \n",
    "```numpy.exp```  \n",
    "```numpy.log, numpy.log2, numpy.log10```"
   ]
  },
  {
   "cell_type": "markdown",
   "id": "a8244527",
   "metadata": {},
   "source": [
    "Universal function 만들기\n",
    "\n",
    "아래의 ```heaviside``` 함수는 universal function이 아니다."
   ]
  },
  {
   "cell_type": "code",
   "execution_count": 93,
   "id": "8e18505e",
   "metadata": {},
   "outputs": [],
   "source": [
    "def heaviside(x):\n",
    "    if x >= 0:\n",
    "        return 1.\n",
    "    else: \n",
    "        return 0."
   ]
  },
  {
   "cell_type": "markdown",
   "id": "1cca8c59",
   "metadata": {},
   "source": [
    "```vectorize```함수를 통해 universal function으로 만들 수 있다."
   ]
  },
  {
   "cell_type": "code",
   "execution_count": 94,
   "id": "ad4ac49e",
   "metadata": {},
   "outputs": [],
   "source": [
    "vheaviside = np.vectorize(heaviside)"
   ]
  },
  {
   "cell_type": "code",
   "execution_count": 95,
   "id": "a06754e0",
   "metadata": {},
   "outputs": [
    {
     "data": {
      "text/plain": [
       "array([0., 1.])"
      ]
     },
     "execution_count": 95,
     "metadata": {},
     "output_type": "execute_result"
    }
   ],
   "source": [
    "vheaviside(np.array([-1, 2]))"
   ]
  },
  {
   "cell_type": "markdown",
   "id": "877131bd",
   "metadata": {},
   "source": [
    "### Array functions"
   ]
  },
  {
   "cell_type": "code",
   "execution_count": 96,
   "id": "ff393295",
   "metadata": {},
   "outputs": [
    {
     "data": {
      "text/plain": [
       "array([[1, 2, 3, 4],\n",
       "       [5, 6, 7, 8]])"
      ]
     },
     "execution_count": 96,
     "metadata": {},
     "output_type": "execute_result"
    }
   ],
   "source": [
    "A = np.arange(1,9).reshape(2,-1)\n",
    "A"
   ]
  },
  {
   "cell_type": "code",
   "execution_count": 97,
   "id": "f12acf9c",
   "metadata": {},
   "outputs": [
    {
     "data": {
      "text/plain": [
       "36"
      ]
     },
     "execution_count": 97,
     "metadata": {},
     "output_type": "execute_result"
    }
   ],
   "source": [
    "np.sum(A)"
   ]
  },
  {
   "cell_type": "code",
   "execution_count": 98,
   "id": "bdc5a3c7",
   "metadata": {},
   "outputs": [
    {
     "data": {
      "text/plain": [
       "array([ 6,  8, 10, 12])"
      ]
     },
     "execution_count": 98,
     "metadata": {},
     "output_type": "execute_result"
    }
   ],
   "source": [
    "np.sum(A, axis=0)"
   ]
  },
  {
   "cell_type": "code",
   "execution_count": 99,
   "id": "331b9997",
   "metadata": {},
   "outputs": [
    {
     "data": {
      "text/plain": [
       "array([10, 26])"
      ]
     },
     "execution_count": 99,
     "metadata": {},
     "output_type": "execute_result"
    }
   ],
   "source": [
    "np.sum(A, axis=1)"
   ]
  },
  {
   "cell_type": "code",
   "execution_count": 100,
   "id": "79e121c7",
   "metadata": {},
   "outputs": [
    {
     "data": {
      "text/plain": [
       "array([10, 26])"
      ]
     },
     "execution_count": 100,
     "metadata": {},
     "output_type": "execute_result"
    }
   ],
   "source": [
    "A.sum(axis=1)"
   ]
  },
  {
   "cell_type": "markdown",
   "id": "385c9d0d",
   "metadata": {},
   "source": [
    "### Array view와 copy\n",
    "\n",
    "Numpy는 보다 효율적인 메모리 관리를 위해 view라는 개념을 제공한다.\n",
    "View는 보다 큰 array의 data를 공유하는 작은 array라고 생각할 수 있다.  \n",
    "앞에서 언급한 것처럼 slicing은 view를 이용한다."
   ]
  },
  {
   "cell_type": "code",
   "execution_count": 101,
   "id": "1b4747c2",
   "metadata": {},
   "outputs": [],
   "source": [
    "M = np.array([[1.,2.],[3.,4.]])\n",
    "v = M[0,:] # first row of M"
   ]
  },
  {
   "cell_type": "code",
   "execution_count": 102,
   "id": "bf898bfa",
   "metadata": {},
   "outputs": [
    {
     "data": {
      "text/plain": [
       "array([1., 0.])"
      ]
     },
     "execution_count": 102,
     "metadata": {},
     "output_type": "execute_result"
    }
   ],
   "source": [
    "v[-1] = 0.\n",
    "v"
   ]
  },
  {
   "cell_type": "code",
   "execution_count": 103,
   "id": "ee8260c0",
   "metadata": {},
   "outputs": [
    {
     "data": {
      "text/plain": [
       "array([[1., 0.],\n",
       "       [3., 4.]])"
      ]
     },
     "execution_count": 103,
     "metadata": {},
     "output_type": "execute_result"
    }
   ],
   "source": [
    "M"
   ]
  },
  {
   "cell_type": "code",
   "execution_count": 104,
   "id": "46052a32",
   "metadata": {},
   "outputs": [
    {
     "data": {
      "text/plain": [
       "array([[1., 0.],\n",
       "       [3., 4.]])"
      ]
     },
     "execution_count": 104,
     "metadata": {},
     "output_type": "execute_result"
    }
   ],
   "source": [
    "v.base"
   ]
  },
  {
   "cell_type": "code",
   "execution_count": 105,
   "id": "ef885e45",
   "metadata": {},
   "outputs": [
    {
     "data": {
      "text/plain": [
       "True"
      ]
     },
     "execution_count": 105,
     "metadata": {},
     "output_type": "execute_result"
    }
   ],
   "source": [
    "v.base is M"
   ]
  },
  {
   "cell_type": "code",
   "execution_count": 106,
   "id": "01255de4",
   "metadata": {},
   "outputs": [
    {
     "name": "stdout",
     "output_type": "stream",
     "text": [
      "None\n"
     ]
    }
   ],
   "source": [
    "print(M.base)"
   ]
  },
  {
   "cell_type": "markdown",
   "id": "f30dc5a9",
   "metadata": {},
   "source": [
    "Slicing을 통한 selection만이 view를 생성하며, boolean이나 정수 index를 이용한 선택은 copy를 생성한다."
   ]
  },
  {
   "cell_type": "code",
   "execution_count": 107,
   "id": "10d7ebd0",
   "metadata": {},
   "outputs": [
    {
     "data": {
      "text/plain": [
       "array([2, 3])"
      ]
     },
     "execution_count": 107,
     "metadata": {},
     "output_type": "execute_result"
    }
   ],
   "source": [
    "a = np.arange(4) \n",
    "b = a[[2,3]] \n",
    "b # view가 아니다"
   ]
  },
  {
   "cell_type": "code",
   "execution_count": 108,
   "id": "69487b9f",
   "metadata": {},
   "outputs": [
    {
     "data": {
      "text/plain": [
       "True"
      ]
     },
     "execution_count": 108,
     "metadata": {},
     "output_type": "execute_result"
    }
   ],
   "source": [
    "b.base is None"
   ]
  },
  {
   "cell_type": "code",
   "execution_count": 109,
   "id": "37835e5e",
   "metadata": {},
   "outputs": [
    {
     "data": {
      "text/plain": [
       "True"
      ]
     },
     "execution_count": 109,
     "metadata": {},
     "output_type": "execute_result"
    }
   ],
   "source": [
    "c = a[1:3] \n",
    "c.base is a"
   ]
  },
  {
   "cell_type": "markdown",
   "id": "78767c1b",
   "metadata": {},
   "source": [
    "그 외에 reshape과 transpose는 view를 생성한다."
   ]
  },
  {
   "cell_type": "code",
   "execution_count": 110,
   "id": "446f7b93",
   "metadata": {},
   "outputs": [
    {
     "data": {
      "text/plain": [
       "True"
      ]
     },
     "execution_count": 110,
     "metadata": {},
     "output_type": "execute_result"
    }
   ],
   "source": [
    "M = np.random.random_sample((3,3))\n",
    "N = M.T\n",
    "N.base is M "
   ]
  },
  {
   "cell_type": "code",
   "execution_count": 111,
   "id": "7b15f1ba",
   "metadata": {},
   "outputs": [
    {
     "data": {
      "text/plain": [
       "True"
      ]
     },
     "execution_count": 111,
     "metadata": {},
     "output_type": "execute_result"
    }
   ],
   "source": [
    "v = np.arange(10)\n",
    "C = v.reshape(-1,1) # column matrix\n",
    "C.base is v"
   ]
  },
  {
   "cell_type": "markdown",
   "id": "c1b124f2",
   "metadata": {},
   "source": [
    "데이터를 복사할 필요가 있을 때는 복사하여 사용한다."
   ]
  },
  {
   "cell_type": "code",
   "execution_count": 112,
   "id": "6ec16b69",
   "metadata": {},
   "outputs": [],
   "source": [
    "M = np.array([[1.,2.],[3.,4.]])\n",
    "N = np.array(M.T)"
   ]
  },
  {
   "cell_type": "code",
   "execution_count": 113,
   "id": "47e88018",
   "metadata": {},
   "outputs": [
    {
     "data": {
      "text/plain": [
       "True"
      ]
     },
     "execution_count": 113,
     "metadata": {},
     "output_type": "execute_result"
    }
   ],
   "source": [
    "N.base is None"
   ]
  },
  {
   "cell_type": "markdown",
   "id": "768d5c6b",
   "metadata": {},
   "source": [
    "```copy``` method를 이용할 수 있다."
   ]
  },
  {
   "cell_type": "code",
   "execution_count": 114,
   "id": "478154a5",
   "metadata": {},
   "outputs": [],
   "source": [
    "N2 = M.T.copy()"
   ]
  },
  {
   "cell_type": "code",
   "execution_count": 115,
   "id": "04012e0c",
   "metadata": {},
   "outputs": [
    {
     "data": {
      "text/plain": [
       "True"
      ]
     },
     "execution_count": 115,
     "metadata": {},
     "output_type": "execute_result"
    }
   ],
   "source": [
    "N2.base is None"
   ]
  },
  {
   "cell_type": "markdown",
   "id": "91728e57",
   "metadata": {},
   "source": [
    "### Boolean array"
   ]
  },
  {
   "cell_type": "code",
   "execution_count": 116,
   "id": "ea1c8640",
   "metadata": {},
   "outputs": [
    {
     "data": {
      "text/plain": [
       "dtype('bool')"
      ]
     },
     "execution_count": 116,
     "metadata": {},
     "output_type": "execute_result"
    }
   ],
   "source": [
    "A = np.array([True,False]) # Boolean array\n",
    "A.dtype "
   ]
  },
  {
   "cell_type": "code",
   "execution_count": 117,
   "id": "be1b45ca",
   "metadata": {},
   "outputs": [
    {
     "data": {
      "text/plain": [
       "array([[False,  True],\n",
       "       [False,  True]])"
      ]
     },
     "execution_count": 117,
     "metadata": {},
     "output_type": "execute_result"
    }
   ],
   "source": [
    "M = np.array([[2, 3],\n",
    "           [1, 4]])\n",
    "M > 2"
   ]
  },
  {
   "cell_type": "code",
   "execution_count": 118,
   "id": "37dc0df4",
   "metadata": {},
   "outputs": [
    {
     "data": {
      "text/plain": [
       "array([[False, False],\n",
       "       [False, False]])"
      ]
     },
     "execution_count": 118,
     "metadata": {},
     "output_type": "execute_result"
    }
   ],
   "source": [
    "M == 0"
   ]
  },
  {
   "cell_type": "code",
   "execution_count": 119,
   "id": "836ace77",
   "metadata": {},
   "outputs": [
    {
     "data": {
      "text/plain": [
       "array([[ True,  True],\n",
       "       [False, False]])"
      ]
     },
     "execution_count": 119,
     "metadata": {},
     "output_type": "execute_result"
    }
   ],
   "source": [
    "N = np.array([[2, 3],\n",
    "           [0, 0]])\n",
    "M == N"
   ]
  },
  {
   "cell_type": "code",
   "execution_count": 120,
   "id": "6cd05873",
   "metadata": {},
   "outputs": [
    {
     "data": {
      "text/plain": [
       "array([[ True,  True],\n",
       "       [ True, False]])"
      ]
     },
     "execution_count": 120,
     "metadata": {},
     "output_type": "execute_result"
    }
   ],
   "source": [
    "A = np.array([[1,2],[3,4]])\n",
    "B = np.array([[1,2],[3,3]])\n",
    "A == B "
   ]
  },
  {
   "cell_type": "markdown",
   "id": "69e3bd92",
   "metadata": {},
   "source": [
    "* ```numpy.all``` : 모든 원소가 True인지 테스트  \n",
    "* ```numpy.any``` : 어느 하나의 원소라도 True인지 테스트"
   ]
  },
  {
   "cell_type": "code",
   "execution_count": 121,
   "id": "a7c7ab66",
   "metadata": {},
   "outputs": [
    {
     "data": {
      "text/plain": [
       "False"
      ]
     },
     "execution_count": 121,
     "metadata": {},
     "output_type": "execute_result"
    }
   ],
   "source": [
    "(A == B).all()"
   ]
  },
  {
   "cell_type": "code",
   "execution_count": 122,
   "id": "cd2641ef",
   "metadata": {},
   "outputs": [
    {
     "data": {
      "text/plain": [
       "True"
      ]
     },
     "execution_count": 122,
     "metadata": {},
     "output_type": "execute_result"
    }
   ],
   "source": [
    "(A != B).any()"
   ]
  },
  {
   "cell_type": "code",
   "execution_count": 123,
   "id": "f6998d62",
   "metadata": {},
   "outputs": [],
   "source": [
    "if (abs(B-A) < 1e-10).all():\n",
    "    print(\"The two arrays are close enough\")"
   ]
  },
  {
   "cell_type": "markdown",
   "id": "e90ffd29",
   "metadata": {},
   "source": [
    "실수로 구성된 두 array를 비교하는 것은 쉬운 것은 아니다.\n",
    "Numpy에선 ```allclose```를 통하여, 비교하도록 되어있다."
   ]
  },
  {
   "cell_type": "code",
   "execution_count": 124,
   "id": "cfea6a2a",
   "metadata": {},
   "outputs": [
    {
     "data": {
      "text/plain": [
       "array([False, False])"
      ]
     },
     "execution_count": 124,
     "metadata": {},
     "output_type": "execute_result"
    }
   ],
   "source": [
    "data = np.random.rand(2)*1e-3\n",
    "small_error = np.random.rand(2)*1e-16\n",
    "data == data + small_error"
   ]
  },
  {
   "cell_type": "markdown",
   "id": "d6e70736",
   "metadata": {},
   "source": [
    "```rtol```는 relative tolerance bound, ```atol```는 absoulte error bound를 의미"
   ]
  },
  {
   "cell_type": "code",
   "execution_count": 125,
   "id": "c3487b29",
   "metadata": {},
   "outputs": [
    {
     "data": {
      "text/plain": [
       "True"
      ]
     },
     "execution_count": 125,
     "metadata": {},
     "output_type": "execute_result"
    }
   ],
   "source": [
    "np.allclose(data, data + small_error, rtol=1.e-5, atol=1.e-8)"
   ]
  },
  {
   "cell_type": "markdown",
   "id": "1954d53d",
   "metadata": {},
   "source": [
    "Numpy array를 대상으로 boolean operation을 진행할 때, ```and```, ```or```, ```not```을 사용하지 않는다.  \n",
    "대신 comonentwise operator로 ```&, |, ~```를 사용한다."
   ]
  },
  {
   "cell_type": "code",
   "execution_count": 126,
   "id": "6c51118e",
   "metadata": {},
   "outputs": [],
   "source": [
    "A = np.array([True, True, False, False])\n",
    "B = np.array([True, False, True, False])"
   ]
  },
  {
   "cell_type": "code",
   "execution_count": 127,
   "id": "d04639b6",
   "metadata": {},
   "outputs": [
    {
     "data": {
      "text/plain": [
       "array([ True, False, False, False])"
      ]
     },
     "execution_count": 127,
     "metadata": {},
     "output_type": "execute_result"
    }
   ],
   "source": [
    "A & B"
   ]
  },
  {
   "cell_type": "code",
   "execution_count": 128,
   "id": "36f317db",
   "metadata": {},
   "outputs": [
    {
     "data": {
      "text/plain": [
       "array([ True,  True,  True, False])"
      ]
     },
     "execution_count": 128,
     "metadata": {},
     "output_type": "execute_result"
    }
   ],
   "source": [
    "A | B"
   ]
  },
  {
   "cell_type": "code",
   "execution_count": 129,
   "id": "1d908b22",
   "metadata": {},
   "outputs": [
    {
     "data": {
      "text/plain": [
       "array([False, False,  True,  True])"
      ]
     },
     "execution_count": 129,
     "metadata": {},
     "output_type": "execute_result"
    }
   ],
   "source": [
    "~A"
   ]
  },
  {
   "cell_type": "markdown",
   "id": "da06946d",
   "metadata": {},
   "source": [
    "### Array indexing\n",
    "\n",
    "Slicing 외에도 정수나 boolean array를 이용하여 indexing을 할 수 있다.  \n",
    "먼저 boolean indexing을 살펴보는데, 결과가 벡터가 됨을 유의해서 살펴보라."
   ]
  },
  {
   "cell_type": "code",
   "execution_count": 130,
   "id": "dea3318b",
   "metadata": {},
   "outputs": [
    {
     "data": {
      "text/plain": [
       "array([2, 4])"
      ]
     },
     "execution_count": 130,
     "metadata": {},
     "output_type": "execute_result"
    }
   ],
   "source": [
    "B = np.array([[True, False],\n",
    "           [False, True]])\n",
    "M = np.array([[2, 3],\n",
    "           [1, 4]])\n",
    "M[B]"
   ]
  },
  {
   "cell_type": "code",
   "execution_count": 131,
   "id": "46bb0a02",
   "metadata": {},
   "outputs": [
    {
     "data": {
      "text/plain": [
       "array([[0, 3],\n",
       "       [1, 0]])"
      ]
     },
     "execution_count": 131,
     "metadata": {},
     "output_type": "execute_result"
    }
   ],
   "source": [
    "M[B] = 0\n",
    "M"
   ]
  },
  {
   "cell_type": "code",
   "execution_count": 132,
   "id": "2fc70021",
   "metadata": {},
   "outputs": [
    {
     "data": {
      "text/plain": [
       "array([[10,  3],\n",
       "       [ 1, 20]])"
      ]
     },
     "execution_count": 132,
     "metadata": {},
     "output_type": "execute_result"
    }
   ],
   "source": [
    "M[B] = 10, 20\n",
    "M"
   ]
  },
  {
   "cell_type": "code",
   "execution_count": 133,
   "id": "f8bec3d3",
   "metadata": {},
   "outputs": [
    {
     "data": {
      "text/plain": [
       "array([[0, 0],\n",
       "       [1, 0]])"
      ]
     },
     "execution_count": 133,
     "metadata": {},
     "output_type": "execute_result"
    }
   ],
   "source": [
    "M[M>2] = 0    # all the elements > 2 are replaced by 0\n",
    "M"
   ]
  },
  {
   "cell_type": "markdown",
   "id": "b3e10afd",
   "metadata": {},
   "source": [
    "```where```는 특정 조건을 만족하는 원소들의 위치를 특정하는데 편리하다. 기본 용법은 다음과 같다.  \n",
    "\n",
    "```where(conition, a, b)```  \n",
    "\n",
    "```condition```이 True인 곳은 ```a```를, False인 곳은 ```b```를 반환한다."
   ]
  },
  {
   "cell_type": "code",
   "execution_count": 134,
   "id": "534e44b2",
   "metadata": {},
   "outputs": [
    {
     "name": "stdout",
     "output_type": "stream",
     "text": [
      "[0 0 0 0 0 1 1 1 1 1 1]\n"
     ]
    }
   ],
   "source": [
    "def H(x):\n",
    "    return np.where(x < 0, 0, 1)\n",
    "x = np.linspace(-1,1,11)  # [-1. -0.8 -0.6 -0.4 -0.2 0. 0.2 0.4 0.6 0.8 1. ]\n",
    "print(H(x)) "
   ]
  },
  {
   "cell_type": "code",
   "execution_count": 135,
   "id": "3de25817",
   "metadata": {},
   "outputs": [
    {
     "name": "stdout",
     "output_type": "stream",
     "text": [
      "[-4. -2.  0.  2.  4.]\n"
     ]
    }
   ],
   "source": [
    "x = np.linspace(-4,4,5)\n",
    "print(x)"
   ]
  },
  {
   "cell_type": "code",
   "execution_count": 136,
   "id": "262d084b",
   "metadata": {},
   "outputs": [
    {
     "name": "stdout",
     "output_type": "stream",
     "text": [
      "[4. 2. 0. 2. 4.]\n"
     ]
    }
   ],
   "source": [
    "print(np.where(x < 0, -x, x))"
   ]
  },
  {
   "cell_type": "code",
   "execution_count": 137,
   "id": "41b8918f",
   "metadata": {},
   "outputs": [
    {
     "name": "stdout",
     "output_type": "stream",
     "text": [
      "[-1 -1 -1  1  1]\n"
     ]
    }
   ],
   "source": [
    "print(np.where(x > 0, 1, -1)) # [-1 -1 -1  1  1]"
   ]
  },
  {
   "cell_type": "markdown",
   "id": "c8c2da08",
   "metadata": {},
   "source": [
    "만약 ```where```의 두번째, 세번째 인자가 생략되면, ```condition```이 True인 위치의 index들이 반환된다."
   ]
  },
  {
   "cell_type": "code",
   "execution_count": 138,
   "id": "7ff91506",
   "metadata": {},
   "outputs": [
    {
     "name": "stdout",
     "output_type": "stream",
     "text": [
      "[0 1 2 3 4 5 6 7 8]\n"
     ]
    }
   ],
   "source": [
    "a = np.arange(9)\n",
    "print(a)"
   ]
  },
  {
   "cell_type": "code",
   "execution_count": 139,
   "id": "b6754bbf",
   "metadata": {},
   "outputs": [
    {
     "name": "stdout",
     "output_type": "stream",
     "text": [
      "[[0 1 2]\n",
      " [3 4 5]\n",
      " [6 7 8]]\n"
     ]
    }
   ],
   "source": [
    "b = a.reshape((3,3))\n",
    "print(b)"
   ]
  },
  {
   "cell_type": "code",
   "execution_count": 140,
   "id": "1d0c599b",
   "metadata": {},
   "outputs": [
    {
     "data": {
      "text/plain": [
       "(array([6, 7, 8], dtype=int64),)"
      ]
     },
     "execution_count": 140,
     "metadata": {},
     "output_type": "execute_result"
    }
   ],
   "source": [
    "np.where(a > 5)"
   ]
  },
  {
   "cell_type": "code",
   "execution_count": 141,
   "id": "4ccc51cb",
   "metadata": {},
   "outputs": [
    {
     "data": {
      "text/plain": [
       "(array([2, 2, 2], dtype=int64), array([0, 1, 2], dtype=int64))"
      ]
     },
     "execution_count": 141,
     "metadata": {},
     "output_type": "execute_result"
    }
   ],
   "source": [
    "np.where(b > 5)"
   ]
  },
  {
   "cell_type": "markdown",
   "id": "2bbb122d",
   "metadata": {},
   "source": [
    "### Set operation\n",
    "\n",
    "Numpy array는 집합을 표현하는 데에 사용할 수 있다.  \n"
   ]
  },
  {
   "cell_type": "code",
   "execution_count": 142,
   "id": "92e0bb4c",
   "metadata": {},
   "outputs": [
    {
     "data": {
      "text/plain": [
       "array([1, 2, 3])"
      ]
     },
     "execution_count": 142,
     "metadata": {},
     "output_type": "execute_result"
    }
   ],
   "source": [
    "a = np.unique([1,2,3,3])\n",
    "a"
   ]
  },
  {
   "cell_type": "code",
   "execution_count": 143,
   "id": "c610f1d2",
   "metadata": {},
   "outputs": [
    {
     "data": {
      "text/plain": [
       "array([2, 3, 4, 5, 6])"
      ]
     },
     "execution_count": 143,
     "metadata": {},
     "output_type": "execute_result"
    }
   ],
   "source": [
    "b = np.unique([2,3,4,4,5,6,5])\n",
    "b"
   ]
  },
  {
   "cell_type": "markdown",
   "id": "70e5743c",
   "metadata": {},
   "source": [
    "```np.in1d```는 원소가 속해있는지 여부를 확인한다."
   ]
  },
  {
   "cell_type": "code",
   "execution_count": 144,
   "id": "3264f533",
   "metadata": {},
   "outputs": [
    {
     "data": {
      "text/plain": [
       "array([False,  True,  True])"
      ]
     },
     "execution_count": 144,
     "metadata": {},
     "output_type": "execute_result"
    }
   ],
   "source": [
    "np.in1d(a, b)"
   ]
  },
  {
   "cell_type": "code",
   "execution_count": 145,
   "id": "74b7679e",
   "metadata": {},
   "outputs": [
    {
     "data": {
      "text/plain": [
       "True"
      ]
     },
     "execution_count": 145,
     "metadata": {},
     "output_type": "execute_result"
    }
   ],
   "source": [
    "1 in a"
   ]
  },
  {
   "cell_type": "code",
   "execution_count": 146,
   "id": "b68e9cd8",
   "metadata": {},
   "outputs": [
    {
     "data": {
      "text/plain": [
       "False"
      ]
     },
     "execution_count": 146,
     "metadata": {},
     "output_type": "execute_result"
    }
   ],
   "source": [
    "1 in b"
   ]
  },
  {
   "cell_type": "markdown",
   "id": "0bd381f0",
   "metadata": {},
   "source": [
    "부분 집합의 여부는 다음과 같이 확인 가능 하다."
   ]
  },
  {
   "cell_type": "code",
   "execution_count": 147,
   "id": "43bf3790",
   "metadata": {},
   "outputs": [
    {
     "data": {
      "text/plain": [
       "False"
      ]
     },
     "execution_count": 147,
     "metadata": {},
     "output_type": "execute_result"
    }
   ],
   "source": [
    "np.all(np.in1d(a, b))"
   ]
  },
  {
   "cell_type": "markdown",
   "id": "d5173977",
   "metadata": {},
   "source": [
    "그 외에 합집합, 교집합, 차집합 등의 연산이 가능하다."
   ]
  },
  {
   "cell_type": "code",
   "execution_count": 148,
   "id": "451c5a1d",
   "metadata": {},
   "outputs": [
    {
     "data": {
      "text/plain": [
       "array([1, 2, 3, 4, 5, 6])"
      ]
     },
     "execution_count": 148,
     "metadata": {},
     "output_type": "execute_result"
    }
   ],
   "source": [
    "np.union1d(a, b)"
   ]
  },
  {
   "cell_type": "code",
   "execution_count": 149,
   "id": "6aa68558",
   "metadata": {},
   "outputs": [
    {
     "data": {
      "text/plain": [
       "array([2, 3])"
      ]
     },
     "execution_count": 149,
     "metadata": {},
     "output_type": "execute_result"
    }
   ],
   "source": [
    "np.intersect1d(a, b)"
   ]
  },
  {
   "cell_type": "code",
   "execution_count": 150,
   "id": "bad504e6",
   "metadata": {},
   "outputs": [
    {
     "data": {
      "text/plain": [
       "array([1])"
      ]
     },
     "execution_count": 150,
     "metadata": {},
     "output_type": "execute_result"
    }
   ],
   "source": [
    "np.setdiff1d(a, b)"
   ]
  },
  {
   "cell_type": "code",
   "execution_count": 151,
   "id": "4491293e",
   "metadata": {},
   "outputs": [
    {
     "data": {
      "text/plain": [
       "array([4, 5, 6])"
      ]
     },
     "execution_count": 151,
     "metadata": {},
     "output_type": "execute_result"
    }
   ],
   "source": [
    "np.setdiff1d(b, a)"
   ]
  },
  {
   "cell_type": "markdown",
   "id": "5a1b478f",
   "metadata": {},
   "source": [
    "### Performance and vectorization\n",
    "\n",
    "Numpy 등의 모듈은 내부적으로 FORTRAN, C, C++ 등의 컴파일된 언어를 이용하기 때문에 매우 빠르다.  \n",
    "다음의 두 코드를 비교했을 때, 같은 기능이지만 두 번째 코드가 훨씬 빠르다."
   ]
  },
  {
   "cell_type": "code",
   "execution_count": 152,
   "id": "498a35ad",
   "metadata": {},
   "outputs": [
    {
     "name": "stdout",
     "output_type": "stream",
     "text": [
      "3.36 µs ± 12.8 ns per loop (mean ± std. dev. of 7 runs, 100,000 loops each)\n"
     ]
    }
   ],
   "source": [
    "%%timeit\n",
    "v = np.arange(10)\n",
    "w = np.zeros((10,))\n",
    "for i in np.arange(len(v)):\n",
    "    w[i] = v[i] + 5\n",
    "w"
   ]
  },
  {
   "cell_type": "code",
   "execution_count": 153,
   "id": "a4a06b5d",
   "metadata": {},
   "outputs": [
    {
     "name": "stdout",
     "output_type": "stream",
     "text": [
      "698 ns ± 2.49 ns per loop (mean ± std. dev. of 7 runs, 1,000,000 loops each)\n"
     ]
    }
   ],
   "source": [
    "%%timeit\n",
    "w = v + 5\n",
    "w"
   ]
  },
  {
   "cell_type": "markdown",
   "id": "3fac3982",
   "metadata": {},
   "source": [
    "```vectorize```를 이용하는 것이 빠르다."
   ]
  },
  {
   "cell_type": "code",
   "execution_count": 154,
   "id": "7a308cec",
   "metadata": {},
   "outputs": [],
   "source": [
    "def my_func(x):\n",
    "    y = x**3 - 2*x + 5\n",
    "    if y>0.5:\n",
    "        return y-0.5\n",
    "    else:\n",
    "        return 0"
   ]
  },
  {
   "cell_type": "code",
   "execution_count": 155,
   "id": "4d773cad",
   "metadata": {},
   "outputs": [
    {
     "name": "stdout",
     "output_type": "stream",
     "text": [
      "21.4 µs ± 62 ns per loop (mean ± std. dev. of 7 runs, 10,000 loops each)\n"
     ]
    }
   ],
   "source": [
    "%%timeit\n",
    "[my_func(vk) for vk in v]"
   ]
  },
  {
   "cell_type": "code",
   "execution_count": 156,
   "id": "d5e6a5d2",
   "metadata": {},
   "outputs": [
    {
     "name": "stdout",
     "output_type": "stream",
     "text": [
      "11.6 µs ± 44.2 ns per loop (mean ± std. dev. of 7 runs, 100,000 loops each)\n"
     ]
    }
   ],
   "source": [
    "%%timeit\n",
    "np.vectorize(my_func)(v)"
   ]
  },
  {
   "cell_type": "markdown",
   "id": "da95d19a",
   "metadata": {},
   "source": [
    "### Broadcasting\n",
    "\n",
    "Numpy broadcasting의 핵심 개념은 두 개의 서로 다른, 하지만 호환 가능한 shape을 가지는 array들이 연산될 때, 이를 적절히 처리하는 능력이다."
   ]
  },
  {
   "cell_type": "markdown",
   "id": "f7675074",
   "metadata": {},
   "source": [
    "벡터와 스칼라의 연산"
   ]
  },
  {
   "cell_type": "code",
   "execution_count": 157,
   "id": "e4d8eaf5",
   "metadata": {},
   "outputs": [
    {
     "data": {
      "text/plain": [
       "array([1., 2., 3., 4.])"
      ]
     },
     "execution_count": 157,
     "metadata": {},
     "output_type": "execute_result"
    }
   ],
   "source": [
    "vector = np.arange(4) # array([0.,1.,2.,3.])\n",
    "vector + 1.  "
   ]
  },
  {
   "cell_type": "markdown",
   "id": "f63a39f5",
   "metadata": {},
   "source": [
    "벡터와 행렬의 연산"
   ]
  },
  {
   "cell_type": "code",
   "execution_count": 158,
   "id": "da1b42ee",
   "metadata": {},
   "outputs": [
    {
     "data": {
      "text/plain": [
       "array([[111, 212, 313, 414],\n",
       "       [121, 222, 323, 424],\n",
       "       [131, 232, 333, 434]])"
      ]
     },
     "execution_count": 158,
     "metadata": {},
     "output_type": "execute_result"
    }
   ],
   "source": [
    "M = np.array([[11, 12, 13, 14],\n",
    "           [21, 22, 23, 24],\n",
    "           [31, 32, 33, 34]])\n",
    "v = np.array([100, 200, 300, 400])\n",
    "M + v"
   ]
  },
  {
   "cell_type": "markdown",
   "id": "46d830e8",
   "metadata": {},
   "source": [
    "서로 다른 shape을 가지는 column 행렬과 row 행렬 간의 연산"
   ]
  },
  {
   "cell_type": "code",
   "execution_count": 159,
   "id": "2627f391",
   "metadata": {},
   "outputs": [
    {
     "data": {
      "text/plain": [
       "array([[0],\n",
       "       [1],\n",
       "       [2]])"
      ]
     },
     "execution_count": 159,
     "metadata": {},
     "output_type": "execute_result"
    }
   ],
   "source": [
    "C = np.arange(3).reshape(-1,1) # column\n",
    "C"
   ]
  },
  {
   "cell_type": "code",
   "execution_count": 160,
   "id": "3fb5b541",
   "metadata": {},
   "outputs": [
    {
     "data": {
      "text/plain": [
       "array([[0, 1]])"
      ]
     },
     "execution_count": 160,
     "metadata": {},
     "output_type": "execute_result"
    }
   ],
   "source": [
    "R = np.arange(2).reshape(1,-1) # row\n",
    "R"
   ]
  },
  {
   "cell_type": "code",
   "execution_count": 161,
   "id": "7d7e7dba",
   "metadata": {},
   "outputs": [
    {
     "data": {
      "text/plain": [
       "array([[0, 1],\n",
       "       [1, 2],\n",
       "       [2, 3]])"
      ]
     },
     "execution_count": 161,
     "metadata": {},
     "output_type": "execute_result"
    }
   ],
   "source": [
    "C + R  "
   ]
  },
  {
   "cell_type": "markdown",
   "id": "e361870a",
   "metadata": {},
   "source": [
    "다른 예제"
   ]
  },
  {
   "cell_type": "code",
   "execution_count": 162,
   "id": "cb99aae9",
   "metadata": {},
   "outputs": [
    {
     "data": {
      "text/plain": [
       "array([[ -11,  -12,  -13,  -14],\n",
       "       [ -42,  -44,  -46,  -48],\n",
       "       [ -93,  -96,  -99, -102]])"
      ]
     },
     "execution_count": 162,
     "metadata": {},
     "output_type": "execute_result"
    }
   ],
   "source": [
    "coeff = np.array([-1,-2,-3]).reshape(-1,1)\n",
    "M * coeff"
   ]
  },
  {
   "cell_type": "code",
   "execution_count": 163,
   "id": "93c19a59",
   "metadata": {},
   "outputs": [
    {
     "data": {
      "text/plain": [
       "array([[ -11,  -24,  -39,  -56],\n",
       "       [ -21,  -44,  -69,  -96],\n",
       "       [ -31,  -64,  -99, -136]])"
      ]
     },
     "execution_count": 163,
     "metadata": {},
     "output_type": "execute_result"
    }
   ],
   "source": [
    "coeff = np.array([-1,-2,-3,-4])\n",
    "\n",
    "M * coeff"
   ]
  },
  {
   "cell_type": "code",
   "execution_count": 164,
   "id": "cd48eb00",
   "metadata": {},
   "outputs": [
    {
     "data": {
      "text/plain": [
       "array([[2, 3, 4],\n",
       "       [3, 4, 5]])"
      ]
     },
     "execution_count": 164,
     "metadata": {},
     "output_type": "execute_result"
    }
   ],
   "source": [
    "u = np.array([1, 2])\n",
    "v = np.array([1, 2, 3])\n",
    "W = u.reshape(-1,1) + v\n",
    "W"
   ]
  },
  {
   "cell_type": "markdown",
   "id": "c347adf1",
   "metadata": {},
   "source": [
    "### Meshgrid\n",
    "\n",
    "```ogrid```는 open grid의 약자로 meshgrid를 생성한다.\n",
    "\n",
    "아래에서 stride parameter로 ```3j```, 즉, 복소수를 사용하는데, 이는 step size가 아닌 number of step임을 뜻한다."
   ]
  },
  {
   "cell_type": "code",
   "execution_count": 165,
   "id": "da6a076d",
   "metadata": {},
   "outputs": [],
   "source": [
    "x,y = np.ogrid[0:1:3j,0:1:3j]  # x,y = ogrid[0:1.5:0.5, 0:1.5:0.5]와 동일"
   ]
  },
  {
   "cell_type": "code",
   "execution_count": 166,
   "id": "fac60186",
   "metadata": {},
   "outputs": [
    {
     "data": {
      "text/plain": [
       "array([[0. ],\n",
       "       [0.5],\n",
       "       [1. ]])"
      ]
     },
     "execution_count": 166,
     "metadata": {},
     "output_type": "execute_result"
    }
   ],
   "source": [
    "x"
   ]
  },
  {
   "cell_type": "code",
   "execution_count": 167,
   "id": "eccd0ff2",
   "metadata": {},
   "outputs": [
    {
     "data": {
      "text/plain": [
       "array([[0. , 0.5, 1. ]])"
      ]
     },
     "execution_count": 167,
     "metadata": {},
     "output_type": "execute_result"
    }
   ],
   "source": [
    "y"
   ]
  },
  {
   "cell_type": "markdown",
   "id": "a096a309",
   "metadata": {},
   "source": [
    "이 meshgrid를 이용하여 two-dimensional function을 evaluation할 수 있다."
   ]
  },
  {
   "cell_type": "code",
   "execution_count": 168,
   "id": "e40d8a83",
   "metadata": {},
   "outputs": [
    {
     "data": {
      "text/plain": [
       "array([[1.        , 1.84147098, 1.90929743],\n",
       "       [0.87758256, 1.71905355, 1.78687999],\n",
       "       [0.54030231, 1.38177329, 1.44959973]])"
      ]
     },
     "execution_count": 168,
     "metadata": {},
     "output_type": "execute_result"
    }
   ],
   "source": [
    "w = np.cos(x) + np.sin(2*y)\n",
    "w"
   ]
  },
  {
   "cell_type": "markdown",
   "id": "795db077",
   "metadata": {},
   "source": [
    "```meshgrid``` 함수 또한 많이 이용된다."
   ]
  },
  {
   "cell_type": "code",
   "execution_count": 169,
   "id": "b3313665",
   "metadata": {},
   "outputs": [],
   "source": [
    "x = np.array([-1, 0, 1])\n",
    "y = np.array([-2, 0, 2])\n",
    "X, Y = np.meshgrid(x, y)"
   ]
  },
  {
   "cell_type": "code",
   "execution_count": 170,
   "id": "aa7b72c6",
   "metadata": {},
   "outputs": [
    {
     "data": {
      "text/plain": [
       "array([[-1,  0,  1],\n",
       "       [-1,  0,  1],\n",
       "       [-1,  0,  1]])"
      ]
     },
     "execution_count": 170,
     "metadata": {},
     "output_type": "execute_result"
    }
   ],
   "source": [
    "X"
   ]
  },
  {
   "cell_type": "code",
   "execution_count": 171,
   "id": "7a687a51",
   "metadata": {},
   "outputs": [
    {
     "data": {
      "text/plain": [
       "array([[-2, -2, -2],\n",
       "       [ 0,  0,  0],\n",
       "       [ 2,  2,  2]])"
      ]
     },
     "execution_count": 171,
     "metadata": {},
     "output_type": "execute_result"
    }
   ],
   "source": [
    "Y"
   ]
  },
  {
   "cell_type": "code",
   "execution_count": 172,
   "id": "389385a6",
   "metadata": {},
   "outputs": [
    {
     "data": {
      "text/plain": [
       "array([[9, 4, 1],\n",
       "       [1, 0, 1],\n",
       "       [1, 4, 9]])"
      ]
     },
     "execution_count": 172,
     "metadata": {},
     "output_type": "execute_result"
    }
   ],
   "source": [
    "Z = (X + Y) ** 2\n",
    "Z"
   ]
  }
 ],
 "metadata": {
  "kernelspec": {
   "display_name": "Python 3 (ipykernel)",
   "language": "python",
   "name": "python3"
  },
  "language_info": {
   "codemirror_mode": {
    "name": "ipython",
    "version": 3
   },
   "file_extension": ".py",
   "mimetype": "text/x-python",
   "name": "python",
   "nbconvert_exporter": "python",
   "pygments_lexer": "ipython3",
   "version": "3.9.13"
  }
 },
 "nbformat": 4,
 "nbformat_minor": 5
}
