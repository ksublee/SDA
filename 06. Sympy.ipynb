{
 "cells": [
  {
   "cell_type": "markdown",
   "id": "2e4c6c8c",
   "metadata": {},
   "source": [
    "## Sympy\n",
    "\n",
    "SymPy는 symbolic 수학을 위한 Python 라이브러리이다.   \n",
    "이해하고 쉽게 확장할 수 있도록 코드를 가능한 한 단순하게 유지하면서 완전한 기능을 갖춘 컴퓨터 대수 시스템(CAS)이 되는 것을 목표로 한다.   SymPy는 전적으로 Python으로 작성되었다.  \n",
    "Numpy 등이 numerical computation을 위한 것이라면, SymPy는 손으로 푸는 방식의 수학 계산을 위한 것이다.  "
   ]
  },
  {
   "cell_type": "code",
   "execution_count": 1,
   "id": "655bffb3",
   "metadata": {},
   "outputs": [],
   "source": [
    "import sympy"
   ]
  },
  {
   "cell_type": "code",
   "execution_count": 2,
   "id": "366583b6",
   "metadata": {},
   "outputs": [],
   "source": [
    "from sympy import I, pi, oo"
   ]
  },
  {
   "cell_type": "markdown",
   "id": "518e35d0",
   "metadata": {},
   "source": [
    "Sympy의 주요 기능은 ```sympy.Symbol``` class로 정의하는 것으로부터 시작한다.  \n",
    "Symbol 자체만으로는 큰 유용성은 없으나, expression tree의 node 역할을 담당함으로써 algebraic computation이 가능하게 한다."
   ]
  },
  {
   "cell_type": "code",
   "execution_count": 3,
   "id": "7a8e12b4",
   "metadata": {},
   "outputs": [],
   "source": [
    "x = sympy.Symbol(\"x\")"
   ]
  },
  {
   "cell_type": "markdown",
   "id": "79439d69",
   "metadata": {},
   "source": [
    "위와 같이 정의하면 변수 ```x```는 수학 기호 $x$를 의미하게 된다."
   ]
  },
  {
   "cell_type": "code",
   "execution_count": 4,
   "id": "e1341417",
   "metadata": {
    "scrolled": true
   },
   "outputs": [
    {
     "data": {
      "text/plain": [
       "sympy.core.symbol.Symbol"
      ]
     },
     "execution_count": 4,
     "metadata": {},
     "output_type": "execute_result"
    }
   ],
   "source": [
    "type(x)"
   ]
  },
  {
   "cell_type": "code",
   "execution_count": 5,
   "id": "63347ddc",
   "metadata": {},
   "outputs": [
    {
     "data": {
      "text/plain": [
       "True"
      ]
     },
     "execution_count": 5,
     "metadata": {},
     "output_type": "execute_result"
    }
   ],
   "source": [
    "isinstance(x, sympy.core.Expr)"
   ]
  },
  {
   "cell_type": "code",
   "execution_count": 6,
   "id": "ba005a64",
   "metadata": {},
   "outputs": [],
   "source": [
    "y = sympy.Symbol(\"y\", real=True)"
   ]
  },
  {
   "cell_type": "markdown",
   "id": "bce89acd",
   "metadata": {},
   "source": [
    "만약 실수 변수를 다루는 것이라면 추가적으로 ```real=True``` 인자를 넣어준다.  "
   ]
  },
  {
   "cell_type": "code",
   "execution_count": 7,
   "id": "090b14a9",
   "metadata": {},
   "outputs": [
    {
     "data": {
      "text/plain": [
       "True"
      ]
     },
     "execution_count": 7,
     "metadata": {},
     "output_type": "execute_result"
    }
   ],
   "source": [
    "y.is_real"
   ]
  },
  {
   "cell_type": "code",
   "execution_count": 8,
   "id": "5d4c81a1",
   "metadata": {},
   "outputs": [
    {
     "data": {
      "text/plain": [
       "True"
      ]
     },
     "execution_count": 8,
     "metadata": {},
     "output_type": "execute_result"
    }
   ],
   "source": [
    "x.is_real is None"
   ]
  },
  {
   "cell_type": "code",
   "execution_count": 9,
   "id": "e836097d",
   "metadata": {},
   "outputs": [
    {
     "data": {
      "text/plain": [
       "False"
      ]
     },
     "execution_count": 9,
     "metadata": {},
     "output_type": "execute_result"
    }
   ],
   "source": [
    "sympy.Symbol(\"z\", imaginary=True).is_real"
   ]
  },
  {
   "cell_type": "code",
   "execution_count": 10,
   "id": "f20a34b4",
   "metadata": {},
   "outputs": [
    {
     "data": {
      "text/latex": [
       "$\\displaystyle x$"
      ],
      "text/plain": [
       "x"
      ]
     },
     "execution_count": 10,
     "metadata": {},
     "output_type": "execute_result"
    }
   ],
   "source": [
    "x"
   ]
  },
  {
   "cell_type": "markdown",
   "id": "fcd2ee40",
   "metadata": {},
   "source": [
    "Symbol에 대한 이런 추가적인 정보를 설정하는 것을 assumption system이라고 한다."
   ]
  },
  {
   "cell_type": "markdown",
   "id": "aff7eb21",
   "metadata": {},
   "source": [
    "```Symbol``` 객체에 대한 유용한 키워드들\n",
    "\n",
    "| Assumption keyword argument | Attribute | Description |\n",
    "|:-------|:-------|:-------|\n",
    "|```real```, ```imaginary``` | ```is_real```, ```is_imaginary``` | symbol이 실수 혹은 허수임을 의미 |\n",
    "|```positive```, ```negative``` | ```is_positive```, ```is_negative``` |  symbol이 양수 혹은 음수임을 의미 |\n",
    "|```integer``` | ```is_integer``` | symbol이 정수임을 의미 |\n",
    "|```odd```, ```even``` | ```is_odd```, ```is_even``` | symbol이 홀수 혹은 짝수임을 의미 |\n",
    "|```prime``` | ```is_prime``` | symbol이 소수임을 의미 |\n",
    "|```finite```, ```infinite``` | ```is_finite```, ```is_infinite``` | symbol이 유한 혹은 무한을 의미 |\n"
   ]
  },
  {
   "cell_type": "markdown",
   "id": "72a6d7f0",
   "metadata": {},
   "source": [
    "Assumption system은 표현식을 단순화하는 것을 가능하게 한다."
   ]
  },
  {
   "cell_type": "code",
   "execution_count": 11,
   "id": "b1d3357f",
   "metadata": {},
   "outputs": [
    {
     "data": {
      "text/latex": [
       "$\\displaystyle \\sqrt{x^{2}}$"
      ],
      "text/plain": [
       "sqrt(x**2)"
      ]
     },
     "execution_count": 11,
     "metadata": {},
     "output_type": "execute_result"
    }
   ],
   "source": [
    "x = sympy.Symbol(\"x\")\n",
    "y = sympy.Symbol(\"y\", positive=True)\n",
    "sympy.sqrt(x ** 2)"
   ]
  },
  {
   "cell_type": "code",
   "execution_count": 12,
   "id": "e4ec47af",
   "metadata": {},
   "outputs": [
    {
     "data": {
      "text/latex": [
       "$\\displaystyle y$"
      ],
      "text/plain": [
       "y"
      ]
     },
     "execution_count": 12,
     "metadata": {},
     "output_type": "execute_result"
    }
   ],
   "source": [
    "sympy.sqrt(y ** 2)"
   ]
  },
  {
   "cell_type": "markdown",
   "id": "e34be33d",
   "metadata": {},
   "source": [
    "(```numpy``` 등의 모듈에도 ```sqrt``` 등의 수학 함수가 존재하기 때문에 섞이지 않도록 주의한다.)"
   ]
  },
  {
   "cell_type": "markdown",
   "id": "a6ad7ae9",
   "metadata": {},
   "source": [
    "Assumption system과 단순화의 다양한 예"
   ]
  },
  {
   "cell_type": "code",
   "execution_count": 13,
   "id": "993292cc",
   "metadata": {},
   "outputs": [],
   "source": [
    "n1 = sympy.Symbol(\"n\")"
   ]
  },
  {
   "cell_type": "code",
   "execution_count": 14,
   "id": "8fa205c3",
   "metadata": {},
   "outputs": [],
   "source": [
    "n2 = sympy.Symbol(\"n\", integer=True)"
   ]
  },
  {
   "cell_type": "code",
   "execution_count": 15,
   "id": "2e770763",
   "metadata": {},
   "outputs": [],
   "source": [
    "n3 = sympy.Symbol(\"n\", odd=True)"
   ]
  },
  {
   "cell_type": "code",
   "execution_count": 16,
   "id": "d6beec30",
   "metadata": {},
   "outputs": [
    {
     "data": {
      "text/latex": [
       "$\\displaystyle \\cos{\\left(\\pi n \\right)}$"
      ],
      "text/plain": [
       "cos(pi*n)"
      ]
     },
     "execution_count": 16,
     "metadata": {},
     "output_type": "execute_result"
    }
   ],
   "source": [
    "sympy.cos(n1 * pi)"
   ]
  },
  {
   "cell_type": "code",
   "execution_count": 17,
   "id": "f0426933",
   "metadata": {},
   "outputs": [
    {
     "data": {
      "text/latex": [
       "$\\displaystyle \\left(-1\\right)^{n}$"
      ],
      "text/plain": [
       "(-1)**n"
      ]
     },
     "execution_count": 17,
     "metadata": {},
     "output_type": "execute_result"
    }
   ],
   "source": [
    "sympy.cos(n2 * pi)"
   ]
  },
  {
   "cell_type": "code",
   "execution_count": 18,
   "id": "b7ede1b4",
   "metadata": {},
   "outputs": [
    {
     "data": {
      "text/latex": [
       "$\\displaystyle -1$"
      ],
      "text/plain": [
       "-1"
      ]
     },
     "execution_count": 18,
     "metadata": {},
     "output_type": "execute_result"
    }
   ],
   "source": [
    "sympy.cos(n3 * pi)"
   ]
  },
  {
   "cell_type": "markdown",
   "id": "7e66563f",
   "metadata": {},
   "source": [
    "여러 개의 symbol을 한꺼번에 정의하고 싶으면 다음과 같이 한다."
   ]
  },
  {
   "cell_type": "code",
   "execution_count": 19,
   "id": "45ea3972",
   "metadata": {},
   "outputs": [],
   "source": [
    "a, b, c = sympy.symbols(\"a, b, c\", negative=True)"
   ]
  },
  {
   "cell_type": "code",
   "execution_count": 20,
   "id": "1174ceee",
   "metadata": {},
   "outputs": [],
   "source": [
    "d, e, f = sympy.symbols(\"d, e, f\", positive=True)"
   ]
  },
  {
   "cell_type": "markdown",
   "id": "70d9f361",
   "metadata": {},
   "source": [
    "#### Numbers"
   ]
  },
  {
   "cell_type": "markdown",
   "id": "ef35c1d2",
   "metadata": {},
   "source": [
    "Sympy에서 숫자를 다루기 위해 일반적인 숫자를 표현식의 일종으로 바꾸어 사용한다.  \n",
    "그 때 사용되는 클래스가 ```sympy.Integer```, ```sympy.Float``` 등이다.  \n",
    "Expression을 나타낼 때, python 숫자들은 이러한 객체들로 자동으로 casting 되어 사실 크게 신경쓸 필요는 없지만, 숫자 class에 대해 잘 알아두어 나쁠 것은 없다.  "
   ]
  },
  {
   "cell_type": "code",
   "execution_count": 21,
   "id": "28c589e4",
   "metadata": {},
   "outputs": [],
   "source": [
    "i = sympy.Integer(19)"
   ]
  },
  {
   "cell_type": "code",
   "execution_count": 22,
   "id": "7b5cfc37",
   "metadata": {},
   "outputs": [
    {
     "data": {
      "text/plain": [
       "\"i = 19 [type <class 'sympy.core.numbers.Integer'>]\""
      ]
     },
     "execution_count": 22,
     "metadata": {},
     "output_type": "execute_result"
    }
   ],
   "source": [
    "\"i = {} [type {}]\".format(i, type(i))"
   ]
  },
  {
   "cell_type": "code",
   "execution_count": 23,
   "id": "592fb609",
   "metadata": {},
   "outputs": [
    {
     "data": {
      "text/plain": [
       "True"
      ]
     },
     "execution_count": 23,
     "metadata": {},
     "output_type": "execute_result"
    }
   ],
   "source": [
    "isinstance(i, sympy.core.Expr)"
   ]
  },
  {
   "cell_type": "code",
   "execution_count": 24,
   "id": "99b10153",
   "metadata": {},
   "outputs": [
    {
     "data": {
      "text/plain": [
       "(True, True, True)"
      ]
     },
     "execution_count": 24,
     "metadata": {},
     "output_type": "execute_result"
    }
   ],
   "source": [
    "i.is_Integer, i.is_real, i.is_odd"
   ]
  },
  {
   "cell_type": "code",
   "execution_count": 25,
   "id": "e3f36b87",
   "metadata": {},
   "outputs": [],
   "source": [
    "f = sympy.Float(2.3)"
   ]
  },
  {
   "cell_type": "code",
   "execution_count": 26,
   "id": "d01d1a71",
   "metadata": {},
   "outputs": [
    {
     "data": {
      "text/plain": [
       "\"f = 2.30000000000000 [type <class 'sympy.core.numbers.Float'>]\""
      ]
     },
     "execution_count": 26,
     "metadata": {},
     "output_type": "execute_result"
    }
   ],
   "source": [
    "\"f = {} [type {}]\".format(f, type(f))"
   ]
  },
  {
   "cell_type": "code",
   "execution_count": 27,
   "id": "ab65e96f",
   "metadata": {},
   "outputs": [
    {
     "data": {
      "text/plain": [
       "(False, True, False)"
      ]
     },
     "execution_count": 27,
     "metadata": {},
     "output_type": "execute_result"
    }
   ],
   "source": [
    "f.is_Integer, f.is_real, f.is_odd"
   ]
  },
  {
   "cell_type": "markdown",
   "id": "155827bd",
   "metadata": {},
   "source": [
    "```sympy.sympify``` 명령을 통해 변환할 수도 있다."
   ]
  },
  {
   "cell_type": "code",
   "execution_count": 28,
   "id": "03917e22",
   "metadata": {},
   "outputs": [],
   "source": [
    "i, f = sympy.sympify(19), sympy.sympify(2.3)"
   ]
  },
  {
   "cell_type": "code",
   "execution_count": 29,
   "id": "3790c500",
   "metadata": {},
   "outputs": [
    {
     "data": {
      "text/plain": [
       "sympy.core.numbers.Integer"
      ]
     },
     "execution_count": 29,
     "metadata": {},
     "output_type": "execute_result"
    }
   ],
   "source": [
    "type(i)"
   ]
  },
  {
   "cell_type": "code",
   "execution_count": 30,
   "id": "ecb16669",
   "metadata": {},
   "outputs": [
    {
     "data": {
      "text/plain": [
       "sympy.core.numbers.Float"
      ]
     },
     "execution_count": 30,
     "metadata": {},
     "output_type": "execute_result"
    }
   ],
   "source": [
    "type(f)"
   ]
  },
  {
   "cell_type": "markdown",
   "id": "a62cbd1c",
   "metadata": {},
   "source": [
    "Sympy number들을 python 숫자로 바꿀 때는 ```int()```, ```float()```등을 이용한다."
   ]
  },
  {
   "cell_type": "code",
   "execution_count": 31,
   "id": "644779a3",
   "metadata": {},
   "outputs": [
    {
     "data": {
      "text/plain": [
       "19"
      ]
     },
     "execution_count": 31,
     "metadata": {},
     "output_type": "execute_result"
    }
   ],
   "source": [
    "int(i)"
   ]
  },
  {
   "cell_type": "code",
   "execution_count": 32,
   "id": "c79ef67a",
   "metadata": {},
   "outputs": [
    {
     "data": {
      "text/plain": [
       "2.3"
      ]
     },
     "execution_count": 32,
     "metadata": {},
     "output_type": "execute_result"
    }
   ],
   "source": [
    "float(f)"
   ]
  },
  {
   "cell_type": "markdown",
   "id": "7c4330c7",
   "metadata": {},
   "source": [
    "#### Integer"
   ]
  },
  {
   "cell_type": "markdown",
   "id": "e653623f",
   "metadata": {},
   "source": [
    "```Symbol```의 instance로서 ```integer=True``` 인자로 생성된 객체는 ```sympy.Integer```와는 조금 다르다.   \n",
    "```sympy.Symbol(, integer=True)```가 임의의 정수를 의미하는 기호라면, ```sympy.Integer```는 어떤 특정 정수값을 의미한다.  "
   ]
  },
  {
   "cell_type": "code",
   "execution_count": 33,
   "id": "fcc585ad",
   "metadata": {},
   "outputs": [],
   "source": [
    "n = sympy.Symbol(\"n\", integer=True)"
   ]
  },
  {
   "cell_type": "code",
   "execution_count": 34,
   "id": "4c3513a0",
   "metadata": {},
   "outputs": [
    {
     "data": {
      "text/plain": [
       "(True, False, None, True)"
      ]
     },
     "execution_count": 34,
     "metadata": {},
     "output_type": "execute_result"
    }
   ],
   "source": [
    "n.is_integer, n.is_Integer, n.is_positive, n.is_Symbol"
   ]
  },
  {
   "cell_type": "markdown",
   "id": "d77237e9",
   "metadata": {},
   "source": [
    "위에서 ```n```은 어떤 정수 $n$을 의미하나, 아래에서 ```i```는 특정 정수값 19를 의미한다."
   ]
  },
  {
   "cell_type": "code",
   "execution_count": 35,
   "id": "7f85b7b1",
   "metadata": {},
   "outputs": [],
   "source": [
    "i = sympy.Integer(19)"
   ]
  },
  {
   "cell_type": "code",
   "execution_count": 36,
   "id": "82e462a7",
   "metadata": {},
   "outputs": [
    {
     "data": {
      "text/plain": [
       "sympy.core.numbers.Integer"
      ]
     },
     "execution_count": 36,
     "metadata": {},
     "output_type": "execute_result"
    }
   ],
   "source": [
    "type(i)"
   ]
  },
  {
   "cell_type": "code",
   "execution_count": 37,
   "id": "97810480",
   "metadata": {},
   "outputs": [
    {
     "data": {
      "text/plain": [
       "True"
      ]
     },
     "execution_count": 37,
     "metadata": {},
     "output_type": "execute_result"
    }
   ],
   "source": [
    "isinstance(i, sympy.core.Expr)"
   ]
  },
  {
   "cell_type": "code",
   "execution_count": 38,
   "id": "8f5e083e",
   "metadata": {},
   "outputs": [
    {
     "data": {
      "text/plain": [
       "(True, True, True, False)"
      ]
     },
     "execution_count": 38,
     "metadata": {},
     "output_type": "execute_result"
    }
   ],
   "source": [
    "i.is_integer, i.is_Integer, i.is_positive, i.is_Symbol"
   ]
  },
  {
   "cell_type": "code",
   "execution_count": 39,
   "id": "2628f088",
   "metadata": {},
   "outputs": [
    {
     "data": {
      "text/latex": [
       "$\\displaystyle 8663234049605954426644038200675212212900743262211018069459689001$"
      ],
      "text/plain": [
       "8663234049605954426644038200675212212900743262211018069459689001"
      ]
     },
     "execution_count": 39,
     "metadata": {},
     "output_type": "execute_result"
    }
   ],
   "source": [
    "i ** 50"
   ]
  },
  {
   "cell_type": "code",
   "execution_count": 40,
   "id": "e4e55bda",
   "metadata": {},
   "outputs": [
    {
     "data": {
      "text/latex": [
       "$\\displaystyle 93326215443944152681699238856266700490715968264381621468592963895217599993229915608941463976156518286253697920827223758251185210916864000000000000000000000000$"
      ],
      "text/plain": [
       "93326215443944152681699238856266700490715968264381621468592963895217599993229915608941463976156518286253697920827223758251185210916864000000000000000000000000"
      ]
     },
     "execution_count": 40,
     "metadata": {},
     "output_type": "execute_result"
    }
   ],
   "source": [
    "sympy.factorial(100)"
   ]
  },
  {
   "cell_type": "code",
   "execution_count": 41,
   "id": "861ca73c",
   "metadata": {},
   "outputs": [
    {
     "data": {
      "text/latex": [
       "$\\displaystyle n^{50}$"
      ],
      "text/plain": [
       "n**50"
      ]
     },
     "execution_count": 41,
     "metadata": {},
     "output_type": "execute_result"
    }
   ],
   "source": [
    "n ** 50"
   ]
  },
  {
   "cell_type": "code",
   "execution_count": 42,
   "id": "8add26e9",
   "metadata": {},
   "outputs": [
    {
     "data": {
      "text/latex": [
       "$\\displaystyle n!$"
      ],
      "text/plain": [
       "factorial(n)"
      ]
     },
     "execution_count": 42,
     "metadata": {},
     "output_type": "execute_result"
    }
   ],
   "source": [
    "sympy.factorial(n)"
   ]
  },
  {
   "cell_type": "markdown",
   "id": "5ce2450a",
   "metadata": {},
   "source": [
    "#### Float"
   ]
  },
  {
   "cell_type": "markdown",
   "id": "41a2dd0f",
   "metadata": {},
   "source": [
    "```sympy.Float``` object는 floating-point error로부터 조금 더 자유로운 면이 있다.  \n",
    "예를 들어, python에서 0.3은 floating-point error로 오차가 있다."
   ]
  },
  {
   "cell_type": "code",
   "execution_count": 43,
   "id": "7e3d7d7c",
   "metadata": {},
   "outputs": [
    {
     "data": {
      "text/plain": [
       "'0.2999999999999999888977698'"
      ]
     },
     "execution_count": 43,
     "metadata": {},
     "output_type": "execute_result"
    }
   ],
   "source": [
    "\"%.25f\" % 0.3  # create a string represention with 25 decimals"
   ]
  },
  {
   "cell_type": "code",
   "execution_count": 44,
   "id": "0635bd7a",
   "metadata": {},
   "outputs": [
    {
     "data": {
      "text/latex": [
       "$\\displaystyle 0.2999999999999999888977698$"
      ],
      "text/plain": [
       "0.2999999999999999888977698"
      ]
     },
     "execution_count": 44,
     "metadata": {},
     "output_type": "execute_result"
    }
   ],
   "source": [
    "sympy.Float(0.3, 25)"
   ]
  },
  {
   "cell_type": "raw",
   "id": "08aa942c",
   "metadata": {},
   "source": [
    "문자로 표현된 ```'0.3'```을 ```sympy.Float```에 대입하면 정확한 표현을 보장한다."
   ]
  },
  {
   "cell_type": "code",
   "execution_count": 45,
   "id": "240475f7",
   "metadata": {},
   "outputs": [
    {
     "data": {
      "text/latex": [
       "$\\displaystyle 0.3$"
      ],
      "text/plain": [
       "0.3000000000000000000000000"
      ]
     },
     "execution_count": 45,
     "metadata": {},
     "output_type": "execute_result"
    }
   ],
   "source": [
    "sympy.Float('0.3', 25)"
   ]
  },
  {
   "cell_type": "markdown",
   "id": "e937d2c3",
   "metadata": {},
   "source": [
    "#### Rational\n",
    "\n",
    "유리수(분수)는 ```sympy.Rational```를 통해 표현할 수 있다."
   ]
  },
  {
   "cell_type": "code",
   "execution_count": 46,
   "id": "e77dd604",
   "metadata": {},
   "outputs": [
    {
     "data": {
      "text/latex": [
       "$\\displaystyle \\frac{11}{13}$"
      ],
      "text/plain": [
       "11/13"
      ]
     },
     "execution_count": 46,
     "metadata": {},
     "output_type": "execute_result"
    }
   ],
   "source": [
    "sympy.Rational(11, 13)"
   ]
  },
  {
   "cell_type": "code",
   "execution_count": 47,
   "id": "ca1e4795",
   "metadata": {},
   "outputs": [],
   "source": [
    "r1 = sympy.Rational(2, 3)"
   ]
  },
  {
   "cell_type": "code",
   "execution_count": 48,
   "id": "41ca54f7",
   "metadata": {},
   "outputs": [],
   "source": [
    "r2 = sympy.Rational(4, 5)"
   ]
  },
  {
   "cell_type": "code",
   "execution_count": 49,
   "id": "566650d7",
   "metadata": {},
   "outputs": [
    {
     "data": {
      "text/latex": [
       "$\\displaystyle \\frac{8}{15}$"
      ],
      "text/plain": [
       "8/15"
      ]
     },
     "execution_count": 49,
     "metadata": {},
     "output_type": "execute_result"
    }
   ],
   "source": [
    "r1 * r2"
   ]
  },
  {
   "cell_type": "code",
   "execution_count": 50,
   "id": "20ab6702",
   "metadata": {},
   "outputs": [
    {
     "data": {
      "text/latex": [
       "$\\displaystyle \\frac{5}{6}$"
      ],
      "text/plain": [
       "5/6"
      ]
     },
     "execution_count": 50,
     "metadata": {},
     "output_type": "execute_result"
    }
   ],
   "source": [
    "r1 / r2"
   ]
  },
  {
   "cell_type": "markdown",
   "id": "09f9c232",
   "metadata": {},
   "source": [
    "그 외에 특수한 수학 상수들이 있다.\n",
    "\n",
    "| Mathematical Symbol | Sympy Symbol |\n",
    "|:----|:----|\n",
    "| $\\pi$ | ```sympy.pi``` | \n",
    "| $e$ | ```sympy.E``` |\n",
    "| $y$ | ```sympy.EulerGamma``` |\n",
    "| $i$ | ```sympy.I``` |\n",
    "| $\\infty$ | ```sympy.oo``` |"
   ]
  },
  {
   "cell_type": "markdown",
   "id": "ee9711c3",
   "metadata": {},
   "source": [
    "#### Functions\n",
    "\n",
    "함수들은 ```sympy.Function```으로 정의된다.  \n",
    "```sympy.Function```은 크게 defined와 undefined로 구분된다.  "
   ]
  },
  {
   "cell_type": "code",
   "execution_count": 51,
   "id": "3c39703f",
   "metadata": {},
   "outputs": [],
   "source": [
    "x, y, z = sympy.symbols(\"x, y, z\")"
   ]
  },
  {
   "cell_type": "code",
   "execution_count": 52,
   "id": "61120f48",
   "metadata": {},
   "outputs": [],
   "source": [
    "f = sympy.Function(\"f\")"
   ]
  },
  {
   "cell_type": "code",
   "execution_count": 53,
   "id": "1d823b51",
   "metadata": {},
   "outputs": [
    {
     "data": {
      "text/plain": [
       "sympy.core.function.UndefinedFunction"
      ]
     },
     "execution_count": 53,
     "metadata": {},
     "output_type": "execute_result"
    }
   ],
   "source": [
    "type(f)"
   ]
  },
  {
   "cell_type": "code",
   "execution_count": 54,
   "id": "18077b4e",
   "metadata": {},
   "outputs": [
    {
     "data": {
      "text/plain": [
       "False"
      ]
     },
     "execution_count": 54,
     "metadata": {},
     "output_type": "execute_result"
    }
   ],
   "source": [
    "isinstance(f, sympy.core.Expr)"
   ]
  },
  {
   "cell_type": "markdown",
   "id": "6413b551",
   "metadata": {},
   "source": [
    "```f```에는 아직 어떤 변수도 적용되지 않았다는 관점에서 unapplied function이라고도 한다."
   ]
  },
  {
   "cell_type": "markdown",
   "id": "6c7cef1b",
   "metadata": {},
   "source": [
    "아래에서는 ```f```를 ```x```라는 symbol에 apply하였다."
   ]
  },
  {
   "cell_type": "code",
   "execution_count": 55,
   "id": "9d5f4191",
   "metadata": {},
   "outputs": [
    {
     "data": {
      "text/latex": [
       "$\\displaystyle f{\\left(x \\right)}$"
      ],
      "text/plain": [
       "f(x)"
      ]
     },
     "execution_count": 55,
     "metadata": {},
     "output_type": "execute_result"
    }
   ],
   "source": [
    "f(x)"
   ]
  },
  {
   "cell_type": "code",
   "execution_count": 56,
   "id": "96e95a85",
   "metadata": {},
   "outputs": [
    {
     "data": {
      "text/plain": [
       "f"
      ]
     },
     "execution_count": 56,
     "metadata": {},
     "output_type": "execute_result"
    }
   ],
   "source": [
    "type(f(x))"
   ]
  },
  {
   "cell_type": "code",
   "execution_count": 57,
   "id": "785094c9",
   "metadata": {},
   "outputs": [
    {
     "data": {
      "text/plain": [
       "True"
      ]
     },
     "execution_count": 57,
     "metadata": {},
     "output_type": "execute_result"
    }
   ],
   "source": [
    "isinstance(f(x), sympy.core.Expr)"
   ]
  },
  {
   "cell_type": "markdown",
   "id": "c9cdb820",
   "metadata": {},
   "source": [
    "숫자값에 apply할 수도 있다. "
   ]
  },
  {
   "cell_type": "code",
   "execution_count": 58,
   "id": "b66d7a63",
   "metadata": {},
   "outputs": [
    {
     "data": {
      "text/latex": [
       "$\\displaystyle f{\\left(3 \\right)}$"
      ],
      "text/plain": [
       "f(3)"
      ]
     },
     "execution_count": 58,
     "metadata": {},
     "output_type": "execute_result"
    }
   ],
   "source": [
    "f(3)"
   ]
  },
  {
   "cell_type": "code",
   "execution_count": 59,
   "id": "18e63035",
   "metadata": {},
   "outputs": [
    {
     "data": {
      "text/latex": [
       "$\\displaystyle \\frac{d}{d x} f{\\left(x \\right)}$"
      ],
      "text/plain": [
       "Derivative(f(x), x)"
      ]
     },
     "execution_count": 59,
     "metadata": {},
     "output_type": "execute_result"
    }
   ],
   "source": [
    "f(x).diff(x)"
   ]
  },
  {
   "cell_type": "code",
   "execution_count": 60,
   "id": "5ffae178",
   "metadata": {},
   "outputs": [
    {
     "name": "stdout",
     "output_type": "stream",
     "text": [
      "Derivative(f(x), x)\n"
     ]
    }
   ],
   "source": [
    "print(f(x).diff(x))"
   ]
  },
  {
   "cell_type": "markdown",
   "id": "e55f0d94",
   "metadata": {},
   "source": [
    "이렇게 만들어진 ```f```는 나중에 살펴볼 ```subs``` 등을 통해 보다 구체적으로 활용할 수 있다."
   ]
  },
  {
   "cell_type": "markdown",
   "id": "05248adc",
   "metadata": {},
   "source": [
    "다음에서는 ```g```가 생성되면서 ```x, y, z```의 세 변수에 apply 되도록 하였다."
   ]
  },
  {
   "cell_type": "code",
   "execution_count": 61,
   "id": "492fdf7b",
   "metadata": {},
   "outputs": [],
   "source": [
    "g = sympy.Function(\"g\")(x, y, z)"
   ]
  },
  {
   "cell_type": "code",
   "execution_count": 62,
   "id": "508ca098",
   "metadata": {},
   "outputs": [
    {
     "data": {
      "text/latex": [
       "$\\displaystyle g{\\left(x,y,z \\right)}$"
      ],
      "text/plain": [
       "g(x, y, z)"
      ]
     },
     "execution_count": 62,
     "metadata": {},
     "output_type": "execute_result"
    }
   ],
   "source": [
    "g"
   ]
  },
  {
   "cell_type": "code",
   "execution_count": 63,
   "id": "fade6049",
   "metadata": {},
   "outputs": [
    {
     "data": {
      "text/plain": [
       "g"
      ]
     },
     "execution_count": 63,
     "metadata": {},
     "output_type": "execute_result"
    }
   ],
   "source": [
    "type(g)"
   ]
  },
  {
   "cell_type": "code",
   "execution_count": 64,
   "id": "8bdd689a",
   "metadata": {},
   "outputs": [
    {
     "data": {
      "text/plain": [
       "True"
      ]
     },
     "execution_count": 64,
     "metadata": {},
     "output_type": "execute_result"
    }
   ],
   "source": [
    "isinstance(g, sympy.core.Expr)"
   ]
  },
  {
   "cell_type": "code",
   "execution_count": 65,
   "id": "8b47fbdf",
   "metadata": {},
   "outputs": [
    {
     "data": {
      "text/plain": [
       "{x, y, z}"
      ]
     },
     "execution_count": 65,
     "metadata": {},
     "output_type": "execute_result"
    }
   ],
   "source": [
    "g.free_symbols"
   ]
  },
  {
   "cell_type": "markdown",
   "id": "8ff16b99",
   "metadata": {},
   "source": [
    "```g(x)```나 ```g(1,2,3)``` 같은 코드는 에러가 난다."
   ]
  },
  {
   "cell_type": "markdown",
   "id": "edfedc57",
   "metadata": {},
   "source": [
    "Sympy는 많은 built-in function들을 가지고 있다.  "
   ]
  },
  {
   "cell_type": "code",
   "execution_count": 66,
   "id": "357df244",
   "metadata": {},
   "outputs": [
    {
     "data": {
      "text/plain": [
       "sin"
      ]
     },
     "execution_count": 66,
     "metadata": {},
     "output_type": "execute_result"
    }
   ],
   "source": [
    "sympy.sin"
   ]
  },
  {
   "cell_type": "code",
   "execution_count": 67,
   "id": "7d64439f",
   "metadata": {},
   "outputs": [
    {
     "data": {
      "text/plain": [
       "sympy.core.function.FunctionClass"
      ]
     },
     "execution_count": 67,
     "metadata": {},
     "output_type": "execute_result"
    }
   ],
   "source": [
    "type(sympy.sin)"
   ]
  },
  {
   "cell_type": "code",
   "execution_count": 68,
   "id": "6ab3d854",
   "metadata": {},
   "outputs": [
    {
     "data": {
      "text/plain": [
       "False"
      ]
     },
     "execution_count": 68,
     "metadata": {},
     "output_type": "execute_result"
    }
   ],
   "source": [
    "isinstance(sympy.sin, sympy.core.Expr)"
   ]
  },
  {
   "cell_type": "markdown",
   "id": "bd9e95df",
   "metadata": {},
   "source": [
    "```sympy.sin```는 unapplied function으로 symbol이나 값 혹은, 또다른 expression을 apply 할 수 있다."
   ]
  },
  {
   "cell_type": "code",
   "execution_count": 69,
   "id": "13d3d509",
   "metadata": {},
   "outputs": [
    {
     "data": {
      "text/latex": [
       "$\\displaystyle \\sin{\\left(x \\right)}$"
      ],
      "text/plain": [
       "sin(x)"
      ]
     },
     "execution_count": 69,
     "metadata": {},
     "output_type": "execute_result"
    }
   ],
   "source": [
    "sympy.sin(x)"
   ]
  },
  {
   "cell_type": "code",
   "execution_count": 70,
   "id": "27dfeeae",
   "metadata": {},
   "outputs": [
    {
     "data": {
      "text/plain": [
       "sin"
      ]
     },
     "execution_count": 70,
     "metadata": {},
     "output_type": "execute_result"
    }
   ],
   "source": [
    "type(sympy.sin(x))"
   ]
  },
  {
   "cell_type": "code",
   "execution_count": 71,
   "id": "e1d52a68",
   "metadata": {},
   "outputs": [
    {
     "data": {
      "text/plain": [
       "True"
      ]
     },
     "execution_count": 71,
     "metadata": {},
     "output_type": "execute_result"
    }
   ],
   "source": [
    "isinstance(sympy.sin(x), sympy.core.Expr)"
   ]
  },
  {
   "cell_type": "code",
   "execution_count": 72,
   "id": "81f5f4e5",
   "metadata": {},
   "outputs": [
    {
     "data": {
      "text/latex": [
       "$\\displaystyle \\sin{\\left(1 \\right)}$"
      ],
      "text/plain": [
       "sin(1)"
      ]
     },
     "execution_count": 72,
     "metadata": {},
     "output_type": "execute_result"
    }
   ],
   "source": [
    "sympy.sin(1)"
   ]
  },
  {
   "cell_type": "code",
   "execution_count": 73,
   "id": "c7512513",
   "metadata": {},
   "outputs": [
    {
     "data": {
      "text/latex": [
       "$\\displaystyle -1$"
      ],
      "text/plain": [
       "-1"
      ]
     },
     "execution_count": 73,
     "metadata": {},
     "output_type": "execute_result"
    }
   ],
   "source": [
    "sympy.sin(pi * 1.5)"
   ]
  },
  {
   "cell_type": "code",
   "execution_count": 74,
   "id": "f634e0ad",
   "metadata": {},
   "outputs": [],
   "source": [
    "n = sympy.Symbol(\"n\", integer=True)"
   ]
  },
  {
   "cell_type": "code",
   "execution_count": 75,
   "id": "912d77d6",
   "metadata": {},
   "outputs": [
    {
     "data": {
      "text/latex": [
       "$\\displaystyle 0$"
      ],
      "text/plain": [
       "0"
      ]
     },
     "execution_count": 75,
     "metadata": {},
     "output_type": "execute_result"
    }
   ],
   "source": [
    "sympy.sin(pi * n)"
   ]
  },
  {
   "cell_type": "code",
   "execution_count": 76,
   "id": "fa34c977",
   "metadata": {},
   "outputs": [
    {
     "data": {
      "text/latex": [
       "$\\displaystyle \\sin{\\left(\\pi k \\right)}$"
      ],
      "text/plain": [
       "sin(pi*k)"
      ]
     },
     "execution_count": 76,
     "metadata": {},
     "output_type": "execute_result"
    }
   ],
   "source": [
    "k = sympy.Symbol(\"k\")\n",
    "sympy.sin(pi * k)"
   ]
  },
  {
   "cell_type": "markdown",
   "id": "6a2850fa",
   "metadata": {},
   "source": [
    "```sympy.Lambda```는 lambda function이라고 하며, evaluate할 수 있는 구조를 가진다."
   ]
  },
  {
   "cell_type": "code",
   "execution_count": 77,
   "id": "14da1c57",
   "metadata": {},
   "outputs": [],
   "source": [
    "h = sympy.Lambda(x, x**2)"
   ]
  },
  {
   "cell_type": "code",
   "execution_count": 78,
   "id": "989b090c",
   "metadata": {},
   "outputs": [
    {
     "data": {
      "text/plain": [
       "sympy.core.function.Lambda"
      ]
     },
     "execution_count": 78,
     "metadata": {},
     "output_type": "execute_result"
    }
   ],
   "source": [
    "type(h)"
   ]
  },
  {
   "cell_type": "code",
   "execution_count": 79,
   "id": "d575fabb",
   "metadata": {},
   "outputs": [
    {
     "data": {
      "text/plain": [
       "True"
      ]
     },
     "execution_count": 79,
     "metadata": {},
     "output_type": "execute_result"
    }
   ],
   "source": [
    "isinstance(h, sympy.core.Expr)"
   ]
  },
  {
   "cell_type": "code",
   "execution_count": 80,
   "id": "ac13d58b",
   "metadata": {},
   "outputs": [
    {
     "data": {
      "text/latex": [
       "$\\displaystyle \\left( x \\mapsto x^{2} \\right)$"
      ],
      "text/plain": [
       "Lambda(x, x**2)"
      ]
     },
     "execution_count": 80,
     "metadata": {},
     "output_type": "execute_result"
    }
   ],
   "source": [
    "h"
   ]
  },
  {
   "cell_type": "code",
   "execution_count": 81,
   "id": "d8ba4b2c",
   "metadata": {},
   "outputs": [
    {
     "data": {
      "text/latex": [
       "$\\displaystyle 25$"
      ],
      "text/plain": [
       "25"
      ]
     },
     "execution_count": 81,
     "metadata": {},
     "output_type": "execute_result"
    }
   ],
   "source": [
    "h(5)"
   ]
  },
  {
   "cell_type": "code",
   "execution_count": 82,
   "id": "7a775554",
   "metadata": {},
   "outputs": [
    {
     "data": {
      "text/plain": [
       "sympy.core.numbers.Integer"
      ]
     },
     "execution_count": 82,
     "metadata": {},
     "output_type": "execute_result"
    }
   ],
   "source": [
    "type(h(5))"
   ]
  },
  {
   "cell_type": "code",
   "execution_count": 83,
   "id": "f18d7c3c",
   "metadata": {},
   "outputs": [
    {
     "data": {
      "text/plain": [
       "True"
      ]
     },
     "execution_count": 83,
     "metadata": {},
     "output_type": "execute_result"
    }
   ],
   "source": [
    "isinstance(h(5), sympy.core.Expr)"
   ]
  },
  {
   "cell_type": "code",
   "execution_count": 84,
   "id": "cf06780e",
   "metadata": {},
   "outputs": [
    {
     "data": {
      "text/latex": [
       "$\\displaystyle \\left(x + 1\\right)^{2}$"
      ],
      "text/plain": [
       "(x + 1)**2"
      ]
     },
     "execution_count": 84,
     "metadata": {},
     "output_type": "execute_result"
    }
   ],
   "source": [
    "h(1+x)"
   ]
  },
  {
   "cell_type": "code",
   "execution_count": 85,
   "id": "e30af795",
   "metadata": {},
   "outputs": [
    {
     "data": {
      "text/plain": [
       "sympy.core.power.Pow"
      ]
     },
     "execution_count": 85,
     "metadata": {},
     "output_type": "execute_result"
    }
   ],
   "source": [
    "type(h(1+x))"
   ]
  },
  {
   "cell_type": "code",
   "execution_count": 86,
   "id": "7fa1a9ae",
   "metadata": {},
   "outputs": [
    {
     "data": {
      "text/plain": [
       "True"
      ]
     },
     "execution_count": 86,
     "metadata": {},
     "output_type": "execute_result"
    }
   ],
   "source": [
    "isinstance(h(1+x), sympy.core.Expr)"
   ]
  },
  {
   "cell_type": "markdown",
   "id": "2bbc2d29",
   "metadata": {},
   "source": [
    "#### Expression\n",
    "\n",
    "앞에서 소개된 여러가지 symbol들은 expression을 만들기 위한 기본 building block의 역할을 한다.  \n",
    "Expression은 수학적 표현식의 트리 구조라 할 수 있다.  \n",
    "트리의 노드는 symbol과 수학적 연산을 표현하는 class 들로 구성된다.\n",
    "수학적 연산들을 담당하는 class들은 다음과 같은 것들이 있다.  \n",
    "```Add, Mul, Pow, Sum, Product, Integral, Derivative```"
   ]
  },
  {
   "cell_type": "code",
   "execution_count": 87,
   "id": "0b2f57ba",
   "metadata": {},
   "outputs": [],
   "source": [
    "x = sympy.Symbol(\"x\")"
   ]
  },
  {
   "cell_type": "code",
   "execution_count": 88,
   "id": "28068400",
   "metadata": {},
   "outputs": [],
   "source": [
    "expr = 1 + 2 * x ** 2 + 3 * x ** 3"
   ]
  },
  {
   "cell_type": "code",
   "execution_count": 89,
   "id": "93fc3c39",
   "metadata": {},
   "outputs": [
    {
     "data": {
      "text/latex": [
       "$\\displaystyle 3 x^{3} + 2 x^{2} + 1$"
      ],
      "text/plain": [
       "3*x**3 + 2*x**2 + 1"
      ]
     },
     "execution_count": 89,
     "metadata": {},
     "output_type": "execute_result"
    }
   ],
   "source": [
    "expr"
   ]
  },
  {
   "cell_type": "markdown",
   "id": "fa2db6b8",
   "metadata": {},
   "source": [
    "<img src=\"data:image/png;base64,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\" alt=\"\" width=\"350\"/>"
   ]
  },
  {
   "cell_type": "code",
   "execution_count": 90,
   "id": "08aeabd8",
   "metadata": {},
   "outputs": [
    {
     "data": {
      "text/plain": [
       "sympy.core.add.Add"
      ]
     },
     "execution_count": 90,
     "metadata": {},
     "output_type": "execute_result"
    }
   ],
   "source": [
    "type(expr)"
   ]
  },
  {
   "cell_type": "code",
   "execution_count": 91,
   "id": "f791b285",
   "metadata": {},
   "outputs": [
    {
     "data": {
      "text/plain": [
       "True"
      ]
     },
     "execution_count": 91,
     "metadata": {},
     "output_type": "execute_result"
    }
   ],
   "source": [
    "isinstance(expr, sympy.core.Expr)"
   ]
  },
  {
   "cell_type": "code",
   "execution_count": 92,
   "id": "98c3cca1",
   "metadata": {},
   "outputs": [
    {
     "data": {
      "text/plain": [
       "(1, 2*x**2, 3*x**3)"
      ]
     },
     "execution_count": 92,
     "metadata": {},
     "output_type": "execute_result"
    }
   ],
   "source": [
    "expr.args"
   ]
  },
  {
   "cell_type": "code",
   "execution_count": 93,
   "id": "304fc3d6",
   "metadata": {},
   "outputs": [
    {
     "data": {
      "text/latex": [
       "$\\displaystyle 2 x^{2}$"
      ],
      "text/plain": [
       "2*x**2"
      ]
     },
     "execution_count": 93,
     "metadata": {},
     "output_type": "execute_result"
    }
   ],
   "source": [
    "expr.args[1]"
   ]
  },
  {
   "cell_type": "code",
   "execution_count": 94,
   "id": "5063f060",
   "metadata": {},
   "outputs": [
    {
     "data": {
      "text/plain": [
       "(2, x**2)"
      ]
     },
     "execution_count": 94,
     "metadata": {},
     "output_type": "execute_result"
    }
   ],
   "source": [
    "expr.args[1].args"
   ]
  },
  {
   "cell_type": "code",
   "execution_count": 95,
   "id": "3ac73189",
   "metadata": {},
   "outputs": [
    {
     "data": {
      "text/plain": [
       "(x, 2)"
      ]
     },
     "execution_count": 95,
     "metadata": {},
     "output_type": "execute_result"
    }
   ],
   "source": [
    "expr.args[1].args[1].args"
   ]
  },
  {
   "cell_type": "code",
   "execution_count": 96,
   "id": "13ab6fd0",
   "metadata": {},
   "outputs": [
    {
     "data": {
      "text/plain": [
       "()"
      ]
     },
     "execution_count": 96,
     "metadata": {},
     "output_type": "execute_result"
    }
   ],
   "source": [
    "expr.args[1].args[1].args[0].args"
   ]
  },
  {
   "cell_type": "markdown",
   "id": "23a14375",
   "metadata": {},
   "source": [
    "#### Simplification\n",
    "\n",
    "Sympy의 주요 기능은 expression을 동치인 다른 expression으로 변환하는 것이다.  \n",
    "```sympy.simplify```는 expression을 간단히 하는데 활용된다."
   ]
  },
  {
   "cell_type": "code",
   "execution_count": 97,
   "id": "0041a215",
   "metadata": {},
   "outputs": [],
   "source": [
    "expr = 2 * (x**2 - x) - x * (x+1)"
   ]
  },
  {
   "cell_type": "code",
   "execution_count": 98,
   "id": "af06e28d",
   "metadata": {},
   "outputs": [
    {
     "data": {
      "text/latex": [
       "$\\displaystyle 2 x^{2} - x \\left(x + 1\\right) - 2 x$"
      ],
      "text/plain": [
       "2*x**2 - x*(x + 1) - 2*x"
      ]
     },
     "execution_count": 98,
     "metadata": {},
     "output_type": "execute_result"
    }
   ],
   "source": [
    "expr"
   ]
  },
  {
   "cell_type": "code",
   "execution_count": 99,
   "id": "4cd92953",
   "metadata": {},
   "outputs": [
    {
     "data": {
      "text/latex": [
       "$\\displaystyle x \\left(x - 3\\right)$"
      ],
      "text/plain": [
       "x*(x - 3)"
      ]
     },
     "execution_count": 99,
     "metadata": {},
     "output_type": "execute_result"
    }
   ],
   "source": [
    "sympy.simplify(expr)"
   ]
  },
  {
   "cell_type": "code",
   "execution_count": 100,
   "id": "1e049707",
   "metadata": {},
   "outputs": [
    {
     "data": {
      "text/latex": [
       "$\\displaystyle x \\left(x - 3\\right)$"
      ],
      "text/plain": [
       "x*(x - 3)"
      ]
     },
     "execution_count": 100,
     "metadata": {},
     "output_type": "execute_result"
    }
   ],
   "source": [
    "expr.simplify()"
   ]
  },
  {
   "cell_type": "code",
   "execution_count": 101,
   "id": "bf039a02",
   "metadata": {},
   "outputs": [
    {
     "data": {
      "text/latex": [
       "$\\displaystyle 2 x^{2} - x \\left(x + 1\\right) - 2 x$"
      ],
      "text/plain": [
       "2*x**2 - x*(x + 1) - 2*x"
      ]
     },
     "execution_count": 101,
     "metadata": {},
     "output_type": "execute_result"
    }
   ],
   "source": [
    "expr"
   ]
  },
  {
   "cell_type": "code",
   "execution_count": 102,
   "id": "d8774d66",
   "metadata": {},
   "outputs": [],
   "source": [
    "expr = 2 * sympy.cos(x) * sympy.sin(x)"
   ]
  },
  {
   "cell_type": "code",
   "execution_count": 103,
   "id": "890d5bc7",
   "metadata": {},
   "outputs": [
    {
     "data": {
      "text/latex": [
       "$\\displaystyle 2 \\sin{\\left(x \\right)} \\cos{\\left(x \\right)}$"
      ],
      "text/plain": [
       "2*sin(x)*cos(x)"
      ]
     },
     "execution_count": 103,
     "metadata": {},
     "output_type": "execute_result"
    }
   ],
   "source": [
    "expr"
   ]
  },
  {
   "cell_type": "code",
   "execution_count": 104,
   "id": "77232413",
   "metadata": {},
   "outputs": [
    {
     "data": {
      "text/latex": [
       "$\\displaystyle \\sin{\\left(2 x \\right)}$"
      ],
      "text/plain": [
       "sin(2*x)"
      ]
     },
     "execution_count": 104,
     "metadata": {},
     "output_type": "execute_result"
    }
   ],
   "source": [
    "sympy.simplify(expr)"
   ]
  },
  {
   "cell_type": "markdown",
   "id": "6f45c3c0",
   "metadata": {},
   "source": [
    "함수의 종류에 따라, 다양한 simplify 방법을 적용할 수 있다. \n",
    "\n",
    "| Function | Description |\n",
    "|:---|:---|\n",
    "|```sympy.simplify```| 다양한 종류의 expression을 간단히 하기 |\n",
    "|```sympy.trigsimp```| 삼각함수 관련 expression을 간단히 하기 |\n",
    "|```sympy.powsimp```| 지수 관련 expression을 간단히 하기 |\n",
    "|```sympy.compsimp```| 조합적 expression을 간단히 하기 |\n",
    "|```sympy.ratsimp``` | 공통 분모를 활용하여 간단히 하기 |"
   ]
  },
  {
   "cell_type": "code",
   "execution_count": 105,
   "id": "a2408f92",
   "metadata": {},
   "outputs": [
    {
     "data": {
      "text/latex": [
       "$\\displaystyle \\sin{\\left(2 x \\right)}$"
      ],
      "text/plain": [
       "sin(2*x)"
      ]
     },
     "execution_count": 105,
     "metadata": {},
     "output_type": "execute_result"
    }
   ],
   "source": [
    "sympy.trigsimp(expr)"
   ]
  },
  {
   "cell_type": "code",
   "execution_count": 106,
   "id": "f95381ce",
   "metadata": {},
   "outputs": [],
   "source": [
    "expr = sympy.exp(x) * sympy.exp(y)"
   ]
  },
  {
   "cell_type": "code",
   "execution_count": 107,
   "id": "d0ad5c8b",
   "metadata": {},
   "outputs": [
    {
     "data": {
      "text/latex": [
       "$\\displaystyle e^{x} e^{y}$"
      ],
      "text/plain": [
       "exp(x)*exp(y)"
      ]
     },
     "execution_count": 107,
     "metadata": {},
     "output_type": "execute_result"
    }
   ],
   "source": [
    "expr"
   ]
  },
  {
   "cell_type": "code",
   "execution_count": 108,
   "id": "c4be0780",
   "metadata": {},
   "outputs": [
    {
     "data": {
      "text/latex": [
       "$\\displaystyle e^{x + y}$"
      ],
      "text/plain": [
       "exp(x + y)"
      ]
     },
     "execution_count": 108,
     "metadata": {},
     "output_type": "execute_result"
    }
   ],
   "source": [
    "sympy.simplify(expr)"
   ]
  },
  {
   "cell_type": "code",
   "execution_count": 109,
   "id": "4d8c29c0",
   "metadata": {},
   "outputs": [],
   "source": [
    "expr = 2 * sympy.cos(x) * sympy.sin(x) * sympy.exp(x) * sympy.exp(y)"
   ]
  },
  {
   "cell_type": "code",
   "execution_count": 110,
   "id": "27425fc3",
   "metadata": {},
   "outputs": [
    {
     "data": {
      "text/latex": [
       "$\\displaystyle 2 e^{x} e^{y} \\sin{\\left(x \\right)} \\cos{\\left(x \\right)}$"
      ],
      "text/plain": [
       "2*exp(x)*exp(y)*sin(x)*cos(x)"
      ]
     },
     "execution_count": 110,
     "metadata": {},
     "output_type": "execute_result"
    }
   ],
   "source": [
    "expr"
   ]
  },
  {
   "cell_type": "code",
   "execution_count": 111,
   "id": "2f6db8ca",
   "metadata": {},
   "outputs": [
    {
     "data": {
      "text/latex": [
       "$\\displaystyle e^{x} e^{y} \\sin{\\left(2 x \\right)}$"
      ],
      "text/plain": [
       "exp(x)*exp(y)*sin(2*x)"
      ]
     },
     "execution_count": 111,
     "metadata": {},
     "output_type": "execute_result"
    }
   ],
   "source": [
    "sympy.trigsimp(expr)"
   ]
  },
  {
   "cell_type": "code",
   "execution_count": 112,
   "id": "8a1a2eb7",
   "metadata": {},
   "outputs": [
    {
     "data": {
      "text/latex": [
       "$\\displaystyle 2 e^{x + y} \\sin{\\left(x \\right)} \\cos{\\left(x \\right)}$"
      ],
      "text/plain": [
       "2*exp(x + y)*sin(x)*cos(x)"
      ]
     },
     "execution_count": 112,
     "metadata": {},
     "output_type": "execute_result"
    }
   ],
   "source": [
    "sympy.powsimp(expr)"
   ]
  },
  {
   "cell_type": "code",
   "execution_count": 113,
   "id": "7cabcf79",
   "metadata": {},
   "outputs": [
    {
     "data": {
      "text/latex": [
       "$\\displaystyle e^{x + y} \\sin{\\left(2 x \\right)}$"
      ],
      "text/plain": [
       "exp(x + y)*sin(2*x)"
      ]
     },
     "execution_count": 113,
     "metadata": {},
     "output_type": "execute_result"
    }
   ],
   "source": [
    "sympy.simplify(expr)"
   ]
  },
  {
   "cell_type": "markdown",
   "id": "f600e113",
   "metadata": {},
   "source": [
    "#### Expand\n",
    "\n",
    "Simplification과 반대로 식을 전개하는 기능도 있다.  \n",
    "```sympy.expand(expr)```을 이용한다."
   ]
  },
  {
   "cell_type": "code",
   "execution_count": 114,
   "id": "e8ed24d8",
   "metadata": {},
   "outputs": [],
   "source": [
    "expr = (x + 1) * (x + 2)"
   ]
  },
  {
   "cell_type": "code",
   "execution_count": 115,
   "id": "5684ffad",
   "metadata": {},
   "outputs": [
    {
     "data": {
      "text/latex": [
       "$\\displaystyle \\left(x + 1\\right) \\left(x + 2\\right)$"
      ],
      "text/plain": [
       "(x + 1)*(x + 2)"
      ]
     },
     "execution_count": 115,
     "metadata": {},
     "output_type": "execute_result"
    }
   ],
   "source": [
    "expr"
   ]
  },
  {
   "cell_type": "code",
   "execution_count": 116,
   "id": "98d05c1f",
   "metadata": {},
   "outputs": [
    {
     "data": {
      "text/latex": [
       "$\\displaystyle x^{2} + 3 x + 2$"
      ],
      "text/plain": [
       "x**2 + 3*x + 2"
      ]
     },
     "execution_count": 116,
     "metadata": {},
     "output_type": "execute_result"
    }
   ],
   "source": [
    "sympy.expand(expr)"
   ]
  },
  {
   "cell_type": "code",
   "execution_count": 117,
   "id": "93a1fc1b",
   "metadata": {},
   "outputs": [
    {
     "data": {
      "text/latex": [
       "$\\displaystyle \\left(x + 1\\right) \\left(x + 2\\right)$"
      ],
      "text/plain": [
       "(x + 1)*(x + 2)"
      ]
     },
     "execution_count": 117,
     "metadata": {},
     "output_type": "execute_result"
    }
   ],
   "source": [
    "sympy.simplify(expr)"
   ]
  },
  {
   "cell_type": "code",
   "execution_count": 118,
   "id": "abe671be",
   "metadata": {},
   "outputs": [
    {
     "data": {
      "text/latex": [
       "$\\displaystyle \\sin{\\left(x \\right)} \\cos{\\left(y \\right)} + \\sin{\\left(y \\right)} \\cos{\\left(x \\right)}$"
      ],
      "text/plain": [
       "sin(x)*cos(y) + sin(y)*cos(x)"
      ]
     },
     "execution_count": 118,
     "metadata": {},
     "output_type": "execute_result"
    }
   ],
   "source": [
    "sympy.sin(x + y).expand(trig=True)"
   ]
  },
  {
   "cell_type": "code",
   "execution_count": 119,
   "id": "ba712228",
   "metadata": {},
   "outputs": [],
   "source": [
    "a, b = sympy.symbols(\"a, b\", positive=True)"
   ]
  },
  {
   "cell_type": "code",
   "execution_count": 120,
   "id": "7a643283",
   "metadata": {},
   "outputs": [
    {
     "data": {
      "text/latex": [
       "$\\displaystyle \\log{\\left(a \\right)} + \\log{\\left(b \\right)}$"
      ],
      "text/plain": [
       "log(a) + log(b)"
      ]
     },
     "execution_count": 120,
     "metadata": {},
     "output_type": "execute_result"
    }
   ],
   "source": [
    "sympy.log(a * b).expand(log=True)"
   ]
  },
  {
   "cell_type": "code",
   "execution_count": 121,
   "id": "175e71a0",
   "metadata": {},
   "outputs": [
    {
     "data": {
      "text/latex": [
       "$\\displaystyle i e^{b} \\sin{\\left(a \\right)} + e^{b} \\cos{\\left(a \\right)}$"
      ],
      "text/plain": [
       "I*exp(b)*sin(a) + exp(b)*cos(a)"
      ]
     },
     "execution_count": 121,
     "metadata": {},
     "output_type": "execute_result"
    }
   ],
   "source": [
    "sympy.exp(I*a + b).expand(complex=True)"
   ]
  },
  {
   "cell_type": "code",
   "execution_count": 122,
   "id": "40fb8cdb",
   "metadata": {},
   "outputs": [
    {
     "data": {
      "text/latex": [
       "$\\displaystyle a^{x} b^{x}$"
      ],
      "text/plain": [
       "a**x*b**x"
      ]
     },
     "execution_count": 122,
     "metadata": {},
     "output_type": "execute_result"
    }
   ],
   "source": [
    "sympy.expand((a * b)**x, power_exp=True)"
   ]
  },
  {
   "cell_type": "code",
   "execution_count": 123,
   "id": "a06c8160",
   "metadata": {},
   "outputs": [
    {
     "data": {
      "text/latex": [
       "$\\displaystyle e^{i a x} e^{- i b x}$"
      ],
      "text/plain": [
       "exp(I*a*x)*exp(-I*b*x)"
      ]
     },
     "execution_count": 123,
     "metadata": {},
     "output_type": "execute_result"
    }
   ],
   "source": [
    "sympy.exp(I*(a-b)*x).expand(power_exp=True)"
   ]
  },
  {
   "cell_type": "markdown",
   "id": "c72f1e84",
   "metadata": {},
   "source": [
    "#### Factor\n",
    "\n",
    "```sympy.factor```는 식을 인수분해한다.  \n",
    "```sympy.expand(expr, mul=True)```의 개념을 반대로 진행한다.  "
   ]
  },
  {
   "cell_type": "code",
   "execution_count": 124,
   "id": "34728424",
   "metadata": {},
   "outputs": [
    {
     "data": {
      "text/latex": [
       "$\\displaystyle \\left(x - 1\\right) \\left(x + 1\\right)$"
      ],
      "text/plain": [
       "(x - 1)*(x + 1)"
      ]
     },
     "execution_count": 124,
     "metadata": {},
     "output_type": "execute_result"
    }
   ],
   "source": [
    "sympy.factor(x**2 - 1)"
   ]
  },
  {
   "cell_type": "code",
   "execution_count": 125,
   "id": "6e7508bc",
   "metadata": {},
   "outputs": [
    {
     "data": {
      "text/latex": [
       "$\\displaystyle x \\left(\\sin{\\left(z \\right)} + \\cos{\\left(y \\right)}\\right)$"
      ],
      "text/plain": [
       "x*(sin(z) + cos(y))"
      ]
     },
     "execution_count": 125,
     "metadata": {},
     "output_type": "execute_result"
    }
   ],
   "source": [
    "sympy.factor(x * sympy.cos(y) + sympy.sin(z) * x)"
   ]
  },
  {
   "cell_type": "markdown",
   "id": "3627886d",
   "metadata": {},
   "source": [
    "로그 함수나, 지수 함수, 삼각함수와 관련된 factoring은 ```sympy.logcombine```, ```sympy.powsimp```, ```sympy.trigsimp``` 등을 이용한다."
   ]
  },
  {
   "cell_type": "code",
   "execution_count": 126,
   "id": "bc987732",
   "metadata": {},
   "outputs": [
    {
     "data": {
      "text/latex": [
       "$\\displaystyle \\log{\\left(\\frac{a}{b} \\right)}$"
      ],
      "text/plain": [
       "log(a/b)"
      ]
     },
     "execution_count": 126,
     "metadata": {},
     "output_type": "execute_result"
    }
   ],
   "source": [
    "sympy.logcombine(sympy.log(a) - sympy.log(b))"
   ]
  },
  {
   "cell_type": "code",
   "execution_count": 127,
   "id": "236b9a37",
   "metadata": {},
   "outputs": [
    {
     "data": {
      "text/latex": [
       "$\\displaystyle x y z + x + y$"
      ],
      "text/plain": [
       "x*y*z + x + y"
      ]
     },
     "execution_count": 127,
     "metadata": {},
     "output_type": "execute_result"
    }
   ],
   "source": [
    "expr = x + y + x * y * z\n",
    "expr"
   ]
  },
  {
   "cell_type": "markdown",
   "id": "1cea34b6",
   "metadata": {},
   "source": [
    "완전히 인수분해 가능한 식이 아니더라도, 특정 symbol을 기준으로 묶어서 정리할 때, ```collect```를 이용한다."
   ]
  },
  {
   "cell_type": "code",
   "execution_count": 128,
   "id": "f5b86852",
   "metadata": {},
   "outputs": [
    {
     "data": {
      "text/latex": [
       "$\\displaystyle x y z + x + y$"
      ],
      "text/plain": [
       "x*y*z + x + y"
      ]
     },
     "execution_count": 128,
     "metadata": {},
     "output_type": "execute_result"
    }
   ],
   "source": [
    "expr.factor()"
   ]
  },
  {
   "cell_type": "code",
   "execution_count": 129,
   "id": "6f713a2c",
   "metadata": {},
   "outputs": [
    {
     "data": {
      "text/latex": [
       "$\\displaystyle x \\left(y z + 1\\right) + y$"
      ],
      "text/plain": [
       "x*(y*z + 1) + y"
      ]
     },
     "execution_count": 129,
     "metadata": {},
     "output_type": "execute_result"
    }
   ],
   "source": [
    "expr.collect(x)"
   ]
  },
  {
   "cell_type": "code",
   "execution_count": 130,
   "id": "eb9b8af0",
   "metadata": {},
   "outputs": [
    {
     "data": {
      "text/latex": [
       "$\\displaystyle x + y \\left(x z + 1\\right)$"
      ],
      "text/plain": [
       "x + y*(x*z + 1)"
      ]
     },
     "execution_count": 130,
     "metadata": {},
     "output_type": "execute_result"
    }
   ],
   "source": [
    "expr.collect(y)"
   ]
  },
  {
   "cell_type": "code",
   "execution_count": 131,
   "id": "7781111a",
   "metadata": {},
   "outputs": [
    {
     "data": {
      "text/latex": [
       "$\\displaystyle \\sin{\\left(x - y \\right)} + \\cos{\\left(x + y \\right)}$"
      ],
      "text/plain": [
       "sin(x - y) + cos(x + y)"
      ]
     },
     "execution_count": 131,
     "metadata": {},
     "output_type": "execute_result"
    }
   ],
   "source": [
    "expr = sympy.cos(x + y) + sympy.sin(x - y)\n",
    "expr"
   ]
  },
  {
   "cell_type": "code",
   "execution_count": 132,
   "id": "6eb1b3ed",
   "metadata": {},
   "outputs": [
    {
     "data": {
      "text/latex": [
       "$\\displaystyle \\left(\\sin{\\left(x \\right)} + \\cos{\\left(x \\right)}\\right) \\left(- \\sin{\\left(y \\right)} + \\cos{\\left(y \\right)}\\right)$"
      ],
      "text/plain": [
       "(sin(x) + cos(x))*(-sin(y) + cos(y))"
      ]
     },
     "execution_count": 132,
     "metadata": {},
     "output_type": "execute_result"
    }
   ],
   "source": [
    "expr.expand(trig=True).collect([sympy.cos(x), sympy.sin(x)]).collect(sympy.cos(y) - sympy.sin(y))"
   ]
  },
  {
   "cell_type": "markdown",
   "id": "af475073",
   "metadata": {},
   "source": [
    "#### Apart, Together, Cancel"
   ]
  },
  {
   "cell_type": "code",
   "execution_count": 133,
   "id": "5292073d",
   "metadata": {},
   "outputs": [
    {
     "data": {
      "text/latex": [
       "$\\displaystyle \\frac{1}{x^{2} + 3 x + 2}$"
      ],
      "text/plain": [
       "1/(x**2 + 3*x + 2)"
      ]
     },
     "execution_count": 133,
     "metadata": {},
     "output_type": "execute_result"
    }
   ],
   "source": [
    "expr = 1/(x**2 + 3*x + 2)\n",
    "expr"
   ]
  },
  {
   "cell_type": "code",
   "execution_count": 134,
   "id": "e0f63139",
   "metadata": {},
   "outputs": [
    {
     "data": {
      "text/latex": [
       "$\\displaystyle - \\frac{1}{x + 2} + \\frac{1}{x + 1}$"
      ],
      "text/plain": [
       "-1/(x + 2) + 1/(x + 1)"
      ]
     },
     "execution_count": 134,
     "metadata": {},
     "output_type": "execute_result"
    }
   ],
   "source": [
    "sympy.apart(expr, x)"
   ]
  },
  {
   "cell_type": "code",
   "execution_count": 135,
   "id": "f634ffd3",
   "metadata": {},
   "outputs": [
    {
     "data": {
      "text/latex": [
       "$\\displaystyle \\frac{1}{x y + y} + \\frac{1}{x + 1}$"
      ],
      "text/plain": [
       "1/(x*y + y) + 1/(x + 1)"
      ]
     },
     "execution_count": 135,
     "metadata": {},
     "output_type": "execute_result"
    }
   ],
   "source": [
    "expr = 1 / (y * x + y) + 1 / (1+x)\n",
    "expr"
   ]
  },
  {
   "cell_type": "code",
   "execution_count": 136,
   "id": "cfe7165e",
   "metadata": {},
   "outputs": [
    {
     "data": {
      "text/latex": [
       "$\\displaystyle \\frac{y + 1}{y \\left(x + 1\\right)}$"
      ],
      "text/plain": [
       "(y + 1)/(y*(x + 1))"
      ]
     },
     "execution_count": 136,
     "metadata": {},
     "output_type": "execute_result"
    }
   ],
   "source": [
    "sympy.together(expr)"
   ]
  },
  {
   "cell_type": "code",
   "execution_count": 137,
   "id": "5ce47a92",
   "metadata": {},
   "outputs": [
    {
     "data": {
      "text/latex": [
       "$\\displaystyle \\frac{y + 1}{y \\left(x + 1\\right)}$"
      ],
      "text/plain": [
       "(y + 1)/(y*(x + 1))"
      ]
     },
     "execution_count": 137,
     "metadata": {},
     "output_type": "execute_result"
    }
   ],
   "source": [
    "sympy.simplify(expr)"
   ]
  },
  {
   "cell_type": "code",
   "execution_count": 138,
   "id": "cffb9fd3",
   "metadata": {},
   "outputs": [
    {
     "data": {
      "text/latex": [
       "$\\displaystyle \\frac{y}{x y + y}$"
      ],
      "text/plain": [
       "y/(x*y + y)"
      ]
     },
     "execution_count": 138,
     "metadata": {},
     "output_type": "execute_result"
    }
   ],
   "source": [
    "expr = y / (y * x + y)\n",
    "expr"
   ]
  },
  {
   "cell_type": "code",
   "execution_count": 139,
   "id": "466ee239",
   "metadata": {},
   "outputs": [
    {
     "data": {
      "text/latex": [
       "$\\displaystyle \\frac{1}{x + 1}$"
      ],
      "text/plain": [
       "1/(x + 1)"
      ]
     },
     "execution_count": 139,
     "metadata": {},
     "output_type": "execute_result"
    }
   ],
   "source": [
    "sympy.cancel(expr)"
   ]
  },
  {
   "cell_type": "code",
   "execution_count": 140,
   "id": "e0cbcecd",
   "metadata": {},
   "outputs": [
    {
     "data": {
      "text/latex": [
       "$\\displaystyle \\frac{1}{x + 1}$"
      ],
      "text/plain": [
       "1/(x + 1)"
      ]
     },
     "execution_count": 140,
     "metadata": {},
     "output_type": "execute_result"
    }
   ],
   "source": [
    "sympy.simplify(expr)"
   ]
  },
  {
   "cell_type": "markdown",
   "id": "15f41107",
   "metadata": {},
   "source": [
    "#### Substitution\n",
    "\n",
    "Symbol이나 expression에 대입을 할 때 ```subs```를 이용한다."
   ]
  },
  {
   "cell_type": "code",
   "execution_count": 141,
   "id": "f22d4bff",
   "metadata": {},
   "outputs": [
    {
     "data": {
      "text/latex": [
       "$\\displaystyle 2 y$"
      ],
      "text/plain": [
       "2*y"
      ]
     },
     "execution_count": 141,
     "metadata": {},
     "output_type": "execute_result"
    }
   ],
   "source": [
    "(x + y).subs(x, y)"
   ]
  },
  {
   "cell_type": "code",
   "execution_count": 142,
   "id": "97796ed0",
   "metadata": {},
   "outputs": [
    {
     "data": {
      "text/latex": [
       "$\\displaystyle \\sin{\\left(y e^{y} \\right)}$"
      ],
      "text/plain": [
       "sin(y*exp(y))"
      ]
     },
     "execution_count": 142,
     "metadata": {},
     "output_type": "execute_result"
    }
   ],
   "source": [
    "sympy.sin(x * sympy.exp(x)).subs(x, y)"
   ]
  },
  {
   "cell_type": "markdown",
   "id": "3cb9df52",
   "metadata": {},
   "source": [
    "여러 symbol이나 expression에 한꺼번에 대입할 때는 dictionary를 이용한다."
   ]
  },
  {
   "cell_type": "code",
   "execution_count": 143,
   "id": "92f82cc7",
   "metadata": {},
   "outputs": [
    {
     "data": {
      "text/latex": [
       "$\\displaystyle \\cos{\\left(y e^{y} \\right)}$"
      ],
      "text/plain": [
       "cos(y*exp(y))"
      ]
     },
     "execution_count": 143,
     "metadata": {},
     "output_type": "execute_result"
    }
   ],
   "source": [
    "sympy.sin(x * z).subs({z: sympy.exp(y), x: y, sympy.sin: sympy.cos})"
   ]
  },
  {
   "cell_type": "code",
   "execution_count": 144,
   "id": "38d9083d",
   "metadata": {},
   "outputs": [],
   "source": [
    "expr = x * y + z**2 *x"
   ]
  },
  {
   "cell_type": "code",
   "execution_count": 145,
   "id": "107e1c06",
   "metadata": {},
   "outputs": [],
   "source": [
    "values = {x: 1.25, y: 0.4, z: 3.2}"
   ]
  },
  {
   "cell_type": "code",
   "execution_count": 146,
   "id": "8c27acc0",
   "metadata": {},
   "outputs": [
    {
     "data": {
      "text/latex": [
       "$\\displaystyle 13.3$"
      ],
      "text/plain": [
       "13.3000000000000"
      ]
     },
     "execution_count": 146,
     "metadata": {},
     "output_type": "execute_result"
    }
   ],
   "source": [
    "expr.subs(values)"
   ]
  },
  {
   "cell_type": "markdown",
   "id": "78d63bbd",
   "metadata": {},
   "source": [
    "숫자를 대입하여도 숫자 결과가 나왔지만, 반환값은 여전히 sympy object임에 주의."
   ]
  },
  {
   "cell_type": "code",
   "execution_count": 147,
   "id": "18206dff",
   "metadata": {},
   "outputs": [
    {
     "data": {
      "text/plain": [
       "sympy.core.numbers.Float"
      ]
     },
     "execution_count": 147,
     "metadata": {},
     "output_type": "execute_result"
    }
   ],
   "source": [
    "type(expr.subs(values))"
   ]
  },
  {
   "cell_type": "markdown",
   "id": "60f5080d",
   "metadata": {},
   "source": [
    "즉, 다음과 같은 코드는 에러가 발생할 것이다.\n",
    "\n",
    "```\n",
    "import numpy as np\n",
    "np.sqrt(expr.subs(values))\n",
    "```"
   ]
  },
  {
   "cell_type": "markdown",
   "id": "47d288ee",
   "metadata": {},
   "source": [
    "positive로 정의된 symbol에 음수 값 대입 가능하니 주의"
   ]
  },
  {
   "cell_type": "code",
   "execution_count": 148,
   "id": "ae3846e6",
   "metadata": {},
   "outputs": [
    {
     "data": {
      "text/latex": [
       "$\\displaystyle y$"
      ],
      "text/plain": [
       "y"
      ]
     },
     "execution_count": 148,
     "metadata": {},
     "output_type": "execute_result"
    }
   ],
   "source": [
    "sympy.Symbol(\"y\", positive=True).subs(y, -10)"
   ]
  },
  {
   "cell_type": "markdown",
   "id": "2910325f",
   "metadata": {},
   "source": [
    "#### Numerical evaluation\n",
    "\n",
    "위에서는 symbolic 계산을 하였지만, 숫자값을 계산하고자 할 때는 ```sympy.N``` 혹은```evalf``` method를 이용한다."
   ]
  },
  {
   "cell_type": "code",
   "execution_count": 149,
   "id": "f9cf0ec8",
   "metadata": {},
   "outputs": [
    {
     "data": {
      "text/latex": [
       "$\\displaystyle 4.14159265358979$"
      ],
      "text/plain": [
       "4.14159265358979"
      ]
     },
     "execution_count": 149,
     "metadata": {},
     "output_type": "execute_result"
    }
   ],
   "source": [
    "sympy.N(1 + pi)"
   ]
  },
  {
   "cell_type": "code",
   "execution_count": 150,
   "id": "9d412fc1",
   "metadata": {},
   "outputs": [
    {
     "data": {
      "text/plain": [
       "sympy.core.numbers.Float"
      ]
     },
     "execution_count": 150,
     "metadata": {},
     "output_type": "execute_result"
    }
   ],
   "source": [
    "type(sympy.N(1 + pi))"
   ]
  },
  {
   "cell_type": "code",
   "execution_count": 151,
   "id": "ee7507b3",
   "metadata": {},
   "outputs": [
    {
     "data": {
      "text/latex": [
       "$\\displaystyle 3.1415926535897932384626433832795028841971693993751$"
      ],
      "text/plain": [
       "3.1415926535897932384626433832795028841971693993751"
      ]
     },
     "execution_count": 151,
     "metadata": {},
     "output_type": "execute_result"
    }
   ],
   "source": [
    "sympy.N(pi, 50)"
   ]
  },
  {
   "cell_type": "code",
   "execution_count": 152,
   "id": "a161f4e5",
   "metadata": {},
   "outputs": [
    {
     "data": {
      "text/latex": [
       "$\\displaystyle x + 0.3183099$"
      ],
      "text/plain": [
       "x + 0.3183099"
      ]
     },
     "execution_count": 152,
     "metadata": {},
     "output_type": "execute_result"
    }
   ],
   "source": [
    "(x + 1/pi).evalf(7)"
   ]
  },
  {
   "cell_type": "code",
   "execution_count": 153,
   "id": "32e20082",
   "metadata": {},
   "outputs": [
    {
     "data": {
      "text/plain": [
       "sympy.core.add.Add"
      ]
     },
     "execution_count": 153,
     "metadata": {},
     "output_type": "execute_result"
    }
   ],
   "source": [
    "type((x + 1/pi).evalf(7))"
   ]
  },
  {
   "cell_type": "code",
   "execution_count": 154,
   "id": "3dd3faab",
   "metadata": {},
   "outputs": [
    {
     "data": {
      "text/latex": [
       "$\\displaystyle \\frac{1}{\\pi} + 10$"
      ],
      "text/plain": [
       "1/pi + 10"
      ]
     },
     "execution_count": 154,
     "metadata": {},
     "output_type": "execute_result"
    }
   ],
   "source": [
    "(x + 1/pi).subs(x, 10)"
   ]
  },
  {
   "cell_type": "code",
   "execution_count": 155,
   "id": "551e0334",
   "metadata": {},
   "outputs": [
    {
     "data": {
      "text/latex": [
       "$\\displaystyle 10.318$"
      ],
      "text/plain": [
       "10.318"
      ]
     },
     "execution_count": 155,
     "metadata": {},
     "output_type": "execute_result"
    }
   ],
   "source": [
    "(x + 1/pi).subs(x, 10).evalf(5)"
   ]
  },
  {
   "cell_type": "code",
   "execution_count": 156,
   "id": "afcd0e61",
   "metadata": {},
   "outputs": [
    {
     "data": {
      "text/latex": [
       "$\\displaystyle \\sin{\\left(\\pi x e^{x} \\right)}$"
      ],
      "text/plain": [
       "sin(pi*x*exp(x))"
      ]
     },
     "execution_count": 156,
     "metadata": {},
     "output_type": "execute_result"
    }
   ],
   "source": [
    "expr = sympy.sin(pi * x * sympy.exp(x))\n",
    "expr"
   ]
  },
  {
   "cell_type": "code",
   "execution_count": 157,
   "id": "6be028f5",
   "metadata": {},
   "outputs": [
    {
     "data": {
      "text/plain": [
       "[0,\n",
       " sin(E*pi),\n",
       " sin(2*pi*exp(2)),\n",
       " sin(3*pi*exp(3)),\n",
       " sin(4*pi*exp(4)),\n",
       " sin(5*pi*exp(5)),\n",
       " sin(6*pi*exp(6)),\n",
       " sin(7*pi*exp(7)),\n",
       " sin(8*pi*exp(8)),\n",
       " sin(9*pi*exp(9))]"
      ]
     },
     "execution_count": 157,
     "metadata": {},
     "output_type": "execute_result"
    }
   ],
   "source": [
    "[expr.subs(x, xx) for xx in range(0, 10)]"
   ]
  },
  {
   "cell_type": "code",
   "execution_count": 158,
   "id": "d3722257",
   "metadata": {},
   "outputs": [
    {
     "data": {
      "text/plain": [
       "[0, 0.774, 0.642, 0.722, 0.944, 0.205, 0.974, 0.977, -0.870, -0.695]"
      ]
     },
     "execution_count": 158,
     "metadata": {},
     "output_type": "execute_result"
    }
   ],
   "source": [
    "[expr.subs(x, xx).evalf(3) for xx in range(0, 10)]"
   ]
  },
  {
   "cell_type": "markdown",
   "id": "ef7d89dc",
   "metadata": {},
   "source": [
    "위 방법도 가능하지만 속도 면에서 ```lambdify```를 이용하는 것이 좋다."
   ]
  },
  {
   "cell_type": "markdown",
   "id": "dafa6318",
   "metadata": {},
   "source": [
    "```lambdify```는 numerical evaluation 만을 위한 함수를 만들 수 있게 한다.  \n",
    "```lambdify```를 통해 생성된 함수는 주어진 expression의 free parameter symbol의 수만큼 인자를 받을 수 있다."
   ]
  },
  {
   "cell_type": "code",
   "execution_count": 159,
   "id": "76142535",
   "metadata": {},
   "outputs": [],
   "source": [
    "expr_func = sympy.lambdify(x, expr)"
   ]
  },
  {
   "cell_type": "code",
   "execution_count": 160,
   "id": "8dffd217",
   "metadata": {},
   "outputs": [
    {
     "data": {
      "text/plain": [
       "<function _lambdifygenerated(x)>"
      ]
     },
     "execution_count": 160,
     "metadata": {},
     "output_type": "execute_result"
    }
   ],
   "source": [
    "expr_func "
   ]
  },
  {
   "cell_type": "code",
   "execution_count": 161,
   "id": "20606474",
   "metadata": {},
   "outputs": [
    {
     "data": {
      "text/plain": [
       "function"
      ]
     },
     "execution_count": 161,
     "metadata": {},
     "output_type": "execute_result"
    }
   ],
   "source": [
    "type(expr_func)"
   ]
  },
  {
   "cell_type": "code",
   "execution_count": 162,
   "id": "cd2f520e",
   "metadata": {},
   "outputs": [
    {
     "data": {
      "text/plain": [
       "0.773942685266709"
      ]
     },
     "execution_count": 162,
     "metadata": {},
     "output_type": "execute_result"
    }
   ],
   "source": [
    "expr_func(1.0)"
   ]
  },
  {
   "cell_type": "markdown",
   "id": "8ef18775",
   "metadata": {},
   "source": [
    "```expr_func```에는 symbol이 전달되지 않으니, 예를 들어 다음 코드는 에러가 난다.  \n",
    "```expr_func(pi)```"
   ]
  },
  {
   "cell_type": "code",
   "execution_count": 163,
   "id": "538fb491",
   "metadata": {},
   "outputs": [
    {
     "data": {
      "text/plain": [
       "0.8115393579712379"
      ]
     },
     "execution_count": 163,
     "metadata": {},
     "output_type": "execute_result"
    }
   ],
   "source": [
    "# 물론 numpy pi는 전달 가능\n",
    "import numpy as np\n",
    "expr_func(np.pi)"
   ]
  },
  {
   "cell_type": "markdown",
   "id": "eeaa5999",
   "metadata": {},
   "source": [
    "```'numpy'```를 추가 인자로 전달하여, 주어진 numpy array의 값 모두에 대해 vectorized 방식으로 계산하도록 할 수 있다."
   ]
  },
  {
   "cell_type": "code",
   "execution_count": 164,
   "id": "e76591b7",
   "metadata": {},
   "outputs": [],
   "source": [
    "expr_func = sympy.lambdify(x, expr, 'numpy')"
   ]
  },
  {
   "cell_type": "code",
   "execution_count": 165,
   "id": "6190a15b",
   "metadata": {},
   "outputs": [
    {
     "data": {
      "text/plain": [
       "array([ 0.        ,  0.77394269,  0.64198244,  0.72163867,  0.94361635,\n",
       "        0.20523391,  0.97398794,  0.97734066, -0.87034418, -0.69512687])"
      ]
     },
     "execution_count": 165,
     "metadata": {},
     "output_type": "execute_result"
    }
   ],
   "source": [
    "expr_func(np.arange(0, 10))"
   ]
  },
  {
   "cell_type": "markdown",
   "id": "d9707b1e",
   "metadata": {},
   "source": [
    "#### Derivative\n",
    "\n",
    "```sympy.diff```를 이용하여 symbolic derivative를 구할 수 있다.  \n",
    "아래는 undefined function에 대한 예제들이다."
   ]
  },
  {
   "cell_type": "code",
   "execution_count": 166,
   "id": "14b67a57",
   "metadata": {},
   "outputs": [],
   "source": [
    "f = sympy.Function('f')(x)"
   ]
  },
  {
   "cell_type": "code",
   "execution_count": 167,
   "id": "50a547e1",
   "metadata": {},
   "outputs": [
    {
     "data": {
      "text/latex": [
       "$\\displaystyle \\frac{d}{d x} f{\\left(x \\right)}$"
      ],
      "text/plain": [
       "Derivative(f(x), x)"
      ]
     },
     "execution_count": 167,
     "metadata": {},
     "output_type": "execute_result"
    }
   ],
   "source": [
    "sympy.diff(f, x)"
   ]
  },
  {
   "cell_type": "code",
   "execution_count": 168,
   "id": "0d2736a8",
   "metadata": {},
   "outputs": [
    {
     "data": {
      "text/latex": [
       "$\\displaystyle \\frac{d^{2}}{d x^{2}} f{\\left(x \\right)}$"
      ],
      "text/plain": [
       "Derivative(f(x), (x, 2))"
      ]
     },
     "execution_count": 168,
     "metadata": {},
     "output_type": "execute_result"
    }
   ],
   "source": [
    "sympy.diff(f, x, x)"
   ]
  },
  {
   "cell_type": "code",
   "execution_count": 169,
   "id": "9e6264b3",
   "metadata": {},
   "outputs": [
    {
     "data": {
      "text/latex": [
       "$\\displaystyle \\frac{d^{3}}{d x^{3}} f{\\left(x \\right)}$"
      ],
      "text/plain": [
       "Derivative(f(x), (x, 3))"
      ]
     },
     "execution_count": 169,
     "metadata": {},
     "output_type": "execute_result"
    }
   ],
   "source": [
    "sympy.diff(f, x, 3)"
   ]
  },
  {
   "cell_type": "code",
   "execution_count": 170,
   "id": "436e028f",
   "metadata": {},
   "outputs": [],
   "source": [
    "g = sympy.Function('g')(x, y)"
   ]
  },
  {
   "cell_type": "code",
   "execution_count": 171,
   "id": "826f1518",
   "metadata": {},
   "outputs": [
    {
     "data": {
      "text/latex": [
       "$\\displaystyle \\frac{\\partial^{2}}{\\partial y\\partial x} g{\\left(x,y \\right)}$"
      ],
      "text/plain": [
       "Derivative(g(x, y), x, y)"
      ]
     },
     "execution_count": 171,
     "metadata": {},
     "output_type": "execute_result"
    }
   ],
   "source": [
    "g.diff(x, y)"
   ]
  },
  {
   "cell_type": "code",
   "execution_count": 172,
   "id": "6590739a",
   "metadata": {},
   "outputs": [
    {
     "data": {
      "text/latex": [
       "$\\displaystyle \\frac{\\partial^{5}}{\\partial y^{2}\\partial x^{3}} g{\\left(x,y \\right)}$"
      ],
      "text/plain": [
       "Derivative(g(x, y), (x, 3), (y, 2))"
      ]
     },
     "execution_count": 172,
     "metadata": {},
     "output_type": "execute_result"
    }
   ],
   "source": [
    "g.diff(x, 3, y, 2)         # equivalent to s.diff(g, x, x, x, y, y)"
   ]
  },
  {
   "cell_type": "markdown",
   "id": "f7c428a0",
   "metadata": {},
   "source": [
    "Defined function이나 expression에 대해 미분할 수 있다."
   ]
  },
  {
   "cell_type": "code",
   "execution_count": 173,
   "id": "a5ad1764",
   "metadata": {},
   "outputs": [
    {
     "data": {
      "text/latex": [
       "$\\displaystyle x^{4} + x^{3} + x^{2} + x + 1$"
      ],
      "text/plain": [
       "x**4 + x**3 + x**2 + x + 1"
      ]
     },
     "execution_count": 173,
     "metadata": {},
     "output_type": "execute_result"
    }
   ],
   "source": [
    "expr = x**4 + x**3 + x**2 + x + 1\n",
    "expr"
   ]
  },
  {
   "cell_type": "code",
   "execution_count": 174,
   "id": "6da35b7a",
   "metadata": {},
   "outputs": [
    {
     "data": {
      "text/latex": [
       "$\\displaystyle 4 x^{3} + 3 x^{2} + 2 x + 1$"
      ],
      "text/plain": [
       "4*x**3 + 3*x**2 + 2*x + 1"
      ]
     },
     "execution_count": 174,
     "metadata": {},
     "output_type": "execute_result"
    }
   ],
   "source": [
    "expr.diff(x)"
   ]
  },
  {
   "cell_type": "code",
   "execution_count": 175,
   "id": "2f5dcc96",
   "metadata": {},
   "outputs": [
    {
     "data": {
      "text/latex": [
       "$\\displaystyle 4 x^{3} + 3 x^{2} + 2 x + 1$"
      ],
      "text/plain": [
       "4*x**3 + 3*x**2 + 2*x + 1"
      ]
     },
     "execution_count": 175,
     "metadata": {},
     "output_type": "execute_result"
    }
   ],
   "source": [
    "sympy.diff(expr, x)"
   ]
  },
  {
   "cell_type": "code",
   "execution_count": 176,
   "id": "533cfd43",
   "metadata": {},
   "outputs": [
    {
     "data": {
      "text/latex": [
       "$\\displaystyle 2 \\cdot \\left(6 x^{2} + 3 x + 1\\right)$"
      ],
      "text/plain": [
       "2*(6*x**2 + 3*x + 1)"
      ]
     },
     "execution_count": 176,
     "metadata": {},
     "output_type": "execute_result"
    }
   ],
   "source": [
    "expr.diff(x, x)"
   ]
  },
  {
   "cell_type": "code",
   "execution_count": 177,
   "id": "b00ac30a",
   "metadata": {},
   "outputs": [],
   "source": [
    "expr = (x + 1)**3 * y ** 2 * (z - 1)"
   ]
  },
  {
   "cell_type": "code",
   "execution_count": 178,
   "id": "4e001c94",
   "metadata": {},
   "outputs": [
    {
     "data": {
      "text/latex": [
       "$\\displaystyle 6 y \\left(x + 1\\right)^{2}$"
      ],
      "text/plain": [
       "6*y*(x + 1)**2"
      ]
     },
     "execution_count": 178,
     "metadata": {},
     "output_type": "execute_result"
    }
   ],
   "source": [
    "expr.diff(x, y, z)"
   ]
  },
  {
   "cell_type": "code",
   "execution_count": 179,
   "id": "9e1f3a82",
   "metadata": {},
   "outputs": [],
   "source": [
    "expr = sympy.sin(x * y) * sympy.cos(x / 2)"
   ]
  },
  {
   "cell_type": "code",
   "execution_count": 180,
   "id": "0c0eb2c6",
   "metadata": {},
   "outputs": [
    {
     "data": {
      "text/latex": [
       "$\\displaystyle y \\cos{\\left(\\frac{x}{2} \\right)} \\cos{\\left(x y \\right)} - \\frac{\\sin{\\left(\\frac{x}{2} \\right)} \\sin{\\left(x y \\right)}}{2}$"
      ],
      "text/plain": [
       "y*cos(x/2)*cos(x*y) - sin(x/2)*sin(x*y)/2"
      ]
     },
     "execution_count": 180,
     "metadata": {},
     "output_type": "execute_result"
    }
   ],
   "source": [
    "expr.diff(x)"
   ]
  },
  {
   "cell_type": "code",
   "execution_count": 181,
   "id": "03529eb2",
   "metadata": {},
   "outputs": [],
   "source": [
    "expr = sympy.functions.special.polynomials.hermite(x, 0)"
   ]
  },
  {
   "cell_type": "code",
   "execution_count": 182,
   "id": "bd3ec94f",
   "metadata": {},
   "outputs": [
    {
     "data": {
      "text/latex": [
       "$\\displaystyle \\frac{2^{x} \\sqrt{\\pi}}{\\Gamma\\left(\\frac{1}{2} - \\frac{x}{2}\\right)}$"
      ],
      "text/plain": [
       "2**x*sqrt(pi)/gamma(1/2 - x/2)"
      ]
     },
     "execution_count": 182,
     "metadata": {},
     "output_type": "execute_result"
    }
   ],
   "source": [
    "expr"
   ]
  },
  {
   "cell_type": "code",
   "execution_count": 183,
   "id": "6a9ebf34",
   "metadata": {},
   "outputs": [
    {
     "data": {
      "text/latex": [
       "$\\displaystyle \\frac{2^{x} \\sqrt{\\pi} \\operatorname{polygamma}{\\left(0,\\frac{1}{2} - \\frac{x}{2} \\right)}}{2 \\Gamma\\left(\\frac{1}{2} - \\frac{x}{2}\\right)} + \\frac{2^{x} \\sqrt{\\pi} \\log{\\left(2 \\right)}}{\\Gamma\\left(\\frac{1}{2} - \\frac{x}{2}\\right)}$"
      ],
      "text/plain": [
       "2**x*sqrt(pi)*polygamma(0, 1/2 - x/2)/(2*gamma(1/2 - x/2)) + 2**x*sqrt(pi)*log(2)/gamma(1/2 - x/2)"
      ]
     },
     "execution_count": 183,
     "metadata": {},
     "output_type": "execute_result"
    }
   ],
   "source": [
    "expr.diff(x)"
   ]
  },
  {
   "cell_type": "markdown",
   "id": "e32a8878",
   "metadata": {},
   "source": [
    "Derivative를 계산하지 않고, sybolically 표현하기 위해서는 ```sympy.Derivative```를 이용한다."
   ]
  },
  {
   "cell_type": "code",
   "execution_count": 184,
   "id": "7458e239",
   "metadata": {},
   "outputs": [
    {
     "data": {
      "text/latex": [
       "$\\displaystyle \\frac{d}{d x} e^{\\cos{\\left(x \\right)}}$"
      ],
      "text/plain": [
       "Derivative(exp(cos(x)), x)"
      ]
     },
     "execution_count": 184,
     "metadata": {},
     "output_type": "execute_result"
    }
   ],
   "source": [
    "d = sympy.Derivative(sympy.exp(sympy.cos(x)), x)\n",
    "d"
   ]
  },
  {
   "cell_type": "code",
   "execution_count": 185,
   "id": "1e676146",
   "metadata": {},
   "outputs": [
    {
     "data": {
      "text/latex": [
       "$\\displaystyle - e^{\\cos{\\left(x \\right)}} \\sin{\\left(x \\right)}$"
      ],
      "text/plain": [
       "-exp(cos(x))*sin(x)"
      ]
     },
     "execution_count": 185,
     "metadata": {},
     "output_type": "execute_result"
    }
   ],
   "source": [
    "d.doit()"
   ]
  },
  {
   "cell_type": "markdown",
   "id": "e8985450",
   "metadata": {},
   "source": [
    "#### Integrals\n",
    "\n",
    "Symbolic integral을 하기 위해서는 ```sympy.integrate```를 이용하고, 적분 표현식을 유지하기 위해서는 ```sympy.Integral```을 이용한다."
   ]
  },
  {
   "cell_type": "code",
   "execution_count": 186,
   "id": "59ba932e",
   "metadata": {},
   "outputs": [],
   "source": [
    "a, b = sympy.symbols(\"a, b\")\n",
    "x, y = sympy.symbols('x, y')\n",
    "f = sympy.Function('f')(x)"
   ]
  },
  {
   "cell_type": "code",
   "execution_count": 187,
   "id": "0384b025",
   "metadata": {},
   "outputs": [
    {
     "data": {
      "text/latex": [
       "$\\displaystyle \\int f{\\left(x \\right)}\\, dx$"
      ],
      "text/plain": [
       "Integral(f(x), x)"
      ]
     },
     "execution_count": 187,
     "metadata": {},
     "output_type": "execute_result"
    }
   ],
   "source": [
    "sympy.integrate(f)"
   ]
  },
  {
   "cell_type": "code",
   "execution_count": 188,
   "id": "06e6d8d6",
   "metadata": {},
   "outputs": [
    {
     "data": {
      "text/latex": [
       "$\\displaystyle \\int\\limits_{a}^{b} f{\\left(x \\right)}\\, dx$"
      ],
      "text/plain": [
       "Integral(f(x), (x, a, b))"
      ]
     },
     "execution_count": 188,
     "metadata": {},
     "output_type": "execute_result"
    }
   ],
   "source": [
    "sympy.integrate(f, (x, a, b))"
   ]
  },
  {
   "cell_type": "code",
   "execution_count": 189,
   "id": "6b7c512b",
   "metadata": {},
   "outputs": [
    {
     "data": {
      "text/latex": [
       "$\\displaystyle - \\cos{\\left(x \\right)}$"
      ],
      "text/plain": [
       "-cos(x)"
      ]
     },
     "execution_count": 189,
     "metadata": {},
     "output_type": "execute_result"
    }
   ],
   "source": [
    "sympy.integrate(sympy.sin(x))"
   ]
  },
  {
   "cell_type": "code",
   "execution_count": 190,
   "id": "1af3e699",
   "metadata": {},
   "outputs": [
    {
     "data": {
      "text/latex": [
       "$\\displaystyle \\cos{\\left(a \\right)} - \\cos{\\left(b \\right)}$"
      ],
      "text/plain": [
       "cos(a) - cos(b)"
      ]
     },
     "execution_count": 190,
     "metadata": {},
     "output_type": "execute_result"
    }
   ],
   "source": [
    "sympy.integrate(sympy.sin(x), (x, a, b))"
   ]
  },
  {
   "cell_type": "code",
   "execution_count": 191,
   "id": "d1297048",
   "metadata": {},
   "outputs": [
    {
     "data": {
      "text/latex": [
       "$\\displaystyle \\frac{\\sqrt{\\pi}}{2}$"
      ],
      "text/plain": [
       "sqrt(pi)/2"
      ]
     },
     "execution_count": 191,
     "metadata": {},
     "output_type": "execute_result"
    }
   ],
   "source": [
    "sympy.integrate(sympy.exp(-x**2), (x, 0, oo))"
   ]
  },
  {
   "cell_type": "code",
   "execution_count": 192,
   "id": "b5aa2e81",
   "metadata": {},
   "outputs": [],
   "source": [
    "a, b, c = sympy.symbols(\"a, b, c\", positive=True)"
   ]
  },
  {
   "cell_type": "code",
   "execution_count": 193,
   "id": "0262dc57",
   "metadata": {},
   "outputs": [
    {
     "data": {
      "text/latex": [
       "$\\displaystyle a e^{- \\frac{\\left(- b + x\\right)^{2}}{c^{2}}}$"
      ],
      "text/plain": [
       "a*exp(-(-b + x)**2/c**2)"
      ]
     },
     "execution_count": 193,
     "metadata": {},
     "output_type": "execute_result"
    }
   ],
   "source": [
    "integrand = a * sympy.exp(-((x-b)/c)**2)\n",
    "integrand"
   ]
  },
  {
   "cell_type": "code",
   "execution_count": 194,
   "id": "60f77e2b",
   "metadata": {},
   "outputs": [
    {
     "data": {
      "text/latex": [
       "$\\displaystyle \\int a e^{- \\frac{\\left(- b + x\\right)^{2}}{c^{2}}}\\, dx$"
      ],
      "text/plain": [
       "Integral(a*exp(-(-b + x)**2/c**2), x)"
      ]
     },
     "execution_count": 194,
     "metadata": {},
     "output_type": "execute_result"
    }
   ],
   "source": [
    "sympy.Integral(integrand, x)"
   ]
  },
  {
   "cell_type": "code",
   "execution_count": 195,
   "id": "ec1b6afc",
   "metadata": {},
   "outputs": [
    {
     "data": {
      "text/latex": [
       "$\\displaystyle \\sqrt{\\pi} a c$"
      ],
      "text/plain": [
       "sqrt(pi)*a*c"
      ]
     },
     "execution_count": 195,
     "metadata": {},
     "output_type": "execute_result"
    }
   ],
   "source": [
    "sympy.integrate(integrand, (x, -oo, oo))"
   ]
  },
  {
   "cell_type": "code",
   "execution_count": 196,
   "id": "c4f447f1",
   "metadata": {},
   "outputs": [
    {
     "data": {
      "text/latex": [
       "$\\displaystyle \\int \\sin{\\left(x \\cos{\\left(x \\right)} \\right)}\\, dx$"
      ],
      "text/plain": [
       "Integral(sin(x*cos(x)), x)"
      ]
     },
     "execution_count": 196,
     "metadata": {},
     "output_type": "execute_result"
    }
   ],
   "source": [
    "sympy.integrate(sympy.sin(x * sympy.cos(x)))"
   ]
  },
  {
   "cell_type": "code",
   "execution_count": 197,
   "id": "e19479db",
   "metadata": {},
   "outputs": [
    {
     "data": {
      "text/latex": [
       "$\\displaystyle \\sin{\\left(x e^{y} \\right)}$"
      ],
      "text/plain": [
       "sin(x*exp(y))"
      ]
     },
     "execution_count": 197,
     "metadata": {},
     "output_type": "execute_result"
    }
   ],
   "source": [
    "expr = sympy.sin(x*sympy.exp(y))\n",
    "expr"
   ]
  },
  {
   "cell_type": "code",
   "execution_count": 198,
   "id": "b01bf84c",
   "metadata": {},
   "outputs": [
    {
     "data": {
      "text/latex": [
       "$\\displaystyle - e^{- y} \\cos{\\left(x e^{y} \\right)}$"
      ],
      "text/plain": [
       "-exp(-y)*cos(x*exp(y))"
      ]
     },
     "execution_count": 198,
     "metadata": {},
     "output_type": "execute_result"
    }
   ],
   "source": [
    "sympy.integrate(expr, x)"
   ]
  },
  {
   "cell_type": "code",
   "execution_count": 199,
   "id": "8057c81b",
   "metadata": {},
   "outputs": [
    {
     "data": {
      "text/latex": [
       "$\\displaystyle \\left(x + y\\right)^{2}$"
      ],
      "text/plain": [
       "(x + y)**2"
      ]
     },
     "execution_count": 199,
     "metadata": {},
     "output_type": "execute_result"
    }
   ],
   "source": [
    "expr = (x + y)**2\n",
    "expr"
   ]
  },
  {
   "cell_type": "code",
   "execution_count": 200,
   "id": "f61e154e",
   "metadata": {},
   "outputs": [
    {
     "data": {
      "text/latex": [
       "$\\displaystyle \\frac{x^{3}}{3} + x^{2} y + x y^{2}$"
      ],
      "text/plain": [
       "x**3/3 + x**2*y + x*y**2"
      ]
     },
     "execution_count": 200,
     "metadata": {},
     "output_type": "execute_result"
    }
   ],
   "source": [
    "sympy.integrate(expr, x)"
   ]
  },
  {
   "cell_type": "code",
   "execution_count": 201,
   "id": "8bfdeae7",
   "metadata": {},
   "outputs": [
    {
     "data": {
      "text/latex": [
       "$\\displaystyle \\frac{x^{3} y}{3} + \\frac{x^{2} y^{2}}{2} + \\frac{x y^{3}}{3}$"
      ],
      "text/plain": [
       "x**3*y/3 + x**2*y**2/2 + x*y**3/3"
      ]
     },
     "execution_count": 201,
     "metadata": {},
     "output_type": "execute_result"
    }
   ],
   "source": [
    "sympy.integrate(expr, x, y)"
   ]
  },
  {
   "cell_type": "code",
   "execution_count": 202,
   "id": "06f74106",
   "metadata": {},
   "outputs": [
    {
     "data": {
      "text/latex": [
       "$\\displaystyle \\frac{7}{6}$"
      ],
      "text/plain": [
       "7/6"
      ]
     },
     "execution_count": 202,
     "metadata": {},
     "output_type": "execute_result"
    }
   ],
   "source": [
    "sympy.integrate(expr, (x, 0, 1), (y, 0, 1))"
   ]
  },
  {
   "cell_type": "markdown",
   "id": "95bbbe82",
   "metadata": {},
   "source": [
    "적분은 통상적으로 미분보다 어렵다."
   ]
  },
  {
   "cell_type": "code",
   "execution_count": 203,
   "id": "62ffad04",
   "metadata": {},
   "outputs": [
    {
     "data": {
      "text/latex": [
       "$\\displaystyle \\sqrt{1 - x^{4}}$"
      ],
      "text/plain": [
       "sqrt(1 - x**4)"
      ]
     },
     "execution_count": 203,
     "metadata": {},
     "output_type": "execute_result"
    }
   ],
   "source": [
    "nonelementry_integrand = sympy.sqrt(1 - x**4)\n",
    "nonelementry_integrand"
   ]
  },
  {
   "cell_type": "code",
   "execution_count": 204,
   "id": "9a28fd9c",
   "metadata": {},
   "outputs": [
    {
     "data": {
      "text/latex": [
       "$\\displaystyle \\frac{x \\Gamma\\left(\\frac{1}{4}\\right) {{}_{2}F_{1}\\left(\\begin{matrix} - \\frac{1}{2}, \\frac{1}{4} \\\\ \\frac{5}{4} \\end{matrix}\\middle| {x^{4} e^{2 i \\pi}} \\right)}}{4 \\Gamma\\left(\\frac{5}{4}\\right)}$"
      ],
      "text/plain": [
       "x*gamma(1/4)*hyper((-1/2, 1/4), (5/4,), x**4*exp_polar(2*I*pi))/(4*gamma(5/4))"
      ]
     },
     "execution_count": 204,
     "metadata": {},
     "output_type": "execute_result"
    }
   ],
   "source": [
    "sympy.integrate(nonelementry_integrand, x)"
   ]
  },
  {
   "cell_type": "code",
   "execution_count": 205,
   "id": "9a4f3b7d",
   "metadata": {},
   "outputs": [
    {
     "data": {
      "text/latex": [
       "$\\displaystyle \\operatorname{li}{\\left(x \\right)}$"
      ],
      "text/plain": [
       "li(x)"
      ]
     },
     "execution_count": 205,
     "metadata": {},
     "output_type": "execute_result"
    }
   ],
   "source": [
    "sympy.integrate( 1 / sympy.log(x), x)"
   ]
  },
  {
   "cell_type": "code",
   "execution_count": 206,
   "id": "71a7af27",
   "metadata": {},
   "outputs": [
    {
     "data": {
      "text/latex": [
       "$\\displaystyle \\frac{3 \\sqrt{2} \\sqrt{\\pi} S\\left(\\frac{\\sqrt{2} x}{\\sqrt{\\pi}}\\right) \\Gamma\\left(\\frac{3}{4}\\right)}{8 \\Gamma\\left(\\frac{7}{4}\\right)}$"
      ],
      "text/plain": [
       "3*sqrt(2)*sqrt(pi)*fresnels(sqrt(2)*x/sqrt(pi))*gamma(3/4)/(8*gamma(7/4))"
      ]
     },
     "execution_count": 206,
     "metadata": {},
     "output_type": "execute_result"
    }
   ],
   "source": [
    "sympy.integrate(sympy.sin(x**2), x)"
   ]
  },
  {
   "cell_type": "markdown",
   "id": "65c78d5f",
   "metadata": {},
   "source": [
    "#### Series\n",
    "\n",
    "Series expansion은 다항식 근사로 활용된다."
   ]
  },
  {
   "cell_type": "code",
   "execution_count": 207,
   "id": "a46e2f10",
   "metadata": {},
   "outputs": [],
   "source": [
    "x = sympy.Symbol(\"x\")\n",
    "f = sympy.Function(\"f\")(x)"
   ]
  },
  {
   "cell_type": "code",
   "execution_count": 208,
   "id": "40a9ec89",
   "metadata": {},
   "outputs": [
    {
     "data": {
      "text/plain": [
       "f"
      ]
     },
     "execution_count": 208,
     "metadata": {},
     "output_type": "execute_result"
    }
   ],
   "source": [
    "type(f)"
   ]
  },
  {
   "cell_type": "code",
   "execution_count": 209,
   "id": "996a9b42",
   "metadata": {},
   "outputs": [
    {
     "data": {
      "text/plain": [
       "True"
      ]
     },
     "execution_count": 209,
     "metadata": {},
     "output_type": "execute_result"
    }
   ],
   "source": [
    "isinstance(f, sympy.core.Expr)"
   ]
  },
  {
   "cell_type": "code",
   "execution_count": 210,
   "id": "779aa417",
   "metadata": {},
   "outputs": [
    {
     "data": {
      "text/latex": [
       "$\\displaystyle f{\\left(0 \\right)} + x \\left. \\frac{d}{d \\xi} f{\\left(\\xi \\right)} \\right|_{\\substack{ \\xi=0 }} + \\frac{x^{2} \\left. \\frac{d^{2}}{d \\xi^{2}} f{\\left(\\xi \\right)} \\right|_{\\substack{ \\xi=0 }}}{2} + \\frac{x^{3} \\left. \\frac{d^{3}}{d \\xi^{3}} f{\\left(\\xi \\right)} \\right|_{\\substack{ \\xi=0 }}}{6} + \\frac{x^{4} \\left. \\frac{d^{4}}{d \\xi^{4}} f{\\left(\\xi \\right)} \\right|_{\\substack{ \\xi=0 }}}{24} + \\frac{x^{5} \\left. \\frac{d^{5}}{d \\xi^{5}} f{\\left(\\xi \\right)} \\right|_{\\substack{ \\xi=0 }}}{120} + O\\left(x^{6}\\right)$"
      ],
      "text/plain": [
       "f(0) + x*Subs(Derivative(f(xi), xi), xi, 0) + x**2*Subs(Derivative(f(xi), (xi, 2)), xi, 0)/2 + x**3*Subs(Derivative(f(xi), (xi, 3)), xi, 0)/6 + x**4*Subs(Derivative(f(xi), (xi, 4)), xi, 0)/24 + x**5*Subs(Derivative(f(xi), (xi, 5)), xi, 0)/120 + O(x**6)"
      ]
     },
     "execution_count": 210,
     "metadata": {},
     "output_type": "execute_result"
    }
   ],
   "source": [
    "sympy.series(f, x)"
   ]
  },
  {
   "cell_type": "markdown",
   "id": "3934c166",
   "metadata": {},
   "source": [
    "Series expansion의 위치는 보통 ```\"{x_0}\"```로 표현한다."
   ]
  },
  {
   "cell_type": "code",
   "execution_count": 211,
   "id": "1aab87b6",
   "metadata": {},
   "outputs": [
    {
     "data": {
      "text/latex": [
       "$\\displaystyle {x_0}$"
      ],
      "text/plain": [
       "{x_0}"
      ]
     },
     "execution_count": 211,
     "metadata": {},
     "output_type": "execute_result"
    }
   ],
   "source": [
    "x0 = sympy.Symbol(\"{x_0}\")\n",
    "x0"
   ]
  },
  {
   "cell_type": "code",
   "execution_count": 212,
   "id": "d145d285",
   "metadata": {},
   "outputs": [
    {
     "data": {
      "text/latex": [
       "$\\displaystyle f{\\left({x_0} \\right)} + \\left(x - {x_0}\\right) \\left. \\frac{d}{d \\xi_{1}} f{\\left(\\xi_{1} \\right)} \\right|_{\\substack{ \\xi_{1}={x_0} }} + O\\left(\\left(x - {x_0}\\right)^{2}; x\\rightarrow {x_0}\\right)$"
      ],
      "text/plain": [
       "f({x_0}) + (x - {x_0})*Subs(Derivative(f(_xi_1), _xi_1), _xi_1, {x_0}) + O((x - {x_0})**2, (x, {x_0}))"
      ]
     },
     "execution_count": 212,
     "metadata": {},
     "output_type": "execute_result"
    }
   ],
   "source": [
    "f.series(x, x0, n=2)"
   ]
  },
  {
   "cell_type": "code",
   "execution_count": 213,
   "id": "a8cf5f77",
   "metadata": {},
   "outputs": [
    {
     "data": {
      "text/latex": [
       "$\\displaystyle f{\\left(a \\right)} + \\left(- a + x\\right) \\left. \\frac{d}{d \\xi_{1}} f{\\left(\\xi_{1} \\right)} \\right|_{\\substack{ \\xi_{1}=a }} + O\\left(\\left(- a + x\\right)^{2}; x\\rightarrow a\\right)$"
      ],
      "text/plain": [
       "f(a) + (-a + x)*Subs(Derivative(f(_xi_1), _xi_1), _xi_1, a) + O((-a + x)**2, (x, a))"
      ]
     },
     "execution_count": 213,
     "metadata": {},
     "output_type": "execute_result"
    }
   ],
   "source": [
    "f.series(x, sympy.Symbol(\"a\"), n=2)"
   ]
  },
  {
   "cell_type": "code",
   "execution_count": 214,
   "id": "3d1969e6",
   "metadata": {},
   "outputs": [
    {
     "data": {
      "text/latex": [
       "$\\displaystyle \\left(x - {x_0}\\right) \\left. \\frac{d}{d \\xi_{1}} f{\\left(\\xi_{1} \\right)} \\right|_{\\substack{ \\xi_{1}={x_0} }} + f{\\left({x_0} \\right)}$"
      ],
      "text/plain": [
       "(x - {x_0})*Subs(Derivative(f(_xi_1), _xi_1), _xi_1, {x_0}) + f({x_0})"
      ]
     },
     "execution_count": 214,
     "metadata": {},
     "output_type": "execute_result"
    }
   ],
   "source": [
    "f.series(x, x0, n=2).removeO()"
   ]
  },
  {
   "cell_type": "code",
   "execution_count": 215,
   "id": "5eee97a1",
   "metadata": {},
   "outputs": [
    {
     "data": {
      "text/latex": [
       "$\\displaystyle 1 - \\frac{x^{2}}{2} + \\frac{x^{4}}{24} + O\\left(x^{6}\\right)$"
      ],
      "text/plain": [
       "1 - x**2/2 + x**4/24 + O(x**6)"
      ]
     },
     "execution_count": 215,
     "metadata": {},
     "output_type": "execute_result"
    }
   ],
   "source": [
    "sympy.cos(x).series()"
   ]
  },
  {
   "cell_type": "code",
   "execution_count": 216,
   "id": "57c90267",
   "metadata": {},
   "outputs": [
    {
     "data": {
      "text/latex": [
       "$\\displaystyle x - \\frac{x^{3}}{6} + \\frac{x^{5}}{120} + O\\left(x^{6}\\right)$"
      ],
      "text/plain": [
       "x - x**3/6 + x**5/120 + O(x**6)"
      ]
     },
     "execution_count": 216,
     "metadata": {},
     "output_type": "execute_result"
    }
   ],
   "source": [
    "sympy.sin(x).series()"
   ]
  },
  {
   "cell_type": "code",
   "execution_count": 217,
   "id": "124dd983",
   "metadata": {},
   "outputs": [
    {
     "data": {
      "text/latex": [
       "$\\displaystyle 1 + x + \\frac{x^{2}}{2} + \\frac{x^{3}}{6} + \\frac{x^{4}}{24} + \\frac{x^{5}}{120} + O\\left(x^{6}\\right)$"
      ],
      "text/plain": [
       "1 + x + x**2/2 + x**3/6 + x**4/24 + x**5/120 + O(x**6)"
      ]
     },
     "execution_count": 217,
     "metadata": {},
     "output_type": "execute_result"
    }
   ],
   "source": [
    "sympy.exp(x).series()"
   ]
  },
  {
   "cell_type": "code",
   "execution_count": 218,
   "id": "6d0fc626",
   "metadata": {},
   "outputs": [
    {
     "data": {
      "text/latex": [
       "$\\displaystyle 1 - x + x^{2} - x^{3} + x^{4} - x^{5} + O\\left(x^{6}\\right)$"
      ],
      "text/plain": [
       "1 - x + x**2 - x**3 + x**4 - x**5 + O(x**6)"
      ]
     },
     "execution_count": 218,
     "metadata": {},
     "output_type": "execute_result"
    }
   ],
   "source": [
    "(1/(1+x)).series()"
   ]
  },
  {
   "cell_type": "code",
   "execution_count": 219,
   "id": "6632970e",
   "metadata": {},
   "outputs": [],
   "source": [
    "expr = sympy.cos(x) / (1 + sympy.sin(x * y))"
   ]
  },
  {
   "cell_type": "code",
   "execution_count": 220,
   "id": "11a13fc4",
   "metadata": {},
   "outputs": [
    {
     "data": {
      "text/latex": [
       "$\\displaystyle 1 - x y + x^{2} \\left(y^{2} - \\frac{1}{2}\\right) + x^{3} \\left(- \\frac{5 y^{3}}{6} + \\frac{y}{2}\\right) + O\\left(x^{4}\\right)$"
      ],
      "text/plain": [
       "1 - x*y + x**2*(y**2 - 1/2) + x**3*(-5*y**3/6 + y/2) + O(x**4)"
      ]
     },
     "execution_count": 220,
     "metadata": {},
     "output_type": "execute_result"
    }
   ],
   "source": [
    "expr.series(x, n=4)"
   ]
  },
  {
   "cell_type": "code",
   "execution_count": 221,
   "id": "9fca3c74",
   "metadata": {},
   "outputs": [
    {
     "data": {
      "text/latex": [
       "$\\displaystyle \\cos{\\left(x \\right)} - x y \\cos{\\left(x \\right)} + x^{2} y^{2} \\cos{\\left(x \\right)} - \\frac{5 x^{3} y^{3} \\cos{\\left(x \\right)}}{6} + O\\left(y^{4}\\right)$"
      ],
      "text/plain": [
       "cos(x) - x*y*cos(x) + x**2*y**2*cos(x) - 5*x**3*y**3*cos(x)/6 + O(y**4)"
      ]
     },
     "execution_count": 221,
     "metadata": {},
     "output_type": "execute_result"
    }
   ],
   "source": [
    "expr.series(y, n=4)"
   ]
  },
  {
   "cell_type": "code",
   "execution_count": 222,
   "id": "5d0e1f51",
   "metadata": {},
   "outputs": [
    {
     "data": {
      "text/latex": [
       "$\\displaystyle - \\frac{61 x^{5} y^{5}}{120} + \\frac{5 x^{5} y^{3}}{12} - \\frac{x^{5} y}{24} + \\frac{2 x^{4} y^{4}}{3} - \\frac{x^{4} y^{2}}{2} + \\frac{x^{4}}{24} - \\frac{5 x^{3} y^{3}}{6} + \\frac{x^{3} y}{2} + x^{2} y^{2} - \\frac{x^{2}}{2} - x y + 1$"
      ],
      "text/plain": [
       "-61*x**5*y**5/120 + 5*x**5*y**3/12 - x**5*y/24 + 2*x**4*y**4/3 - x**4*y**2/2 + x**4/24 - 5*x**3*y**3/6 + x**3*y/2 + x**2*y**2 - x**2/2 - x*y + 1"
      ]
     },
     "execution_count": 222,
     "metadata": {},
     "output_type": "execute_result"
    }
   ],
   "source": [
    "expr.series(y).removeO().series(x).removeO().expand()"
   ]
  },
  {
   "cell_type": "markdown",
   "id": "bf579e86",
   "metadata": {},
   "source": [
    "#### Limit\n",
    "\n",
    "극한값은 ```sympy.limit```을 통해 계산할 수 있다."
   ]
  },
  {
   "cell_type": "code",
   "execution_count": 223,
   "id": "12059aea",
   "metadata": {},
   "outputs": [
    {
     "data": {
      "text/latex": [
       "$\\displaystyle 1$"
      ],
      "text/plain": [
       "1"
      ]
     },
     "execution_count": 223,
     "metadata": {},
     "output_type": "execute_result"
    }
   ],
   "source": [
    "sympy.limit(sympy.sin(x) / x, x, 0)"
   ]
  },
  {
   "cell_type": "markdown",
   "id": "b042ab77",
   "metadata": {},
   "source": [
    "Limit의 주요 example은 미분의 극한 표현이다."
   ]
  },
  {
   "cell_type": "code",
   "execution_count": 224,
   "id": "5b20ed30",
   "metadata": {},
   "outputs": [],
   "source": [
    "f = sympy.Function('f')\n",
    "x, h = sympy.symbols(\"x, h\")"
   ]
  },
  {
   "cell_type": "code",
   "execution_count": 225,
   "id": "af18fe94",
   "metadata": {},
   "outputs": [
    {
     "data": {
      "text/latex": [
       "$\\displaystyle \\frac{- f{\\left(x \\right)} + f{\\left(h + x \\right)}}{h}$"
      ],
      "text/plain": [
       "(-f(x) + f(h + x))/h"
      ]
     },
     "execution_count": 225,
     "metadata": {},
     "output_type": "execute_result"
    }
   ],
   "source": [
    "diff_limit = (f(x + h) - f(x))/h\n",
    "diff_limit"
   ]
  },
  {
   "cell_type": "code",
   "execution_count": 226,
   "id": "86b2fb71",
   "metadata": {},
   "outputs": [
    {
     "data": {
      "text/latex": [
       "$\\displaystyle \\frac{- \\cos{\\left(x \\right)} + \\cos{\\left(h + x \\right)}}{h}$"
      ],
      "text/plain": [
       "(-cos(x) + cos(h + x))/h"
      ]
     },
     "execution_count": 226,
     "metadata": {},
     "output_type": "execute_result"
    }
   ],
   "source": [
    "diff_limit.subs(f, sympy.cos)"
   ]
  },
  {
   "cell_type": "code",
   "execution_count": 227,
   "id": "38edb786",
   "metadata": {},
   "outputs": [
    {
     "data": {
      "text/latex": [
       "$\\displaystyle - \\sin{\\left(x \\right)}$"
      ],
      "text/plain": [
       "-sin(x)"
      ]
     },
     "execution_count": 227,
     "metadata": {},
     "output_type": "execute_result"
    }
   ],
   "source": [
    "sympy.limit(diff_limit.subs(f, sympy.cos), h, 0)"
   ]
  },
  {
   "cell_type": "code",
   "execution_count": 228,
   "id": "5ac07e15",
   "metadata": {},
   "outputs": [
    {
     "data": {
      "text/latex": [
       "$\\displaystyle \\cos{\\left(x \\right)}$"
      ],
      "text/plain": [
       "cos(x)"
      ]
     },
     "execution_count": 228,
     "metadata": {},
     "output_type": "execute_result"
    }
   ],
   "source": [
    "sympy.limit(diff_limit.subs(f, sympy.sin), h, 0)"
   ]
  },
  {
   "cell_type": "markdown",
   "id": "9e749c47",
   "metadata": {},
   "source": [
    "변수의 값을 무한으로 보낼 때의 극한 값을 구해 보기"
   ]
  },
  {
   "cell_type": "code",
   "execution_count": 229,
   "id": "12873757",
   "metadata": {},
   "outputs": [],
   "source": [
    "expr = (x**2 - 3*x) / (2*x - 2)"
   ]
  },
  {
   "cell_type": "code",
   "execution_count": 230,
   "id": "c767ca8c",
   "metadata": {},
   "outputs": [],
   "source": [
    "p = sympy.limit(expr/x, x, oo)"
   ]
  },
  {
   "cell_type": "code",
   "execution_count": 231,
   "id": "268a9910",
   "metadata": {},
   "outputs": [],
   "source": [
    "q = sympy.limit(expr - p*x, x, oo)"
   ]
  },
  {
   "cell_type": "code",
   "execution_count": 232,
   "id": "0f0fb6a9",
   "metadata": {},
   "outputs": [
    {
     "data": {
      "text/latex": [
       "$\\displaystyle \\frac{1}{2}$"
      ],
      "text/plain": [
       "1/2"
      ]
     },
     "execution_count": 232,
     "metadata": {},
     "output_type": "execute_result"
    }
   ],
   "source": [
    "p"
   ]
  },
  {
   "cell_type": "code",
   "execution_count": 233,
   "id": "96334021",
   "metadata": {},
   "outputs": [
    {
     "data": {
      "text/latex": [
       "$\\displaystyle -1$"
      ],
      "text/plain": [
       "-1"
      ]
     },
     "execution_count": 233,
     "metadata": {},
     "output_type": "execute_result"
    }
   ],
   "source": [
    "q"
   ]
  },
  {
   "cell_type": "markdown",
   "id": "8dd5d49b",
   "metadata": {},
   "source": [
    "#### Sums and Product\n",
    "\n",
    "$\\sum$과 $\\prod$는 ```sympy.Sum```과 ```sympy.Product```를 통해 표현된다."
   ]
  },
  {
   "cell_type": "code",
   "execution_count": 234,
   "id": "534028cb",
   "metadata": {},
   "outputs": [],
   "source": [
    "n = sympy.symbols(\"n\", integer=True)"
   ]
  },
  {
   "cell_type": "code",
   "execution_count": 235,
   "id": "f362252a",
   "metadata": {},
   "outputs": [
    {
     "data": {
      "text/latex": [
       "$\\displaystyle \\sum_{n=1}^{\\infty} \\frac{1}{n^{2}}$"
      ],
      "text/plain": [
       "Sum(n**(-2), (n, 1, oo))"
      ]
     },
     "execution_count": 235,
     "metadata": {},
     "output_type": "execute_result"
    }
   ],
   "source": [
    "x = sympy.Sum(1/(n**2), (n, 1, oo))\n",
    "x"
   ]
  },
  {
   "cell_type": "code",
   "execution_count": 236,
   "id": "1ce40c62",
   "metadata": {},
   "outputs": [
    {
     "data": {
      "text/plain": [
       "sympy.concrete.summations.Sum"
      ]
     },
     "execution_count": 236,
     "metadata": {},
     "output_type": "execute_result"
    }
   ],
   "source": [
    "type(x)"
   ]
  },
  {
   "cell_type": "code",
   "execution_count": 237,
   "id": "f739cb61",
   "metadata": {},
   "outputs": [
    {
     "data": {
      "text/plain": [
       "True"
      ]
     },
     "execution_count": 237,
     "metadata": {},
     "output_type": "execute_result"
    }
   ],
   "source": [
    "isinstance(x, sympy.core.Expr)"
   ]
  },
  {
   "cell_type": "markdown",
   "id": "fb2efc3c",
   "metadata": {},
   "source": [
    "Evaluation은 ```doit()``` 통해 이루어진다."
   ]
  },
  {
   "cell_type": "code",
   "execution_count": 238,
   "id": "75a698ea",
   "metadata": {},
   "outputs": [
    {
     "data": {
      "text/latex": [
       "$\\displaystyle \\frac{\\pi^{2}}{6}$"
      ],
      "text/plain": [
       "pi**2/6"
      ]
     },
     "execution_count": 238,
     "metadata": {},
     "output_type": "execute_result"
    }
   ],
   "source": [
    "x.doit()"
   ]
  },
  {
   "cell_type": "code",
   "execution_count": 239,
   "id": "c04a1da0",
   "metadata": {},
   "outputs": [],
   "source": [
    "x = sympy.Symbol(\"x\")"
   ]
  },
  {
   "cell_type": "code",
   "execution_count": 240,
   "id": "3d2537b9",
   "metadata": {},
   "outputs": [
    {
     "data": {
      "text/latex": [
       "$\\displaystyle \\sum_{n=1}^{\\infty} \\frac{x^{n}}{n!}$"
      ],
      "text/plain": [
       "Sum(x**n/factorial(n), (n, 1, oo))"
      ]
     },
     "execution_count": 240,
     "metadata": {},
     "output_type": "execute_result"
    }
   ],
   "source": [
    "prd = sympy.Sum((x)**n/(sympy.factorial(n)), (n, 1, oo))\n",
    "prd"
   ]
  },
  {
   "cell_type": "code",
   "execution_count": 241,
   "id": "bfcb2600",
   "metadata": {},
   "outputs": [
    {
     "data": {
      "text/latex": [
       "$\\displaystyle x \\left(\\frac{e^{x}}{x} - \\frac{1}{x}\\right)$"
      ],
      "text/plain": [
       "x*(exp(x)/x - 1/x)"
      ]
     },
     "execution_count": 241,
     "metadata": {},
     "output_type": "execute_result"
    }
   ],
   "source": [
    "prd.doit()"
   ]
  },
  {
   "cell_type": "code",
   "execution_count": 242,
   "id": "28cfe912",
   "metadata": {},
   "outputs": [
    {
     "data": {
      "text/latex": [
       "$\\displaystyle e^{x} - 1$"
      ],
      "text/plain": [
       "exp(x) - 1"
      ]
     },
     "execution_count": 242,
     "metadata": {},
     "output_type": "execute_result"
    }
   ],
   "source": [
    "prd.doit().simplify()"
   ]
  },
  {
   "cell_type": "markdown",
   "id": "4e277f6d",
   "metadata": {},
   "source": [
    "#### Equations\n",
    "\n",
    "방정식을 풀기 위해, ```sympy.solve```를 이용한다.\n",
    "\n",
    "아래는 $ x^2 + 2x - 3 = 0 $을 푸는 문제이다."
   ]
  },
  {
   "cell_type": "code",
   "execution_count": 243,
   "id": "711a4bb2",
   "metadata": {},
   "outputs": [
    {
     "data": {
      "text/plain": [
       "[-3, 1]"
      ]
     },
     "execution_count": 243,
     "metadata": {},
     "output_type": "execute_result"
    }
   ],
   "source": [
    "x = sympy.symbols(\"x\")\n",
    "sympy.solve(x**2 + 2*x - 3)"
   ]
  },
  {
   "cell_type": "code",
   "execution_count": 244,
   "id": "d8f600a5",
   "metadata": {},
   "outputs": [],
   "source": [
    "a, b, c = sympy.symbols(\"a, b, c\")"
   ]
  },
  {
   "cell_type": "code",
   "execution_count": 245,
   "id": "7d709bdc",
   "metadata": {},
   "outputs": [
    {
     "data": {
      "text/plain": [
       "[(-b - sqrt(-4*a*c + b**2))/(2*a), (-b + sqrt(-4*a*c + b**2))/(2*a)]"
      ]
     },
     "execution_count": 245,
     "metadata": {},
     "output_type": "execute_result"
    }
   ],
   "source": [
    "sympy.solve(a * x**2 + b * x + c, x)"
   ]
  },
  {
   "cell_type": "code",
   "execution_count": 246,
   "id": "3e41dc05",
   "metadata": {},
   "outputs": [
    {
     "data": {
      "text/plain": [
       "[pi/4]"
      ]
     },
     "execution_count": 246,
     "metadata": {},
     "output_type": "execute_result"
    }
   ],
   "source": [
    "sympy.solve(sympy.sin(x) - sympy.cos(x), x)"
   ]
  },
  {
   "cell_type": "code",
   "execution_count": 247,
   "id": "783123be",
   "metadata": {},
   "outputs": [
    {
     "data": {
      "text/plain": [
       "[-LambertW(1/2)]"
      ]
     },
     "execution_count": 247,
     "metadata": {},
     "output_type": "execute_result"
    }
   ],
   "source": [
    "sympy.solve(sympy.exp(x) + 2 * x, x)"
   ]
  },
  {
   "cell_type": "markdown",
   "id": "51054fd7",
   "metadata": {},
   "source": [
    "하지만 수많은 풀기 어렵거나 풀리지 않는 방정식들이 있으니 주의."
   ]
  },
  {
   "cell_type": "code",
   "execution_count": 248,
   "id": "40d80feb",
   "metadata": {},
   "outputs": [
    {
     "data": {
      "text/plain": [
       "[CRootOf(x**5 - x**2 + 1, 0),\n",
       " CRootOf(x**5 - x**2 + 1, 1),\n",
       " CRootOf(x**5 - x**2 + 1, 2),\n",
       " CRootOf(x**5 - x**2 + 1, 3),\n",
       " CRootOf(x**5 - x**2 + 1, 4)]"
      ]
     },
     "execution_count": 248,
     "metadata": {},
     "output_type": "execute_result"
    }
   ],
   "source": [
    "sympy.solve(x**5 - x**2 + 1, x)"
   ]
  },
  {
   "cell_type": "markdown",
   "id": "14713b4f",
   "metadata": {},
   "source": [
    "아래 방정식은 풀지 못한다.  \n",
    "```sympy.solve(sympy.tan(x) - x, x)```"
   ]
  },
  {
   "cell_type": "markdown",
   "id": "bab08802",
   "metadata": {},
   "source": [
    "연립방정식도 해결할 수 있다."
   ]
  },
  {
   "cell_type": "code",
   "execution_count": 249,
   "id": "4d16e3f9",
   "metadata": {},
   "outputs": [],
   "source": [
    "eq1 = x + 2 * y - 1\n",
    "eq2 = x - y + 1"
   ]
  },
  {
   "cell_type": "code",
   "execution_count": 250,
   "id": "366ba269",
   "metadata": {},
   "outputs": [
    {
     "data": {
      "text/plain": [
       "[{x: -1/3, y: 2/3}]"
      ]
     },
     "execution_count": 250,
     "metadata": {},
     "output_type": "execute_result"
    }
   ],
   "source": [
    "temp = sympy.solve([eq1, eq2], [x, y], dict=True)\n",
    "temp"
   ]
  },
  {
   "cell_type": "code",
   "execution_count": 251,
   "id": "2eb5080a",
   "metadata": {},
   "outputs": [],
   "source": [
    "eq1 = x**2 - y\n",
    "eq2 = y**2 - x"
   ]
  },
  {
   "cell_type": "code",
   "execution_count": 252,
   "id": "465dbd1f",
   "metadata": {},
   "outputs": [
    {
     "data": {
      "text/plain": [
       "[{x: 0, y: 0},\n",
       " {x: 1, y: 1},\n",
       " {x: (-1/2 - sqrt(3)*I/2)**2, y: -1/2 - sqrt(3)*I/2},\n",
       " {x: (-1/2 + sqrt(3)*I/2)**2, y: -1/2 + sqrt(3)*I/2}]"
      ]
     },
     "execution_count": 252,
     "metadata": {},
     "output_type": "execute_result"
    }
   ],
   "source": [
    "sols = sympy.solve([eq1, eq2], [x, y], dict=True)\n",
    "sols"
   ]
  },
  {
   "cell_type": "code",
   "execution_count": 253,
   "id": "ef44785a",
   "metadata": {},
   "outputs": [
    {
     "data": {
      "text/plain": [
       "[True, True, True, True]"
      ]
     },
     "execution_count": 253,
     "metadata": {},
     "output_type": "execute_result"
    }
   ],
   "source": [
    "[eq1.subs(sol).simplify() == 0 and eq2.subs(sol).simplify() == 0 for sol in sols]"
   ]
  },
  {
   "cell_type": "markdown",
   "id": "8aa8ec62",
   "metadata": {},
   "source": [
    "#### Linear algebra\n",
    "\n",
    "Vector와 matrix를 symbolically 나타내기 위해 ```sympy.Matrix```를 이용한다."
   ]
  },
  {
   "cell_type": "code",
   "execution_count": 254,
   "id": "9d1e1167",
   "metadata": {},
   "outputs": [
    {
     "data": {
      "text/latex": [
       "$\\displaystyle \\left[\\begin{matrix}1\\\\2\\end{matrix}\\right]$"
      ],
      "text/plain": [
       "Matrix([\n",
       "[1],\n",
       "[2]])"
      ]
     },
     "execution_count": 254,
     "metadata": {},
     "output_type": "execute_result"
    }
   ],
   "source": [
    "sympy.Matrix([1,2])"
   ]
  },
  {
   "cell_type": "code",
   "execution_count": 255,
   "id": "a1f0846b",
   "metadata": {},
   "outputs": [
    {
     "data": {
      "text/plain": [
       "sympy.matrices.dense.MutableDenseMatrix"
      ]
     },
     "execution_count": 255,
     "metadata": {},
     "output_type": "execute_result"
    }
   ],
   "source": [
    "type(sympy.Matrix([1,2]))"
   ]
  },
  {
   "cell_type": "code",
   "execution_count": 256,
   "id": "b7f2cdeb",
   "metadata": {},
   "outputs": [
    {
     "data": {
      "text/plain": [
       "False"
      ]
     },
     "execution_count": 256,
     "metadata": {},
     "output_type": "execute_result"
    }
   ],
   "source": [
    "isinstance(sympy.Matrix([1,2]), sympy.core.Expr)"
   ]
  },
  {
   "cell_type": "code",
   "execution_count": 257,
   "id": "c7b5b8a9",
   "metadata": {},
   "outputs": [
    {
     "data": {
      "text/latex": [
       "$\\displaystyle \\left[\\begin{matrix}1 & 2\\end{matrix}\\right]$"
      ],
      "text/plain": [
       "Matrix([[1, 2]])"
      ]
     },
     "execution_count": 257,
     "metadata": {},
     "output_type": "execute_result"
    }
   ],
   "source": [
    "sympy.Matrix([[1,2]])"
   ]
  },
  {
   "cell_type": "code",
   "execution_count": 258,
   "id": "f3f2b09e",
   "metadata": {},
   "outputs": [
    {
     "data": {
      "text/latex": [
       "$\\displaystyle \\left[\\begin{matrix}1 & 2\\\\3 & 4\\end{matrix}\\right]$"
      ],
      "text/plain": [
       "Matrix([\n",
       "[1, 2],\n",
       "[3, 4]])"
      ]
     },
     "execution_count": 258,
     "metadata": {},
     "output_type": "execute_result"
    }
   ],
   "source": [
    "sympy.Matrix([[1, 2], [3, 4]])"
   ]
  },
  {
   "cell_type": "code",
   "execution_count": 259,
   "id": "148795b9",
   "metadata": {},
   "outputs": [
    {
     "data": {
      "text/latex": [
       "$\\displaystyle \\left[\\begin{matrix}0 & 1 & 2 & 3\\\\10 & 11 & 12 & 13\\\\20 & 21 & 22 & 23\\end{matrix}\\right]$"
      ],
      "text/plain": [
       "Matrix([\n",
       "[ 0,  1,  2,  3],\n",
       "[10, 11, 12, 13],\n",
       "[20, 21, 22, 23]])"
      ]
     },
     "execution_count": 259,
     "metadata": {},
     "output_type": "execute_result"
    }
   ],
   "source": [
    "sympy.Matrix(3, 4, lambda m,n: 10 * m + n)"
   ]
  },
  {
   "cell_type": "code",
   "execution_count": 260,
   "id": "ba73bdec",
   "metadata": {},
   "outputs": [],
   "source": [
    "a, b, c, d = sympy.symbols(\"a, b, c, d\")"
   ]
  },
  {
   "cell_type": "code",
   "execution_count": 261,
   "id": "f207d8ed",
   "metadata": {},
   "outputs": [
    {
     "data": {
      "text/latex": [
       "$\\displaystyle \\left[\\begin{matrix}a & b\\\\c & d\\end{matrix}\\right]$"
      ],
      "text/plain": [
       "Matrix([\n",
       "[a, b],\n",
       "[c, d]])"
      ]
     },
     "execution_count": 261,
     "metadata": {},
     "output_type": "execute_result"
    }
   ],
   "source": [
    "M = sympy.Matrix([[a, b], [c, d]])\n",
    "M"
   ]
  },
  {
   "cell_type": "markdown",
   "id": "187e47cc",
   "metadata": {},
   "source": [
    "```*```는 matrix multiplication이다."
   ]
  },
  {
   "cell_type": "code",
   "execution_count": 262,
   "id": "75cd0085",
   "metadata": {},
   "outputs": [
    {
     "data": {
      "text/latex": [
       "$\\displaystyle \\left[\\begin{matrix}a^{2} + b c & a b + b d\\\\a c + c d & b c + d^{2}\\end{matrix}\\right]$"
      ],
      "text/plain": [
       "Matrix([\n",
       "[a**2 + b*c,  a*b + b*d],\n",
       "[ a*c + c*d, b*c + d**2]])"
      ]
     },
     "execution_count": 262,
     "metadata": {},
     "output_type": "execute_result"
    }
   ],
   "source": [
    "M * M"
   ]
  },
  {
   "cell_type": "code",
   "execution_count": 263,
   "id": "1e2e8b0a",
   "metadata": {},
   "outputs": [
    {
     "data": {
      "text/latex": [
       "$\\displaystyle \\left[\\begin{matrix}x_{1}\\\\x_{2}\\end{matrix}\\right]$"
      ],
      "text/plain": [
       "Matrix([\n",
       "[x_1],\n",
       "[x_2]])"
      ]
     },
     "execution_count": 263,
     "metadata": {},
     "output_type": "execute_result"
    }
   ],
   "source": [
    "x = sympy.Matrix(sympy.symbols(\"x_1, x_2\"))\n",
    "x"
   ]
  },
  {
   "cell_type": "code",
   "execution_count": 264,
   "id": "acf91d2d",
   "metadata": {},
   "outputs": [
    {
     "data": {
      "text/latex": [
       "$\\displaystyle \\left[\\begin{matrix}a x_{1} + b x_{2}\\\\c x_{1} + d x_{2}\\end{matrix}\\right]$"
      ],
      "text/plain": [
       "Matrix([\n",
       "[a*x_1 + b*x_2],\n",
       "[c*x_1 + d*x_2]])"
      ]
     },
     "execution_count": 264,
     "metadata": {},
     "output_type": "execute_result"
    }
   ],
   "source": [
    "M * x"
   ]
  },
  {
   "cell_type": "markdown",
   "id": "e964ce21",
   "metadata": {},
   "source": [
    "다음 예제에서는 다음의 문제를 푼다.  \n",
    "$$ \\begin{bmatrix} 1 & p \\\\ q & 1 \\end{bmatrix} \\begin{bmatrix} x \\\\ y \\end{bmatrix} = \\begin{bmatrix} b_1 \\\\ b_2 \\end{bmatrix} $$"
   ]
  },
  {
   "cell_type": "code",
   "execution_count": 265,
   "id": "dbf625a3",
   "metadata": {},
   "outputs": [
    {
     "data": {
      "text/latex": [
       "$\\displaystyle \\left[\\begin{matrix}1 & p\\\\q & 1\\end{matrix}\\right]$"
      ],
      "text/plain": [
       "Matrix([\n",
       "[1, p],\n",
       "[q, 1]])"
      ]
     },
     "execution_count": 265,
     "metadata": {},
     "output_type": "execute_result"
    }
   ],
   "source": [
    "p, q = sympy.symbols(\"p, q\")\n",
    "M = sympy.Matrix([[1, p], [q, 1]])\n",
    "M"
   ]
  },
  {
   "cell_type": "code",
   "execution_count": 266,
   "id": "1e9e1c9a",
   "metadata": {},
   "outputs": [],
   "source": [
    "b = sympy.Matrix(sympy.symbols(\"b_1, b_2\"))"
   ]
  },
  {
   "cell_type": "code",
   "execution_count": 267,
   "id": "d091d613",
   "metadata": {},
   "outputs": [
    {
     "data": {
      "text/latex": [
       "$\\displaystyle \\left[\\begin{matrix}\\frac{- b_{1} + b_{2} p}{p q - 1}\\\\\\frac{b_{1} q - b_{2}}{p q - 1}\\end{matrix}\\right]$"
      ],
      "text/plain": [
       "Matrix([\n",
       "[(-b_1 + b_2*p)/(p*q - 1)],\n",
       "[ (b_1*q - b_2)/(p*q - 1)]])"
      ]
     },
     "execution_count": 267,
     "metadata": {},
     "output_type": "execute_result"
    }
   ],
   "source": [
    "x = M.solve(b)\n",
    "x"
   ]
  },
  {
   "cell_type": "code",
   "execution_count": 268,
   "id": "14de781a",
   "metadata": {},
   "outputs": [
    {
     "data": {
      "text/latex": [
       "$\\displaystyle \\left[\\begin{matrix}b_{1} - \\frac{p \\left(- b_{1} q + b_{2}\\right)}{- p q + 1}\\\\\\frac{- b_{1} q + b_{2}}{- p q + 1}\\end{matrix}\\right]$"
      ],
      "text/plain": [
       "Matrix([\n",
       "[b_1 - p*(-b_1*q + b_2)/(-p*q + 1)],\n",
       "[        (-b_1*q + b_2)/(-p*q + 1)]])"
      ]
     },
     "execution_count": 268,
     "metadata": {},
     "output_type": "execute_result"
    }
   ],
   "source": [
    "x = M.LUsolve(b)\n",
    "x"
   ]
  },
  {
   "cell_type": "code",
   "execution_count": 269,
   "id": "d68ac2c1",
   "metadata": {},
   "outputs": [
    {
     "data": {
      "text/latex": [
       "$\\displaystyle \\left[\\begin{matrix}\\frac{- b_{1} + b_{2} p}{p q - 1}\\\\\\frac{b_{1} q - b_{2}}{p q - 1}\\end{matrix}\\right]$"
      ],
      "text/plain": [
       "Matrix([\n",
       "[(-b_1 + b_2*p)/(p*q - 1)],\n",
       "[ (b_1*q - b_2)/(p*q - 1)]])"
      ]
     },
     "execution_count": 269,
     "metadata": {},
     "output_type": "execute_result"
    }
   ],
   "source": [
    "sympy.simplify(x)"
   ]
  },
  {
   "cell_type": "code",
   "execution_count": 270,
   "id": "6731df8f",
   "metadata": {},
   "outputs": [
    {
     "data": {
      "text/latex": [
       "$\\displaystyle \\left[\\begin{matrix}\\frac{b_{1}}{- p q + 1} - \\frac{b_{2} p}{- p q + 1}\\\\- \\frac{b_{1} q}{- p q + 1} + \\frac{b_{2}}{- p q + 1}\\end{matrix}\\right]$"
      ],
      "text/plain": [
       "Matrix([\n",
       "[ b_1/(-p*q + 1) - b_2*p/(-p*q + 1)],\n",
       "[-b_1*q/(-p*q + 1) + b_2/(-p*q + 1)]])"
      ]
     },
     "execution_count": 270,
     "metadata": {},
     "output_type": "execute_result"
    }
   ],
   "source": [
    "x = M.inv() * b\n",
    "x"
   ]
  },
  {
   "cell_type": "code",
   "execution_count": 271,
   "id": "d36a01d6",
   "metadata": {},
   "outputs": [
    {
     "data": {
      "text/latex": [
       "$\\displaystyle \\left[\\begin{matrix}\\frac{- b_{1} + b_{2} p}{p q - 1}\\\\\\frac{b_{1} q - b_{2}}{p q - 1}\\end{matrix}\\right]$"
      ],
      "text/plain": [
       "Matrix([\n",
       "[(-b_1 + b_2*p)/(p*q - 1)],\n",
       "[ (b_1*q - b_2)/(p*q - 1)]])"
      ]
     },
     "execution_count": 271,
     "metadata": {},
     "output_type": "execute_result"
    }
   ],
   "source": [
    "sympy.simplify(x)"
   ]
  }
 ],
 "metadata": {
  "kernelspec": {
   "display_name": "Python 3 (ipykernel)",
   "language": "python",
   "name": "python3"
  },
  "language_info": {
   "codemirror_mode": {
    "name": "ipython",
    "version": 3
   },
   "file_extension": ".py",
   "mimetype": "text/x-python",
   "name": "python",
   "nbconvert_exporter": "python",
   "pygments_lexer": "ipython3",
   "version": "3.9.13"
  }
 },
 "nbformat": 4,
 "nbformat_minor": 5
}
