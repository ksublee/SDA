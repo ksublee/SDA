{
 "cells": [
  {
   "cell_type": "markdown",
   "id": "5bab82d5",
   "metadata": {},
   "source": [
    "# Namespace, Scopes, Module"
   ]
  },
  {
   "cell_type": "markdown",
   "id": "953560c8",
   "metadata": {},
   "source": [
    "## Namespace\n",
    "\n",
    "Python object들의 이름들은 namespace라는 공간에 모여 있다.\n",
    "\n",
    "모듈과 클래스는 각각 고유의 nampspace를 가진다.  \n",
    "\n",
    "모듈이나 클래스의 namespace는 import되거나 인스턴스가 생성될 때 만들어지며, 모듈이나 클래스와 동일한 namespace 이름을 가진다.\n",
    "\n",
    "모듈의 namespace는 현재 Python session이 유지되는 동안 존재한다.\n",
    "\n",
    "클래스의 instance는 해당 instance가 삭제될 때 같이 삭제된다.\n",
    "\n",
    "함수는 호출되면 local namespace를 생성한다.\n",
    "\n",
    "함수가 종료되면 local namespace도 삭제되며, local namespace는 따로 이름은 없다.\n",
    "\n",
    "Namespace의 가장 기본적인 개념은 변수들의 이름을 가지고 있는 것이다. \n",
    "\n",
    "Namespace를 key가 객체 이름이고, value가 객체인 dictinonary로 간주할 수 있다."
   ]
  },
  {
   "cell_type": "code",
   "execution_count": 1,
   "id": "bceb939d",
   "metadata": {},
   "outputs": [
    {
     "data": {
      "text/plain": [
       "<function math.sin(x, /)>"
      ]
     },
     "execution_count": 1,
     "metadata": {},
     "output_type": "execute_result"
    }
   ],
   "source": [
    "import math\n",
    "import numpy as np\n",
    "math.sin"
   ]
  },
  {
   "cell_type": "code",
   "execution_count": 2,
   "id": "11f7e18a",
   "metadata": {},
   "outputs": [
    {
     "data": {
      "text/plain": [
       "<ufunc 'sin'>"
      ]
     },
     "execution_count": 2,
     "metadata": {},
     "output_type": "execute_result"
    }
   ],
   "source": [
    "np.sin"
   ]
  },
  {
   "cell_type": "markdown",
   "id": "1c80ee1c",
   "metadata": {},
   "source": [
    "```dir()```의 인자에 namespace의 이름을 넣으면 해당 namespace에 존재하는 이름들의 목록을 확인할 수 있다.  \n",
    "```__name__```과 ```__doc```라는 특별한 이름이 존재한다.  "
   ]
  },
  {
   "cell_type": "code",
   "execution_count": 3,
   "id": "3f0e219e",
   "metadata": {},
   "outputs": [
    {
     "data": {
      "text/plain": [
       "['__doc__',\n",
       " '__loader__',\n",
       " '__name__',\n",
       " '__package__',\n",
       " '__spec__',\n",
       " 'acos',\n",
       " 'acosh',\n",
       " 'asin',\n",
       " 'asinh',\n",
       " 'atan',\n",
       " 'atan2',\n",
       " 'atanh',\n",
       " 'ceil',\n",
       " 'comb',\n",
       " 'copysign',\n",
       " 'cos',\n",
       " 'cosh',\n",
       " 'degrees',\n",
       " 'dist',\n",
       " 'e',\n",
       " 'erf',\n",
       " 'erfc',\n",
       " 'exp',\n",
       " 'expm1',\n",
       " 'fabs',\n",
       " 'factorial',\n",
       " 'floor',\n",
       " 'fmod',\n",
       " 'frexp',\n",
       " 'fsum',\n",
       " 'gamma',\n",
       " 'gcd',\n",
       " 'hypot',\n",
       " 'inf',\n",
       " 'isclose',\n",
       " 'isfinite',\n",
       " 'isinf',\n",
       " 'isnan',\n",
       " 'isqrt',\n",
       " 'lcm',\n",
       " 'ldexp',\n",
       " 'lgamma',\n",
       " 'log',\n",
       " 'log10',\n",
       " 'log1p',\n",
       " 'log2',\n",
       " 'modf',\n",
       " 'nan',\n",
       " 'nextafter',\n",
       " 'perm',\n",
       " 'pi',\n",
       " 'pow',\n",
       " 'prod',\n",
       " 'radians',\n",
       " 'remainder',\n",
       " 'sin',\n",
       " 'sinh',\n",
       " 'sqrt',\n",
       " 'tan',\n",
       " 'tanh',\n",
       " 'tau',\n",
       " 'trunc',\n",
       " 'ulp']"
      ]
     },
     "execution_count": 3,
     "metadata": {},
     "output_type": "execute_result"
    }
   ],
   "source": [
    "dir(math)"
   ]
  },
  {
   "cell_type": "code",
   "execution_count": 4,
   "id": "1ad58fac",
   "metadata": {},
   "outputs": [
    {
     "data": {
      "text/plain": [
       "'math'"
      ]
     },
     "execution_count": 4,
     "metadata": {},
     "output_type": "execute_result"
    }
   ],
   "source": [
    "math.__name__"
   ]
  },
  {
   "cell_type": "code",
   "execution_count": 5,
   "id": "adf2160b",
   "metadata": {},
   "outputs": [
    {
     "data": {
      "text/plain": [
       "'numpy'"
      ]
     },
     "execution_count": 5,
     "metadata": {},
     "output_type": "execute_result"
    }
   ],
   "source": [
    "np.__name__"
   ]
  },
  {
   "cell_type": "code",
   "execution_count": 6,
   "id": "88b7f917",
   "metadata": {},
   "outputs": [
    {
     "data": {
      "text/plain": [
       "'This module provides access to the mathematical functions\\ndefined by the C standard.'"
      ]
     },
     "execution_count": 6,
     "metadata": {},
     "output_type": "execute_result"
    }
   ],
   "source": [
    "math.__doc__"
   ]
  },
  {
   "cell_type": "markdown",
   "id": "3ad03038",
   "metadata": {},
   "source": [
    "```__builtin__```이라는 namespace가 존재하여, Python에서 import를 하지 않아도 사용할 수 있는 이름들의 목록을 나열한다."
   ]
  },
  {
   "cell_type": "code",
   "execution_count": 7,
   "id": "1a9ec8ef",
   "metadata": {},
   "outputs": [
    {
     "data": {
      "text/plain": [
       "True"
      ]
     },
     "execution_count": 7,
     "metadata": {},
     "output_type": "execute_result"
    }
   ],
   "source": [
    "'float' in dir(__builtin__)"
   ]
  },
  {
   "cell_type": "code",
   "execution_count": 8,
   "id": "b02179d4",
   "metadata": {},
   "outputs": [
    {
     "data": {
      "text/plain": [
       "True"
      ]
     },
     "execution_count": 8,
     "metadata": {},
     "output_type": "execute_result"
    }
   ],
   "source": [
    "float is __builtin__.float"
   ]
  },
  {
   "cell_type": "markdown",
   "id": "bf1eee0d",
   "metadata": {},
   "source": [
    "### Scope of variable\n",
    "\n",
    "프로그램 내의 변수들은 모든 영역에서 접근가능할 필요는 없다.\n",
    "\n",
    "여러 개의 고유한 네임스페이스가 있다는 것은 Python 프로그램이 실행되는 동안 특정 이름의 여러 다른 인스턴스가 동시에 존재할 수 있음을 의미한다.\n",
    "\n",
    "각 인스턴스가 다른 네임스페이스에 있는 한 모두 별도로 유지되며 서로 간섭하지 않는다.\n",
    "\n",
    "Scope는 해당 이름이 의미를 가지는 프로그램의 영역이다. \n",
    "\n",
    "Python은 어디서 name definition이 발생하는지, 어디서 해당 이름이 참조되는지에 따라 scope를 결정한다.\n",
    "\n",
    "* local : 함수 내부에서 ```x```를 참조하는 경우 인터프리터는 먼저 해당 함수에 로컬인 가장 안쪽 범위에서 ```x```를 탐색한다.\n",
    "\n",
    "* enclosing : ```x```가 로컬 범위에 없지만 다른 함수 내부에 있는 함수에 나타나면 인터프리터는 바깥쪽 함수의 scope에서 탐색한다.\n",
    "\n",
    "* global : 위의 검색 중 어느 것에도 해당 변수가 정의되지 않았으면, 인터프리터는 다음에 전역 범위를 찾는다.  \n",
    "\n",
    "* built-in : 위의 검색 중  ```x```를 찾을 수 없으면 인터프리터는 built-in scope에서 찾는다."
   ]
  },
  {
   "cell_type": "code",
   "execution_count": 9,
   "id": "e553775b",
   "metadata": {},
   "outputs": [],
   "source": [
    "e = 3\n",
    "def my_function(in1):\n",
    "    a = 2 * e\n",
    "    b = 3\n",
    "    in1 = 5\n",
    "    def other_function():\n",
    "        c = a\n",
    "        d = e\n",
    "        return dir()\n",
    "    print(f\"\"\"\n",
    "          my_function's namespace: {dir()} \n",
    "          other_function's namespace: {other_function()}\n",
    "          \"\"\")\n",
    "    return a"
   ]
  },
  {
   "cell_type": "code",
   "execution_count": 10,
   "id": "839db412",
   "metadata": {},
   "outputs": [
    {
     "name": "stdout",
     "output_type": "stream",
     "text": [
      "\n",
      "          my_function's namespace: ['a', 'b', 'in1', 'other_function'] \n",
      "          other_function's namespace: ['a', 'c', 'd']\n",
      "          \n"
     ]
    },
    {
     "data": {
      "text/plain": [
       "6"
      ]
     },
     "execution_count": 10,
     "metadata": {},
     "output_type": "execute_result"
    }
   ],
   "source": [
    "my_function(3)"
   ]
  },
  {
   "cell_type": "code",
   "execution_count": 11,
   "id": "95d30909",
   "metadata": {},
   "outputs": [],
   "source": [
    "e = 3\n",
    "def my_function():\n",
    "    e = 4\n",
    "    a = 2\n",
    "    print(f\"my_function's namespace: {dir()}\")"
   ]
  },
  {
   "cell_type": "code",
   "execution_count": 12,
   "id": "014433fc",
   "metadata": {},
   "outputs": [
    {
     "name": "stdout",
     "output_type": "stream",
     "text": [
      "my_function's namespace: ['a', 'e']\n"
     ]
    },
    {
     "data": {
      "text/plain": [
       "3"
      ]
     },
     "execution_count": 12,
     "metadata": {},
     "output_type": "execute_result"
    }
   ],
   "source": [
    "e = 3\n",
    "my_function()\n",
    "e # has the value 3"
   ]
  },
  {
   "cell_type": "markdown",
   "id": "8f0ecc01",
   "metadata": {},
   "source": [
    "때로는 함수 내에서 global 변수를 선언하기 위해, ```global``` 키워드를 사용하기도 하나, 추천되는 방식은 아니다."
   ]
  },
  {
   "cell_type": "code",
   "execution_count": 13,
   "id": "73fc324c",
   "metadata": {},
   "outputs": [
    {
     "name": "stdout",
     "output_type": "stream",
     "text": [
      "3\n",
      "2\n"
     ]
    }
   ],
   "source": [
    "def fun():\n",
    "    def fun1():\n",
    "        global a\n",
    "        a = 3\n",
    "    def fun2():\n",
    "        global b\n",
    "        b = 2\n",
    "        print(a)\n",
    "    fun1()\n",
    "    fun2() # prints a\n",
    "    print(b)\n",
    "fun()"
   ]
  },
  {
   "cell_type": "markdown",
   "id": "2ecd762f",
   "metadata": {},
   "source": [
    "### Functional factory\n",
    "\n",
    "아래 ```maker``` 함수는 또다른 함수 ```action```을 생성해 반환한다."
   ]
  },
  {
   "cell_type": "code",
   "execution_count": 14,
   "id": "cb3bfb9a",
   "metadata": {},
   "outputs": [],
   "source": [
    "def maker(N):\n",
    "    def action(X):\n",
    "        return X**N\n",
    "    return action"
   ]
  },
  {
   "cell_type": "code",
   "execution_count": 15,
   "id": "ef528682",
   "metadata": {},
   "outputs": [],
   "source": [
    "f = maker(2)"
   ]
  },
  {
   "cell_type": "code",
   "execution_count": 16,
   "id": "64c5f936",
   "metadata": {},
   "outputs": [
    {
     "data": {
      "text/plain": [
       "9"
      ]
     },
     "execution_count": 16,
     "metadata": {},
     "output_type": "execute_result"
    }
   ],
   "source": [
    "f(3)"
   ]
  },
  {
   "cell_type": "code",
   "execution_count": 17,
   "id": "90aac1f4",
   "metadata": {},
   "outputs": [
    {
     "data": {
      "text/plain": [
       "16"
      ]
     },
     "execution_count": 17,
     "metadata": {},
     "output_type": "execute_result"
    }
   ],
   "source": [
    "f(4)"
   ]
  },
  {
   "cell_type": "code",
   "execution_count": 18,
   "id": "3a4dee1c",
   "metadata": {},
   "outputs": [],
   "source": [
    "g = maker(3)"
   ]
  },
  {
   "cell_type": "code",
   "execution_count": 19,
   "id": "1e0bdb76",
   "metadata": {},
   "outputs": [
    {
     "data": {
      "text/plain": [
       "27"
      ]
     },
     "execution_count": 19,
     "metadata": {},
     "output_type": "execute_result"
    }
   ],
   "source": [
    "g(3)"
   ]
  },
  {
   "cell_type": "code",
   "execution_count": 20,
   "id": "1648be54",
   "metadata": {},
   "outputs": [
    {
     "data": {
      "text/plain": [
       "64"
      ]
     },
     "execution_count": 20,
     "metadata": {},
     "output_type": "execute_result"
    }
   ],
   "source": [
    "g(4)"
   ]
  },
  {
   "cell_type": "markdown",
   "id": "931d77b0",
   "metadata": {},
   "source": [
    "내장 함수 ```globals()```는 현재 전역 네임스페이스 dictionary를 살펴볼 수 있게 한다."
   ]
  },
  {
   "cell_type": "code",
   "execution_count": 21,
   "id": "80cda0f7",
   "metadata": {},
   "outputs": [
    {
     "data": {
      "text/plain": [
       "dict"
      ]
     },
     "execution_count": 21,
     "metadata": {},
     "output_type": "execute_result"
    }
   ],
   "source": [
    "type(globals())"
   ]
  },
  {
   "cell_type": "code",
   "execution_count": 22,
   "id": "48eb64fc",
   "metadata": {},
   "outputs": [
    {
     "data": {
      "text/plain": [
       "{'__name__': '__main__',\n",
       " '__doc__': 'Automatically created module for IPython interactive environment',\n",
       " '__package__': None,\n",
       " '__loader__': None,\n",
       " '__spec__': None,\n",
       " '__builtin__': <module 'builtins' (built-in)>,\n",
       " '__builtins__': <module 'builtins' (built-in)>,\n",
       " '_ih': ['',\n",
       "  'import math\\nimport numpy as np\\nmath.sin',\n",
       "  'np.sin',\n",
       "  'dir(math)',\n",
       "  'math.__name__',\n",
       "  'np.__name__',\n",
       "  'math.__doc__',\n",
       "  \"'float' in dir(__builtin__)\",\n",
       "  'float is __builtin__.float',\n",
       "  'e = 3\\ndef my_function(in1):\\n    a = 2 * e\\n    b = 3\\n    in1 = 5\\n    def other_function():\\n        c = a\\n        d = e\\n        return dir()\\n    print(f\"\"\"\\n          my_function\\'s namespace: {dir()} \\n          other_function\\'s namespace: {other_function()}\\n          \"\"\")\\n    return a',\n",
       "  'my_function(3)',\n",
       "  'e = 3\\ndef my_function():\\n    e = 4\\n    a = 2\\n    print(f\"my_function\\'s namespace: {dir()}\")',\n",
       "  'e = 3\\nmy_function()\\ne # has the value 3',\n",
       "  'def fun():\\n    def fun1():\\n        global a\\n        a = 3\\n    def fun2():\\n        global b\\n        b = 2\\n        print(a)\\n    fun1()\\n    fun2() # prints a\\n    print(b)\\nfun()',\n",
       "  'def maker(N):\\n    def action(X):\\n        return X**N\\n    return action',\n",
       "  'f = maker(2)',\n",
       "  'f(3)',\n",
       "  'f(4)',\n",
       "  'g = maker(3)',\n",
       "  'g(3)',\n",
       "  'g(4)',\n",
       "  'type(globals())',\n",
       "  'globals()'],\n",
       " '_oh': {1: <function math.sin(x, /)>,\n",
       "  2: <ufunc 'sin'>,\n",
       "  3: ['__doc__',\n",
       "   '__loader__',\n",
       "   '__name__',\n",
       "   '__package__',\n",
       "   '__spec__',\n",
       "   'acos',\n",
       "   'acosh',\n",
       "   'asin',\n",
       "   'asinh',\n",
       "   'atan',\n",
       "   'atan2',\n",
       "   'atanh',\n",
       "   'ceil',\n",
       "   'comb',\n",
       "   'copysign',\n",
       "   'cos',\n",
       "   'cosh',\n",
       "   'degrees',\n",
       "   'dist',\n",
       "   'e',\n",
       "   'erf',\n",
       "   'erfc',\n",
       "   'exp',\n",
       "   'expm1',\n",
       "   'fabs',\n",
       "   'factorial',\n",
       "   'floor',\n",
       "   'fmod',\n",
       "   'frexp',\n",
       "   'fsum',\n",
       "   'gamma',\n",
       "   'gcd',\n",
       "   'hypot',\n",
       "   'inf',\n",
       "   'isclose',\n",
       "   'isfinite',\n",
       "   'isinf',\n",
       "   'isnan',\n",
       "   'isqrt',\n",
       "   'lcm',\n",
       "   'ldexp',\n",
       "   'lgamma',\n",
       "   'log',\n",
       "   'log10',\n",
       "   'log1p',\n",
       "   'log2',\n",
       "   'modf',\n",
       "   'nan',\n",
       "   'nextafter',\n",
       "   'perm',\n",
       "   'pi',\n",
       "   'pow',\n",
       "   'prod',\n",
       "   'radians',\n",
       "   'remainder',\n",
       "   'sin',\n",
       "   'sinh',\n",
       "   'sqrt',\n",
       "   'tan',\n",
       "   'tanh',\n",
       "   'tau',\n",
       "   'trunc',\n",
       "   'ulp'],\n",
       "  4: 'math',\n",
       "  5: 'numpy',\n",
       "  6: 'This module provides access to the mathematical functions\\ndefined by the C standard.',\n",
       "  7: True,\n",
       "  8: True,\n",
       "  10: 6,\n",
       "  12: 3,\n",
       "  16: 9,\n",
       "  17: 16,\n",
       "  19: 27,\n",
       "  20: 64,\n",
       "  21: dict},\n",
       " '_dh': [WindowsPath('C:/Users/Owner/Dropbox/Work/Github/SDA')],\n",
       " 'In': ['',\n",
       "  'import math\\nimport numpy as np\\nmath.sin',\n",
       "  'np.sin',\n",
       "  'dir(math)',\n",
       "  'math.__name__',\n",
       "  'np.__name__',\n",
       "  'math.__doc__',\n",
       "  \"'float' in dir(__builtin__)\",\n",
       "  'float is __builtin__.float',\n",
       "  'e = 3\\ndef my_function(in1):\\n    a = 2 * e\\n    b = 3\\n    in1 = 5\\n    def other_function():\\n        c = a\\n        d = e\\n        return dir()\\n    print(f\"\"\"\\n          my_function\\'s namespace: {dir()} \\n          other_function\\'s namespace: {other_function()}\\n          \"\"\")\\n    return a',\n",
       "  'my_function(3)',\n",
       "  'e = 3\\ndef my_function():\\n    e = 4\\n    a = 2\\n    print(f\"my_function\\'s namespace: {dir()}\")',\n",
       "  'e = 3\\nmy_function()\\ne # has the value 3',\n",
       "  'def fun():\\n    def fun1():\\n        global a\\n        a = 3\\n    def fun2():\\n        global b\\n        b = 2\\n        print(a)\\n    fun1()\\n    fun2() # prints a\\n    print(b)\\nfun()',\n",
       "  'def maker(N):\\n    def action(X):\\n        return X**N\\n    return action',\n",
       "  'f = maker(2)',\n",
       "  'f(3)',\n",
       "  'f(4)',\n",
       "  'g = maker(3)',\n",
       "  'g(3)',\n",
       "  'g(4)',\n",
       "  'type(globals())',\n",
       "  'globals()'],\n",
       " 'Out': {1: <function math.sin(x, /)>,\n",
       "  2: <ufunc 'sin'>,\n",
       "  3: ['__doc__',\n",
       "   '__loader__',\n",
       "   '__name__',\n",
       "   '__package__',\n",
       "   '__spec__',\n",
       "   'acos',\n",
       "   'acosh',\n",
       "   'asin',\n",
       "   'asinh',\n",
       "   'atan',\n",
       "   'atan2',\n",
       "   'atanh',\n",
       "   'ceil',\n",
       "   'comb',\n",
       "   'copysign',\n",
       "   'cos',\n",
       "   'cosh',\n",
       "   'degrees',\n",
       "   'dist',\n",
       "   'e',\n",
       "   'erf',\n",
       "   'erfc',\n",
       "   'exp',\n",
       "   'expm1',\n",
       "   'fabs',\n",
       "   'factorial',\n",
       "   'floor',\n",
       "   'fmod',\n",
       "   'frexp',\n",
       "   'fsum',\n",
       "   'gamma',\n",
       "   'gcd',\n",
       "   'hypot',\n",
       "   'inf',\n",
       "   'isclose',\n",
       "   'isfinite',\n",
       "   'isinf',\n",
       "   'isnan',\n",
       "   'isqrt',\n",
       "   'lcm',\n",
       "   'ldexp',\n",
       "   'lgamma',\n",
       "   'log',\n",
       "   'log10',\n",
       "   'log1p',\n",
       "   'log2',\n",
       "   'modf',\n",
       "   'nan',\n",
       "   'nextafter',\n",
       "   'perm',\n",
       "   'pi',\n",
       "   'pow',\n",
       "   'prod',\n",
       "   'radians',\n",
       "   'remainder',\n",
       "   'sin',\n",
       "   'sinh',\n",
       "   'sqrt',\n",
       "   'tan',\n",
       "   'tanh',\n",
       "   'tau',\n",
       "   'trunc',\n",
       "   'ulp'],\n",
       "  4: 'math',\n",
       "  5: 'numpy',\n",
       "  6: 'This module provides access to the mathematical functions\\ndefined by the C standard.',\n",
       "  7: True,\n",
       "  8: True,\n",
       "  10: 6,\n",
       "  12: 3,\n",
       "  16: 9,\n",
       "  17: 16,\n",
       "  19: 27,\n",
       "  20: 64,\n",
       "  21: dict},\n",
       " 'get_ipython': <bound method InteractiveShell.get_ipython of <ipykernel.zmqshell.ZMQInteractiveShell object at 0x00000207405E0D00>>,\n",
       " 'exit': <IPython.core.autocall.ZMQExitAutocall at 0x2074061c340>,\n",
       " 'quit': <IPython.core.autocall.ZMQExitAutocall at 0x2074061c340>,\n",
       " '_': dict,\n",
       " '__': 64,\n",
       " '___': 27,\n",
       " '_i': 'type(globals())',\n",
       " '_ii': 'g(4)',\n",
       " '_iii': 'g(3)',\n",
       " '_i1': 'import math\\nimport numpy as np\\nmath.sin',\n",
       " 'math': <module 'math' (built-in)>,\n",
       " 'np': <module 'numpy' from 'C:\\\\Users\\\\Owner\\\\AppData\\\\Local\\\\Programs\\\\Python\\\\Python39\\\\lib\\\\site-packages\\\\numpy\\\\__init__.py'>,\n",
       " '_1': <function math.sin(x, /)>,\n",
       " '_i2': 'np.sin',\n",
       " '_2': <ufunc 'sin'>,\n",
       " '_i3': 'dir(math)',\n",
       " '_3': ['__doc__',\n",
       "  '__loader__',\n",
       "  '__name__',\n",
       "  '__package__',\n",
       "  '__spec__',\n",
       "  'acos',\n",
       "  'acosh',\n",
       "  'asin',\n",
       "  'asinh',\n",
       "  'atan',\n",
       "  'atan2',\n",
       "  'atanh',\n",
       "  'ceil',\n",
       "  'comb',\n",
       "  'copysign',\n",
       "  'cos',\n",
       "  'cosh',\n",
       "  'degrees',\n",
       "  'dist',\n",
       "  'e',\n",
       "  'erf',\n",
       "  'erfc',\n",
       "  'exp',\n",
       "  'expm1',\n",
       "  'fabs',\n",
       "  'factorial',\n",
       "  'floor',\n",
       "  'fmod',\n",
       "  'frexp',\n",
       "  'fsum',\n",
       "  'gamma',\n",
       "  'gcd',\n",
       "  'hypot',\n",
       "  'inf',\n",
       "  'isclose',\n",
       "  'isfinite',\n",
       "  'isinf',\n",
       "  'isnan',\n",
       "  'isqrt',\n",
       "  'lcm',\n",
       "  'ldexp',\n",
       "  'lgamma',\n",
       "  'log',\n",
       "  'log10',\n",
       "  'log1p',\n",
       "  'log2',\n",
       "  'modf',\n",
       "  'nan',\n",
       "  'nextafter',\n",
       "  'perm',\n",
       "  'pi',\n",
       "  'pow',\n",
       "  'prod',\n",
       "  'radians',\n",
       "  'remainder',\n",
       "  'sin',\n",
       "  'sinh',\n",
       "  'sqrt',\n",
       "  'tan',\n",
       "  'tanh',\n",
       "  'tau',\n",
       "  'trunc',\n",
       "  'ulp'],\n",
       " '_i4': 'math.__name__',\n",
       " '_4': 'math',\n",
       " '_i5': 'np.__name__',\n",
       " '_5': 'numpy',\n",
       " '_i6': 'math.__doc__',\n",
       " '_6': 'This module provides access to the mathematical functions\\ndefined by the C standard.',\n",
       " '_i7': \"'float' in dir(__builtin__)\",\n",
       " '_7': True,\n",
       " '_i8': 'float is __builtin__.float',\n",
       " '_8': True,\n",
       " '_i9': 'e = 3\\ndef my_function(in1):\\n    a = 2 * e\\n    b = 3\\n    in1 = 5\\n    def other_function():\\n        c = a\\n        d = e\\n        return dir()\\n    print(f\"\"\"\\n          my_function\\'s namespace: {dir()} \\n          other_function\\'s namespace: {other_function()}\\n          \"\"\")\\n    return a',\n",
       " 'e': 3,\n",
       " 'my_function': <function __main__.my_function()>,\n",
       " '_i10': 'my_function(3)',\n",
       " '_10': 6,\n",
       " '_i11': 'e = 3\\ndef my_function():\\n    e = 4\\n    a = 2\\n    print(f\"my_function\\'s namespace: {dir()}\")',\n",
       " '_i12': 'e = 3\\nmy_function()\\ne # has the value 3',\n",
       " '_12': 3,\n",
       " '_i13': 'def fun():\\n    def fun1():\\n        global a\\n        a = 3\\n    def fun2():\\n        global b\\n        b = 2\\n        print(a)\\n    fun1()\\n    fun2() # prints a\\n    print(b)\\nfun()',\n",
       " 'fun': <function __main__.fun()>,\n",
       " 'a': 3,\n",
       " 'b': 2,\n",
       " '_i14': 'def maker(N):\\n    def action(X):\\n        return X**N\\n    return action',\n",
       " 'maker': <function __main__.maker(N)>,\n",
       " '_i15': 'f = maker(2)',\n",
       " 'f': <function __main__.maker.<locals>.action(X)>,\n",
       " '_i16': 'f(3)',\n",
       " '_16': 9,\n",
       " '_i17': 'f(4)',\n",
       " '_17': 16,\n",
       " '_i18': 'g = maker(3)',\n",
       " 'g': <function __main__.maker.<locals>.action(X)>,\n",
       " '_i19': 'g(3)',\n",
       " '_19': 27,\n",
       " '_i20': 'g(4)',\n",
       " '_20': 64,\n",
       " '_i21': 'type(globals())',\n",
       " '_21': dict,\n",
       " '_i22': 'globals()'}"
      ]
     },
     "execution_count": 22,
     "metadata": {},
     "output_type": "execute_result"
    }
   ],
   "source": [
    "globals()"
   ]
  },
  {
   "cell_type": "code",
   "execution_count": 23,
   "id": "61965b43",
   "metadata": {},
   "outputs": [],
   "source": [
    "x = 'foo'"
   ]
  },
  {
   "cell_type": "code",
   "execution_count": 24,
   "id": "8ae6cfbc",
   "metadata": {},
   "outputs": [
    {
     "data": {
      "text/plain": [
       "{'__name__': '__main__',\n",
       " '__doc__': 'Automatically created module for IPython interactive environment',\n",
       " '__package__': None,\n",
       " '__loader__': None,\n",
       " '__spec__': None,\n",
       " '__builtin__': <module 'builtins' (built-in)>,\n",
       " '__builtins__': <module 'builtins' (built-in)>,\n",
       " '_ih': ['',\n",
       "  'import math\\nimport numpy as np\\nmath.sin',\n",
       "  'np.sin',\n",
       "  'dir(math)',\n",
       "  'math.__name__',\n",
       "  'np.__name__',\n",
       "  'math.__doc__',\n",
       "  \"'float' in dir(__builtin__)\",\n",
       "  'float is __builtin__.float',\n",
       "  'e = 3\\ndef my_function(in1):\\n    a = 2 * e\\n    b = 3\\n    in1 = 5\\n    def other_function():\\n        c = a\\n        d = e\\n        return dir()\\n    print(f\"\"\"\\n          my_function\\'s namespace: {dir()} \\n          other_function\\'s namespace: {other_function()}\\n          \"\"\")\\n    return a',\n",
       "  'my_function(3)',\n",
       "  'e = 3\\ndef my_function():\\n    e = 4\\n    a = 2\\n    print(f\"my_function\\'s namespace: {dir()}\")',\n",
       "  'e = 3\\nmy_function()\\ne # has the value 3',\n",
       "  'def fun():\\n    def fun1():\\n        global a\\n        a = 3\\n    def fun2():\\n        global b\\n        b = 2\\n        print(a)\\n    fun1()\\n    fun2() # prints a\\n    print(b)\\nfun()',\n",
       "  'def maker(N):\\n    def action(X):\\n        return X**N\\n    return action',\n",
       "  'f = maker(2)',\n",
       "  'f(3)',\n",
       "  'f(4)',\n",
       "  'g = maker(3)',\n",
       "  'g(3)',\n",
       "  'g(4)',\n",
       "  'type(globals())',\n",
       "  'globals()',\n",
       "  \"x = 'foo'\",\n",
       "  'globals()'],\n",
       " '_oh': {1: <function math.sin(x, /)>,\n",
       "  2: <ufunc 'sin'>,\n",
       "  3: ['__doc__',\n",
       "   '__loader__',\n",
       "   '__name__',\n",
       "   '__package__',\n",
       "   '__spec__',\n",
       "   'acos',\n",
       "   'acosh',\n",
       "   'asin',\n",
       "   'asinh',\n",
       "   'atan',\n",
       "   'atan2',\n",
       "   'atanh',\n",
       "   'ceil',\n",
       "   'comb',\n",
       "   'copysign',\n",
       "   'cos',\n",
       "   'cosh',\n",
       "   'degrees',\n",
       "   'dist',\n",
       "   'e',\n",
       "   'erf',\n",
       "   'erfc',\n",
       "   'exp',\n",
       "   'expm1',\n",
       "   'fabs',\n",
       "   'factorial',\n",
       "   'floor',\n",
       "   'fmod',\n",
       "   'frexp',\n",
       "   'fsum',\n",
       "   'gamma',\n",
       "   'gcd',\n",
       "   'hypot',\n",
       "   'inf',\n",
       "   'isclose',\n",
       "   'isfinite',\n",
       "   'isinf',\n",
       "   'isnan',\n",
       "   'isqrt',\n",
       "   'lcm',\n",
       "   'ldexp',\n",
       "   'lgamma',\n",
       "   'log',\n",
       "   'log10',\n",
       "   'log1p',\n",
       "   'log2',\n",
       "   'modf',\n",
       "   'nan',\n",
       "   'nextafter',\n",
       "   'perm',\n",
       "   'pi',\n",
       "   'pow',\n",
       "   'prod',\n",
       "   'radians',\n",
       "   'remainder',\n",
       "   'sin',\n",
       "   'sinh',\n",
       "   'sqrt',\n",
       "   'tan',\n",
       "   'tanh',\n",
       "   'tau',\n",
       "   'trunc',\n",
       "   'ulp'],\n",
       "  4: 'math',\n",
       "  5: 'numpy',\n",
       "  6: 'This module provides access to the mathematical functions\\ndefined by the C standard.',\n",
       "  7: True,\n",
       "  8: True,\n",
       "  10: 6,\n",
       "  12: 3,\n",
       "  16: 9,\n",
       "  17: 16,\n",
       "  19: 27,\n",
       "  20: 64,\n",
       "  21: dict,\n",
       "  22: {...}},\n",
       " '_dh': [WindowsPath('C:/Users/Owner/Dropbox/Work/Github/SDA')],\n",
       " 'In': ['',\n",
       "  'import math\\nimport numpy as np\\nmath.sin',\n",
       "  'np.sin',\n",
       "  'dir(math)',\n",
       "  'math.__name__',\n",
       "  'np.__name__',\n",
       "  'math.__doc__',\n",
       "  \"'float' in dir(__builtin__)\",\n",
       "  'float is __builtin__.float',\n",
       "  'e = 3\\ndef my_function(in1):\\n    a = 2 * e\\n    b = 3\\n    in1 = 5\\n    def other_function():\\n        c = a\\n        d = e\\n        return dir()\\n    print(f\"\"\"\\n          my_function\\'s namespace: {dir()} \\n          other_function\\'s namespace: {other_function()}\\n          \"\"\")\\n    return a',\n",
       "  'my_function(3)',\n",
       "  'e = 3\\ndef my_function():\\n    e = 4\\n    a = 2\\n    print(f\"my_function\\'s namespace: {dir()}\")',\n",
       "  'e = 3\\nmy_function()\\ne # has the value 3',\n",
       "  'def fun():\\n    def fun1():\\n        global a\\n        a = 3\\n    def fun2():\\n        global b\\n        b = 2\\n        print(a)\\n    fun1()\\n    fun2() # prints a\\n    print(b)\\nfun()',\n",
       "  'def maker(N):\\n    def action(X):\\n        return X**N\\n    return action',\n",
       "  'f = maker(2)',\n",
       "  'f(3)',\n",
       "  'f(4)',\n",
       "  'g = maker(3)',\n",
       "  'g(3)',\n",
       "  'g(4)',\n",
       "  'type(globals())',\n",
       "  'globals()',\n",
       "  \"x = 'foo'\",\n",
       "  'globals()'],\n",
       " 'Out': {1: <function math.sin(x, /)>,\n",
       "  2: <ufunc 'sin'>,\n",
       "  3: ['__doc__',\n",
       "   '__loader__',\n",
       "   '__name__',\n",
       "   '__package__',\n",
       "   '__spec__',\n",
       "   'acos',\n",
       "   'acosh',\n",
       "   'asin',\n",
       "   'asinh',\n",
       "   'atan',\n",
       "   'atan2',\n",
       "   'atanh',\n",
       "   'ceil',\n",
       "   'comb',\n",
       "   'copysign',\n",
       "   'cos',\n",
       "   'cosh',\n",
       "   'degrees',\n",
       "   'dist',\n",
       "   'e',\n",
       "   'erf',\n",
       "   'erfc',\n",
       "   'exp',\n",
       "   'expm1',\n",
       "   'fabs',\n",
       "   'factorial',\n",
       "   'floor',\n",
       "   'fmod',\n",
       "   'frexp',\n",
       "   'fsum',\n",
       "   'gamma',\n",
       "   'gcd',\n",
       "   'hypot',\n",
       "   'inf',\n",
       "   'isclose',\n",
       "   'isfinite',\n",
       "   'isinf',\n",
       "   'isnan',\n",
       "   'isqrt',\n",
       "   'lcm',\n",
       "   'ldexp',\n",
       "   'lgamma',\n",
       "   'log',\n",
       "   'log10',\n",
       "   'log1p',\n",
       "   'log2',\n",
       "   'modf',\n",
       "   'nan',\n",
       "   'nextafter',\n",
       "   'perm',\n",
       "   'pi',\n",
       "   'pow',\n",
       "   'prod',\n",
       "   'radians',\n",
       "   'remainder',\n",
       "   'sin',\n",
       "   'sinh',\n",
       "   'sqrt',\n",
       "   'tan',\n",
       "   'tanh',\n",
       "   'tau',\n",
       "   'trunc',\n",
       "   'ulp'],\n",
       "  4: 'math',\n",
       "  5: 'numpy',\n",
       "  6: 'This module provides access to the mathematical functions\\ndefined by the C standard.',\n",
       "  7: True,\n",
       "  8: True,\n",
       "  10: 6,\n",
       "  12: 3,\n",
       "  16: 9,\n",
       "  17: 16,\n",
       "  19: 27,\n",
       "  20: 64,\n",
       "  21: dict,\n",
       "  22: {...}},\n",
       " 'get_ipython': <bound method InteractiveShell.get_ipython of <ipykernel.zmqshell.ZMQInteractiveShell object at 0x00000207405E0D00>>,\n",
       " 'exit': <IPython.core.autocall.ZMQExitAutocall at 0x2074061c340>,\n",
       " 'quit': <IPython.core.autocall.ZMQExitAutocall at 0x2074061c340>,\n",
       " '_': {...},\n",
       " '__': dict,\n",
       " '___': 64,\n",
       " '_i': \"x = 'foo'\",\n",
       " '_ii': 'globals()',\n",
       " '_iii': 'type(globals())',\n",
       " '_i1': 'import math\\nimport numpy as np\\nmath.sin',\n",
       " 'math': <module 'math' (built-in)>,\n",
       " 'np': <module 'numpy' from 'C:\\\\Users\\\\Owner\\\\AppData\\\\Local\\\\Programs\\\\Python\\\\Python39\\\\lib\\\\site-packages\\\\numpy\\\\__init__.py'>,\n",
       " '_1': <function math.sin(x, /)>,\n",
       " '_i2': 'np.sin',\n",
       " '_2': <ufunc 'sin'>,\n",
       " '_i3': 'dir(math)',\n",
       " '_3': ['__doc__',\n",
       "  '__loader__',\n",
       "  '__name__',\n",
       "  '__package__',\n",
       "  '__spec__',\n",
       "  'acos',\n",
       "  'acosh',\n",
       "  'asin',\n",
       "  'asinh',\n",
       "  'atan',\n",
       "  'atan2',\n",
       "  'atanh',\n",
       "  'ceil',\n",
       "  'comb',\n",
       "  'copysign',\n",
       "  'cos',\n",
       "  'cosh',\n",
       "  'degrees',\n",
       "  'dist',\n",
       "  'e',\n",
       "  'erf',\n",
       "  'erfc',\n",
       "  'exp',\n",
       "  'expm1',\n",
       "  'fabs',\n",
       "  'factorial',\n",
       "  'floor',\n",
       "  'fmod',\n",
       "  'frexp',\n",
       "  'fsum',\n",
       "  'gamma',\n",
       "  'gcd',\n",
       "  'hypot',\n",
       "  'inf',\n",
       "  'isclose',\n",
       "  'isfinite',\n",
       "  'isinf',\n",
       "  'isnan',\n",
       "  'isqrt',\n",
       "  'lcm',\n",
       "  'ldexp',\n",
       "  'lgamma',\n",
       "  'log',\n",
       "  'log10',\n",
       "  'log1p',\n",
       "  'log2',\n",
       "  'modf',\n",
       "  'nan',\n",
       "  'nextafter',\n",
       "  'perm',\n",
       "  'pi',\n",
       "  'pow',\n",
       "  'prod',\n",
       "  'radians',\n",
       "  'remainder',\n",
       "  'sin',\n",
       "  'sinh',\n",
       "  'sqrt',\n",
       "  'tan',\n",
       "  'tanh',\n",
       "  'tau',\n",
       "  'trunc',\n",
       "  'ulp'],\n",
       " '_i4': 'math.__name__',\n",
       " '_4': 'math',\n",
       " '_i5': 'np.__name__',\n",
       " '_5': 'numpy',\n",
       " '_i6': 'math.__doc__',\n",
       " '_6': 'This module provides access to the mathematical functions\\ndefined by the C standard.',\n",
       " '_i7': \"'float' in dir(__builtin__)\",\n",
       " '_7': True,\n",
       " '_i8': 'float is __builtin__.float',\n",
       " '_8': True,\n",
       " '_i9': 'e = 3\\ndef my_function(in1):\\n    a = 2 * e\\n    b = 3\\n    in1 = 5\\n    def other_function():\\n        c = a\\n        d = e\\n        return dir()\\n    print(f\"\"\"\\n          my_function\\'s namespace: {dir()} \\n          other_function\\'s namespace: {other_function()}\\n          \"\"\")\\n    return a',\n",
       " 'e': 3,\n",
       " 'my_function': <function __main__.my_function()>,\n",
       " '_i10': 'my_function(3)',\n",
       " '_10': 6,\n",
       " '_i11': 'e = 3\\ndef my_function():\\n    e = 4\\n    a = 2\\n    print(f\"my_function\\'s namespace: {dir()}\")',\n",
       " '_i12': 'e = 3\\nmy_function()\\ne # has the value 3',\n",
       " '_12': 3,\n",
       " '_i13': 'def fun():\\n    def fun1():\\n        global a\\n        a = 3\\n    def fun2():\\n        global b\\n        b = 2\\n        print(a)\\n    fun1()\\n    fun2() # prints a\\n    print(b)\\nfun()',\n",
       " 'fun': <function __main__.fun()>,\n",
       " 'a': 3,\n",
       " 'b': 2,\n",
       " '_i14': 'def maker(N):\\n    def action(X):\\n        return X**N\\n    return action',\n",
       " 'maker': <function __main__.maker(N)>,\n",
       " '_i15': 'f = maker(2)',\n",
       " 'f': <function __main__.maker.<locals>.action(X)>,\n",
       " '_i16': 'f(3)',\n",
       " '_16': 9,\n",
       " '_i17': 'f(4)',\n",
       " '_17': 16,\n",
       " '_i18': 'g = maker(3)',\n",
       " 'g': <function __main__.maker.<locals>.action(X)>,\n",
       " '_i19': 'g(3)',\n",
       " '_19': 27,\n",
       " '_i20': 'g(4)',\n",
       " '_20': 64,\n",
       " '_i21': 'type(globals())',\n",
       " '_21': dict,\n",
       " '_i22': 'globals()',\n",
       " '_22': {...},\n",
       " '_i23': \"x = 'foo'\",\n",
       " 'x': 'foo',\n",
       " '_i24': 'globals()'}"
      ]
     },
     "execution_count": 24,
     "metadata": {},
     "output_type": "execute_result"
    }
   ],
   "source": [
    "globals()"
   ]
  },
  {
   "cell_type": "code",
   "execution_count": 25,
   "id": "83182d4b",
   "metadata": {},
   "outputs": [
    {
     "data": {
      "text/plain": [
       "'foo'"
      ]
     },
     "execution_count": 25,
     "metadata": {},
     "output_type": "execute_result"
    }
   ],
   "source": [
    "x"
   ]
  },
  {
   "cell_type": "code",
   "execution_count": 26,
   "id": "fc3a7f5d",
   "metadata": {},
   "outputs": [
    {
     "data": {
      "text/plain": [
       "'foo'"
      ]
     },
     "execution_count": 26,
     "metadata": {},
     "output_type": "execute_result"
    }
   ],
   "source": [
    "globals()['x']"
   ]
  },
  {
   "cell_type": "code",
   "execution_count": 27,
   "id": "a61cbad7",
   "metadata": {},
   "outputs": [
    {
     "data": {
      "text/plain": [
       "True"
      ]
     },
     "execution_count": 27,
     "metadata": {},
     "output_type": "execute_result"
    }
   ],
   "source": [
    "x is globals()['x']"
   ]
  },
  {
   "cell_type": "code",
   "execution_count": 28,
   "id": "709b396f",
   "metadata": {},
   "outputs": [],
   "source": [
    "globals()['y'] = 100"
   ]
  },
  {
   "cell_type": "code",
   "execution_count": 29,
   "id": "4c8dedef",
   "metadata": {},
   "outputs": [
    {
     "data": {
      "text/plain": [
       "{'__name__': '__main__',\n",
       " '__doc__': 'Automatically created module for IPython interactive environment',\n",
       " '__package__': None,\n",
       " '__loader__': None,\n",
       " '__spec__': None,\n",
       " '__builtin__': <module 'builtins' (built-in)>,\n",
       " '__builtins__': <module 'builtins' (built-in)>,\n",
       " '_ih': ['',\n",
       "  'import math\\nimport numpy as np\\nmath.sin',\n",
       "  'np.sin',\n",
       "  'dir(math)',\n",
       "  'math.__name__',\n",
       "  'np.__name__',\n",
       "  'math.__doc__',\n",
       "  \"'float' in dir(__builtin__)\",\n",
       "  'float is __builtin__.float',\n",
       "  'e = 3\\ndef my_function(in1):\\n    a = 2 * e\\n    b = 3\\n    in1 = 5\\n    def other_function():\\n        c = a\\n        d = e\\n        return dir()\\n    print(f\"\"\"\\n          my_function\\'s namespace: {dir()} \\n          other_function\\'s namespace: {other_function()}\\n          \"\"\")\\n    return a',\n",
       "  'my_function(3)',\n",
       "  'e = 3\\ndef my_function():\\n    e = 4\\n    a = 2\\n    print(f\"my_function\\'s namespace: {dir()}\")',\n",
       "  'e = 3\\nmy_function()\\ne # has the value 3',\n",
       "  'def fun():\\n    def fun1():\\n        global a\\n        a = 3\\n    def fun2():\\n        global b\\n        b = 2\\n        print(a)\\n    fun1()\\n    fun2() # prints a\\n    print(b)\\nfun()',\n",
       "  'def maker(N):\\n    def action(X):\\n        return X**N\\n    return action',\n",
       "  'f = maker(2)',\n",
       "  'f(3)',\n",
       "  'f(4)',\n",
       "  'g = maker(3)',\n",
       "  'g(3)',\n",
       "  'g(4)',\n",
       "  'type(globals())',\n",
       "  'globals()',\n",
       "  \"x = 'foo'\",\n",
       "  'globals()',\n",
       "  'x',\n",
       "  \"globals()['x']\",\n",
       "  \"x is globals()['x']\",\n",
       "  \"globals()['y'] = 100\",\n",
       "  'globals()'],\n",
       " '_oh': {1: <function math.sin(x, /)>,\n",
       "  2: <ufunc 'sin'>,\n",
       "  3: ['__doc__',\n",
       "   '__loader__',\n",
       "   '__name__',\n",
       "   '__package__',\n",
       "   '__spec__',\n",
       "   'acos',\n",
       "   'acosh',\n",
       "   'asin',\n",
       "   'asinh',\n",
       "   'atan',\n",
       "   'atan2',\n",
       "   'atanh',\n",
       "   'ceil',\n",
       "   'comb',\n",
       "   'copysign',\n",
       "   'cos',\n",
       "   'cosh',\n",
       "   'degrees',\n",
       "   'dist',\n",
       "   'e',\n",
       "   'erf',\n",
       "   'erfc',\n",
       "   'exp',\n",
       "   'expm1',\n",
       "   'fabs',\n",
       "   'factorial',\n",
       "   'floor',\n",
       "   'fmod',\n",
       "   'frexp',\n",
       "   'fsum',\n",
       "   'gamma',\n",
       "   'gcd',\n",
       "   'hypot',\n",
       "   'inf',\n",
       "   'isclose',\n",
       "   'isfinite',\n",
       "   'isinf',\n",
       "   'isnan',\n",
       "   'isqrt',\n",
       "   'lcm',\n",
       "   'ldexp',\n",
       "   'lgamma',\n",
       "   'log',\n",
       "   'log10',\n",
       "   'log1p',\n",
       "   'log2',\n",
       "   'modf',\n",
       "   'nan',\n",
       "   'nextafter',\n",
       "   'perm',\n",
       "   'pi',\n",
       "   'pow',\n",
       "   'prod',\n",
       "   'radians',\n",
       "   'remainder',\n",
       "   'sin',\n",
       "   'sinh',\n",
       "   'sqrt',\n",
       "   'tan',\n",
       "   'tanh',\n",
       "   'tau',\n",
       "   'trunc',\n",
       "   'ulp'],\n",
       "  4: 'math',\n",
       "  5: 'numpy',\n",
       "  6: 'This module provides access to the mathematical functions\\ndefined by the C standard.',\n",
       "  7: True,\n",
       "  8: True,\n",
       "  10: 6,\n",
       "  12: 3,\n",
       "  16: 9,\n",
       "  17: 16,\n",
       "  19: 27,\n",
       "  20: 64,\n",
       "  21: dict,\n",
       "  22: {...},\n",
       "  24: {...},\n",
       "  25: 'foo',\n",
       "  26: 'foo',\n",
       "  27: True},\n",
       " '_dh': [WindowsPath('C:/Users/Owner/Dropbox/Work/Github/SDA')],\n",
       " 'In': ['',\n",
       "  'import math\\nimport numpy as np\\nmath.sin',\n",
       "  'np.sin',\n",
       "  'dir(math)',\n",
       "  'math.__name__',\n",
       "  'np.__name__',\n",
       "  'math.__doc__',\n",
       "  \"'float' in dir(__builtin__)\",\n",
       "  'float is __builtin__.float',\n",
       "  'e = 3\\ndef my_function(in1):\\n    a = 2 * e\\n    b = 3\\n    in1 = 5\\n    def other_function():\\n        c = a\\n        d = e\\n        return dir()\\n    print(f\"\"\"\\n          my_function\\'s namespace: {dir()} \\n          other_function\\'s namespace: {other_function()}\\n          \"\"\")\\n    return a',\n",
       "  'my_function(3)',\n",
       "  'e = 3\\ndef my_function():\\n    e = 4\\n    a = 2\\n    print(f\"my_function\\'s namespace: {dir()}\")',\n",
       "  'e = 3\\nmy_function()\\ne # has the value 3',\n",
       "  'def fun():\\n    def fun1():\\n        global a\\n        a = 3\\n    def fun2():\\n        global b\\n        b = 2\\n        print(a)\\n    fun1()\\n    fun2() # prints a\\n    print(b)\\nfun()',\n",
       "  'def maker(N):\\n    def action(X):\\n        return X**N\\n    return action',\n",
       "  'f = maker(2)',\n",
       "  'f(3)',\n",
       "  'f(4)',\n",
       "  'g = maker(3)',\n",
       "  'g(3)',\n",
       "  'g(4)',\n",
       "  'type(globals())',\n",
       "  'globals()',\n",
       "  \"x = 'foo'\",\n",
       "  'globals()',\n",
       "  'x',\n",
       "  \"globals()['x']\",\n",
       "  \"x is globals()['x']\",\n",
       "  \"globals()['y'] = 100\",\n",
       "  'globals()'],\n",
       " 'Out': {1: <function math.sin(x, /)>,\n",
       "  2: <ufunc 'sin'>,\n",
       "  3: ['__doc__',\n",
       "   '__loader__',\n",
       "   '__name__',\n",
       "   '__package__',\n",
       "   '__spec__',\n",
       "   'acos',\n",
       "   'acosh',\n",
       "   'asin',\n",
       "   'asinh',\n",
       "   'atan',\n",
       "   'atan2',\n",
       "   'atanh',\n",
       "   'ceil',\n",
       "   'comb',\n",
       "   'copysign',\n",
       "   'cos',\n",
       "   'cosh',\n",
       "   'degrees',\n",
       "   'dist',\n",
       "   'e',\n",
       "   'erf',\n",
       "   'erfc',\n",
       "   'exp',\n",
       "   'expm1',\n",
       "   'fabs',\n",
       "   'factorial',\n",
       "   'floor',\n",
       "   'fmod',\n",
       "   'frexp',\n",
       "   'fsum',\n",
       "   'gamma',\n",
       "   'gcd',\n",
       "   'hypot',\n",
       "   'inf',\n",
       "   'isclose',\n",
       "   'isfinite',\n",
       "   'isinf',\n",
       "   'isnan',\n",
       "   'isqrt',\n",
       "   'lcm',\n",
       "   'ldexp',\n",
       "   'lgamma',\n",
       "   'log',\n",
       "   'log10',\n",
       "   'log1p',\n",
       "   'log2',\n",
       "   'modf',\n",
       "   'nan',\n",
       "   'nextafter',\n",
       "   'perm',\n",
       "   'pi',\n",
       "   'pow',\n",
       "   'prod',\n",
       "   'radians',\n",
       "   'remainder',\n",
       "   'sin',\n",
       "   'sinh',\n",
       "   'sqrt',\n",
       "   'tan',\n",
       "   'tanh',\n",
       "   'tau',\n",
       "   'trunc',\n",
       "   'ulp'],\n",
       "  4: 'math',\n",
       "  5: 'numpy',\n",
       "  6: 'This module provides access to the mathematical functions\\ndefined by the C standard.',\n",
       "  7: True,\n",
       "  8: True,\n",
       "  10: 6,\n",
       "  12: 3,\n",
       "  16: 9,\n",
       "  17: 16,\n",
       "  19: 27,\n",
       "  20: 64,\n",
       "  21: dict,\n",
       "  22: {...},\n",
       "  24: {...},\n",
       "  25: 'foo',\n",
       "  26: 'foo',\n",
       "  27: True},\n",
       " 'get_ipython': <bound method InteractiveShell.get_ipython of <ipykernel.zmqshell.ZMQInteractiveShell object at 0x00000207405E0D00>>,\n",
       " 'exit': <IPython.core.autocall.ZMQExitAutocall at 0x2074061c340>,\n",
       " 'quit': <IPython.core.autocall.ZMQExitAutocall at 0x2074061c340>,\n",
       " '_': True,\n",
       " '__': 'foo',\n",
       " '___': 'foo',\n",
       " '_i': \"globals()['y'] = 100\",\n",
       " '_ii': \"x is globals()['x']\",\n",
       " '_iii': \"globals()['x']\",\n",
       " '_i1': 'import math\\nimport numpy as np\\nmath.sin',\n",
       " 'math': <module 'math' (built-in)>,\n",
       " 'np': <module 'numpy' from 'C:\\\\Users\\\\Owner\\\\AppData\\\\Local\\\\Programs\\\\Python\\\\Python39\\\\lib\\\\site-packages\\\\numpy\\\\__init__.py'>,\n",
       " '_1': <function math.sin(x, /)>,\n",
       " '_i2': 'np.sin',\n",
       " '_2': <ufunc 'sin'>,\n",
       " '_i3': 'dir(math)',\n",
       " '_3': ['__doc__',\n",
       "  '__loader__',\n",
       "  '__name__',\n",
       "  '__package__',\n",
       "  '__spec__',\n",
       "  'acos',\n",
       "  'acosh',\n",
       "  'asin',\n",
       "  'asinh',\n",
       "  'atan',\n",
       "  'atan2',\n",
       "  'atanh',\n",
       "  'ceil',\n",
       "  'comb',\n",
       "  'copysign',\n",
       "  'cos',\n",
       "  'cosh',\n",
       "  'degrees',\n",
       "  'dist',\n",
       "  'e',\n",
       "  'erf',\n",
       "  'erfc',\n",
       "  'exp',\n",
       "  'expm1',\n",
       "  'fabs',\n",
       "  'factorial',\n",
       "  'floor',\n",
       "  'fmod',\n",
       "  'frexp',\n",
       "  'fsum',\n",
       "  'gamma',\n",
       "  'gcd',\n",
       "  'hypot',\n",
       "  'inf',\n",
       "  'isclose',\n",
       "  'isfinite',\n",
       "  'isinf',\n",
       "  'isnan',\n",
       "  'isqrt',\n",
       "  'lcm',\n",
       "  'ldexp',\n",
       "  'lgamma',\n",
       "  'log',\n",
       "  'log10',\n",
       "  'log1p',\n",
       "  'log2',\n",
       "  'modf',\n",
       "  'nan',\n",
       "  'nextafter',\n",
       "  'perm',\n",
       "  'pi',\n",
       "  'pow',\n",
       "  'prod',\n",
       "  'radians',\n",
       "  'remainder',\n",
       "  'sin',\n",
       "  'sinh',\n",
       "  'sqrt',\n",
       "  'tan',\n",
       "  'tanh',\n",
       "  'tau',\n",
       "  'trunc',\n",
       "  'ulp'],\n",
       " '_i4': 'math.__name__',\n",
       " '_4': 'math',\n",
       " '_i5': 'np.__name__',\n",
       " '_5': 'numpy',\n",
       " '_i6': 'math.__doc__',\n",
       " '_6': 'This module provides access to the mathematical functions\\ndefined by the C standard.',\n",
       " '_i7': \"'float' in dir(__builtin__)\",\n",
       " '_7': True,\n",
       " '_i8': 'float is __builtin__.float',\n",
       " '_8': True,\n",
       " '_i9': 'e = 3\\ndef my_function(in1):\\n    a = 2 * e\\n    b = 3\\n    in1 = 5\\n    def other_function():\\n        c = a\\n        d = e\\n        return dir()\\n    print(f\"\"\"\\n          my_function\\'s namespace: {dir()} \\n          other_function\\'s namespace: {other_function()}\\n          \"\"\")\\n    return a',\n",
       " 'e': 3,\n",
       " 'my_function': <function __main__.my_function()>,\n",
       " '_i10': 'my_function(3)',\n",
       " '_10': 6,\n",
       " '_i11': 'e = 3\\ndef my_function():\\n    e = 4\\n    a = 2\\n    print(f\"my_function\\'s namespace: {dir()}\")',\n",
       " '_i12': 'e = 3\\nmy_function()\\ne # has the value 3',\n",
       " '_12': 3,\n",
       " '_i13': 'def fun():\\n    def fun1():\\n        global a\\n        a = 3\\n    def fun2():\\n        global b\\n        b = 2\\n        print(a)\\n    fun1()\\n    fun2() # prints a\\n    print(b)\\nfun()',\n",
       " 'fun': <function __main__.fun()>,\n",
       " 'a': 3,\n",
       " 'b': 2,\n",
       " '_i14': 'def maker(N):\\n    def action(X):\\n        return X**N\\n    return action',\n",
       " 'maker': <function __main__.maker(N)>,\n",
       " '_i15': 'f = maker(2)',\n",
       " 'f': <function __main__.maker.<locals>.action(X)>,\n",
       " '_i16': 'f(3)',\n",
       " '_16': 9,\n",
       " '_i17': 'f(4)',\n",
       " '_17': 16,\n",
       " '_i18': 'g = maker(3)',\n",
       " 'g': <function __main__.maker.<locals>.action(X)>,\n",
       " '_i19': 'g(3)',\n",
       " '_19': 27,\n",
       " '_i20': 'g(4)',\n",
       " '_20': 64,\n",
       " '_i21': 'type(globals())',\n",
       " '_21': dict,\n",
       " '_i22': 'globals()',\n",
       " '_22': {...},\n",
       " '_i23': \"x = 'foo'\",\n",
       " 'x': 'foo',\n",
       " '_i24': 'globals()',\n",
       " '_24': {...},\n",
       " '_i25': 'x',\n",
       " '_25': 'foo',\n",
       " '_i26': \"globals()['x']\",\n",
       " '_26': 'foo',\n",
       " '_i27': \"x is globals()['x']\",\n",
       " '_27': True,\n",
       " '_i28': \"globals()['y'] = 100\",\n",
       " 'y': 100,\n",
       " '_i29': 'globals()'}"
      ]
     },
     "execution_count": 29,
     "metadata": {},
     "output_type": "execute_result"
    }
   ],
   "source": [
    "globals()"
   ]
  },
  {
   "cell_type": "code",
   "execution_count": 30,
   "id": "099daeac",
   "metadata": {},
   "outputs": [
    {
     "data": {
      "text/plain": [
       "100"
      ]
     },
     "execution_count": 30,
     "metadata": {},
     "output_type": "execute_result"
    }
   ],
   "source": [
    "y"
   ]
  },
  {
   "cell_type": "markdown",
   "id": "fdec4aaa",
   "metadata": {},
   "source": [
    "함수 내에서는 ```local()```을 통해 local namespace를 살펴볼 수 있다."
   ]
  },
  {
   "cell_type": "code",
   "execution_count": 31,
   "id": "5bf429cd",
   "metadata": {},
   "outputs": [],
   "source": [
    "def f(x, y):\n",
    "    s = 'foo'\n",
    "    print(locals())"
   ]
  },
  {
   "cell_type": "code",
   "execution_count": 32,
   "id": "c77caac0",
   "metadata": {},
   "outputs": [
    {
     "name": "stdout",
     "output_type": "stream",
     "text": [
      "{'x': 1, 'y': 2, 's': 'foo'}\n"
     ]
    }
   ],
   "source": [
    "f(1,2)"
   ]
  },
  {
   "cell_type": "code",
   "execution_count": 33,
   "id": "e2027767",
   "metadata": {},
   "outputs": [],
   "source": [
    "g = globals()"
   ]
  },
  {
   "cell_type": "code",
   "execution_count": 34,
   "id": "ad21e429",
   "metadata": {},
   "outputs": [
    {
     "data": {
      "text/plain": [
       "'hi'"
      ]
     },
     "execution_count": 34,
     "metadata": {},
     "output_type": "execute_result"
    }
   ],
   "source": [
    "a = 'hi'\n",
    "g['a']"
   ]
  },
  {
   "cell_type": "code",
   "execution_count": 35,
   "id": "73d84064",
   "metadata": {},
   "outputs": [
    {
     "name": "stdout",
     "output_type": "stream",
     "text": [
      "{'s': 'foo'}\n",
      "{'s': 'foo'}\n",
      "foo\n"
     ]
    }
   ],
   "source": [
    "def f():\n",
    "    s = 'foo'\n",
    "    loc = locals()\n",
    "    print(loc)\n",
    "\n",
    "    x = 20\n",
    "    print(loc)\n",
    "\n",
    "    loc['s'] = 'bar'\n",
    "    print(s)\n",
    "\n",
    "\n",
    "f()"
   ]
  },
  {
   "cell_type": "markdown",
   "id": "ef591b1e",
   "metadata": {},
   "source": [
    "### ```__name__ = \"__main__\" ```\n",
    "\n",
    "모듈에는 ```__name__```이라는 변수가 있어, 해당 모듈의 이름을 정의한다.\n",
    "\n",
    "IPython command line 환경에서는 이 변수가 자동으로 ```__main__```으로 설정된다.\n",
    "\n",
    "종종 ```if __name__ = \"__main__\" ``` 이라는 코드를 발견할 수 있는데, 이는 해당 모듈이 import된 것이 아니라, 인터프리터에서 직접 실행되었을 경우에만 실행하라는 뜻이다.\n",
    "\n",
    "만약 모듈을 import해서 실행할 때와, interpreter에서 직접 불러와 실행했을 때 다르게 구현하고 싶다면 이 코드가 이용된다."
   ]
  }
 ],
 "metadata": {
  "kernelspec": {
   "display_name": "Python 3 (ipykernel)",
   "language": "python",
   "name": "python3"
  },
  "language_info": {
   "codemirror_mode": {
    "name": "ipython",
    "version": 3
   },
   "file_extension": ".py",
   "mimetype": "text/x-python",
   "name": "python",
   "nbconvert_exporter": "python",
   "pygments_lexer": "ipython3",
   "version": "3.9.13"
  }
 },
 "nbformat": 4,
 "nbformat_minor": 5
}
